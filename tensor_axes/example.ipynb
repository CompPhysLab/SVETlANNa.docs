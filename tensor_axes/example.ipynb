{
 "cells": [
  {
   "cell_type": "code",
   "execution_count": 1,
   "metadata": {},
   "outputs": [],
   "source": [
    "from svetlanna.axes_math import tensor_dot, cast_tensor\n",
    "import torch"
   ]
  },
  {
   "cell_type": "markdown",
   "metadata": {},
   "source": [
    "This example shows how tensor axes work.\n",
    "\n",
    "Axes represent last axes names of the tensor.\n",
    "Axes are stored in tuples of strings.\n",
    "For example, tensor with shape `(..., N, M, L)` can have axes tuple `(a, b, c)`, where `a` dimension has `N` points, `b` has `M` points and `c` has `C` points.\n"
   ]
  },
  {
   "cell_type": "code",
   "execution_count": 2,
   "metadata": {},
   "outputs": [
    {
     "data": {
      "text/plain": [
       "torch.Size([2, 3])"
      ]
     },
     "execution_count": 2,
     "metadata": {},
     "output_type": "execute_result"
    }
   ],
   "source": [
    "a = torch.tensor([[1, 2, 3], [4, 5, 6]])\n",
    "a_axes = ('a',)\n",
    "a.shape"
   ]
  },
  {
   "cell_type": "markdown",
   "metadata": {},
   "source": [
    "Any tensor can be casted to another axes, so the shape of the tensor will be changed"
   ]
  },
  {
   "cell_type": "code",
   "execution_count": 3,
   "metadata": {},
   "outputs": [
    {
     "data": {
      "text/plain": [
       "torch.Size([2, 1, 3, 1])"
      ]
     },
     "execution_count": 3,
     "metadata": {},
     "output_type": "execute_result"
    }
   ],
   "source": [
    "new_axes = ('b', 'a', 'c')\n",
    "a_casted = cast_tensor(a, a_axes, new_axes)\n",
    "\n",
    "a_casted.shape  # new axes was added to the second position and the end of the tensor"
   ]
  },
  {
   "cell_type": "markdown",
   "metadata": {},
   "source": [
    "To perform tensor dot product  one can use `tensor_dot` function.\n",
    "For example, if tensor `A` has axes `(a, b, c)` and tensor `B` has axes `(b,)`, the product result will have axes `(a, b, c)`.\n",
    "The formula of such product is following:\n",
    "$$\n",
    "A \\cdot B = \\sum_{i_a, i_b, i_c} (A_{i_a, i_b, i_c} \\cdot B_{i_b}) \\vec{e_{i_a}}\\vec{e_{i_b}}\\vec{e_{i_c}}\n",
    "$$\n",
    "In other words, each tensor view `A[:,i,:]` was multiplied by `B[i]`.\n",
    "\n",
    "The main rule is following: coincide axis will be multiplied.\n",
    " "
   ]
  },
  {
   "cell_type": "code",
   "execution_count": 4,
   "metadata": {},
   "outputs": [
    {
     "data": {
      "text/plain": [
       "(tensor([[[10, 20],\n",
       "          [60, 80]]]),\n",
       " ('a', 'b', 'c'))"
      ]
     },
     "execution_count": 4,
     "metadata": {},
     "output_type": "execute_result"
    }
   ],
   "source": [
    "A = torch.tensor([[[1, 2], [3, 4]]])\n",
    "A_axes = ('a', 'b', 'c')\n",
    "\n",
    "B = torch.tensor([10, 20])\n",
    "B_axes = ('b', )\n",
    "\n",
    "C, new_axes = tensor_dot(A, B, A_axes, B_axes)\n",
    "C, new_axes"
   ]
  },
  {
   "cell_type": "markdown",
   "metadata": {},
   "source": [
    "In the case when `B` has axis not presented in `A` axes, the resulting tensor axes will be the union of `B` axes and `A` axes:"
   ]
  },
  {
   "cell_type": "code",
   "execution_count": 5,
   "metadata": {},
   "outputs": [
    {
     "data": {
      "text/plain": [
       "(tensor([[[ 10,  20,  30],\n",
       "          [ 20,  40,  60]],\n",
       " \n",
       "         [[ 30,  60,  90],\n",
       "          [ 40,  80, 120]]]),\n",
       " ('a', 'b', 'c'))"
      ]
     },
     "execution_count": 5,
     "metadata": {},
     "output_type": "execute_result"
    }
   ],
   "source": [
    "A = torch.tensor([[1, 2], [3, 4]])\n",
    "A_axes = ('a', 'b')\n",
    "\n",
    "B = torch.tensor([10, 20, 30])\n",
    "B_axes = ('c', )\n",
    "\n",
    "C, new_axes = tensor_dot(A, B, A_axes, B_axes)\n",
    "C, new_axes"
   ]
  },
  {
   "cell_type": "markdown",
   "metadata": {},
   "source": [
    "The resulting tensor axes can be tested whether they coincides with `A` tensor axes or not, using `preserve_a_axis` argument.\n",
    "If `preserve_a_axis=True`, the previous example will fail with `AssertionError` raised."
   ]
  }
 ],
 "metadata": {
  "kernelspec": {
   "display_name": ".venv",
   "language": "python",
   "name": "python3"
  },
  "language_info": {
   "codemirror_mode": {
    "name": "ipython",
    "version": 3
   },
   "file_extension": ".py",
   "mimetype": "text/x-python",
   "name": "python",
   "nbconvert_exporter": "python",
   "pygments_lexer": "ipython3",
   "version": "3.11.9"
  }
 },
 "nbformat": 4,
 "nbformat_minor": 2
}
