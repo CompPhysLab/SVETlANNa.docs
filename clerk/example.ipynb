{
 "cells": [
  {
   "cell_type": "code",
   "execution_count": 14,
   "metadata": {},
   "outputs": [],
   "source": [
    "from svetlanna.clerk import Clerk\n",
    "import matplotlib.pyplot as plt\n",
    "import torch"
   ]
  },
  {
   "cell_type": "markdown",
   "metadata": {},
   "source": [
    "Consider a model with a `forward` method $f(x) = a^2$, where $a$ is a model parameter."
   ]
  },
  {
   "cell_type": "code",
   "execution_count": 15,
   "metadata": {},
   "outputs": [],
   "source": [
    "class MyNet(torch.nn.Module):\n",
    "    def __init__(self) -> None:\n",
    "        super().__init__()\n",
    "        self.a = torch.nn.Parameter(torch.tensor(10.))\n",
    "\n",
    "    def forward(self, *args, **kwargs):\n",
    "        return self.a**2"
   ]
  },
  {
   "cell_type": "markdown",
   "metadata": {},
   "source": [
    "Now, let's introduce the cleck, which helps with logging data.\n",
    "The Clerk allows users to manage experiments, where each experiment represents a specific model training run under certain conditions, such as particular hyperparameters."
   ]
  },
  {
   "cell_type": "code",
   "execution_count": 16,
   "metadata": {},
   "outputs": [],
   "source": [
    "clerk = Clerk('experiment_example')"
   ]
  },
  {
   "cell_type": "markdown",
   "metadata": {},
   "source": [
    "The data will be stored in `experiment_example` folder.\n",
    "To log the experiment’s conditions, use the `save_conditions` method.\n",
    "Conditions can be any data that can be serialized into JSON."
   ]
  },
  {
   "cell_type": "code",
   "execution_count": 17,
   "metadata": {},
   "outputs": [],
   "source": [
    "conditions = {\n",
    "    'date': '23/01',\n",
    "    'description': 'Example model',\n",
    "    'some_parameters': [1., 123, '1']\n",
    "}\n",
    "clerk.save_conditions(conditions)"
   ]
  },
  {
   "cell_type": "markdown",
   "metadata": {},
   "source": [
    "Now, let's start the training experiment with our model.\n",
    "First, we need to create an optimizer and initialize the model:"
   ]
  },
  {
   "cell_type": "code",
   "execution_count": 18,
   "metadata": {},
   "outputs": [],
   "source": [
    "model = MyNet()\n",
    "optimizer = torch.optim.Adam(model.parameters(), lr=0.05)"
   ]
  },
  {
   "cell_type": "markdown",
   "metadata": {},
   "source": [
    "During training, we can create checkpoints that store all model and optimizer parameters. This allows us to reload them later to resume or restart the experiment.\n",
    "To specify which objects with `state_dict` should be saved in the checkpoints, we use the `set_checkpoint_targets` method. \n",
    "Each object must have a unique key, which will be used to restore specific parameters when needed:"
   ]
  },
  {
   "cell_type": "code",
   "execution_count": 19,
   "metadata": {},
   "outputs": [],
   "source": [
    "clerk.set_checkpoint_targets({\n",
    "    'model': model,\n",
    "    'optimizer': optimizer\n",
    "})"
   ]
  },
  {
   "cell_type": "markdown",
   "metadata": {},
   "source": [
    "Now, we are ready to begin the training process.\n",
    "The two most common operations during training are logging losses and creating checkpoints.\n",
    "Below, we demonstrate both scenarios."
   ]
  },
  {
   "cell_type": "code",
   "execution_count": 20,
   "metadata": {},
   "outputs": [],
   "source": [
    "with clerk:  # Enable Clerk's writing mode\n",
    "    for epoch in range(10):\n",
    "        for batch in range(20):\n",
    "            # Standard training procedure\n",
    "            loss = model()\n",
    "            loss.backward()\n",
    "            optimizer.step()\n",
    "            optimizer.zero_grad()\n",
    "\n",
    "            # Log training data with a specific tag\n",
    "            # Data must be JSON serializable\n",
    "            clerk.write_log(\n",
    "                'loss_log',  # Tag for the log entry\n",
    "                {\n",
    "                    'loss': loss.item(),  # the data \n",
    "                    'x': model.a.item(),\n",
    "                    'batch': batch,\n",
    "                    'epoch': epoch\n",
    "                }\n",
    "            )\n",
    "            \n",
    "        # Create a new checkpoint at the end of each epoch.\n",
    "        # Metadata can be included to describe the checkpoint.\n",
    "        clerk.write_checkpoint(metadata={'epoch': epoch})"
   ]
  },
  {
   "cell_type": "markdown",
   "metadata": {},
   "source": [
    "We can access the logged data using `pandas` and visualize the loss curve:"
   ]
  },
  {
   "cell_type": "code",
   "execution_count": 21,
   "metadata": {},
   "outputs": [
    {
     "data": {
      "text/plain": [
       "[<matplotlib.lines.Line2D at 0x1767977d0>]"
      ]
     },
     "execution_count": 21,
     "metadata": {},
     "output_type": "execute_result"
    },
    {
     "data": {
      "image/png": "[encoded data removed]",
      "text/plain": [
       "<Figure size 640x480 with 1 Axes>"
      ]
     },
     "metadata": {},
     "output_type": "display_data"
    }
   ],
   "source": [
    "df = clerk.load_logs_to_pandas(tag='loss_log')\n",
    "plt.plot(df['loss'])"
   ]
  },
  {
   "cell_type": "markdown",
   "metadata": {},
   "source": [
    "If we want to continue the training process, we can use the Clerk’s resume functionality.\n",
    "This is done by configuring the Clerk with `begin(resume=True)`.\n",
    "When resuming, the parameters of the objects previously specified with `set_checkpoint_targets` will be restored from the checkpoint with the highest index."
   ]
  },
  {
   "cell_type": "code",
   "execution_count": 22,
   "metadata": {},
   "outputs": [],
   "source": [
    "with clerk.begin(resume=True):  # Enable Clerk's writing mode and resume from the latest checkpoint\n",
    "    for epoch in range(10):\n",
    "        for batch in range(20):\n",
    "            \n",
    "            loss = model()\n",
    "            loss.backward()\n",
    "            optimizer.step()\n",
    "            optimizer.zero_grad()\n",
    "\n",
    "            clerk.write_log(\n",
    "                'loss_log',\n",
    "                {\n",
    "                    'loss': loss.item(),\n",
    "                    'x': model.a.item(),\n",
    "                    'batch': batch,\n",
    "                    'epoch': epoch\n",
    "                }\n",
    "            )\n",
    "\n",
    "        clerk.write_checkpoint(metadata={'epoch': epoch})"
   ]
  },
  {
   "cell_type": "code",
   "execution_count": 23,
   "metadata": {},
   "outputs": [
    {
     "data": {
      "text/plain": [
       "[<matplotlib.lines.Line2D at 0x1767ec450>]"
      ]
     },
     "execution_count": 23,
     "metadata": {},
     "output_type": "execute_result"
    },
    {
     "data": {
      "image/png": "[encoded data removed]",
      "text/plain": [
       "<Figure size 640x480 with 1 Axes>"
      ]
     },
     "metadata": {},
     "output_type": "display_data"
    }
   ],
   "source": [
    "df = clerk.load_logs_to_pandas(tag='loss_log')\n",
    "plt.plot(df['loss'])"
   ]
  },
  {
   "cell_type": "markdown",
   "metadata": {},
   "source": [
    "You can see, that the learning continued for 200 steps more.\n",
    "\n",
    "Another feature of the clerk is that during inference, we can load a specific checkpoint and use the stored model parameters for predictions."
   ]
  },
  {
   "cell_type": "code",
   "execution_count": 24,
   "metadata": {},
   "outputs": [
    {
     "name": "stdout",
     "output_type": "stream",
     "text": [
      "conditions {'date': '23/01', 'description': 'Example model', 'some_parameters': [1.0, 123, '1']}\n",
      "metadata: {'epoch': 9}\n"
     ]
    }
   ],
   "source": [
    "# Initialize a new model for inference\n",
    "model_inference = MyNet()\n",
    "\n",
    "# Create a new Clerk instance to demonstrate checkpoint loading\n",
    "clerk = Clerk('experiment_example')\n",
    "\n",
    "# Load the experiment conditions\n",
    "conditions = clerk.load_conditions()\n",
    "\n",
    "# Load checkpoint with index 9 and apply the weights to the model only.\n",
    "# If no targets are specified, the ones set with `set_checkpoint_targets`\n",
    "# for the new Clerk instance will be used by default, if any.\n",
    "metadata = clerk.load_checkpoint(9, targets={\n",
    "    'model': model_inference\n",
    "})\n",
    "\n",
    "# Display loaded conditions and metadata\n",
    "print('conditions', conditions)\n",
    "print('metadata:', metadata)"
   ]
  },
  {
   "cell_type": "markdown",
   "metadata": {},
   "source": [
    "Clerk provides an automatic backup feature, ensuring that if an exception occurs inside its context, the training state is saved.\n",
    "This helps prevent data loss and allows resumption from the latest valid state.\n",
    "To enable this feature, set the autosave_checkpoint flag to True:"
   ]
  },
  {
   "cell_type": "code",
   "execution_count": null,
   "metadata": {},
   "outputs": [],
   "source": [
    "try:\n",
    "    with clerk.begin(resume=True, autosave_checkpoint=True):\n",
    "        for epoch in range(10):\n",
    "            for batch in range(20):\n",
    "                # Simulating an error\n",
    "                raise RuntimeError\n",
    "except:\n",
    "    pass"
   ]
  },
  {
   "cell_type": "markdown",
   "metadata": {},
   "source": [
    "To remove all backup checkpoints, use:"
   ]
  },
  {
   "cell_type": "code",
   "execution_count": 26,
   "metadata": {},
   "outputs": [],
   "source": [
    "clerk.clean_backup_checkpoints()"
   ]
  }
 ],
 "metadata": {
  "kernelspec": {
   "display_name": ".venv",
   "language": "python",
   "name": "python3"
  },
  "language_info": {
   "codemirror_mode": {
    "name": "ipython",
    "version": 3
   },
   "file_extension": ".py",
   "mimetype": "text/x-python",
   "name": "python",
   "nbconvert_exporter": "python",
   "pygments_lexer": "ipython3",
   "version": "3.11.9"
  }
 },
 "nbformat": 4,
 "nbformat_minor": 2
}
