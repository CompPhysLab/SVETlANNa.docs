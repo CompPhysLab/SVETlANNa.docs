{
 "cells": [
  {
   "cell_type": "markdown",
   "metadata": {},
   "source": [
    "This example demonstrates the debug capability of the library"
   ]
  },
  {
   "cell_type": "code",
   "execution_count": 1,
   "metadata": {},
   "outputs": [],
   "source": [
    "import torch\n",
    "import svetlanna\n",
    "\n",
    "# Define a simple test system\n",
    "sim_params = svetlanna.SimulationParameters(\n",
    "    {\n",
    "        'W': torch.linspace(-1, 1, 10),\n",
    "        'H': torch.linspace(-1, 1, 10),\n",
    "        'wavelength': 1\n",
    "    }\n",
    ")\n",
    "el = svetlanna.elements.FreeSpace(\n",
    "    sim_params,\n",
    "    0.5,\n",
    "    method='AS'\n",
    ")"
   ]
  },
  {
   "cell_type": "markdown",
   "metadata": {},
   "source": [
    "Light propagation through the element normally produces no output:"
   ]
  },
  {
   "cell_type": "code",
   "execution_count": 2,
   "metadata": {},
   "outputs": [],
   "source": [
    "el(svetlanna.Wavefront(torch.rand(10, 10)));"
   ]
  },
  {
   "cell_type": "markdown",
   "metadata": {},
   "source": [
    "To enable debug mode, use:"
   ]
  },
  {
   "cell_type": "code",
   "execution_count": 3,
   "metadata": {},
   "outputs": [],
   "source": [
    "svetlanna.set_debug_logging(True)"
   ]
  },
  {
   "cell_type": "markdown",
   "metadata": {},
   "source": [
    "By default, debug messages are printed using Python’s built-in `print()` function.\n",
    "These messages show captured inputs and outputs for each element:"
   ]
  },
  {
   "cell_type": "code",
   "execution_count": 4,
   "metadata": {},
   "outputs": [
    {
     "name": "stdout",
     "output_type": "stream",
     "text": [
      "The forward method of FreeSpace was computed\n",
      "   input 0: <class 'svetlanna.wavefront.Wavefront'> shape=torch.Size([10, 10]), dtype=torch.float32, device=cpu\n",
      "   output 0: <class 'svetlanna.wavefront.Wavefront'> shape=torch.Size([10, 10]), dtype=torch.complex64, device=cpu\n"
     ]
    }
   ],
   "source": [
    "el(svetlanna.Wavefront(torch.rand(10, 10)));"
   ]
  },
  {
   "cell_type": "markdown",
   "metadata": {},
   "source": [
    "This is especially useful when developing custom elements, as debug mode also displays information about registered buffers, parameters, and submodules.\n",
    "For example, using `svetlanna.Parameter` automatically registers an internal submodule:"
   ]
  },
  {
   "cell_type": "code",
   "execution_count": 5,
   "metadata": {},
   "outputs": [
    {
     "name": "stdout",
     "output_type": "stream",
     "text": [
      "Buffer of ThinLens was registered with name _wave_number:\n",
      "   <class 'torch.Tensor'> shape=torch.Size([1, 1]), dtype=torch.float32, device=cpu\n",
      "Buffer of ThinLens was registered with name _radius_squared:\n",
      "   <class 'torch.Tensor'> shape=torch.Size([10, 10]), dtype=torch.float32, device=cpu\n",
      "Buffer of ThinLens was registered with name _radius_mask:\n",
      "   <class 'torch.Tensor'> shape=torch.Size([10, 10]), dtype=torch.float32, device=cpu\n",
      "-------\n",
      "Module of ThinLens was registered with name focal_length_svtlnn_inner_parameter:\n",
      "   <class 'svetlanna.parameters.InnerParameterStorageModule'>\n",
      "Buffer of ThinLens was registered with name _wave_number:\n",
      "   <class 'torch.Tensor'> shape=torch.Size([1, 1]), dtype=torch.float32, device=cpu\n",
      "Buffer of ThinLens was registered with name _radius_squared:\n",
      "   <class 'torch.Tensor'> shape=torch.Size([10, 10]), dtype=torch.float32, device=cpu\n",
      "Buffer of ThinLens was registered with name _radius_mask:\n",
      "   <class 'torch.Tensor'> shape=torch.Size([10, 10]), dtype=torch.float32, device=cpu\n"
     ]
    }
   ],
   "source": [
    "svetlanna.elements.ThinLens(\n",
    "    sim_params,\n",
    "    focal_length=1,\n",
    "    radius=1\n",
    ");\n",
    "print('-------')\n",
    "svetlanna.elements.ThinLens(\n",
    "    sim_params,\n",
    "    focal_length=svetlanna.Parameter(10.),\n",
    "    radius=1\n",
    ");"
   ]
  },
  {
   "cell_type": "markdown",
   "metadata": {},
   "source": [
    "You can also change the debug output to use Python’s logging system by passing `type='logging'`:"
   ]
  },
  {
   "cell_type": "code",
   "execution_count": 6,
   "metadata": {},
   "outputs": [],
   "source": [
    "import logging\n",
    "import sys\n",
    "\n",
    "# Get the svetlanna logger and set its level\n",
    "logger = logging.getLogger('svetlanna')\n",
    "logger.setLevel(logging.DEBUG)\n",
    "\n",
    "# Add a handler to output logs to stdout\n",
    "handler = logging.StreamHandler(sys.stdout)\n",
    "handler.setFormatter(logging.Formatter('%(asctime)s %(message)s'))\n",
    "logger.addHandler(handler)\n",
    "\n",
    "# Enable debug logging and set output type to 'logging'\n",
    "svetlanna.set_debug_logging(True, type='logging')"
   ]
  },
  {
   "cell_type": "markdown",
   "metadata": {},
   "source": [
    "Now, debug messages will appear using the configured logging format:"
   ]
  },
  {
   "cell_type": "code",
   "execution_count": 7,
   "metadata": {},
   "outputs": [
    {
     "name": "stdout",
     "output_type": "stream",
     "text": [
      "2025-04-28 01:12:17,736 The forward method of FreeSpace was computed\n",
      "   input 0: <class 'svetlanna.wavefront.Wavefront'> shape=torch.Size([10, 10]), dtype=torch.float32, device=cpu\n",
      "   output 0: <class 'svetlanna.wavefront.Wavefront'> shape=torch.Size([10, 10]), dtype=torch.complex64, device=cpu\n"
     ]
    }
   ],
   "source": [
    "el(svetlanna.Wavefront(torch.rand(10, 10)));"
   ]
  },
  {
   "cell_type": "markdown",
   "metadata": {},
   "source": [
    "To disable debug logging, simply run:"
   ]
  },
  {
   "cell_type": "code",
   "execution_count": 8,
   "metadata": {},
   "outputs": [],
   "source": [
    "svetlanna.set_debug_logging(False)"
   ]
  },
  {
   "cell_type": "code",
   "execution_count": 9,
   "metadata": {},
   "outputs": [],
   "source": [
    "# No debug output will be shown\n",
    "el(svetlanna.Wavefront(torch.rand(10, 10)));"
   ]
  }
 ],
 "metadata": {
  "kernelspec": {
   "display_name": ".venv",
   "language": "python",
   "name": "python3"
  },
  "language_info": {
   "codemirror_mode": {
    "name": "ipython",
    "version": 3
   },
   "file_extension": ".py",
   "mimetype": "text/x-python",
   "name": "python",
   "nbconvert_exporter": "python",
   "pygments_lexer": "ipython3",
   "version": "3.11.9"
  }
 },
 "nbformat": 4,
 "nbformat_minor": 2
}
