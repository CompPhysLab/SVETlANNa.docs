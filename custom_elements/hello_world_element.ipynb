{
 "cells": [
  {
   "cell_type": "code",
   "execution_count": 1,
   "metadata": {},
   "outputs": [],
   "source": [
    "import svetlanna as sv\n",
    "from svetlanna import Wavefront, SimulationParameters\n",
    "from svetlanna.parameters import OptimizableFloat, OptimizableTensor\n",
    "from svetlanna.wavefront import mul\n",
    "from svetlanna.units import ureg\n",
    "import torch"
   ]
  },
  {
   "cell_type": "markdown",
   "metadata": {},
   "source": [
    "# Simple element"
   ]
  },
  {
   "cell_type": "markdown",
   "metadata": {},
   "source": [
    "Consider an optical element that operates as follows:\n",
    "$$\n",
    "f(u) = a\\left(\\hat{W}u\\right)^b\n",
    "$$\n",
    "where $u$ represents the incident wavefront, and $a$ , $b$ are parameter. $W$ is a 2d mask in (x,y)-plane.\n",
    "The product $\\hat{W}x$ denotes an elementwise multiplication:\n",
    "$$\\left[\\hat{W}u\\right](x_i, y_i) = \\hat{W}(x_i, y_i)u(x_i, y_i)$$"
   ]
  },
  {
   "cell_type": "code",
   "execution_count": 2,
   "metadata": {},
   "outputs": [],
   "source": [
    "class MyElement(sv.elements.Element):\n",
    "    def __init__(\n",
    "        self,\n",
    "        simulation_parameters: SimulationParameters,\n",
    "        a: OptimizableFloat,\n",
    "        b: int,\n",
    "        W: OptimizableTensor\n",
    "    ) -> None:\n",
    "        super().__init__(simulation_parameters)  # this line is required\n",
    "\n",
    "        self.a = self.process_parameter(\n",
    "            'a', a\n",
    "        )\n",
    "        self.b = self.process_parameter(\n",
    "            'b', b\n",
    "        )\n",
    "        self.W = self.process_parameter(\n",
    "            'W', W\n",
    "        )\n",
    "\n",
    "    def forward(self, incident_wavefront: Wavefront) -> Wavefront:\n",
    "        r = mul(\n",
    "            incident_wavefront,\n",
    "            self.W,\n",
    "            ('H', 'W'),\n",
    "            self.simulation_parameters\n",
    "        )\n",
    "        return self.a * r**self.b"
   ]
  },
  {
   "cell_type": "markdown",
   "metadata": {},
   "source": [
    "Let's discuss each part of the code.\n",
    "To highlight whether a value can be optimized, the `OptimizableFloat` and `OptimizableTensor` type aliases are available:\n",
    "* `OptimizableFloat` is used for scalar values\n",
    "* `OptimizableTensor` is used for tensor values, such as vectors and matrices\n",
    "\n",
    "Next, parameters should be registered using the `process_parameter` method.\n",
    "This method performs different actions based on the provided argument:\n",
    "* if the argument requires gradient calculations (e.g., `torch.nn.Parameter`), it registers the parameter in the `torch.nn.Module` instance\n",
    "* if the argument is a tensor, it registers it as a buffer\n",
    "* otherwise, it does nothing.\n",
    "**Best practice**: always use `process_parameter` method for any argument passed to init method.\n",
    "\n",
    "The `forward` method must be implemented for any new element.\n",
    "Apart from multiplication and exponentiation, it includes an elementwise product.\n",
    "To perform an elementwise product between a wavefront and a tensor, use the `mul` function.\n",
    "The axes of $W$ must be specified to perform the product.\n",
    "In this example $W$ is a 2d-mask in (x,y)-plane, therefore its axes are `('H', 'W')`.\n",
    "The order of the axes names should match the order of the tensor's axes when `.shape` is called.\n",
    "\n",
    "The approach with `mul` method ensures compatibility with further changes in wavefront's axis order and changes in axes number (e.g., batch axis, physical properties like `polarization`, `wavelength`, etc.)."
   ]
  },
  {
   "cell_type": "code",
   "execution_count": 3,
   "metadata": {},
   "outputs": [],
   "source": [
    "sim_params = SimulationParameters({\n",
    "    'W': torch.linspace(-1, 1, 10) * ureg.cm,\n",
    "    'H': torch.linspace(-1, 1, 10) * ureg.cm,\n",
    "    'wavelength': torch.tensor([400, 500, 600]) * ureg.nm\n",
    "})\n",
    "\n",
    "wf = Wavefront(torch.rand((3, 10, 10)))"
   ]
  },
  {
   "cell_type": "code",
   "execution_count": 4,
   "metadata": {},
   "outputs": [
    {
     "name": "stdout",
     "output_type": "stream",
     "text": [
      "torch.Size([3, 10, 10])\n"
     ]
    }
   ],
   "source": [
    "el1 = MyElement(\n",
    "    sim_params,\n",
    "    a=sv.ConstrainedParameter(2., min_value=0., max_value=5),\n",
    "    b=2,\n",
    "    W=torch.rand((10, 10))\n",
    ")\n",
    "\n",
    "print(el1(wf).shape)  # transmitted wavefront shape"
   ]
  },
  {
   "cell_type": "markdown",
   "metadata": {},
   "source": [
    "# Wavelength-depended properties"
   ]
  },
  {
   "cell_type": "markdown",
   "metadata": {},
   "source": [
    "Consider an optical element with a nonlinear transmission function given by\n",
    "$$\n",
    "f(u) = u \\frac{600}{600 + \\lambda}\n",
    "$$\n",
    "where $\\lambda$ is wavelength in nm."
   ]
  },
  {
   "cell_type": "code",
   "execution_count": 5,
   "metadata": {},
   "outputs": [],
   "source": [
    "class MyNonlinearElement(sv.elements.Element):\n",
    "    def forward(self, incident_wavefront: Wavefront) -> Wavefront:\n",
    "        lmbda = self.simulation_parameters.axes.wavelength / ureg.nm\n",
    "        t = 600 / (600 + lmbda)\n",
    "        return mul(\n",
    "            incident_wavefront,\n",
    "            t,\n",
    "            'wavelength',\n",
    "            self.simulation_parameters\n",
    "        )"
   ]
  },
  {
   "cell_type": "markdown",
   "metadata": {},
   "source": [
    "In this example, only the `forward` method is implemented.\n",
    "To construct $f(u)$, the wavelength must be obtained from the simulation parameters.\n",
    "The general approach to accessing any axis from the simulation parameters is: `self.simulation_parameters.axes.<axis name>`.\n",
    "In this case, the wavelength is retrieved using:`self.simulation_parameters.axes.wavelength`.\n",
    "Next, the `mul` function is used to perform the multiplication.\n",
    "This ensures that the code remains functional in different scenarios, such as: when single wavelength is provided in the simulation parameters (`'wavelength': 500 * ureg.nm`) or when more axes are added.\n",
    "The same code will work without any modifications in this cases."
   ]
  },
  {
   "cell_type": "code",
   "execution_count": 6,
   "metadata": {},
   "outputs": [
    {
     "name": "stdout",
     "output_type": "stream",
     "text": [
      "torch.Size([3, 10, 10])\n"
     ]
    }
   ],
   "source": [
    "el2 = MyNonlinearElement(\n",
    "    sim_params\n",
    ")\n",
    "\n",
    "print(el2(wf).shape)  # transmitted wavefront shape"
   ]
  },
  {
   "cell_type": "markdown",
   "metadata": {},
   "source": [
    "# Wavelength-depended properties, improved"
   ]
  },
  {
   "cell_type": "markdown",
   "metadata": {},
   "source": [
    "One can notice that `t` is recalculated every time the `forward` method is called.\n",
    "To reduce computations this variable can be computed once during initialization and registered as a buffer."
   ]
  },
  {
   "cell_type": "code",
   "execution_count": 7,
   "metadata": {},
   "outputs": [],
   "source": [
    "class MyNonlinearElementImproved(sv.elements.Element):\n",
    "    def __init__(self, simulation_parameters: SimulationParameters) -> None:\n",
    "        super().__init__(simulation_parameters)\n",
    "\n",
    "        lmbda = self.simulation_parameters.axes.wavelength / ureg.nm\n",
    "        t = 600 / (600 + lmbda)\n",
    "\n",
    "        if isinstance(lmbda, torch.Tensor):\n",
    "            self.t = self.make_buffer('t', t)\n",
    "        else:\n",
    "            self.t = t\n",
    "\n",
    "    def forward(self, incident_wavefront: Wavefront) -> Wavefront:\n",
    "        return mul(\n",
    "            incident_wavefront,\n",
    "            self.t,\n",
    "            'wavelength',\n",
    "            self.simulation_parameters\n",
    "        )"
   ]
  },
  {
   "cell_type": "markdown",
   "metadata": {},
   "source": [
    "To store any tensor as a buffer, one should use the `make_buffer` method.\n",
    "This method is only applicable to `torch.Tensors` objects, which is why the `if` condition is necessary.\n",
    "\n",
    "Is it important to notice that if the expression depends on a parameter that requires gradient computation, the tensor should not be buffered.\n",
    "It must be computed during each call to the forward method to ensure proper gradient tracking."
   ]
  },
  {
   "cell_type": "markdown",
   "metadata": {},
   "source": [
    "# Specs"
   ]
  },
  {
   "cell_type": "code",
   "execution_count": 8,
   "metadata": {},
   "outputs": [],
   "source": [
    "from svetlanna.specs import ReprRepr, PrettyReprRepr, NpyFileRepr, ImageRepr\n",
    "from svetlanna.specs import ParameterSpecs"
   ]
  },
  {
   "cell_type": "markdown",
   "metadata": {},
   "source": [
    "Currently, there are four types of variable representations: `ReprRepr`, `PrettyReprRepr`, `NpyFileRepr`, `ImageRepr`.\n",
    "\n",
    "To display specifications (and later save them), one should implement the `to_specs` method.\n",
    "Representations require a `value` argument, which can be any relevant data, for example, `self.mask.abs()`.\n",
    "The following example demonstrates this concept using random tensors."
   ]
  },
  {
   "cell_type": "code",
   "execution_count": 9,
   "metadata": {},
   "outputs": [],
   "source": [
    "class ElementWithSpecs(sv.elements.Element):\n",
    "    def forward(self, incident_wavefront: Wavefront) -> Wavefront:\n",
    "        ...\n",
    "\n",
    "    def to_specs(self) -> list[ParameterSpecs]:\n",
    "        return [\n",
    "            ParameterSpecs(\n",
    "                'a', (\n",
    "                    ReprRepr(123),\n",
    "                    PrettyReprRepr(123, units='cm'),\n",
    "                )\n",
    "            ),\n",
    "            ParameterSpecs(\n",
    "                'b', (\n",
    "                    ImageRepr(\n",
    "                        torch.rand((100, 100)).numpy(force=True)\n",
    "                    ),\n",
    "                    NpyFileRepr(\n",
    "                        torch.rand((100, 100)).numpy(force=True)\n",
    "                    ),\n",
    "                    PrettyReprRepr(\n",
    "                        torch.rand((100, 100)), units='nm'),\n",
    "                )\n",
    "            ),\n",
    "            ParameterSpecs(\n",
    "                'c', (\n",
    "                    ImageRepr(\n",
    "                        torch.rand((100, 100)).numpy(force=True)\n",
    "                    ),\n",
    "                )\n",
    "            )\n",
    "        ]"
   ]
  },
  {
   "cell_type": "code",
   "execution_count": 10,
   "metadata": {},
   "outputs": [
    {
     "data": {
      "text/html": [
       "<div style=\"font-family:monospace;\">\n",
       "        <div style=\"margin-top:0.5rem;\">\n",
       "            <b>a</b>\n",
       "        </div>\n",
       "        \n",
       "            <div style=\"margin-bottom: 0.5rem;padding-left: 2rem;\">\n",
       "<pre style=\"white-space:pre-wrap;\">123\n",
       "</pre>\n",
       "            </div>\n",
       "            \n",
       "            <div style=\"margin-bottom: 0.5rem;padding-left: 2rem;\">\n",
       "<pre style=\"white-space:pre-wrap;\">123 [cm]\n",
       "</pre>\n",
       "            </div>\n",
       "            \n",
       "        <div style=\"margin-top:0.5rem;\">\n",
       "            <b>b</b>\n",
       "        </div>\n",
       "        \n",
       "            <div style=\"margin-bottom: 0.5rem;padding-left: 2rem;\">\n",
       "<pre style=\"white-space:pre-wrap;\">\n",
       "<img class=\"spec-img\" src=\"data:image/png;base64, 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\"/>\n",
       "</pre>\n",
       "            </div>\n",
       "            \n",
       "            <div style=\"margin-bottom: 0.5rem;padding-left: 2rem;\">\n",
       "<pre style=\"white-space:pre-wrap;\">Tensor of size (100x100) [nm]\n",
       "</pre>\n",
       "            </div>\n",
       "            \n",
       "        <div style=\"margin-top:0.5rem;\">\n",
       "            <b>c</b>\n",
       "        </div>\n",
       "        \n",
       "            <div style=\"margin-bottom: 0.5rem;padding-left: 2rem;\">\n",
       "<pre style=\"white-space:pre-wrap;\">\n",
       "<img class=\"spec-img\" src=\"data:image/png;base64, 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\"/>\n",
       "</pre>\n",
       "            </div>\n",
       "            </div>"
      ],
      "text/plain": [
       "ElementWithSpecs()"
      ]
     },
     "execution_count": 10,
     "metadata": {},
     "output_type": "execute_result"
    }
   ],
   "source": [
    "# specs can be displayed in the jupyter cell\n",
    "ElementWithSpecs(sim_params)"
   ]
  }
 ],
 "metadata": {
  "kernelspec": {
   "display_name": ".venv",
   "language": "python",
   "name": "python3"
  },
  "language_info": {
   "codemirror_mode": {
    "name": "ipython",
    "version": 3
   },
   "file_extension": ".py",
   "mimetype": "text/x-python",
   "name": "python",
   "nbconvert_exporter": "python",
   "pygments_lexer": "ipython3",
   "version": "3.11.9"
  }
 },
 "nbformat": 4,
 "nbformat_minor": 2
}
