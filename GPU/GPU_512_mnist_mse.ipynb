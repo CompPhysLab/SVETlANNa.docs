{
 "cells": [
  {
   "cell_type": "markdown",
   "metadata": {},
   "source": [
    "### Imports"
   ]
  },
  {
   "cell_type": "code",
   "execution_count": 1,
   "metadata": {},
   "outputs": [],
   "source": [
    "import os\n",
    "import sys\n",
    "import random"
   ]
  },
  {
   "cell_type": "code",
   "execution_count": 2,
   "metadata": {},
   "outputs": [],
   "source": [
    "import time"
   ]
  },
  {
   "cell_type": "code",
   "execution_count": 3,
   "metadata": {},
   "outputs": [],
   "source": [
    "import numpy as np"
   ]
  },
  {
   "cell_type": "code",
   "execution_count": 4,
   "metadata": {},
   "outputs": [],
   "source": [
    "import torch\n",
    "from torch.utils.data import Dataset"
   ]
  },
  {
   "cell_type": "code",
   "execution_count": 5,
   "metadata": {},
   "outputs": [],
   "source": [
    "from torch import nn"
   ]
  },
  {
   "cell_type": "code",
   "execution_count": 6,
   "metadata": {},
   "outputs": [],
   "source": [
    "from torch.nn import functional"
   ]
  },
  {
   "cell_type": "code",
   "execution_count": 7,
   "metadata": {},
   "outputs": [],
   "source": [
    "import torchvision\n",
    "import torchvision.transforms as transforms"
   ]
  },
  {
   "cell_type": "code",
   "execution_count": 8,
   "metadata": {},
   "outputs": [],
   "source": [
    "from torchvision.transforms import InterpolationMode"
   ]
  },
  {
   "cell_type": "code",
   "execution_count": 9,
   "metadata": {},
   "outputs": [],
   "source": [
    "# our library\n",
    "from svetlanna import SimulationParameters\n",
    "from svetlanna.parameters import ConstrainedParameter"
   ]
  },
  {
   "cell_type": "code",
   "execution_count": 10,
   "metadata": {},
   "outputs": [],
   "source": [
    "# our library\n",
    "from svetlanna import Wavefront\n",
    "from svetlanna import elements\n",
    "from svetlanna.setup import LinearOpticalSetup\n",
    "from svetlanna.detector import Detector, DetectorProcessorClf"
   ]
  },
  {
   "cell_type": "code",
   "execution_count": 11,
   "metadata": {},
   "outputs": [],
   "source": [
    "from svetlanna.transforms import ToWavefront"
   ]
  },
  {
   "cell_type": "code",
   "execution_count": 12,
   "metadata": {},
   "outputs": [],
   "source": [
    "# datasets of wavefronts\n",
    "from src.wf_datasets import DatasetOfWavefronts\n",
    "from src.wf_datasets import WavefrontsDatasetSimple"
   ]
  },
  {
   "cell_type": "code",
   "execution_count": 13,
   "metadata": {},
   "outputs": [],
   "source": [
    "from tqdm import tqdm"
   ]
  },
  {
   "cell_type": "code",
   "execution_count": 14,
   "metadata": {},
   "outputs": [],
   "source": [
    "from datetime import datetime"
   ]
  },
  {
   "cell_type": "code",
   "execution_count": 15,
   "metadata": {},
   "outputs": [],
   "source": [
    "import matplotlib.pyplot as plt\n",
    "import matplotlib.patches as patches\n",
    "\n",
    "plt.style.use('dark_background')\n",
    "%matplotlib inline\n",
    "# %config InlineBackend.figure_format = 'retina'"
   ]
  },
  {
   "cell_type": "code",
   "execution_count": null,
   "metadata": {},
   "outputs": [],
   "source": []
  },
  {
   "cell_type": "markdown",
   "metadata": {},
   "source": [
    "# Optical Neural Network\n",
    "\n",
    "In that example notebook we will try to realize a simple architecture of an optical neural network from an article [[1]](https://www.science.org/doi/10.1126/science.aat8084).\n",
    "\n",
    "> In general, the phase and amplitude of eachneuron can be learnable parameters, providinga complex-valued modulation at each layer, which improves the inference performance of the diffractive network.\n",
    "\n",
    "> ... we first trained it as a digit classifierto perform automated classification of hand-written digits, from $0$ to $9$. Forthis task, phase-only transmission masks were designed by training **a five-layer** $D^2 NN$ with $55,000$ images ($5000$ validation images) from the MNIST handwritten digit data-base.\n",
    "\n",
    ">  We then used continuous-wave illumination at $0.4$ $THz$...\n",
    "\n",
    "Some info from [a supplementary material](https://www.science.org/doi/suppl/10.1126/science.aat8084/suppl_file/aat8084-lin-sm-rev-3.pdf) (information about MNIST classification):\n",
    "\n",
    "> Because we consider coherent illumination, the input information can be encoded in the amplitude and/or phase channels of the input plane.\n",
    "\n",
    "> For each layer of the $D^2NN$, we set we set the neuron size to be $400$ $\\mu m$...\n",
    "\n",
    "> At the detector/output plane, we measured the intensity of the network output...\n",
    "\n",
    "#### <span style=\"color:red\">Additional information</span>\n",
    "\n",
    "In another article [[2]](https://ieeexplore.ieee.org/abstract/document/8732486) of the same authors sume details were clarified: \n",
    "\n",
    "> In our numerical simulations, we used a neuron size of approximately $0.53 \\times \\lambda $\n",
    "\n",
    ">  In addition, the height and width of each diffractive layer was set to include $200 \\times 200 = 40K$ neurons per layer."
   ]
  },
  {
   "cell_type": "markdown",
   "metadata": {},
   "source": [
    "# 1. Simulation parameters"
   ]
  },
  {
   "cell_type": "code",
   "execution_count": 16,
   "metadata": {},
   "outputs": [],
   "source": [
    "working_frequency = 0.4 * 1e12 # [Hz]\n",
    "c_const = 299_792_458  # [m / s]"
   ]
  },
  {
   "cell_type": "code",
   "execution_count": 17,
   "metadata": {},
   "outputs": [
    {
     "name": "stdout",
     "output_type": "stream",
     "text": [
      "lambda = 749.481 um\n"
     ]
    }
   ],
   "source": [
    "working_wavelength = c_const / working_frequency  # [m]\n",
    "print(f'lambda = {working_wavelength * 1e6:.3f} um')"
   ]
  },
  {
   "cell_type": "code",
   "execution_count": 18,
   "metadata": {},
   "outputs": [
    {
     "name": "stdout",
     "output_type": "stream",
     "text": [
      "neuron size = 397.225 um\n"
     ]
    }
   ],
   "source": [
    "# neuron size (square)\n",
    "neuron_size = 0.53 * working_wavelength  # [m]\n",
    "print(f'neuron size = {neuron_size * 1e6:.3f} um')"
   ]
  },
  {
   "cell_type": "code",
   "execution_count": 19,
   "metadata": {},
   "outputs": [],
   "source": [
    "DETECTOR_SIZE = (128, 128)  # from the extended article!\n",
    "# an actual zone where weights will be updated during a training process"
   ]
  },
  {
   "cell_type": "markdown",
   "metadata": {},
   "source": [
    "**<span style=\"color:red\">Comment.</span>** In articles [1, 2] the size of a layer was $200\\times 200$ neurons. Authors used _the Rayleigh-Sommerfeld equation_ to propagate wavefronts (see Methods B.)!\n",
    "\n",
    "**<span style=\"color:red\">Difference.</span>** We will use `'AS'` method for `FreeSpace`'s, but we wont increase a size of a layer in `SimulationParameters` (i.e. numerical mesh)!"
   ]
  },
  {
   "cell_type": "code",
   "execution_count": 20,
   "metadata": {},
   "outputs": [
    {
     "name": "stdout",
     "output_type": "stream",
     "text": [
      "Layer size (in neurons): 128 x 128 = 16384\n"
     ]
    }
   ],
   "source": [
    "# number of neurons in simulation\n",
    "x_layer_nodes = DETECTOR_SIZE[1] * 1\n",
    "y_layer_nodes = DETECTOR_SIZE[0] * 1\n",
    "# Comment: Same size as proposed!\n",
    "\n",
    "print(f'Layer size (in neurons): {x_layer_nodes} x {y_layer_nodes} = {x_layer_nodes * y_layer_nodes}')"
   ]
  },
  {
   "cell_type": "code",
   "execution_count": 21,
   "metadata": {},
   "outputs": [
    {
     "name": "stdout",
     "output_type": "stream",
     "text": [
      "Layer size (in cm): 5.08448008768 x 5.08448008768\n"
     ]
    }
   ],
   "source": [
    "# physical size of each layer (from the article) - (8 x 8) [cm]\n",
    "x_layer_size_m = x_layer_nodes * neuron_size  # [m]\n",
    "y_layer_size_m = y_layer_nodes * neuron_size\n",
    "\n",
    "print(f'Layer size (in cm): {x_layer_size_m * 1e2} x {y_layer_size_m * 1e2}')"
   ]
  },
  {
   "cell_type": "code",
   "execution_count": null,
   "metadata": {},
   "outputs": [],
   "source": []
  },
  {
   "cell_type": "code",
   "execution_count": 22,
   "metadata": {},
   "outputs": [
    {
     "name": "stdout",
     "output_type": "stream",
     "text": [
      "True\n",
      "cuda\n"
     ]
    }
   ],
   "source": [
    "# simulation parameters for the rest of the notebook\n",
    "device = torch.device(\"cuda\")\n",
    "print(torch.cuda.is_available())\n",
    "print(device)\n",
    "SIM_PARAMS = SimulationParameters(\n",
    "    axes={\n",
    "        'W': torch.linspace(-x_layer_size_m / 2, x_layer_size_m / 2, x_layer_nodes),\n",
    "        'H': torch.linspace(-y_layer_size_m / 2, y_layer_size_m / 2, y_layer_nodes),\n",
    "        'wavelength': working_wavelength,  # only one wavelength!\n",
    "    }\n",
    ")"
   ]
  },
  {
   "cell_type": "markdown",
   "metadata": {},
   "source": [
    "# 2. Dataset preparation (Data Engineer)"
   ]
  },
  {
   "cell_type": "markdown",
   "metadata": {},
   "source": [
    "## 2.1. [MNIST Dataset](https://www.kaggle.com/datasets/hojjatk/mnist-dataset)"
   ]
  },
  {
   "cell_type": "code",
   "execution_count": 23,
   "metadata": {},
   "outputs": [],
   "source": [
    "# initialize a directory for a dataset\n",
    "MNIST_DATA_FOLDER = './data'  # folder to store data"
   ]
  },
  {
   "cell_type": "markdown",
   "metadata": {},
   "source": [
    "### 2.1.1. Load Train and Test datasets of images"
   ]
  },
  {
   "cell_type": "code",
   "execution_count": 24,
   "metadata": {},
   "outputs": [],
   "source": [
    "# TRAIN (images)\n",
    "mnist_train_ds = torchvision.datasets.MNIST(\n",
    "    root=MNIST_DATA_FOLDER,\n",
    "    train=True,  # for train dataset\n",
    "    download=False,\n",
    ")"
   ]
  },
  {
   "cell_type": "code",
   "execution_count": 25,
   "metadata": {},
   "outputs": [],
   "source": [
    "# TEST (images)\n",
    "mnist_test_ds = torchvision.datasets.MNIST(\n",
    "    root=MNIST_DATA_FOLDER,\n",
    "    train=False,  # for test dataset\n",
    "    download=False,\n",
    ")"
   ]
  },
  {
   "cell_type": "code",
   "execution_count": 26,
   "metadata": {},
   "outputs": [
    {
     "name": "stdout",
     "output_type": "stream",
     "text": [
      "Train data: 60000\n",
      "Test data : 10000\n"
     ]
    }
   ],
   "source": [
    "print(f'Train data: {len(mnist_train_ds)}')\n",
    "print(f'Test data : {len(mnist_test_ds)}')"
   ]
  },
  {
   "cell_type": "markdown",
   "metadata": {},
   "source": [
    "### 2.1.2. Create Train and Test datasets of wavefronts\n",
    "\n",
    "From [[2]](https://ieeexplore.ieee.org/abstract/document/8732486):\n",
    "\n",
    "> Input objects were encoded in amplitude channel (MNIST) of the input plane and were illuminated with a uniform plane wave at a wavelength of $\\lambda$ to match the conditions introduced in [[1]](https://www.science.org/doi/10.1126/science.aat8084) for all-optical classification.\n",
    "\n",
    "So, we need to do an amplitude modulation of each image from the dataset."
   ]
  },
  {
   "cell_type": "code",
   "execution_count": null,
   "metadata": {},
   "outputs": [],
   "source": []
  },
  {
   "cell_type": "markdown",
   "metadata": {},
   "source": [
    "#### Select classes zones on `Detector`"
   ]
  },
  {
   "cell_type": "markdown",
   "metadata": {},
   "source": [
    "> ... size of these detectors $(6.4 \\lambda \\times 6.4 \\lambda)$ ...\n",
    "\n",
    "**<span style=\"color:red\">Comment:</span>** `DetectorProcessor` in our library is used to process an information on detector. For example, for the current task `DetectorProcessor` must return only 10 values (1 value per 1 class)."
   ]
  },
  {
   "cell_type": "code",
   "execution_count": 27,
   "metadata": {},
   "outputs": [],
   "source": [
    "import src.detector_segmentation as detector_segmentation"
   ]
  },
  {
   "cell_type": "code",
   "execution_count": 28,
   "metadata": {},
   "outputs": [],
   "source": [
    "number_of_classes = 10"
   ]
  },
  {
   "cell_type": "markdown",
   "metadata": {},
   "source": [
    "#### Detector mask"
   ]
  },
  {
   "cell_type": "code",
   "execution_count": 29,
   "metadata": {},
   "outputs": [],
   "source": [
    "detector_segment_size = 6.8 * working_wavelength"
   ]
  },
  {
   "cell_type": "code",
   "execution_count": 30,
   "metadata": {},
   "outputs": [],
   "source": [
    "# size of each segment in neurons\n",
    "x_segment_nodes = int(detector_segment_size / neuron_size)\n",
    "y_segment_nodes = int(detector_segment_size / neuron_size)\n",
    "# each segment of size = (y_segment_nodes, x_segment_nodes)"
   ]
  },
  {
   "cell_type": "code",
   "execution_count": 31,
   "metadata": {},
   "outputs": [],
   "source": [
    "y_boundary_nodes = y_segment_nodes * 9\n",
    "x_boundary_nodes = x_segment_nodes * 9"
   ]
  },
  {
   "cell_type": "code",
   "execution_count": 32,
   "metadata": {},
   "outputs": [],
   "source": [
    "DETECTOR_MASK = detector_segmentation.squares_mnist(\n",
    "    y_boundary_nodes, x_boundary_nodes,  # size of a detector or an aperture (in the middle of detector)\n",
    "    SIM_PARAMS\n",
    ")"
   ]
  },
  {
   "cell_type": "markdown",
   "metadata": {},
   "source": [
    "**<span style=\"color:red\">Comment:</span>** This mask will be used to generate a target image for each number! \n",
    "\n",
    "<span style=\"color:red\">Target image:</span> zeros are everywhere except the necessary zone responsible for the label! "
   ]
  },
  {
   "cell_type": "code",
   "execution_count": null,
   "metadata": {},
   "outputs": [],
   "source": []
  },
  {
   "cell_type": "markdown",
   "metadata": {},
   "source": [
    "#### To visualize detector zones (for further use)"
   ]
  },
  {
   "cell_type": "code",
   "execution_count": 33,
   "metadata": {},
   "outputs": [],
   "source": [
    "ZONES_HIGHLIGHT_COLOR = 'r'\n",
    "ZONES_LW = 0.5\n",
    "selected_detector_mask = DETECTOR_MASK.clone().detach()"
   ]
  },
  {
   "cell_type": "code",
   "execution_count": 34,
   "metadata": {},
   "outputs": [],
   "source": [
    "def get_zones_patches(detector_mask):\n",
    "    \"\"\"\n",
    "    Returns a list of patches to draw zones in final visualisation\n",
    "    \"\"\"\n",
    "    zones_patches = []\n",
    "\n",
    "    delta = 1 #0.5\n",
    "\n",
    "    for ind_class in range(number_of_classes):\n",
    "        idx_y, idx_x = (detector_mask == ind_class).nonzero(as_tuple=True)\n",
    "\n",
    "        zone_rect = patches.Rectangle(\n",
    "            (idx_x[0] - delta, idx_y[0] - delta),\n",
    "            idx_x[-1] - idx_x[0] + 2 * delta, idx_y[-1] - idx_y[0] + 2 * delta,\n",
    "            linewidth=ZONES_LW,\n",
    "            edgecolor=ZONES_HIGHLIGHT_COLOR,\n",
    "            facecolor='none'\n",
    "        )\n",
    "\n",
    "        zones_patches.append(zone_rect)\n",
    "\n",
    "    return zones_patches"
   ]
  },
  {
   "cell_type": "markdown",
   "metadata": {},
   "source": [
    "#### Visualize mask"
   ]
  },
  {
   "cell_type": "code",
   "execution_count": 35,
   "metadata": {},
   "outputs": [
    {
     "data": {
      "image/png": "[encoded data removed]",
      "text/plain": [
       "<Figure size 300x300 with 1 Axes>"
      ]
     },
     "metadata": {},
     "output_type": "display_data"
    }
   ],
   "source": [
    "fig, ax0 = plt.subplots(1, 1, figsize=(3, 3))\n",
    "\n",
    "ax0.set_title(f'Detector segments')\n",
    "ax0.imshow(selected_detector_mask, cmap='grey')\n",
    "\n",
    "for zone in get_zones_patches(selected_detector_mask):\n",
    "    # add zone's patches to the axis\n",
    "    # zone_copy = copy(zone)\n",
    "    ax0.add_patch(zone)\n",
    "\n",
    "plt.show()"
   ]
  },
  {
   "cell_type": "code",
   "execution_count": null,
   "metadata": {},
   "outputs": [],
   "source": []
  },
  {
   "cell_type": "markdown",
   "metadata": {},
   "source": [
    "#### Dataset of wavefronts"
   ]
  },
  {
   "cell_type": "code",
   "execution_count": 36,
   "metadata": {},
   "outputs": [],
   "source": [
    "# select modulation type\n",
    "MODULATION_TYPE = 'amp'  # using ONLY amplitude to encode each picture in a Wavefront!"
   ]
  },
  {
   "cell_type": "code",
   "execution_count": 37,
   "metadata": {},
   "outputs": [],
   "source": [
    "resize_y = int(DETECTOR_SIZE[0] / 3)\n",
    "resize_x = int(DETECTOR_SIZE[1] / 3)  # shape for transforms.Resize\n",
    "# Comment: Looks like in [2] article MNIST pictures were resized to ~100 x 100 neurons\n",
    "\n",
    "# paddings along OY\n",
    "pad_top = int((y_layer_nodes - resize_y) / 2)\n",
    "pad_bottom = y_layer_nodes - pad_top - resize_y\n",
    "# paddings along OX\n",
    "pad_left = int((x_layer_nodes - resize_x) / 2)\n",
    "pad_right = x_layer_nodes - pad_left - resize_x  # params for transforms.Pad"
   ]
  },
  {
   "cell_type": "code",
   "execution_count": 38,
   "metadata": {},
   "outputs": [],
   "source": [
    "# compose all transforms!\n",
    "image_transform_for_ds = transforms.Compose(\n",
    "  [\n",
    "      transforms.ToTensor(),\n",
    "      transforms.Resize(\n",
    "          size=(resize_y, resize_x),\n",
    "          interpolation=InterpolationMode.NEAREST,\n",
    "      ),\n",
    "      transforms.Pad(\n",
    "          padding=(\n",
    "              pad_left,  # left padding\n",
    "              pad_top,  # top padding\n",
    "              pad_right,  # right padding\n",
    "              pad_bottom  # bottom padding\n",
    "          ),\n",
    "          fill=0,\n",
    "      ),  # padding to match sizes!\n",
    "      ToWavefront(modulation_type=MODULATION_TYPE)  # <- select modulation type!!!\n",
    "  ]\n",
    ")"
   ]
  },
  {
   "cell_type": "markdown",
   "metadata": {},
   "source": [
    "**<span style=\"color:red\">Comment.</span>** Here `dataset.getitem()` will return a pair of a `Wavefront`, where a number encoded, and a target label (a number from 0 to 9). During the training process we will use MSE loss and we will generate a target detector picture based on a detector zones (will be initialized later in 3.1.3). "
   ]
  },
  {
   "cell_type": "code",
   "execution_count": 39,
   "metadata": {},
   "outputs": [],
   "source": [
    "# TRAIN dataset of WAVEFRONTS\n",
    "mnist_wf_train_ds = DatasetOfWavefronts(\n",
    "    init_ds=mnist_train_ds,  # dataset of images\n",
    "    transformations=image_transform_for_ds,  # image transformation\n",
    "    sim_params=SIM_PARAMS,  # simulation parameters\n",
    "    target='detector',\n",
    "    detector_mask=DETECTOR_MASK\n",
    ")"
   ]
  },
  {
   "cell_type": "code",
   "execution_count": 40,
   "metadata": {},
   "outputs": [],
   "source": [
    "# TEST dataset of WAVEFRONTS\n",
    "mnist_wf_test_ds = DatasetOfWavefronts(\n",
    "    init_ds=mnist_test_ds,  # dataset of images\n",
    "    transformations=image_transform_for_ds,  # image transformation\n",
    "    sim_params=SIM_PARAMS,  # simulation parameters\n",
    "    target='detector',\n",
    "    detector_mask=DETECTOR_MASK\n",
    ")"
   ]
  },
  {
   "cell_type": "code",
   "execution_count": 41,
   "metadata": {},
   "outputs": [
    {
     "name": "stdout",
     "output_type": "stream",
     "text": [
      "Train data: 60000\n",
      "Test data : 10000\n"
     ]
    }
   ],
   "source": [
    "print(f'Train data: {len(mnist_train_ds)}')\n",
    "print(f'Test data : {len(mnist_test_ds)}')"
   ]
  },
  {
   "cell_type": "code",
   "execution_count": 42,
   "metadata": {},
   "outputs": [
    {
     "data": {
      "image/png": "[encoded data removed]",
      "text/plain": [
       "<Figure size 1200x960 with 12 Axes>"
      ]
     },
     "metadata": {},
     "output_type": "display_data"
    }
   ],
   "source": [
    "# plot several EXAMPLES from TRAIN dataset\n",
    "n_examples= 4  # number of examples to plot\n",
    "# choosing indecies of images (from train) to plot\n",
    "random.seed(78)\n",
    "train_examples_ids = random.sample(range(len(mnist_train_ds)), n_examples)\n",
    "\n",
    "all_examples_wavefronts = []\n",
    "\n",
    "n_lines = 3\n",
    "fig, axs = plt.subplots(n_lines, n_examples, figsize=(n_examples * 3, n_lines * 3.2))\n",
    "for ind_ex, ind_train in enumerate(train_examples_ids):\n",
    "    image, label = mnist_train_ds[ind_train]\n",
    "\n",
    "    axs[0][ind_ex].set_title(f'id={ind_train} [{label}]')\n",
    "    axs[0][ind_ex].imshow(image, cmap='gray')\n",
    "\n",
    "    wavefront, target_image = mnist_wf_train_ds[ind_train]\n",
    "    assert isinstance(wavefront, Wavefront)\n",
    "\n",
    "    all_examples_wavefronts.append(wavefront)\n",
    "\n",
    "    axs[1][ind_ex].set_title(f'$|WF|^2$')\n",
    "    # here we can plot intensity for a wavefront\n",
    "    axs[1][ind_ex].imshow(\n",
    "        wavefront.intensity, cmap='gray',\n",
    "        vmin=0, vmax=1\n",
    "    )\n",
    "\n",
    "    # axs[2][ind_ex].set_title(f'phase of $WF$')\n",
    "    # axs[2][ind_ex].imshow(\n",
    "    #     wavefront.phase[0], cmap='gray',\n",
    "    #     vmin=0, vmax= 2 * torch.pi\n",
    "    # )\n",
    "\n",
    "    axs[2][ind_ex].set_title(f'Target image')\n",
    "    axs[2][ind_ex].imshow(\n",
    "        target_image, cmap='gray',\n",
    "        vmin=0, vmax= 1\n",
    "    )\n",
    "\n",
    "    for zone in get_zones_patches(selected_detector_mask):\n",
    "        # add zone's patches to the axis\n",
    "        # zone_copy = copy(zone)\n",
    "        axs[2][ind_ex].add_patch(zone)\n",
    "\n",
    "plt.show()"
   ]
  },
  {
   "cell_type": "code",
   "execution_count": null,
   "metadata": {},
   "outputs": [],
   "source": []
  },
  {
   "cell_type": "markdown",
   "metadata": {},
   "source": [
    "# 3. Optical network\n",
    "\n",
    "Info from a supplementary material of [[1]](https://www.science.org/doi/suppl/10.1126/science.aat8084/suppl_file/aat8084-lin-sm-rev-3.pdf) for MNIST classification:\n",
    "\n",
    "> Following the corresponding $D^2NN$ design, the axial distance between two successive 3D-printed layers was set to be $3.0$ $cm$...\n",
    "\n",
    "> The distance between detector/output plane and the last layer of the optical neural network was adjusted as $3$ $cm$...\n",
    "\n",
    "#### <span style=\"color:red\">Additional information</span>\n",
    "\n",
    "From [[2]](https://ieeexplore.ieee.org/abstract/document/8732486):\n",
    "\n",
    "> ... the axial distance between the successive diffractive layers is set to be $\\sim 40 \\times \\lambda$ as in [[1]](https://www.science.org/doi/10.1126/science.aat8084) ..."
   ]
  },
  {
   "cell_type": "markdown",
   "metadata": {},
   "source": [
    "**<span style=\"color:red\">Difference.</span>** You can use an another number of diffractive layers (for phase-only training)!"
   ]
  },
  {
   "cell_type": "code",
   "execution_count": 43,
   "metadata": {},
   "outputs": [],
   "source": [
    "NUM_OF_DIFF_LAYERS = 5  # number of diffractive layers\n",
    "FREE_SPACE_DISTANCE = 40 * working_wavelength  # [m] - distance between difractive layers"
   ]
  },
  {
   "cell_type": "code",
   "execution_count": 44,
   "metadata": {},
   "outputs": [
    {
     "name": "stdout",
     "output_type": "stream",
     "text": [
      "Distance between layers is 2.998 cm\n"
     ]
    }
   ],
   "source": [
    "print(f'Distance between layers is {FREE_SPACE_DISTANCE * 1e2:.3f} cm')"
   ]
  },
  {
   "cell_type": "code",
   "execution_count": null,
   "metadata": {},
   "outputs": [],
   "source": []
  },
  {
   "cell_type": "markdown",
   "metadata": {},
   "source": [
    "## 3.1. Architecture\n",
    "\n",
    "See Figure 2A from [[1]](https://www.science.org/doi/10.1126/science.aat8084).\n",
    "\n",
    "See Figure 1(a) from [[2]](https://ieeexplore.ieee.org/abstract/document/8732486)."
   ]
  },
  {
   "cell_type": "markdown",
   "metadata": {},
   "source": [
    "### 3.1.1. List of Elements"
   ]
  },
  {
   "cell_type": "code",
   "execution_count": 45,
   "metadata": {},
   "outputs": [],
   "source": [
    "MAX_PHASE = 2 * np.pi  # max phase for phase masks"
   ]
  },
  {
   "cell_type": "markdown",
   "metadata": {},
   "source": [
    "**<span style=\"color:red\">Information from [1,2]: </span>**\n",
    "> a $5$-layer, phase-only (complex-valued) diffractive optical network ..."
   ]
  },
  {
   "cell_type": "markdown",
   "metadata": {},
   "source": [
    "**<span style=\"color:red\">Difference.</span>** An another method for `FreeSpace`'s in contrast to [2]!"
   ]
  },
  {
   "cell_type": "code",
   "execution_count": 46,
   "metadata": {},
   "outputs": [],
   "source": [
    "FREESPACE_METHOD = 'AS'  # we use another method in contrast to [2]!!!"
   ]
  },
  {
   "cell_type": "markdown",
   "metadata": {},
   "source": [
    "**<span style=\"color:red\">Information from [2]: </span>**\n",
    "> a diffractive layer ... neurons ... were initialized with $\\pi$ for phase values and $1$ for amplitude values ..."
   ]
  },
  {
   "cell_type": "code",
   "execution_count": 47,
   "metadata": {},
   "outputs": [],
   "source": [
    "INIT_PHASES = torch.ones(NUM_OF_DIFF_LAYERS) * np.pi  # initial values for phase masks"
   ]
  },
  {
   "cell_type": "code",
   "execution_count": null,
   "metadata": {},
   "outputs": [],
   "source": []
  },
  {
   "cell_type": "markdown",
   "metadata": {},
   "source": [
    "**<span style=\"color:red\">Comment</span>**\n",
    "\n",
    "Here we are using a default `ConstrainedParameter` which is using the sigmoid function to limit a parameter range.\n",
    "\n",
    "In [[2]](https://ieeexplore.ieee.org/abstract/document/8732486) authors discuss such approach in the section Results and Discussion A. and underline that limiting parameters with the sigmoid function may lead to Vanishing Gradients. Authors also propose an another way to limit parameters - by using ReLU.\n",
    "\n",
    "In our case the sigmoid function works well but it is possible to realize the ReLU approach via specifying `bound_func` for `Constrained Parameter` (<span style=\"color:red\">examples of customizing `bound_func` are provided in ...</span>)."
   ]
  },
  {
   "cell_type": "code",
   "execution_count": 48,
   "metadata": {},
   "outputs": [],
   "source": [
    "# functions that return single elements for further architecture\n",
    "\n",
    "def get_free_space(\n",
    "    freespace_sim_params,\n",
    "    freespace_distance,  # in [m]!\n",
    "    freespace_method='AS',\n",
    "):\n",
    "    \"\"\"\n",
    "    Returns FreeSpace layer with a bounded distance parameter.\n",
    "    \"\"\"\n",
    "    return elements.FreeSpace(\n",
    "        simulation_parameters=freespace_sim_params,\n",
    "        distance=freespace_distance,  # distance is not learnable!\n",
    "        method=freespace_method\n",
    "    )\n",
    "\n",
    "\n",
    "def get_const_phase_layer(\n",
    "    sim_params: SimulationParameters,\n",
    "    value, max_phase=2 * torch.pi\n",
    "):\n",
    "    \"\"\"\n",
    "    Returns DiffractiveLayer with a constant phase mask.\n",
    "    \"\"\"\n",
    "    x_nodes, y_nodes = sim_params.axes_size(axs=('W', 'H'))\n",
    "\n",
    "    const_mask = torch.ones(size=(y_nodes, x_nodes)) * value\n",
    "\n",
    "    return elements.DiffractiveLayer(\n",
    "        simulation_parameters=sim_params,\n",
    "        mask=ConstrainedParameter(\n",
    "            const_mask,\n",
    "            min_value=0,\n",
    "            max_value=max_phase\n",
    "        ),  # HERE WE ARE USING CONSTRAINED PARAMETER!\n",
    "    )  # ATTENTION TO DOCUMENTATION!"
   ]
  },
  {
   "cell_type": "code",
   "execution_count": 49,
   "metadata": {},
   "outputs": [],
   "source": [
    "def get_const_phase_layer_no_train(\n",
    "    sim_params: SimulationParameters,\n",
    "    value\n",
    "):\n",
    "    \"\"\"\n",
    "    Returns DiffractiveLayer with a constant phase mask.\n",
    "    \"\"\"\n",
    "    x_nodes, y_nodes = sim_params.axes_size(axs=('W', 'H'))\n",
    "\n",
    "    const_mask = torch.ones(size=(y_nodes, x_nodes)) * value\n",
    "\n",
    "    return elements.DiffractiveLayer(\n",
    "        simulation_parameters=sim_params,\n",
    "        mask=const_mask,  # HERE WE ARE USING CONSTRAINED PARAMETER!\n",
    "    )  # ATTENTION TO DOCUMENTATION!"
   ]
  },
  {
   "cell_type": "markdown",
   "metadata": {},
   "source": [
    "Function to construct a list of elements to reproduce an architecture from [the extended article](https://ieeexplore.ieee.org/abstract/document/8732486):"
   ]
  },
  {
   "cell_type": "code",
   "execution_count": 50,
   "metadata": {},
   "outputs": [],
   "source": [
    "def get_elements_list(\n",
    "    num_layers,\n",
    "    num_layers_no_train,\n",
    "    simulation_parameters,\n",
    "    freespace_method,\n",
    "    phase_values,\n",
    "):\n",
    "    \"\"\"\n",
    "    Composes a list of elements for the setup.\n",
    "    ...\n",
    "\n",
    "    Parameters\n",
    "    ----------\n",
    "    num_layers : int\n",
    "        Number of layers in the system.\n",
    "    simulation_parameters : SimulationParameters()\n",
    "        A simulation parameters for a task.\n",
    "    freespace_method : str\n",
    "        Propagation method for free spaces in a setup.\n",
    "    phase_values : torch.Tensor()\n",
    "        Torch tensor of phase values to generate constant masks for diffractive layers.\n",
    "\n",
    "    Returns\n",
    "    -------\n",
    "    elements_list : list(Element)\n",
    "        List of Elements for an optical setup.\n",
    "    \"\"\"\n",
    "    elements_list = []  # list of elements\n",
    "\n",
    "    # first FreeSpace layer before first DiffractiveLayer\n",
    "    elements_list.append(\n",
    "        get_free_space(\n",
    "            simulation_parameters,  # simulation parameters for the notebook\n",
    "            FREE_SPACE_DISTANCE,  # in [m]\n",
    "            freespace_method=freespace_method,\n",
    "        )\n",
    "    )\n",
    "\n",
    "    # compose the architecture\n",
    "    for ind_layer in range(num_layers):\n",
    "\n",
    "        # -----------------------------------------------------------------------\n",
    "        # add DiffractiveLayer (learnable phase mask)\n",
    "        elements_list.append(\n",
    "            get_const_phase_layer(\n",
    "                simulation_parameters,  # simulation parameters for the notebook\n",
    "                value=phase_values[ind_layer].item(),\n",
    "                max_phase=MAX_PHASE\n",
    "            )\n",
    "        )\n",
    "        # -----------------------------------------------------------------------\n",
    "\n",
    "        # add FreeSpace\n",
    "        elements_list.append(\n",
    "            get_free_space(\n",
    "                simulation_parameters,  # simulation parameters for the notebook\n",
    "                FREE_SPACE_DISTANCE,  # in [m]\n",
    "                freespace_method=freespace_method,\n",
    "            )\n",
    "        )\n",
    "    # print(1111111111111111111111)\n",
    "    for ind_layer in range(num_layers_no_train):\n",
    "\n",
    "        # -----------------------------------------------------------------------\n",
    "        # add DiffractiveLayer (untrained phase mask)\n",
    "        elements_list.append(\n",
    "            get_const_phase_layer_no_train(\n",
    "                simulation_parameters,  # simulation parameters for the notebook\n",
    "                value=phase_values[(ind_layer % (num_layers))].item()\n",
    "            )\n",
    "        )\n",
    "        # -----------------------------------------------------------------------\n",
    "\n",
    "        # add FreeSpace\n",
    "        elements_list.append(\n",
    "            get_free_space(\n",
    "                simulation_parameters,  # simulation parameters for the notebook\n",
    "                FREE_SPACE_DISTANCE,  # in [m]\n",
    "                freespace_method=freespace_method,\n",
    "            )\n",
    "        )\n",
    "\n",
    "    # ---------------------------------------------------------------------------\n",
    "    # add Detector in the end of the system!\n",
    "    elements_list.append(\n",
    "        Detector(\n",
    "            simulation_parameters=simulation_parameters,\n",
    "            func='intensity'  # detector that returns intensity\n",
    "        )\n",
    "    )\n",
    "\n",
    "    return elements_list"
   ]
  },
  {
   "cell_type": "code",
   "execution_count": 51,
   "metadata": {},
   "outputs": [],
   "source": [
    "NUM_OF_DIFF_LAYERS_NO_TRAIN = 507"
   ]
  },
  {
   "cell_type": "code",
   "execution_count": 52,
   "metadata": {},
   "outputs": [
    {
     "name": "stdout",
     "output_type": "stream",
     "text": [
      "Number of elements in the system (including Detector): 1026\n"
     ]
    }
   ],
   "source": [
    "architecture_elements_list = get_elements_list(\n",
    "    num_layers=NUM_OF_DIFF_LAYERS,\n",
    "    num_layers_no_train=NUM_OF_DIFF_LAYERS_NO_TRAIN,\n",
    "    simulation_parameters=SIM_PARAMS,\n",
    "    freespace_method=FREESPACE_METHOD,\n",
    "    phase_values=INIT_PHASES,\n",
    ")\n",
    "\n",
    "print(f'Number of elements in the system (including Detector): {len(architecture_elements_list)}')"
   ]
  },
  {
   "cell_type": "code",
   "execution_count": null,
   "metadata": {},
   "outputs": [],
   "source": []
  },
  {
   "cell_type": "markdown",
   "metadata": {},
   "source": [
    "### 3.1.2. Compose `LinearOpticalSetup`"
   ]
  },
  {
   "cell_type": "code",
   "execution_count": 53,
   "metadata": {},
   "outputs": [],
   "source": [
    "def get_setup(simulation_parameters):\n",
    "    \"\"\"\n",
    "    Returns an optical setup. Recreates all elements.\n",
    "    \"\"\"\n",
    "    elements_list = get_elements_list(\n",
    "        num_layers=NUM_OF_DIFF_LAYERS,\n",
    "        num_layers_no_train=NUM_OF_DIFF_LAYERS_NO_TRAIN,\n",
    "        simulation_parameters=SIM_PARAMS,\n",
    "        freespace_method=FREESPACE_METHOD,\n",
    "        phase_values=INIT_PHASES,\n",
    "    )  # recreate a list of elements\n",
    "\n",
    "    return LinearOpticalSetup(elements=elements_list)"
   ]
  },
  {
   "cell_type": "code",
   "execution_count": null,
   "metadata": {},
   "outputs": [],
   "source": []
  },
  {
   "cell_type": "code",
   "execution_count": 54,
   "metadata": {},
   "outputs": [],
   "source": [
    "# creaye an optical setup\n",
    "optical_setup = get_setup(SIM_PARAMS)"
   ]
  },
  {
   "cell_type": "code",
   "execution_count": 55,
   "metadata": {},
   "outputs": [
    {
     "data": {
      "text/plain": [
       "Sequential(\n",
       "  (0): FreeSpace()\n",
       "  (1): DiffractiveLayer(\n",
       "    (mask_svtlnn_inner_parameter): InnerParameterStorageModule()\n",
       "  )\n",
       "  (2): FreeSpace()\n",
       "  (3): DiffractiveLayer(\n",
       "    (mask_svtlnn_inner_parameter): InnerParameterStorageModule()\n",
       "  )\n",
       "  (4): FreeSpace()\n",
       "  (5): DiffractiveLayer(\n",
       "    (mask_svtlnn_inner_parameter): InnerParameterStorageModule()\n",
       "  )\n",
       "  (6): FreeSpace()\n",
       "  (7): DiffractiveLayer(\n",
       "    (mask_svtlnn_inner_parameter): InnerParameterStorageModule()\n",
       "  )\n",
       "  (8): FreeSpace()\n",
       "  (9): DiffractiveLayer(\n",
       "    (mask_svtlnn_inner_parameter): InnerParameterStorageModule()\n",
       "  )\n",
       "  (10): FreeSpace()\n",
       "  (11): DiffractiveLayer()\n",
       "  (12): FreeSpace()\n",
       "  (13): DiffractiveLayer()\n",
       "  (14): FreeSpace()\n",
       "  (15): DiffractiveLayer()\n",
       "  (16): FreeSpace()\n",
       "  (17): DiffractiveLayer()\n",
       "  (18): FreeSpace()\n",
       "  (19): DiffractiveLayer()\n",
       "  (20): FreeSpace()\n",
       "  (21): DiffractiveLayer()\n",
       "  (22): FreeSpace()\n",
       "  (23): DiffractiveLayer()\n",
       "  (24): FreeSpace()\n",
       "  (25): DiffractiveLayer()\n",
       "  (26): FreeSpace()\n",
       "  (27): DiffractiveLayer()\n",
       "  (28): FreeSpace()\n",
       "  (29): DiffractiveLayer()\n",
       "  (30): FreeSpace()\n",
       "  (31): DiffractiveLayer()\n",
       "  (32): FreeSpace()\n",
       "  (33): DiffractiveLayer()\n",
       "  (34): FreeSpace()\n",
       "  (35): DiffractiveLayer()\n",
       "  (36): FreeSpace()\n",
       "  (37): DiffractiveLayer()\n",
       "  (38): FreeSpace()\n",
       "  (39): DiffractiveLayer()\n",
       "  (40): FreeSpace()\n",
       "  (41): DiffractiveLayer()\n",
       "  (42): FreeSpace()\n",
       "  (43): DiffractiveLayer()\n",
       "  (44): FreeSpace()\n",
       "  (45): DiffractiveLayer()\n",
       "  (46): FreeSpace()\n",
       "  (47): DiffractiveLayer()\n",
       "  (48): FreeSpace()\n",
       "  (49): DiffractiveLayer()\n",
       "  (50): FreeSpace()\n",
       "  (51): DiffractiveLayer()\n",
       "  (52): FreeSpace()\n",
       "  (53): DiffractiveLayer()\n",
       "  (54): FreeSpace()\n",
       "  (55): DiffractiveLayer()\n",
       "  (56): FreeSpace()\n",
       "  (57): DiffractiveLayer()\n",
       "  (58): FreeSpace()\n",
       "  (59): DiffractiveLayer()\n",
       "  (60): FreeSpace()\n",
       "  (61): DiffractiveLayer()\n",
       "  (62): FreeSpace()\n",
       "  (63): DiffractiveLayer()\n",
       "  (64): FreeSpace()\n",
       "  (65): DiffractiveLayer()\n",
       "  (66): FreeSpace()\n",
       "  (67): DiffractiveLayer()\n",
       "  (68): FreeSpace()\n",
       "  (69): DiffractiveLayer()\n",
       "  (70): FreeSpace()\n",
       "  (71): DiffractiveLayer()\n",
       "  (72): FreeSpace()\n",
       "  (73): DiffractiveLayer()\n",
       "  (74): FreeSpace()\n",
       "  (75): DiffractiveLayer()\n",
       "  (76): FreeSpace()\n",
       "  (77): DiffractiveLayer()\n",
       "  (78): FreeSpace()\n",
       "  (79): DiffractiveLayer()\n",
       "  (80): FreeSpace()\n",
       "  (81): DiffractiveLayer()\n",
       "  (82): FreeSpace()\n",
       "  (83): DiffractiveLayer()\n",
       "  (84): FreeSpace()\n",
       "  (85): DiffractiveLayer()\n",
       "  (86): FreeSpace()\n",
       "  (87): DiffractiveLayer()\n",
       "  (88): FreeSpace()\n",
       "  (89): DiffractiveLayer()\n",
       "  (90): FreeSpace()\n",
       "  (91): DiffractiveLayer()\n",
       "  (92): FreeSpace()\n",
       "  (93): DiffractiveLayer()\n",
       "  (94): FreeSpace()\n",
       "  (95): DiffractiveLayer()\n",
       "  (96): FreeSpace()\n",
       "  (97): DiffractiveLayer()\n",
       "  (98): FreeSpace()\n",
       "  (99): DiffractiveLayer()\n",
       "  (100): FreeSpace()\n",
       "  (101): DiffractiveLayer()\n",
       "  (102): FreeSpace()\n",
       "  (103): DiffractiveLayer()\n",
       "  (104): FreeSpace()\n",
       "  (105): DiffractiveLayer()\n",
       "  (106): FreeSpace()\n",
       "  (107): DiffractiveLayer()\n",
       "  (108): FreeSpace()\n",
       "  (109): DiffractiveLayer()\n",
       "  (110): FreeSpace()\n",
       "  (111): DiffractiveLayer()\n",
       "  (112): FreeSpace()\n",
       "  (113): DiffractiveLayer()\n",
       "  (114): FreeSpace()\n",
       "  (115): DiffractiveLayer()\n",
       "  (116): FreeSpace()\n",
       "  (117): DiffractiveLayer()\n",
       "  (118): FreeSpace()\n",
       "  (119): DiffractiveLayer()\n",
       "  (120): FreeSpace()\n",
       "  (121): DiffractiveLayer()\n",
       "  (122): FreeSpace()\n",
       "  (123): DiffractiveLayer()\n",
       "  (124): FreeSpace()\n",
       "  (125): DiffractiveLayer()\n",
       "  (126): FreeSpace()\n",
       "  (127): DiffractiveLayer()\n",
       "  (128): FreeSpace()\n",
       "  (129): DiffractiveLayer()\n",
       "  (130): FreeSpace()\n",
       "  (131): DiffractiveLayer()\n",
       "  (132): FreeSpace()\n",
       "  (133): DiffractiveLayer()\n",
       "  (134): FreeSpace()\n",
       "  (135): DiffractiveLayer()\n",
       "  (136): FreeSpace()\n",
       "  (137): DiffractiveLayer()\n",
       "  (138): FreeSpace()\n",
       "  (139): DiffractiveLayer()\n",
       "  (140): FreeSpace()\n",
       "  (141): DiffractiveLayer()\n",
       "  (142): FreeSpace()\n",
       "  (143): DiffractiveLayer()\n",
       "  (144): FreeSpace()\n",
       "  (145): DiffractiveLayer()\n",
       "  (146): FreeSpace()\n",
       "  (147): DiffractiveLayer()\n",
       "  (148): FreeSpace()\n",
       "  (149): DiffractiveLayer()\n",
       "  (150): FreeSpace()\n",
       "  (151): DiffractiveLayer()\n",
       "  (152): FreeSpace()\n",
       "  (153): DiffractiveLayer()\n",
       "  (154): FreeSpace()\n",
       "  (155): DiffractiveLayer()\n",
       "  (156): FreeSpace()\n",
       "  (157): DiffractiveLayer()\n",
       "  (158): FreeSpace()\n",
       "  (159): DiffractiveLayer()\n",
       "  (160): FreeSpace()\n",
       "  (161): DiffractiveLayer()\n",
       "  (162): FreeSpace()\n",
       "  (163): DiffractiveLayer()\n",
       "  (164): FreeSpace()\n",
       "  (165): DiffractiveLayer()\n",
       "  (166): FreeSpace()\n",
       "  (167): DiffractiveLayer()\n",
       "  (168): FreeSpace()\n",
       "  (169): DiffractiveLayer()\n",
       "  (170): FreeSpace()\n",
       "  (171): DiffractiveLayer()\n",
       "  (172): FreeSpace()\n",
       "  (173): DiffractiveLayer()\n",
       "  (174): FreeSpace()\n",
       "  (175): DiffractiveLayer()\n",
       "  (176): FreeSpace()\n",
       "  (177): DiffractiveLayer()\n",
       "  (178): FreeSpace()\n",
       "  (179): DiffractiveLayer()\n",
       "  (180): FreeSpace()\n",
       "  (181): DiffractiveLayer()\n",
       "  (182): FreeSpace()\n",
       "  (183): DiffractiveLayer()\n",
       "  (184): FreeSpace()\n",
       "  (185): DiffractiveLayer()\n",
       "  (186): FreeSpace()\n",
       "  (187): DiffractiveLayer()\n",
       "  (188): FreeSpace()\n",
       "  (189): DiffractiveLayer()\n",
       "  (190): FreeSpace()\n",
       "  (191): DiffractiveLayer()\n",
       "  (192): FreeSpace()\n",
       "  (193): DiffractiveLayer()\n",
       "  (194): FreeSpace()\n",
       "  (195): DiffractiveLayer()\n",
       "  (196): FreeSpace()\n",
       "  (197): DiffractiveLayer()\n",
       "  (198): FreeSpace()\n",
       "  (199): DiffractiveLayer()\n",
       "  (200): FreeSpace()\n",
       "  (201): DiffractiveLayer()\n",
       "  (202): FreeSpace()\n",
       "  (203): DiffractiveLayer()\n",
       "  (204): FreeSpace()\n",
       "  (205): DiffractiveLayer()\n",
       "  (206): FreeSpace()\n",
       "  (207): DiffractiveLayer()\n",
       "  (208): FreeSpace()\n",
       "  (209): DiffractiveLayer()\n",
       "  (210): FreeSpace()\n",
       "  (211): DiffractiveLayer()\n",
       "  (212): FreeSpace()\n",
       "  (213): DiffractiveLayer()\n",
       "  (214): FreeSpace()\n",
       "  (215): DiffractiveLayer()\n",
       "  (216): FreeSpace()\n",
       "  (217): DiffractiveLayer()\n",
       "  (218): FreeSpace()\n",
       "  (219): DiffractiveLayer()\n",
       "  (220): FreeSpace()\n",
       "  (221): DiffractiveLayer()\n",
       "  (222): FreeSpace()\n",
       "  (223): DiffractiveLayer()\n",
       "  (224): FreeSpace()\n",
       "  (225): DiffractiveLayer()\n",
       "  (226): FreeSpace()\n",
       "  (227): DiffractiveLayer()\n",
       "  (228): FreeSpace()\n",
       "  (229): DiffractiveLayer()\n",
       "  (230): FreeSpace()\n",
       "  (231): DiffractiveLayer()\n",
       "  (232): FreeSpace()\n",
       "  (233): DiffractiveLayer()\n",
       "  (234): FreeSpace()\n",
       "  (235): DiffractiveLayer()\n",
       "  (236): FreeSpace()\n",
       "  (237): DiffractiveLayer()\n",
       "  (238): FreeSpace()\n",
       "  (239): DiffractiveLayer()\n",
       "  (240): FreeSpace()\n",
       "  (241): DiffractiveLayer()\n",
       "  (242): FreeSpace()\n",
       "  (243): DiffractiveLayer()\n",
       "  (244): FreeSpace()\n",
       "  (245): DiffractiveLayer()\n",
       "  (246): FreeSpace()\n",
       "  (247): DiffractiveLayer()\n",
       "  (248): FreeSpace()\n",
       "  (249): DiffractiveLayer()\n",
       "  (250): FreeSpace()\n",
       "  (251): DiffractiveLayer()\n",
       "  (252): FreeSpace()\n",
       "  (253): DiffractiveLayer()\n",
       "  (254): FreeSpace()\n",
       "  (255): DiffractiveLayer()\n",
       "  (256): FreeSpace()\n",
       "  (257): DiffractiveLayer()\n",
       "  (258): FreeSpace()\n",
       "  (259): DiffractiveLayer()\n",
       "  (260): FreeSpace()\n",
       "  (261): DiffractiveLayer()\n",
       "  (262): FreeSpace()\n",
       "  (263): DiffractiveLayer()\n",
       "  (264): FreeSpace()\n",
       "  (265): DiffractiveLayer()\n",
       "  (266): FreeSpace()\n",
       "  (267): DiffractiveLayer()\n",
       "  (268): FreeSpace()\n",
       "  (269): DiffractiveLayer()\n",
       "  (270): FreeSpace()\n",
       "  (271): DiffractiveLayer()\n",
       "  (272): FreeSpace()\n",
       "  (273): DiffractiveLayer()\n",
       "  (274): FreeSpace()\n",
       "  (275): DiffractiveLayer()\n",
       "  (276): FreeSpace()\n",
       "  (277): DiffractiveLayer()\n",
       "  (278): FreeSpace()\n",
       "  (279): DiffractiveLayer()\n",
       "  (280): FreeSpace()\n",
       "  (281): DiffractiveLayer()\n",
       "  (282): FreeSpace()\n",
       "  (283): DiffractiveLayer()\n",
       "  (284): FreeSpace()\n",
       "  (285): DiffractiveLayer()\n",
       "  (286): FreeSpace()\n",
       "  (287): DiffractiveLayer()\n",
       "  (288): FreeSpace()\n",
       "  (289): DiffractiveLayer()\n",
       "  (290): FreeSpace()\n",
       "  (291): DiffractiveLayer()\n",
       "  (292): FreeSpace()\n",
       "  (293): DiffractiveLayer()\n",
       "  (294): FreeSpace()\n",
       "  (295): DiffractiveLayer()\n",
       "  (296): FreeSpace()\n",
       "  (297): DiffractiveLayer()\n",
       "  (298): FreeSpace()\n",
       "  (299): DiffractiveLayer()\n",
       "  (300): FreeSpace()\n",
       "  (301): DiffractiveLayer()\n",
       "  (302): FreeSpace()\n",
       "  (303): DiffractiveLayer()\n",
       "  (304): FreeSpace()\n",
       "  (305): DiffractiveLayer()\n",
       "  (306): FreeSpace()\n",
       "  (307): DiffractiveLayer()\n",
       "  (308): FreeSpace()\n",
       "  (309): DiffractiveLayer()\n",
       "  (310): FreeSpace()\n",
       "  (311): DiffractiveLayer()\n",
       "  (312): FreeSpace()\n",
       "  (313): DiffractiveLayer()\n",
       "  (314): FreeSpace()\n",
       "  (315): DiffractiveLayer()\n",
       "  (316): FreeSpace()\n",
       "  (317): DiffractiveLayer()\n",
       "  (318): FreeSpace()\n",
       "  (319): DiffractiveLayer()\n",
       "  (320): FreeSpace()\n",
       "  (321): DiffractiveLayer()\n",
       "  (322): FreeSpace()\n",
       "  (323): DiffractiveLayer()\n",
       "  (324): FreeSpace()\n",
       "  (325): DiffractiveLayer()\n",
       "  (326): FreeSpace()\n",
       "  (327): DiffractiveLayer()\n",
       "  (328): FreeSpace()\n",
       "  (329): DiffractiveLayer()\n",
       "  (330): FreeSpace()\n",
       "  (331): DiffractiveLayer()\n",
       "  (332): FreeSpace()\n",
       "  (333): DiffractiveLayer()\n",
       "  (334): FreeSpace()\n",
       "  (335): DiffractiveLayer()\n",
       "  (336): FreeSpace()\n",
       "  (337): DiffractiveLayer()\n",
       "  (338): FreeSpace()\n",
       "  (339): DiffractiveLayer()\n",
       "  (340): FreeSpace()\n",
       "  (341): DiffractiveLayer()\n",
       "  (342): FreeSpace()\n",
       "  (343): DiffractiveLayer()\n",
       "  (344): FreeSpace()\n",
       "  (345): DiffractiveLayer()\n",
       "  (346): FreeSpace()\n",
       "  (347): DiffractiveLayer()\n",
       "  (348): FreeSpace()\n",
       "  (349): DiffractiveLayer()\n",
       "  (350): FreeSpace()\n",
       "  (351): DiffractiveLayer()\n",
       "  (352): FreeSpace()\n",
       "  (353): DiffractiveLayer()\n",
       "  (354): FreeSpace()\n",
       "  (355): DiffractiveLayer()\n",
       "  (356): FreeSpace()\n",
       "  (357): DiffractiveLayer()\n",
       "  (358): FreeSpace()\n",
       "  (359): DiffractiveLayer()\n",
       "  (360): FreeSpace()\n",
       "  (361): DiffractiveLayer()\n",
       "  (362): FreeSpace()\n",
       "  (363): DiffractiveLayer()\n",
       "  (364): FreeSpace()\n",
       "  (365): DiffractiveLayer()\n",
       "  (366): FreeSpace()\n",
       "  (367): DiffractiveLayer()\n",
       "  (368): FreeSpace()\n",
       "  (369): DiffractiveLayer()\n",
       "  (370): FreeSpace()\n",
       "  (371): DiffractiveLayer()\n",
       "  (372): FreeSpace()\n",
       "  (373): DiffractiveLayer()\n",
       "  (374): FreeSpace()\n",
       "  (375): DiffractiveLayer()\n",
       "  (376): FreeSpace()\n",
       "  (377): DiffractiveLayer()\n",
       "  (378): FreeSpace()\n",
       "  (379): DiffractiveLayer()\n",
       "  (380): FreeSpace()\n",
       "  (381): DiffractiveLayer()\n",
       "  (382): FreeSpace()\n",
       "  (383): DiffractiveLayer()\n",
       "  (384): FreeSpace()\n",
       "  (385): DiffractiveLayer()\n",
       "  (386): FreeSpace()\n",
       "  (387): DiffractiveLayer()\n",
       "  (388): FreeSpace()\n",
       "  (389): DiffractiveLayer()\n",
       "  (390): FreeSpace()\n",
       "  (391): DiffractiveLayer()\n",
       "  (392): FreeSpace()\n",
       "  (393): DiffractiveLayer()\n",
       "  (394): FreeSpace()\n",
       "  (395): DiffractiveLayer()\n",
       "  (396): FreeSpace()\n",
       "  (397): DiffractiveLayer()\n",
       "  (398): FreeSpace()\n",
       "  (399): DiffractiveLayer()\n",
       "  (400): FreeSpace()\n",
       "  (401): DiffractiveLayer()\n",
       "  (402): FreeSpace()\n",
       "  (403): DiffractiveLayer()\n",
       "  (404): FreeSpace()\n",
       "  (405): DiffractiveLayer()\n",
       "  (406): FreeSpace()\n",
       "  (407): DiffractiveLayer()\n",
       "  (408): FreeSpace()\n",
       "  (409): DiffractiveLayer()\n",
       "  (410): FreeSpace()\n",
       "  (411): DiffractiveLayer()\n",
       "  (412): FreeSpace()\n",
       "  (413): DiffractiveLayer()\n",
       "  (414): FreeSpace()\n",
       "  (415): DiffractiveLayer()\n",
       "  (416): FreeSpace()\n",
       "  (417): DiffractiveLayer()\n",
       "  (418): FreeSpace()\n",
       "  (419): DiffractiveLayer()\n",
       "  (420): FreeSpace()\n",
       "  (421): DiffractiveLayer()\n",
       "  (422): FreeSpace()\n",
       "  (423): DiffractiveLayer()\n",
       "  (424): FreeSpace()\n",
       "  (425): DiffractiveLayer()\n",
       "  (426): FreeSpace()\n",
       "  (427): DiffractiveLayer()\n",
       "  (428): FreeSpace()\n",
       "  (429): DiffractiveLayer()\n",
       "  (430): FreeSpace()\n",
       "  (431): DiffractiveLayer()\n",
       "  (432): FreeSpace()\n",
       "  (433): DiffractiveLayer()\n",
       "  (434): FreeSpace()\n",
       "  (435): DiffractiveLayer()\n",
       "  (436): FreeSpace()\n",
       "  (437): DiffractiveLayer()\n",
       "  (438): FreeSpace()\n",
       "  (439): DiffractiveLayer()\n",
       "  (440): FreeSpace()\n",
       "  (441): DiffractiveLayer()\n",
       "  (442): FreeSpace()\n",
       "  (443): DiffractiveLayer()\n",
       "  (444): FreeSpace()\n",
       "  (445): DiffractiveLayer()\n",
       "  (446): FreeSpace()\n",
       "  (447): DiffractiveLayer()\n",
       "  (448): FreeSpace()\n",
       "  (449): DiffractiveLayer()\n",
       "  (450): FreeSpace()\n",
       "  (451): DiffractiveLayer()\n",
       "  (452): FreeSpace()\n",
       "  (453): DiffractiveLayer()\n",
       "  (454): FreeSpace()\n",
       "  (455): DiffractiveLayer()\n",
       "  (456): FreeSpace()\n",
       "  (457): DiffractiveLayer()\n",
       "  (458): FreeSpace()\n",
       "  (459): DiffractiveLayer()\n",
       "  (460): FreeSpace()\n",
       "  (461): DiffractiveLayer()\n",
       "  (462): FreeSpace()\n",
       "  (463): DiffractiveLayer()\n",
       "  (464): FreeSpace()\n",
       "  (465): DiffractiveLayer()\n",
       "  (466): FreeSpace()\n",
       "  (467): DiffractiveLayer()\n",
       "  (468): FreeSpace()\n",
       "  (469): DiffractiveLayer()\n",
       "  (470): FreeSpace()\n",
       "  (471): DiffractiveLayer()\n",
       "  (472): FreeSpace()\n",
       "  (473): DiffractiveLayer()\n",
       "  (474): FreeSpace()\n",
       "  (475): DiffractiveLayer()\n",
       "  (476): FreeSpace()\n",
       "  (477): DiffractiveLayer()\n",
       "  (478): FreeSpace()\n",
       "  (479): DiffractiveLayer()\n",
       "  (480): FreeSpace()\n",
       "  (481): DiffractiveLayer()\n",
       "  (482): FreeSpace()\n",
       "  (483): DiffractiveLayer()\n",
       "  (484): FreeSpace()\n",
       "  (485): DiffractiveLayer()\n",
       "  (486): FreeSpace()\n",
       "  (487): DiffractiveLayer()\n",
       "  (488): FreeSpace()\n",
       "  (489): DiffractiveLayer()\n",
       "  (490): FreeSpace()\n",
       "  (491): DiffractiveLayer()\n",
       "  (492): FreeSpace()\n",
       "  (493): DiffractiveLayer()\n",
       "  (494): FreeSpace()\n",
       "  (495): DiffractiveLayer()\n",
       "  (496): FreeSpace()\n",
       "  (497): DiffractiveLayer()\n",
       "  (498): FreeSpace()\n",
       "  (499): DiffractiveLayer()\n",
       "  (500): FreeSpace()\n",
       "  (501): DiffractiveLayer()\n",
       "  (502): FreeSpace()\n",
       "  (503): DiffractiveLayer()\n",
       "  (504): FreeSpace()\n",
       "  (505): DiffractiveLayer()\n",
       "  (506): FreeSpace()\n",
       "  (507): DiffractiveLayer()\n",
       "  (508): FreeSpace()\n",
       "  (509): DiffractiveLayer()\n",
       "  (510): FreeSpace()\n",
       "  (511): DiffractiveLayer()\n",
       "  (512): FreeSpace()\n",
       "  (513): DiffractiveLayer()\n",
       "  (514): FreeSpace()\n",
       "  (515): DiffractiveLayer()\n",
       "  (516): FreeSpace()\n",
       "  (517): DiffractiveLayer()\n",
       "  (518): FreeSpace()\n",
       "  (519): DiffractiveLayer()\n",
       "  (520): FreeSpace()\n",
       "  (521): DiffractiveLayer()\n",
       "  (522): FreeSpace()\n",
       "  (523): DiffractiveLayer()\n",
       "  (524): FreeSpace()\n",
       "  (525): DiffractiveLayer()\n",
       "  (526): FreeSpace()\n",
       "  (527): DiffractiveLayer()\n",
       "  (528): FreeSpace()\n",
       "  (529): DiffractiveLayer()\n",
       "  (530): FreeSpace()\n",
       "  (531): DiffractiveLayer()\n",
       "  (532): FreeSpace()\n",
       "  (533): DiffractiveLayer()\n",
       "  (534): FreeSpace()\n",
       "  (535): DiffractiveLayer()\n",
       "  (536): FreeSpace()\n",
       "  (537): DiffractiveLayer()\n",
       "  (538): FreeSpace()\n",
       "  (539): DiffractiveLayer()\n",
       "  (540): FreeSpace()\n",
       "  (541): DiffractiveLayer()\n",
       "  (542): FreeSpace()\n",
       "  (543): DiffractiveLayer()\n",
       "  (544): FreeSpace()\n",
       "  (545): DiffractiveLayer()\n",
       "  (546): FreeSpace()\n",
       "  (547): DiffractiveLayer()\n",
       "  (548): FreeSpace()\n",
       "  (549): DiffractiveLayer()\n",
       "  (550): FreeSpace()\n",
       "  (551): DiffractiveLayer()\n",
       "  (552): FreeSpace()\n",
       "  (553): DiffractiveLayer()\n",
       "  (554): FreeSpace()\n",
       "  (555): DiffractiveLayer()\n",
       "  (556): FreeSpace()\n",
       "  (557): DiffractiveLayer()\n",
       "  (558): FreeSpace()\n",
       "  (559): DiffractiveLayer()\n",
       "  (560): FreeSpace()\n",
       "  (561): DiffractiveLayer()\n",
       "  (562): FreeSpace()\n",
       "  (563): DiffractiveLayer()\n",
       "  (564): FreeSpace()\n",
       "  (565): DiffractiveLayer()\n",
       "  (566): FreeSpace()\n",
       "  (567): DiffractiveLayer()\n",
       "  (568): FreeSpace()\n",
       "  (569): DiffractiveLayer()\n",
       "  (570): FreeSpace()\n",
       "  (571): DiffractiveLayer()\n",
       "  (572): FreeSpace()\n",
       "  (573): DiffractiveLayer()\n",
       "  (574): FreeSpace()\n",
       "  (575): DiffractiveLayer()\n",
       "  (576): FreeSpace()\n",
       "  (577): DiffractiveLayer()\n",
       "  (578): FreeSpace()\n",
       "  (579): DiffractiveLayer()\n",
       "  (580): FreeSpace()\n",
       "  (581): DiffractiveLayer()\n",
       "  (582): FreeSpace()\n",
       "  (583): DiffractiveLayer()\n",
       "  (584): FreeSpace()\n",
       "  (585): DiffractiveLayer()\n",
       "  (586): FreeSpace()\n",
       "  (587): DiffractiveLayer()\n",
       "  (588): FreeSpace()\n",
       "  (589): DiffractiveLayer()\n",
       "  (590): FreeSpace()\n",
       "  (591): DiffractiveLayer()\n",
       "  (592): FreeSpace()\n",
       "  (593): DiffractiveLayer()\n",
       "  (594): FreeSpace()\n",
       "  (595): DiffractiveLayer()\n",
       "  (596): FreeSpace()\n",
       "  (597): DiffractiveLayer()\n",
       "  (598): FreeSpace()\n",
       "  (599): DiffractiveLayer()\n",
       "  (600): FreeSpace()\n",
       "  (601): DiffractiveLayer()\n",
       "  (602): FreeSpace()\n",
       "  (603): DiffractiveLayer()\n",
       "  (604): FreeSpace()\n",
       "  (605): DiffractiveLayer()\n",
       "  (606): FreeSpace()\n",
       "  (607): DiffractiveLayer()\n",
       "  (608): FreeSpace()\n",
       "  (609): DiffractiveLayer()\n",
       "  (610): FreeSpace()\n",
       "  (611): DiffractiveLayer()\n",
       "  (612): FreeSpace()\n",
       "  (613): DiffractiveLayer()\n",
       "  (614): FreeSpace()\n",
       "  (615): DiffractiveLayer()\n",
       "  (616): FreeSpace()\n",
       "  (617): DiffractiveLayer()\n",
       "  (618): FreeSpace()\n",
       "  (619): DiffractiveLayer()\n",
       "  (620): FreeSpace()\n",
       "  (621): DiffractiveLayer()\n",
       "  (622): FreeSpace()\n",
       "  (623): DiffractiveLayer()\n",
       "  (624): FreeSpace()\n",
       "  (625): DiffractiveLayer()\n",
       "  (626): FreeSpace()\n",
       "  (627): DiffractiveLayer()\n",
       "  (628): FreeSpace()\n",
       "  (629): DiffractiveLayer()\n",
       "  (630): FreeSpace()\n",
       "  (631): DiffractiveLayer()\n",
       "  (632): FreeSpace()\n",
       "  (633): DiffractiveLayer()\n",
       "  (634): FreeSpace()\n",
       "  (635): DiffractiveLayer()\n",
       "  (636): FreeSpace()\n",
       "  (637): DiffractiveLayer()\n",
       "  (638): FreeSpace()\n",
       "  (639): DiffractiveLayer()\n",
       "  (640): FreeSpace()\n",
       "  (641): DiffractiveLayer()\n",
       "  (642): FreeSpace()\n",
       "  (643): DiffractiveLayer()\n",
       "  (644): FreeSpace()\n",
       "  (645): DiffractiveLayer()\n",
       "  (646): FreeSpace()\n",
       "  (647): DiffractiveLayer()\n",
       "  (648): FreeSpace()\n",
       "  (649): DiffractiveLayer()\n",
       "  (650): FreeSpace()\n",
       "  (651): DiffractiveLayer()\n",
       "  (652): FreeSpace()\n",
       "  (653): DiffractiveLayer()\n",
       "  (654): FreeSpace()\n",
       "  (655): DiffractiveLayer()\n",
       "  (656): FreeSpace()\n",
       "  (657): DiffractiveLayer()\n",
       "  (658): FreeSpace()\n",
       "  (659): DiffractiveLayer()\n",
       "  (660): FreeSpace()\n",
       "  (661): DiffractiveLayer()\n",
       "  (662): FreeSpace()\n",
       "  (663): DiffractiveLayer()\n",
       "  (664): FreeSpace()\n",
       "  (665): DiffractiveLayer()\n",
       "  (666): FreeSpace()\n",
       "  (667): DiffractiveLayer()\n",
       "  (668): FreeSpace()\n",
       "  (669): DiffractiveLayer()\n",
       "  (670): FreeSpace()\n",
       "  (671): DiffractiveLayer()\n",
       "  (672): FreeSpace()\n",
       "  (673): DiffractiveLayer()\n",
       "  (674): FreeSpace()\n",
       "  (675): DiffractiveLayer()\n",
       "  (676): FreeSpace()\n",
       "  (677): DiffractiveLayer()\n",
       "  (678): FreeSpace()\n",
       "  (679): DiffractiveLayer()\n",
       "  (680): FreeSpace()\n",
       "  (681): DiffractiveLayer()\n",
       "  (682): FreeSpace()\n",
       "  (683): DiffractiveLayer()\n",
       "  (684): FreeSpace()\n",
       "  (685): DiffractiveLayer()\n",
       "  (686): FreeSpace()\n",
       "  (687): DiffractiveLayer()\n",
       "  (688): FreeSpace()\n",
       "  (689): DiffractiveLayer()\n",
       "  (690): FreeSpace()\n",
       "  (691): DiffractiveLayer()\n",
       "  (692): FreeSpace()\n",
       "  (693): DiffractiveLayer()\n",
       "  (694): FreeSpace()\n",
       "  (695): DiffractiveLayer()\n",
       "  (696): FreeSpace()\n",
       "  (697): DiffractiveLayer()\n",
       "  (698): FreeSpace()\n",
       "  (699): DiffractiveLayer()\n",
       "  (700): FreeSpace()\n",
       "  (701): DiffractiveLayer()\n",
       "  (702): FreeSpace()\n",
       "  (703): DiffractiveLayer()\n",
       "  (704): FreeSpace()\n",
       "  (705): DiffractiveLayer()\n",
       "  (706): FreeSpace()\n",
       "  (707): DiffractiveLayer()\n",
       "  (708): FreeSpace()\n",
       "  (709): DiffractiveLayer()\n",
       "  (710): FreeSpace()\n",
       "  (711): DiffractiveLayer()\n",
       "  (712): FreeSpace()\n",
       "  (713): DiffractiveLayer()\n",
       "  (714): FreeSpace()\n",
       "  (715): DiffractiveLayer()\n",
       "  (716): FreeSpace()\n",
       "  (717): DiffractiveLayer()\n",
       "  (718): FreeSpace()\n",
       "  (719): DiffractiveLayer()\n",
       "  (720): FreeSpace()\n",
       "  (721): DiffractiveLayer()\n",
       "  (722): FreeSpace()\n",
       "  (723): DiffractiveLayer()\n",
       "  (724): FreeSpace()\n",
       "  (725): DiffractiveLayer()\n",
       "  (726): FreeSpace()\n",
       "  (727): DiffractiveLayer()\n",
       "  (728): FreeSpace()\n",
       "  (729): DiffractiveLayer()\n",
       "  (730): FreeSpace()\n",
       "  (731): DiffractiveLayer()\n",
       "  (732): FreeSpace()\n",
       "  (733): DiffractiveLayer()\n",
       "  (734): FreeSpace()\n",
       "  (735): DiffractiveLayer()\n",
       "  (736): FreeSpace()\n",
       "  (737): DiffractiveLayer()\n",
       "  (738): FreeSpace()\n",
       "  (739): DiffractiveLayer()\n",
       "  (740): FreeSpace()\n",
       "  (741): DiffractiveLayer()\n",
       "  (742): FreeSpace()\n",
       "  (743): DiffractiveLayer()\n",
       "  (744): FreeSpace()\n",
       "  (745): DiffractiveLayer()\n",
       "  (746): FreeSpace()\n",
       "  (747): DiffractiveLayer()\n",
       "  (748): FreeSpace()\n",
       "  (749): DiffractiveLayer()\n",
       "  (750): FreeSpace()\n",
       "  (751): DiffractiveLayer()\n",
       "  (752): FreeSpace()\n",
       "  (753): DiffractiveLayer()\n",
       "  (754): FreeSpace()\n",
       "  (755): DiffractiveLayer()\n",
       "  (756): FreeSpace()\n",
       "  (757): DiffractiveLayer()\n",
       "  (758): FreeSpace()\n",
       "  (759): DiffractiveLayer()\n",
       "  (760): FreeSpace()\n",
       "  (761): DiffractiveLayer()\n",
       "  (762): FreeSpace()\n",
       "  (763): DiffractiveLayer()\n",
       "  (764): FreeSpace()\n",
       "  (765): DiffractiveLayer()\n",
       "  (766): FreeSpace()\n",
       "  (767): DiffractiveLayer()\n",
       "  (768): FreeSpace()\n",
       "  (769): DiffractiveLayer()\n",
       "  (770): FreeSpace()\n",
       "  (771): DiffractiveLayer()\n",
       "  (772): FreeSpace()\n",
       "  (773): DiffractiveLayer()\n",
       "  (774): FreeSpace()\n",
       "  (775): DiffractiveLayer()\n",
       "  (776): FreeSpace()\n",
       "  (777): DiffractiveLayer()\n",
       "  (778): FreeSpace()\n",
       "  (779): DiffractiveLayer()\n",
       "  (780): FreeSpace()\n",
       "  (781): DiffractiveLayer()\n",
       "  (782): FreeSpace()\n",
       "  (783): DiffractiveLayer()\n",
       "  (784): FreeSpace()\n",
       "  (785): DiffractiveLayer()\n",
       "  (786): FreeSpace()\n",
       "  (787): DiffractiveLayer()\n",
       "  (788): FreeSpace()\n",
       "  (789): DiffractiveLayer()\n",
       "  (790): FreeSpace()\n",
       "  (791): DiffractiveLayer()\n",
       "  (792): FreeSpace()\n",
       "  (793): DiffractiveLayer()\n",
       "  (794): FreeSpace()\n",
       "  (795): DiffractiveLayer()\n",
       "  (796): FreeSpace()\n",
       "  (797): DiffractiveLayer()\n",
       "  (798): FreeSpace()\n",
       "  (799): DiffractiveLayer()\n",
       "  (800): FreeSpace()\n",
       "  (801): DiffractiveLayer()\n",
       "  (802): FreeSpace()\n",
       "  (803): DiffractiveLayer()\n",
       "  (804): FreeSpace()\n",
       "  (805): DiffractiveLayer()\n",
       "  (806): FreeSpace()\n",
       "  (807): DiffractiveLayer()\n",
       "  (808): FreeSpace()\n",
       "  (809): DiffractiveLayer()\n",
       "  (810): FreeSpace()\n",
       "  (811): DiffractiveLayer()\n",
       "  (812): FreeSpace()\n",
       "  (813): DiffractiveLayer()\n",
       "  (814): FreeSpace()\n",
       "  (815): DiffractiveLayer()\n",
       "  (816): FreeSpace()\n",
       "  (817): DiffractiveLayer()\n",
       "  (818): FreeSpace()\n",
       "  (819): DiffractiveLayer()\n",
       "  (820): FreeSpace()\n",
       "  (821): DiffractiveLayer()\n",
       "  (822): FreeSpace()\n",
       "  (823): DiffractiveLayer()\n",
       "  (824): FreeSpace()\n",
       "  (825): DiffractiveLayer()\n",
       "  (826): FreeSpace()\n",
       "  (827): DiffractiveLayer()\n",
       "  (828): FreeSpace()\n",
       "  (829): DiffractiveLayer()\n",
       "  (830): FreeSpace()\n",
       "  (831): DiffractiveLayer()\n",
       "  (832): FreeSpace()\n",
       "  (833): DiffractiveLayer()\n",
       "  (834): FreeSpace()\n",
       "  (835): DiffractiveLayer()\n",
       "  (836): FreeSpace()\n",
       "  (837): DiffractiveLayer()\n",
       "  (838): FreeSpace()\n",
       "  (839): DiffractiveLayer()\n",
       "  (840): FreeSpace()\n",
       "  (841): DiffractiveLayer()\n",
       "  (842): FreeSpace()\n",
       "  (843): DiffractiveLayer()\n",
       "  (844): FreeSpace()\n",
       "  (845): DiffractiveLayer()\n",
       "  (846): FreeSpace()\n",
       "  (847): DiffractiveLayer()\n",
       "  (848): FreeSpace()\n",
       "  (849): DiffractiveLayer()\n",
       "  (850): FreeSpace()\n",
       "  (851): DiffractiveLayer()\n",
       "  (852): FreeSpace()\n",
       "  (853): DiffractiveLayer()\n",
       "  (854): FreeSpace()\n",
       "  (855): DiffractiveLayer()\n",
       "  (856): FreeSpace()\n",
       "  (857): DiffractiveLayer()\n",
       "  (858): FreeSpace()\n",
       "  (859): DiffractiveLayer()\n",
       "  (860): FreeSpace()\n",
       "  (861): DiffractiveLayer()\n",
       "  (862): FreeSpace()\n",
       "  (863): DiffractiveLayer()\n",
       "  (864): FreeSpace()\n",
       "  (865): DiffractiveLayer()\n",
       "  (866): FreeSpace()\n",
       "  (867): DiffractiveLayer()\n",
       "  (868): FreeSpace()\n",
       "  (869): DiffractiveLayer()\n",
       "  (870): FreeSpace()\n",
       "  (871): DiffractiveLayer()\n",
       "  (872): FreeSpace()\n",
       "  (873): DiffractiveLayer()\n",
       "  (874): FreeSpace()\n",
       "  (875): DiffractiveLayer()\n",
       "  (876): FreeSpace()\n",
       "  (877): DiffractiveLayer()\n",
       "  (878): FreeSpace()\n",
       "  (879): DiffractiveLayer()\n",
       "  (880): FreeSpace()\n",
       "  (881): DiffractiveLayer()\n",
       "  (882): FreeSpace()\n",
       "  (883): DiffractiveLayer()\n",
       "  (884): FreeSpace()\n",
       "  (885): DiffractiveLayer()\n",
       "  (886): FreeSpace()\n",
       "  (887): DiffractiveLayer()\n",
       "  (888): FreeSpace()\n",
       "  (889): DiffractiveLayer()\n",
       "  (890): FreeSpace()\n",
       "  (891): DiffractiveLayer()\n",
       "  (892): FreeSpace()\n",
       "  (893): DiffractiveLayer()\n",
       "  (894): FreeSpace()\n",
       "  (895): DiffractiveLayer()\n",
       "  (896): FreeSpace()\n",
       "  (897): DiffractiveLayer()\n",
       "  (898): FreeSpace()\n",
       "  (899): DiffractiveLayer()\n",
       "  (900): FreeSpace()\n",
       "  (901): DiffractiveLayer()\n",
       "  (902): FreeSpace()\n",
       "  (903): DiffractiveLayer()\n",
       "  (904): FreeSpace()\n",
       "  (905): DiffractiveLayer()\n",
       "  (906): FreeSpace()\n",
       "  (907): DiffractiveLayer()\n",
       "  (908): FreeSpace()\n",
       "  (909): DiffractiveLayer()\n",
       "  (910): FreeSpace()\n",
       "  (911): DiffractiveLayer()\n",
       "  (912): FreeSpace()\n",
       "  (913): DiffractiveLayer()\n",
       "  (914): FreeSpace()\n",
       "  (915): DiffractiveLayer()\n",
       "  (916): FreeSpace()\n",
       "  (917): DiffractiveLayer()\n",
       "  (918): FreeSpace()\n",
       "  (919): DiffractiveLayer()\n",
       "  (920): FreeSpace()\n",
       "  (921): DiffractiveLayer()\n",
       "  (922): FreeSpace()\n",
       "  (923): DiffractiveLayer()\n",
       "  (924): FreeSpace()\n",
       "  (925): DiffractiveLayer()\n",
       "  (926): FreeSpace()\n",
       "  (927): DiffractiveLayer()\n",
       "  (928): FreeSpace()\n",
       "  (929): DiffractiveLayer()\n",
       "  (930): FreeSpace()\n",
       "  (931): DiffractiveLayer()\n",
       "  (932): FreeSpace()\n",
       "  (933): DiffractiveLayer()\n",
       "  (934): FreeSpace()\n",
       "  (935): DiffractiveLayer()\n",
       "  (936): FreeSpace()\n",
       "  (937): DiffractiveLayer()\n",
       "  (938): FreeSpace()\n",
       "  (939): DiffractiveLayer()\n",
       "  (940): FreeSpace()\n",
       "  (941): DiffractiveLayer()\n",
       "  (942): FreeSpace()\n",
       "  (943): DiffractiveLayer()\n",
       "  (944): FreeSpace()\n",
       "  (945): DiffractiveLayer()\n",
       "  (946): FreeSpace()\n",
       "  (947): DiffractiveLayer()\n",
       "  (948): FreeSpace()\n",
       "  (949): DiffractiveLayer()\n",
       "  (950): FreeSpace()\n",
       "  (951): DiffractiveLayer()\n",
       "  (952): FreeSpace()\n",
       "  (953): DiffractiveLayer()\n",
       "  (954): FreeSpace()\n",
       "  (955): DiffractiveLayer()\n",
       "  (956): FreeSpace()\n",
       "  (957): DiffractiveLayer()\n",
       "  (958): FreeSpace()\n",
       "  (959): DiffractiveLayer()\n",
       "  (960): FreeSpace()\n",
       "  (961): DiffractiveLayer()\n",
       "  (962): FreeSpace()\n",
       "  (963): DiffractiveLayer()\n",
       "  (964): FreeSpace()\n",
       "  (965): DiffractiveLayer()\n",
       "  (966): FreeSpace()\n",
       "  (967): DiffractiveLayer()\n",
       "  (968): FreeSpace()\n",
       "  (969): DiffractiveLayer()\n",
       "  (970): FreeSpace()\n",
       "  (971): DiffractiveLayer()\n",
       "  (972): FreeSpace()\n",
       "  (973): DiffractiveLayer()\n",
       "  (974): FreeSpace()\n",
       "  (975): DiffractiveLayer()\n",
       "  (976): FreeSpace()\n",
       "  (977): DiffractiveLayer()\n",
       "  (978): FreeSpace()\n",
       "  (979): DiffractiveLayer()\n",
       "  (980): FreeSpace()\n",
       "  (981): DiffractiveLayer()\n",
       "  (982): FreeSpace()\n",
       "  (983): DiffractiveLayer()\n",
       "  (984): FreeSpace()\n",
       "  (985): DiffractiveLayer()\n",
       "  (986): FreeSpace()\n",
       "  (987): DiffractiveLayer()\n",
       "  (988): FreeSpace()\n",
       "  (989): DiffractiveLayer()\n",
       "  (990): FreeSpace()\n",
       "  (991): DiffractiveLayer()\n",
       "  (992): FreeSpace()\n",
       "  (993): DiffractiveLayer()\n",
       "  (994): FreeSpace()\n",
       "  (995): DiffractiveLayer()\n",
       "  (996): FreeSpace()\n",
       "  (997): DiffractiveLayer()\n",
       "  (998): FreeSpace()\n",
       "  (999): DiffractiveLayer()\n",
       "  (1000): FreeSpace()\n",
       "  (1001): DiffractiveLayer()\n",
       "  (1002): FreeSpace()\n",
       "  (1003): DiffractiveLayer()\n",
       "  (1004): FreeSpace()\n",
       "  (1005): DiffractiveLayer()\n",
       "  (1006): FreeSpace()\n",
       "  (1007): DiffractiveLayer()\n",
       "  (1008): FreeSpace()\n",
       "  (1009): DiffractiveLayer()\n",
       "  (1010): FreeSpace()\n",
       "  (1011): DiffractiveLayer()\n",
       "  (1012): FreeSpace()\n",
       "  (1013): DiffractiveLayer()\n",
       "  (1014): FreeSpace()\n",
       "  (1015): DiffractiveLayer()\n",
       "  (1016): FreeSpace()\n",
       "  (1017): DiffractiveLayer()\n",
       "  (1018): FreeSpace()\n",
       "  (1019): DiffractiveLayer()\n",
       "  (1020): FreeSpace()\n",
       "  (1021): DiffractiveLayer()\n",
       "  (1022): FreeSpace()\n",
       "  (1023): DiffractiveLayer()\n",
       "  (1024): FreeSpace()\n",
       "  (1025): Detector()\n",
       ")"
      ]
     },
     "execution_count": 55,
     "metadata": {},
     "output_type": "execute_result"
    }
   ],
   "source": [
    "optical_setup.net"
   ]
  },
  {
   "cell_type": "markdown",
   "metadata": {},
   "source": [
    "**<span style=\"color:red\">Comment:</span>** Setup ends with `Detector` that returns an output tensor of intensities for each input `Wavefront`."
   ]
  },
  {
   "cell_type": "code",
   "execution_count": null,
   "metadata": {},
   "outputs": [],
   "source": []
  },
  {
   "cell_type": "markdown",
   "metadata": {},
   "source": [
    "#### Example of a wavefrnt propagation"
   ]
  },
  {
   "cell_type": "code",
   "execution_count": 56,
   "metadata": {},
   "outputs": [],
   "source": [
    "example_wf = mnist_wf_train_ds[128][0]"
   ]
  },
  {
   "cell_type": "code",
   "execution_count": 57,
   "metadata": {},
   "outputs": [],
   "source": [
    "setup_scheme, wavefronts = optical_setup.stepwise_forward(example_wf)"
   ]
  },
  {
   "cell_type": "code",
   "execution_count": 58,
   "metadata": {},
   "outputs": [],
   "source": [
    "# print(setup_scheme)  # prints propagation scheme\n",
    "\n",
    "# n_cols = 5  # number of columns to plot all wavefronts during propagation\n",
    "# n_rows = (len(optical_setup.net) // n_cols) + 1\n",
    "# len_wavefronts = 13\n",
    "\n",
    "# to_plot = 'phase'  # <--- chose what to plot\n",
    "# cmap = 'grey'  # choose colormaps\n",
    "# detector_cmap = 'hot'\n",
    "\n",
    "# # create a figure with subplots\n",
    "# fig, axs = plt.subplots(n_rows, n_cols, figsize=(n_cols * 3, n_rows * 3.2))\n",
    "\n",
    "# # turn off unecessary axes\n",
    "# for ind_row in range(n_rows):\n",
    "#     for ind_col in range(n_cols):\n",
    "#         ax_this = axs[ind_row][ind_col]\n",
    "#         if ind_row * n_cols + ind_col >= len(wavefronts):\n",
    "#             ax_this.axis('off')\n",
    "\n",
    "# # plot wavefronts\n",
    "# for ind_wf, wavefront in enumerate(wavefronts):\n",
    "#     ax_this = axs[ind_wf // n_cols][ind_wf % n_cols]\n",
    "\n",
    "#     if to_plot == 'phase':\n",
    "#         # plot angle for each wavefront, because intensities pictures are indistinguishable from each other\n",
    "#         if ind_wf < len(wavefronts) - 1:\n",
    "#             ax_this.set_title('Phase for $WF_{' + f'{ind_wf}' + '}$')\n",
    "#             ax_this.imshow(\n",
    "#                 wavefront.phase.detach().numpy(), cmap=cmap,\n",
    "#                 vmin=0, vmax=2 * torch.pi\n",
    "#             )\n",
    "#         else:  # (not a wavefront!)\n",
    "#             ax_this.set_title('Detector phase ($WF_{' + f'{ind_wf}' + '})$')\n",
    "#             # Detector has no phase!\n",
    "\n",
    "#     if to_plot == 'amp':\n",
    "#         # plot angle for each wavefront, because intensities pictures are indistinguishable from each other\n",
    "#         if ind_wf < len(wavefronts) - 1:\n",
    "#             ax_this.set_title('Intensity for $WF_{' + f'{ind_wf}' + '}$')\n",
    "#             ax_this.imshow(\n",
    "#                 wavefront.intensity.detach().numpy(), cmap=cmap,\n",
    "#                 # vmin=0, vmax=max_intensity  # uncomment to make the same limits\n",
    "#             )\n",
    "#         else:  # Detector output (not a wavefront!)\n",
    "#             ax_this.set_title('Detector Intensity ($WF_{' + f'{ind_wf}' + '})$')\n",
    "#             ax_this.imshow(\n",
    "#                 wavefront.detach().numpy(), cmap=detector_cmap,\n",
    "#                 # vmin=0, vmax=max_intensity  # uncomment to make the same limits\n",
    "#             )\n",
    "\n",
    "#     # Comment: Detector output is Tensor! It has no methods of Wavefront (like .phase or .intensity)!\n",
    "\n",
    "# plt.show()"
   ]
  },
  {
   "cell_type": "code",
   "execution_count": null,
   "metadata": {},
   "outputs": [],
   "source": []
  },
  {
   "cell_type": "markdown",
   "metadata": {},
   "source": [
    "### 3.1.3 Detector processor (to calculate accuracies only)\n",
    "\n",
    "> ... size of these detectors $(6.4 \\lambda \\times 6.4 \\lambda)$ ...\n",
    "\n",
    "**<span style=\"color:red\">Comment:</span>** `DetectorProcessor` in our library is used to process an information on detector. For example, for the current task `DetectorProcessor` must return only 10 values (1 value per 1 class)."
   ]
  },
  {
   "cell_type": "code",
   "execution_count": 59,
   "metadata": {},
   "outputs": [],
   "source": [
    "CALCULATE_ACCURACIES = False  # if False, accuracies will not be calculated!"
   ]
  },
  {
   "cell_type": "code",
   "execution_count": 60,
   "metadata": {},
   "outputs": [],
   "source": [
    "# create a DetectorProcessorOzcanClf object\n",
    "if CALCULATE_ACCURACIES:\n",
    "    detector_processor = DetectorProcessorClf(\n",
    "        simulation_parameters=SIM_PARAMS,\n",
    "        num_classes=number_of_classes,\n",
    "        segmented_detector=DETECTOR_MASK,\n",
    "    )\n",
    "else:\n",
    "    detector_processor = None"
   ]
  },
  {
   "cell_type": "code",
   "execution_count": null,
   "metadata": {},
   "outputs": [],
   "source": []
  },
  {
   "cell_type": "markdown",
   "metadata": {},
   "source": [
    "# 4. Training of the network\n",
    "\n",
    "Variables at the moment\n",
    "- `lin_optical_setup` : `LinearOpticalSetup` – a linear optical network composed of Elements\n",
    "- `detector_processor` : `DetectorProcessorClf` – this layer process an image from the detector and calculates probabilities of belonging to classes."
   ]
  },
  {
   "cell_type": "code",
   "execution_count": 61,
   "metadata": {},
   "outputs": [],
   "source": [
    "DEVICE = 'cuda'  # 'mps' is not support a CrossEntropyLoss\n",
    "\n",
    "# 'cuda' will be tested in another example"
   ]
  },
  {
   "cell_type": "code",
   "execution_count": 62,
   "metadata": {},
   "outputs": [
    {
     "data": {
      "text/plain": [
       "'cuda'"
      ]
     },
     "execution_count": 62,
     "metadata": {},
     "output_type": "execute_result"
    }
   ],
   "source": [
    "# DEVICE = torch.device('cuda' if torch.cuda.is_available() else 'cpu')\n",
    "\n",
    "DEVICE"
   ]
  },
  {
   "cell_type": "markdown",
   "metadata": {},
   "source": [
    "## 4.1. Prepare some stuff for training"
   ]
  },
  {
   "cell_type": "markdown",
   "metadata": {},
   "source": [
    "### 4.1.1. `DataLoader`'s\n",
    "\n",
    "Info from a supplementary material of [[1]](https://www.science.org/doi/suppl/10.1126/science.aat8084/suppl_file/aat8084-lin-sm-rev-3.pdf) for MNIST classification:\n",
    "\n",
    "> The training batch size was set to be $8$..."
   ]
  },
  {
   "cell_type": "code",
   "execution_count": 63,
   "metadata": {},
   "outputs": [],
   "source": [
    "train_bs = 128  # a batch size for training set\n",
    "val_bs = 64"
   ]
  },
  {
   "cell_type": "markdown",
   "metadata": {},
   "source": [
    "> Forthis task, phase-only transmission masks weredesigned by training a five-layer $D^2 NN$ with $55000$ images ($5000$ validation images) from theMNIST (Modified National Institute of Stan-dards and Technology) handwritten digit data-base."
   ]
  },
  {
   "cell_type": "code",
   "execution_count": 64,
   "metadata": {},
   "outputs": [],
   "source": [
    "# mnist_wf_train_ds\n",
    "train_wf_ds, val_wf_ds = torch.utils.data.random_split(\n",
    "    dataset=mnist_wf_train_ds,\n",
    "    lengths=[55000, 5000],  # sizes from the article\n",
    "    generator=torch.Generator().manual_seed(178)  # for reproducibility\n",
    ")"
   ]
  },
  {
   "cell_type": "code",
   "execution_count": 65,
   "metadata": {},
   "outputs": [],
   "source": [
    "train_wf_loader = torch.utils.data.DataLoader(\n",
    "    train_wf_ds,\n",
    "    batch_size=train_bs,\n",
    "    shuffle=True,\n",
    "    # num_workers=2,\n",
    "    drop_last=False,\n",
    ")\n",
    "\n",
    "val_wf_loader = torch.utils.data.DataLoader(\n",
    "    val_wf_ds,\n",
    "    batch_size=val_bs,\n",
    "    shuffle=False,\n",
    "    # num_workers=2,\n",
    "    drop_last=False,\n",
    ")"
   ]
  },
  {
   "cell_type": "code",
   "execution_count": null,
   "metadata": {},
   "outputs": [],
   "source": []
  },
  {
   "cell_type": "markdown",
   "metadata": {},
   "source": [
    "### 4.1.2. Optimizer and loss function\n",
    "\n",
    "Info from a supplementary material of [[1]](https://www.science.org/doi/suppl/10.1126/science.aat8084/suppl_file/aat8084-lin-sm-rev-3.pdf) for MNIST classification:\n",
    "\n",
    "> We used the stochastic gradient descent algorithm, Adam, to back-propagate the errors and update the\n",
    "layers of the network to minimize the loss function.\n",
    "\n",
    "**<span style=\"color:red\">Additional info</span>** from [[2]](https://ieeexplore.ieee.org/abstract/document/8732486):\n",
    "> a back-propagation method by applying the adaptive moment estimation optimizer (Adam) with a learning rate of $10^{−3}$"
   ]
  },
  {
   "cell_type": "code",
   "execution_count": 66,
   "metadata": {},
   "outputs": [],
   "source": [
    "LR = 1e-3"
   ]
  },
  {
   "cell_type": "code",
   "execution_count": 67,
   "metadata": {},
   "outputs": [],
   "source": [
    "def get_adam_optimizer(net):\n",
    "    return torch.optim.Adam(\n",
    "        params=net.parameters(),  # NETWORK PARAMETERS!\n",
    "        lr=LR\n",
    "    )"
   ]
  },
  {
   "cell_type": "markdown",
   "metadata": {},
   "source": [
    "**<span style=\"color:red\">Comment:</span>** We are using `MSELoss` as in [1] (that was clarified in [2])! "
   ]
  },
  {
   "cell_type": "code",
   "execution_count": 68,
   "metadata": {},
   "outputs": [],
   "source": [
    "loss_func_clf = nn.MSELoss()  # by default: reduction='mean'\n",
    "loss_func_name = 'MSE'"
   ]
  },
  {
   "cell_type": "code",
   "execution_count": null,
   "metadata": {},
   "outputs": [],
   "source": []
  },
  {
   "cell_type": "markdown",
   "metadata": {},
   "source": [
    "### 4.1.3. Training and evaluation loops"
   ]
  },
  {
   "cell_type": "code",
   "execution_count": 69,
   "metadata": {},
   "outputs": [],
   "source": [
    "def onn_train_mse(\n",
    "    optical_net, wavefronts_dataloader,\n",
    "    detector_processor_clf,  # DETECTOR PROCESSOR needed for accuracies only!\n",
    "    loss_func, optimizer,\n",
    "    device='cpu', show_process=False\n",
    "):\n",
    "    \"\"\"\n",
    "    Function to train `optical_net` (classification task)\n",
    "    ...\n",
    "\n",
    "    Parameters\n",
    "    ----------\n",
    "        optical_net : torch.nn.Module\n",
    "            Neural Network composed of Elements.\n",
    "        wavefronts_dataloader : torch.utils.data.DataLoader\n",
    "            A loader (by batches) for the train dataset of wavefronts.\n",
    "        detector_processor_clf : DetectorProcessorClf\n",
    "            A processor of a detector image for a classification task, that returns `probabilities` of classes.\n",
    "        loss_func :\n",
    "            Loss function for a multi-class classification task.\n",
    "        optimizer: torch.optim\n",
    "            Optimizer...\n",
    "        device : str\n",
    "            Device to computate on...\n",
    "        show_process : bool\n",
    "            Flag to show (or not) a progress bar.\n",
    "\n",
    "    Returns\n",
    "    -------\n",
    "        batches_losses : list[float]\n",
    "            Losses for each batch in an epoch.\n",
    "        batches_accuracies : list[float]\n",
    "            Accuracies for each batch in an epoch.\n",
    "        epoch_accuracy : float\n",
    "            Accuracy for an epoch.\n",
    "    \"\"\"\n",
    "    optical_net.train()  # activate 'train' mode of a model\n",
    "    batches_losses = []  # to store loss for each batch\n",
    "    batches_accuracies = []  # to store accuracy for each batch\n",
    "\n",
    "    correct_preds = 0\n",
    "    size = 0\n",
    "\n",
    "    for batch_wavefronts, batch_targets in tqdm(\n",
    "        wavefronts_dataloader,\n",
    "        total=len(wavefronts_dataloader),\n",
    "        desc='train', position=0,\n",
    "        leave=True, disable=not show_process\n",
    "    ):  # go by batches\n",
    "        # batch_wavefronts - input wavefronts, batch_labels - labels\n",
    "        batch_size = batch_wavefronts.size()[0]\n",
    "\n",
    "        batch_wavefronts = batch_wavefronts.to(device)\n",
    "        batch_targets = batch_targets.to(device)\n",
    "\n",
    "        optimizer.zero_grad()\n",
    "\n",
    "        # forward of an optical network\n",
    "        detector_output = optical_net(batch_wavefronts)\n",
    "\n",
    "        # calculate loss for a batch\n",
    "        loss = loss_func(detector_output, batch_targets)\n",
    "\n",
    "        loss.backward()\n",
    "        optimizer.step()\n",
    "\n",
    "        # ACCURACY\n",
    "        if CALCULATE_ACCURACIES:\n",
    "            # process a detector image\n",
    "            batch_labels = detector_processor_clf.batch_forward(batch_targets).argmax(1)\n",
    "            batch_probas = detector_processor_clf.batch_forward(detector_output)\n",
    "\n",
    "            batch_correct_preds = (\n",
    "                batch_probas.argmax(1) == batch_labels\n",
    "            ).type(torch.float).sum().item()\n",
    "\n",
    "            correct_preds += batch_correct_preds\n",
    "            size += batch_size\n",
    "\n",
    "        # accumulate losses and accuracies for batches\n",
    "        batches_losses.append(loss.item())\n",
    "        if CALCULATE_ACCURACIES:\n",
    "            batches_accuracies.append(batch_correct_preds / batch_size)\n",
    "        else:\n",
    "            batches_accuracies.append(0.)\n",
    "\n",
    "    if CALCULATE_ACCURACIES:\n",
    "        epoch_accuracy = correct_preds / size\n",
    "    else:\n",
    "        epoch_accuracy = 0.\n",
    "\n",
    "    return batches_losses, batches_accuracies, epoch_accuracy"
   ]
  },
  {
   "cell_type": "code",
   "execution_count": 70,
   "metadata": {},
   "outputs": [],
   "source": [
    "def onn_validate_mse(\n",
    "    optical_net, wavefronts_dataloader,\n",
    "    detector_processor_clf,  # DETECTOR PROCESSOR NEEDED!\n",
    "    loss_func,\n",
    "    device='cpu', show_process=False\n",
    "    ):\n",
    "    \"\"\"\n",
    "    Function to validate `optical_net` (classification task)\n",
    "    ...\n",
    "\n",
    "    Parameters\n",
    "    ----------\n",
    "        optical_net : torch.nn.Module\n",
    "            Neural Network composed of Elements.\n",
    "        wavefronts_dataloader : torch.utils.data.DataLoader\n",
    "            A loader (by batches) for the train dataset of wavefronts.\n",
    "        detector_processor_clf : DetectorProcessorClf\n",
    "            A processor of a detector image for a classification task, that returns `probabilities` of classes.\n",
    "        loss_func :\n",
    "            Loss function for a multi-class classification task.\n",
    "        device : str\n",
    "            Device to computate on...\n",
    "        show_process : bool\n",
    "            Flag to show (or not) a progress bar.\n",
    "\n",
    "    Returns\n",
    "    -------\n",
    "        batches_losses : list[float]\n",
    "            Losses for each batch in an epoch.\n",
    "        batches_accuracies : list[float]\n",
    "            Accuracies for each batch in an epoch.\n",
    "        epoch_accuracy : float\n",
    "            Accuracy for an epoch.\n",
    "    \"\"\"\n",
    "    optical_net.eval()  # activate 'eval' mode of a model\n",
    "    batches_losses = []  # to store loss for each batch\n",
    "    batches_accuracies = []  # to store accuracy for each batch\n",
    "\n",
    "    correct_preds = 0\n",
    "    size = 0\n",
    "\n",
    "    for batch_wavefronts, batch_targets in tqdm(\n",
    "        wavefronts_dataloader,\n",
    "        total=len(wavefronts_dataloader),\n",
    "        desc='validation', position=0,\n",
    "        leave=True, disable=not show_process\n",
    "    ):  # go by batches\n",
    "        # batch_wavefronts - input wavefronts, batch_labels - labels\n",
    "        batch_size = batch_wavefronts.size()[0]\n",
    "\n",
    "        batch_wavefronts = batch_wavefronts.to(device)\n",
    "        batch_targets = batch_targets.to(device)\n",
    "\n",
    "        with torch.no_grad():\n",
    "            detector_outputs = optical_net(batch_wavefronts)\n",
    "            # calculate loss for a batch\n",
    "            loss = loss_func(detector_outputs, batch_targets)\n",
    "\n",
    "        # ACCURACY\n",
    "        if CALCULATE_ACCURACIES:\n",
    "            # process a detector image\n",
    "            batch_labels = detector_processor_clf.batch_forward(batch_targets).argmax(1)\n",
    "            batch_probas = detector_processor_clf.batch_forward(detector_outputs)\n",
    "\n",
    "            batch_correct_preds = (\n",
    "                batch_probas.argmax(1) == batch_labels\n",
    "            ).type(torch.float).sum().item()\n",
    "\n",
    "            correct_preds += batch_correct_preds\n",
    "            size += batch_size\n",
    "\n",
    "        # accumulate losses and accuracies for batches\n",
    "        batches_losses.append(loss.item())\n",
    "        if CALCULATE_ACCURACIES:\n",
    "            batches_accuracies.append(batch_correct_preds / batch_size)\n",
    "        else:\n",
    "            batches_accuracies.append(0.)\n",
    "\n",
    "    if CALCULATE_ACCURACIES:\n",
    "        epoch_accuracy = correct_preds / size\n",
    "    else:\n",
    "        epoch_accuracy = 0.\n",
    "\n",
    "    return batches_losses, batches_accuracies, epoch_accuracy"
   ]
  },
  {
   "cell_type": "code",
   "execution_count": null,
   "metadata": {},
   "outputs": [],
   "source": []
  },
  {
   "cell_type": "markdown",
   "metadata": {},
   "source": [
    "## 4.2. Training of the optical network"
   ]
  },
  {
   "cell_type": "markdown",
   "metadata": {},
   "source": [
    "### 4.2.1. Before training"
   ]
  },
  {
   "cell_type": "markdown",
   "metadata": {},
   "source": [
    "> a diffractive layer ... neurons ... were initialized with $\\pi$ for phase values and $1$ for amplitude values ..."
   ]
  },
  {
   "cell_type": "markdown",
   "metadata": {},
   "source": [
    "#### Metrics for Test dataset"
   ]
  },
  {
   "cell_type": "code",
   "execution_count": 71,
   "metadata": {},
   "outputs": [],
   "source": [
    "test_wf_loader = torch.utils.data.DataLoader(\n",
    "    mnist_wf_test_ds,\n",
    "    batch_size=10,\n",
    "    shuffle=False,\n",
    "    # num_workers=2,\n",
    "    drop_last=False,\n",
    ")  # data loader for a test MNIST data"
   ]
  },
  {
   "cell_type": "code",
   "execution_count": 72,
   "metadata": {},
   "outputs": [],
   "source": [
    "optical_setup.net = optical_setup.net.to(DEVICE)\n",
    "SIM_PARAMS = SIM_PARAMS.to(DEVICE)"
   ]
  },
  {
   "cell_type": "code",
   "execution_count": 73,
   "metadata": {},
   "outputs": [
    {
     "name": "stderr",
     "output_type": "stream",
     "text": [
      "validation: 100%|██████████| 1000/1000 [08:26<00:00,  1.97it/s]"
     ]
    },
    {
     "name": "stdout",
     "output_type": "stream",
     "text": [
      "Results before training on TEST set:\n",
      "\tMSE : 0.008891\n",
      "\tAccuracy : 0.0 %\n"
     ]
    },
    {
     "name": "stderr",
     "output_type": "stream",
     "text": [
      "\n"
     ]
    }
   ],
   "source": [
    "test_losses_0, _, test_accuracy_0 = onn_validate_mse(\n",
    "    optical_setup.net,  # optical network composed in 3.\n",
    "    test_wf_loader,  # dataloader of training set\n",
    "    detector_processor,  # detector processor\n",
    "    loss_func_clf,\n",
    "    device=DEVICE,\n",
    "    show_process=True,\n",
    ")  # evaluate the model\n",
    "\n",
    "print(\n",
    "    'Results before training on TEST set:\\n' +\n",
    "    f'\\t{loss_func_name} : {np.mean(test_losses_0):.6f}\\n' +\n",
    "    f'\\tAccuracy : {(test_accuracy_0*100):>0.1f} %'\n",
    ")"
   ]
  },
  {
   "cell_type": "code",
   "execution_count": null,
   "metadata": {},
   "outputs": [],
   "source": []
  },
  {
   "cell_type": "markdown",
   "metadata": {},
   "source": [
    "### 4.2.2. Training"
   ]
  },
  {
   "cell_type": "code",
   "execution_count": 74,
   "metadata": {},
   "outputs": [],
   "source": [
    "n_epochs = 10\n",
    "print_each = 2  # print each n'th epoch info"
   ]
  },
  {
   "cell_type": "code",
   "execution_count": 75,
   "metadata": {},
   "outputs": [],
   "source": [
    "scheduler = None  # sheduler for a lr tuning during training"
   ]
  },
  {
   "cell_type": "code",
   "execution_count": 76,
   "metadata": {},
   "outputs": [],
   "source": [
    "# Recreate a system to restart training!\n",
    "ozcan_optical_setup = get_setup(SIM_PARAMS)\n",
    "\n",
    "# Linc optimizer to a recreated net!\n",
    "optimizer_clf = get_adam_optimizer(ozcan_optical_setup.net)"
   ]
  },
  {
   "cell_type": "code",
   "execution_count": 77,
   "metadata": {},
   "outputs": [],
   "source": [
    "ozcan_optical_setup.net = ozcan_optical_setup.net.to(DEVICE)"
   ]
  },
  {
   "cell_type": "code",
   "execution_count": null,
   "metadata": {},
   "outputs": [],
   "source": []
  },
  {
   "cell_type": "code",
   "execution_count": 78,
   "metadata": {},
   "outputs": [
    {
     "name": "stdout",
     "output_type": "stream",
     "text": [
      "Epoch #1: "
     ]
    },
    {
     "name": "stderr",
     "output_type": "stream",
     "text": [
      "train:   1%|          | 4/430 [00:17<30:38,  4.32s/it]\n"
     ]
    },
    {
     "ename": "KeyboardInterrupt",
     "evalue": "",
     "output_type": "error",
     "traceback": [
      "\u001b[1;31m---------------------------------------------------------------------------\u001b[0m",
      "\u001b[1;31mKeyboardInterrupt\u001b[0m                         Traceback (most recent call last)",
      "Cell \u001b[1;32mIn[78], line 18\u001b[0m\n\u001b[0;32m     16\u001b[0m \u001b[38;5;66;03m# TRAIN\u001b[39;00m\n\u001b[0;32m     17\u001b[0m start_train_time \u001b[38;5;241m=\u001b[39m time\u001b[38;5;241m.\u001b[39mtime()  \u001b[38;5;66;03m# start time of the epoch (train)\u001b[39;00m\n\u001b[1;32m---> 18\u001b[0m train_losses, _, train_accuracy \u001b[38;5;241m=\u001b[39m \u001b[43monn_train_mse\u001b[49m\u001b[43m(\u001b[49m\n\u001b[0;32m     19\u001b[0m \u001b[43m    \u001b[49m\u001b[43mozcan_optical_setup\u001b[49m\u001b[38;5;241;43m.\u001b[39;49m\u001b[43mnet\u001b[49m\u001b[43m,\u001b[49m\u001b[43m  \u001b[49m\u001b[38;5;66;43;03m# optical network composed in 3.\u001b[39;49;00m\n\u001b[0;32m     20\u001b[0m \u001b[43m    \u001b[49m\u001b[43mtrain_wf_loader\u001b[49m\u001b[43m,\u001b[49m\u001b[43m  \u001b[49m\u001b[38;5;66;43;03m# dataloader of training set\u001b[39;49;00m\n\u001b[0;32m     21\u001b[0m \u001b[43m    \u001b[49m\u001b[43mdetector_processor\u001b[49m\u001b[43m,\u001b[49m\u001b[43m  \u001b[49m\u001b[38;5;66;43;03m# detector processor\u001b[39;49;00m\n\u001b[0;32m     22\u001b[0m \u001b[43m    \u001b[49m\u001b[43mloss_func_clf\u001b[49m\u001b[43m,\u001b[49m\n\u001b[0;32m     23\u001b[0m \u001b[43m    \u001b[49m\u001b[43moptimizer_clf\u001b[49m\u001b[43m,\u001b[49m\n\u001b[0;32m     24\u001b[0m \u001b[43m    \u001b[49m\u001b[43mdevice\u001b[49m\u001b[38;5;241;43m=\u001b[39;49m\u001b[43mDEVICE\u001b[49m\u001b[43m,\u001b[49m\n\u001b[0;32m     25\u001b[0m \u001b[43m    \u001b[49m\u001b[43mshow_process\u001b[49m\u001b[38;5;241;43m=\u001b[39;49m\u001b[43mshow_progress\u001b[49m\u001b[43m,\u001b[49m\n\u001b[0;32m     26\u001b[0m \u001b[43m\u001b[49m\u001b[43m)\u001b[49m  \u001b[38;5;66;03m# train the model\u001b[39;00m\n\u001b[0;32m     27\u001b[0m mean_train_loss \u001b[38;5;241m=\u001b[39m np\u001b[38;5;241m.\u001b[39mmean(train_losses)\n\u001b[0;32m     29\u001b[0m \u001b[38;5;28;01mif\u001b[39;00m (epoch \u001b[38;5;241m==\u001b[39m \u001b[38;5;241m0\u001b[39m) \u001b[38;5;129;01mor\u001b[39;00m ((epoch \u001b[38;5;241m+\u001b[39m \u001b[38;5;241m1\u001b[39m) \u001b[38;5;241m%\u001b[39m print_each \u001b[38;5;241m==\u001b[39m \u001b[38;5;241m0\u001b[39m) \u001b[38;5;129;01mor\u001b[39;00m (epoch \u001b[38;5;241m==\u001b[39m n_epochs \u001b[38;5;241m-\u001b[39m \u001b[38;5;241m1\u001b[39m):  \u001b[38;5;66;03m# train info\u001b[39;00m\n",
      "Cell \u001b[1;32mIn[69], line 59\u001b[0m, in \u001b[0;36monn_train_mse\u001b[1;34m(optical_net, wavefronts_dataloader, detector_processor_clf, loss_func, optimizer, device, show_process)\u001b[0m\n\u001b[0;32m     56\u001b[0m optimizer\u001b[38;5;241m.\u001b[39mzero_grad()\n\u001b[0;32m     58\u001b[0m \u001b[38;5;66;03m# forward of an optical network\u001b[39;00m\n\u001b[1;32m---> 59\u001b[0m detector_output \u001b[38;5;241m=\u001b[39m \u001b[43moptical_net\u001b[49m\u001b[43m(\u001b[49m\u001b[43mbatch_wavefronts\u001b[49m\u001b[43m)\u001b[49m\n\u001b[0;32m     61\u001b[0m \u001b[38;5;66;03m# calculate loss for a batch\u001b[39;00m\n\u001b[0;32m     62\u001b[0m loss \u001b[38;5;241m=\u001b[39m loss_func(detector_output, batch_targets)\n",
      "File \u001b[1;32mc:\\Users\\gunne\\projects\\python\\dnn\\SVETlANNa.docs\\.venv\\Lib\\site-packages\\torch\\nn\\modules\\module.py:1739\u001b[0m, in \u001b[0;36mModule._wrapped_call_impl\u001b[1;34m(self, *args, **kwargs)\u001b[0m\n\u001b[0;32m   1737\u001b[0m     \u001b[38;5;28;01mreturn\u001b[39;00m \u001b[38;5;28mself\u001b[39m\u001b[38;5;241m.\u001b[39m_compiled_call_impl(\u001b[38;5;241m*\u001b[39margs, \u001b[38;5;241m*\u001b[39m\u001b[38;5;241m*\u001b[39mkwargs)  \u001b[38;5;66;03m# type: ignore[misc]\u001b[39;00m\n\u001b[0;32m   1738\u001b[0m \u001b[38;5;28;01melse\u001b[39;00m:\n\u001b[1;32m-> 1739\u001b[0m     \u001b[38;5;28;01mreturn\u001b[39;00m \u001b[38;5;28;43mself\u001b[39;49m\u001b[38;5;241;43m.\u001b[39;49m\u001b[43m_call_impl\u001b[49m\u001b[43m(\u001b[49m\u001b[38;5;241;43m*\u001b[39;49m\u001b[43margs\u001b[49m\u001b[43m,\u001b[49m\u001b[43m \u001b[49m\u001b[38;5;241;43m*\u001b[39;49m\u001b[38;5;241;43m*\u001b[39;49m\u001b[43mkwargs\u001b[49m\u001b[43m)\u001b[49m\n",
      "File \u001b[1;32mc:\\Users\\gunne\\projects\\python\\dnn\\SVETlANNa.docs\\.venv\\Lib\\site-packages\\torch\\nn\\modules\\module.py:1750\u001b[0m, in \u001b[0;36mModule._call_impl\u001b[1;34m(self, *args, **kwargs)\u001b[0m\n\u001b[0;32m   1745\u001b[0m \u001b[38;5;66;03m# If we don't have any hooks, we want to skip the rest of the logic in\u001b[39;00m\n\u001b[0;32m   1746\u001b[0m \u001b[38;5;66;03m# this function, and just call forward.\u001b[39;00m\n\u001b[0;32m   1747\u001b[0m \u001b[38;5;28;01mif\u001b[39;00m \u001b[38;5;129;01mnot\u001b[39;00m (\u001b[38;5;28mself\u001b[39m\u001b[38;5;241m.\u001b[39m_backward_hooks \u001b[38;5;129;01mor\u001b[39;00m \u001b[38;5;28mself\u001b[39m\u001b[38;5;241m.\u001b[39m_backward_pre_hooks \u001b[38;5;129;01mor\u001b[39;00m \u001b[38;5;28mself\u001b[39m\u001b[38;5;241m.\u001b[39m_forward_hooks \u001b[38;5;129;01mor\u001b[39;00m \u001b[38;5;28mself\u001b[39m\u001b[38;5;241m.\u001b[39m_forward_pre_hooks\n\u001b[0;32m   1748\u001b[0m         \u001b[38;5;129;01mor\u001b[39;00m _global_backward_pre_hooks \u001b[38;5;129;01mor\u001b[39;00m _global_backward_hooks\n\u001b[0;32m   1749\u001b[0m         \u001b[38;5;129;01mor\u001b[39;00m _global_forward_hooks \u001b[38;5;129;01mor\u001b[39;00m _global_forward_pre_hooks):\n\u001b[1;32m-> 1750\u001b[0m     \u001b[38;5;28;01mreturn\u001b[39;00m \u001b[43mforward_call\u001b[49m\u001b[43m(\u001b[49m\u001b[38;5;241;43m*\u001b[39;49m\u001b[43margs\u001b[49m\u001b[43m,\u001b[49m\u001b[43m \u001b[49m\u001b[38;5;241;43m*\u001b[39;49m\u001b[38;5;241;43m*\u001b[39;49m\u001b[43mkwargs\u001b[49m\u001b[43m)\u001b[49m\n\u001b[0;32m   1752\u001b[0m result \u001b[38;5;241m=\u001b[39m \u001b[38;5;28;01mNone\u001b[39;00m\n\u001b[0;32m   1753\u001b[0m called_always_called_hooks \u001b[38;5;241m=\u001b[39m \u001b[38;5;28mset\u001b[39m()\n",
      "File \u001b[1;32mc:\\Users\\gunne\\projects\\python\\dnn\\SVETlANNa.docs\\.venv\\Lib\\site-packages\\torch\\nn\\modules\\container.py:250\u001b[0m, in \u001b[0;36mSequential.forward\u001b[1;34m(self, input)\u001b[0m\n\u001b[0;32m    248\u001b[0m \u001b[38;5;28;01mdef\u001b[39;00m\u001b[38;5;250m \u001b[39m\u001b[38;5;21mforward\u001b[39m(\u001b[38;5;28mself\u001b[39m, \u001b[38;5;28minput\u001b[39m):\n\u001b[0;32m    249\u001b[0m     \u001b[38;5;28;01mfor\u001b[39;00m module \u001b[38;5;129;01min\u001b[39;00m \u001b[38;5;28mself\u001b[39m:\n\u001b[1;32m--> 250\u001b[0m         \u001b[38;5;28minput\u001b[39m \u001b[38;5;241m=\u001b[39m \u001b[43mmodule\u001b[49m\u001b[43m(\u001b[49m\u001b[38;5;28;43minput\u001b[39;49m\u001b[43m)\u001b[49m\n\u001b[0;32m    251\u001b[0m     \u001b[38;5;28;01mreturn\u001b[39;00m \u001b[38;5;28minput\u001b[39m\n",
      "File \u001b[1;32mc:\\Users\\gunne\\projects\\python\\dnn\\SVETlANNa.docs\\.venv\\Lib\\site-packages\\torch\\nn\\modules\\module.py:1739\u001b[0m, in \u001b[0;36mModule._wrapped_call_impl\u001b[1;34m(self, *args, **kwargs)\u001b[0m\n\u001b[0;32m   1737\u001b[0m     \u001b[38;5;28;01mreturn\u001b[39;00m \u001b[38;5;28mself\u001b[39m\u001b[38;5;241m.\u001b[39m_compiled_call_impl(\u001b[38;5;241m*\u001b[39margs, \u001b[38;5;241m*\u001b[39m\u001b[38;5;241m*\u001b[39mkwargs)  \u001b[38;5;66;03m# type: ignore[misc]\u001b[39;00m\n\u001b[0;32m   1738\u001b[0m \u001b[38;5;28;01melse\u001b[39;00m:\n\u001b[1;32m-> 1739\u001b[0m     \u001b[38;5;28;01mreturn\u001b[39;00m \u001b[38;5;28;43mself\u001b[39;49m\u001b[38;5;241;43m.\u001b[39;49m\u001b[43m_call_impl\u001b[49m\u001b[43m(\u001b[49m\u001b[38;5;241;43m*\u001b[39;49m\u001b[43margs\u001b[49m\u001b[43m,\u001b[49m\u001b[43m \u001b[49m\u001b[38;5;241;43m*\u001b[39;49m\u001b[38;5;241;43m*\u001b[39;49m\u001b[43mkwargs\u001b[49m\u001b[43m)\u001b[49m\n",
      "File \u001b[1;32mc:\\Users\\gunne\\projects\\python\\dnn\\SVETlANNa.docs\\.venv\\Lib\\site-packages\\torch\\nn\\modules\\module.py:1750\u001b[0m, in \u001b[0;36mModule._call_impl\u001b[1;34m(self, *args, **kwargs)\u001b[0m\n\u001b[0;32m   1745\u001b[0m \u001b[38;5;66;03m# If we don't have any hooks, we want to skip the rest of the logic in\u001b[39;00m\n\u001b[0;32m   1746\u001b[0m \u001b[38;5;66;03m# this function, and just call forward.\u001b[39;00m\n\u001b[0;32m   1747\u001b[0m \u001b[38;5;28;01mif\u001b[39;00m \u001b[38;5;129;01mnot\u001b[39;00m (\u001b[38;5;28mself\u001b[39m\u001b[38;5;241m.\u001b[39m_backward_hooks \u001b[38;5;129;01mor\u001b[39;00m \u001b[38;5;28mself\u001b[39m\u001b[38;5;241m.\u001b[39m_backward_pre_hooks \u001b[38;5;129;01mor\u001b[39;00m \u001b[38;5;28mself\u001b[39m\u001b[38;5;241m.\u001b[39m_forward_hooks \u001b[38;5;129;01mor\u001b[39;00m \u001b[38;5;28mself\u001b[39m\u001b[38;5;241m.\u001b[39m_forward_pre_hooks\n\u001b[0;32m   1748\u001b[0m         \u001b[38;5;129;01mor\u001b[39;00m _global_backward_pre_hooks \u001b[38;5;129;01mor\u001b[39;00m _global_backward_hooks\n\u001b[0;32m   1749\u001b[0m         \u001b[38;5;129;01mor\u001b[39;00m _global_forward_hooks \u001b[38;5;129;01mor\u001b[39;00m _global_forward_pre_hooks):\n\u001b[1;32m-> 1750\u001b[0m     \u001b[38;5;28;01mreturn\u001b[39;00m \u001b[43mforward_call\u001b[49m\u001b[43m(\u001b[49m\u001b[38;5;241;43m*\u001b[39;49m\u001b[43margs\u001b[49m\u001b[43m,\u001b[49m\u001b[43m \u001b[49m\u001b[38;5;241;43m*\u001b[39;49m\u001b[38;5;241;43m*\u001b[39;49m\u001b[43mkwargs\u001b[49m\u001b[43m)\u001b[49m\n\u001b[0;32m   1752\u001b[0m result \u001b[38;5;241m=\u001b[39m \u001b[38;5;28;01mNone\u001b[39;00m\n\u001b[0;32m   1753\u001b[0m called_always_called_hooks \u001b[38;5;241m=\u001b[39m \u001b[38;5;28mset\u001b[39m()\n",
      "File \u001b[1;32m~\\projects\\python\\dnn\\SVETlANNa\\svetlanna\\elements\\diffractive_layer.py:57\u001b[0m, in \u001b[0;36mDiffractiveLayer.forward\u001b[1;34m(self, input_field)\u001b[0m\n\u001b[0;32m     44\u001b[0m \u001b[38;5;28;01mdef\u001b[39;00m\u001b[38;5;250m \u001b[39m\u001b[38;5;21mforward\u001b[39m(\u001b[38;5;28mself\u001b[39m, input_field: Wavefront) \u001b[38;5;241m-\u001b[39m\u001b[38;5;241m>\u001b[39m Wavefront:\n\u001b[0;32m     45\u001b[0m \u001b[38;5;250m    \u001b[39m\u001b[38;5;124;03m\"\"\"Method that calculates the field after propagating through the SLM\u001b[39;00m\n\u001b[0;32m     46\u001b[0m \n\u001b[0;32m     47\u001b[0m \u001b[38;5;124;03m    Parameters\u001b[39;00m\n\u001b[1;32m   (...)\u001b[0m\n\u001b[0;32m     55\u001b[0m \u001b[38;5;124;03m        The field after propagating through the SLM\u001b[39;00m\n\u001b[0;32m     56\u001b[0m \u001b[38;5;124;03m    \"\"\"\u001b[39;00m\n\u001b[1;32m---> 57\u001b[0m     \u001b[38;5;28;01mreturn\u001b[39;00m \u001b[43mmul\u001b[49m\u001b[43m(\u001b[49m\n\u001b[0;32m     58\u001b[0m \u001b[43m        \u001b[49m\u001b[43minput_field\u001b[49m\u001b[43m,\u001b[49m\n\u001b[0;32m     59\u001b[0m \u001b[43m        \u001b[49m\u001b[38;5;28;43mself\u001b[39;49m\u001b[38;5;241;43m.\u001b[39;49m\u001b[43mtransmission_function\u001b[49m\u001b[43m,\u001b[49m\n\u001b[0;32m     60\u001b[0m \u001b[43m        \u001b[49m\u001b[43m(\u001b[49m\u001b[38;5;124;43m'\u001b[39;49m\u001b[38;5;124;43mH\u001b[39;49m\u001b[38;5;124;43m'\u001b[39;49m\u001b[43m,\u001b[49m\u001b[43m \u001b[49m\u001b[38;5;124;43m'\u001b[39;49m\u001b[38;5;124;43mW\u001b[39;49m\u001b[38;5;124;43m'\u001b[39;49m\u001b[43m)\u001b[49m\u001b[43m,\u001b[49m\n\u001b[0;32m     61\u001b[0m \u001b[43m        \u001b[49m\u001b[38;5;28;43mself\u001b[39;49m\u001b[38;5;241;43m.\u001b[39;49m\u001b[43msimulation_parameters\u001b[49m\n\u001b[0;32m     62\u001b[0m \u001b[43m    \u001b[49m\u001b[43m)\u001b[49m\n",
      "File \u001b[1;32m~\\projects\\python\\dnn\\SVETlANNa\\svetlanna\\wavefront.py:330\u001b[0m, in \u001b[0;36mmul\u001b[1;34m(wf, b, b_axis, sim_params)\u001b[0m\n\u001b[0;32m    327\u001b[0m \u001b[38;5;28;01melse\u001b[39;00m:\n\u001b[0;32m    328\u001b[0m     wf_axes \u001b[38;5;241m=\u001b[39m sim_params\u001b[38;5;241m.\u001b[39maxes\u001b[38;5;241m.\u001b[39mnames\n\u001b[1;32m--> 330\u001b[0m res, _ \u001b[38;5;241m=\u001b[39m \u001b[43mtensor_dot\u001b[49m\u001b[43m(\u001b[49m\u001b[43mwf\u001b[49m\u001b[43m,\u001b[49m\u001b[43m \u001b[49m\u001b[43mb\u001b[49m\u001b[43m,\u001b[49m\u001b[43m \u001b[49m\u001b[43mwf_axes\u001b[49m\u001b[43m,\u001b[49m\u001b[43m \u001b[49m\u001b[43mb_axis\u001b[49m\u001b[43m,\u001b[49m\u001b[43m \u001b[49m\u001b[43mpreserve_a_axis\u001b[49m\u001b[38;5;241;43m=\u001b[39;49m\u001b[38;5;28;43;01mTrue\u001b[39;49;00m\u001b[43m)\u001b[49m\n\u001b[0;32m    331\u001b[0m \u001b[38;5;28;01mreturn\u001b[39;00m res\n",
      "File \u001b[1;32m~\\projects\\python\\dnn\\SVETlANNa\\svetlanna\\axes_math.py:284\u001b[0m, in \u001b[0;36mtensor_dot\u001b[1;34m(a, b, a_axis, b_axis, preserve_a_axis)\u001b[0m\n\u001b[0;32m    281\u001b[0m     b \u001b[38;5;241m=\u001b[39m cast(torch\u001b[38;5;241m.\u001b[39mTensor, b)\n\u001b[0;32m    282\u001b[0m     b \u001b[38;5;241m=\u001b[39m cast_tensor(b, b_axis, new_axes)\n\u001b[1;32m--> 284\u001b[0m \u001b[38;5;28;01mreturn\u001b[39;00m \u001b[43ma\u001b[49m\u001b[43m \u001b[49m\u001b[38;5;241;43m*\u001b[39;49m\u001b[43m \u001b[49m\u001b[43mb\u001b[49m, new_axes\n",
      "File \u001b[1;32m~\\projects\\python\\dnn\\SVETlANNa\\svetlanna\\wavefront.py:276\u001b[0m, in \u001b[0;36mWavefront.__mul__\u001b[1;34m(self, other)\u001b[0m\n\u001b[0;32m    275\u001b[0m \u001b[38;5;28;01mdef\u001b[39;00m\u001b[38;5;250m \u001b[39m\u001b[38;5;21m__mul__\u001b[39m(\u001b[38;5;28mself\u001b[39m, other: Any) \u001b[38;5;241m-\u001b[39m\u001b[38;5;241m>\u001b[39m Self:\n\u001b[1;32m--> 276\u001b[0m     \u001b[38;5;28;01mreturn\u001b[39;00m \u001b[38;5;28;43msuper\u001b[39;49m\u001b[43m(\u001b[49m\u001b[43m)\u001b[49m\u001b[38;5;241;43m.\u001b[39;49m\u001b[38;5;21;43m__mul__\u001b[39;49m\u001b[43m(\u001b[49m\u001b[43mother\u001b[49m\u001b[38;5;241;43m=\u001b[39;49m\u001b[43mother\u001b[49m\u001b[43m)\u001b[49m\n",
      "File \u001b[1;32mc:\\Users\\gunne\\projects\\python\\dnn\\SVETlANNa.docs\\.venv\\Lib\\site-packages\\torch\\_tensor.py:1648\u001b[0m, in \u001b[0;36mTensor.__torch_function__\u001b[1;34m(cls, func, types, args, kwargs)\u001b[0m\n\u001b[0;32m   1645\u001b[0m     \u001b[38;5;28;01mreturn\u001b[39;00m \u001b[38;5;28mNotImplemented\u001b[39m\n\u001b[0;32m   1647\u001b[0m \u001b[38;5;28;01mwith\u001b[39;00m _C\u001b[38;5;241m.\u001b[39mDisableTorchFunctionSubclass():\n\u001b[1;32m-> 1648\u001b[0m     ret \u001b[38;5;241m=\u001b[39m \u001b[43mfunc\u001b[49m\u001b[43m(\u001b[49m\u001b[38;5;241;43m*\u001b[39;49m\u001b[43margs\u001b[49m\u001b[43m,\u001b[49m\u001b[43m \u001b[49m\u001b[38;5;241;43m*\u001b[39;49m\u001b[38;5;241;43m*\u001b[39;49m\u001b[43mkwargs\u001b[49m\u001b[43m)\u001b[49m\n\u001b[0;32m   1649\u001b[0m     \u001b[38;5;28;01mif\u001b[39;00m func \u001b[38;5;129;01min\u001b[39;00m get_default_nowrap_functions():\n\u001b[0;32m   1650\u001b[0m         \u001b[38;5;28;01mreturn\u001b[39;00m ret\n",
      "\u001b[1;31mKeyboardInterrupt\u001b[0m: "
     ]
    }
   ],
   "source": [
    "train_epochs_losses = []\n",
    "val_epochs_losses = []  # to store losses of each epoch\n",
    "\n",
    "train_epochs_acc = []\n",
    "val_epochs_acc = []  # to store accuracies\n",
    "\n",
    "torch.manual_seed(98)  # for reproducability?\n",
    "\n",
    "for epoch in range(n_epochs):\n",
    "    if (epoch == 0) or ((epoch + 1) % print_each == 0) or (epoch == n_epochs - 1):\n",
    "        print(f'Epoch #{epoch + 1}: ', end='')\n",
    "        show_progress = True\n",
    "    else:\n",
    "        show_progress = False\n",
    "\n",
    "    # TRAIN\n",
    "    start_train_time = time.time()  # start time of the epoch (train)\n",
    "    train_losses, _, train_accuracy = onn_train_mse(\n",
    "        ozcan_optical_setup.net,  # optical network composed in 3.\n",
    "        train_wf_loader,  # dataloader of training set\n",
    "        detector_processor,  # detector processor\n",
    "        loss_func_clf,\n",
    "        optimizer_clf,\n",
    "        device=DEVICE,\n",
    "        show_process=show_progress,\n",
    "    )  # train the model\n",
    "    mean_train_loss = np.mean(train_losses)\n",
    "\n",
    "    if (epoch == 0) or ((epoch + 1) % print_each == 0) or (epoch == n_epochs - 1):  # train info\n",
    "        print('Training results')\n",
    "        print(f'\\t{loss_func_name} : {mean_train_loss:.6f}')\n",
    "        if CALCULATE_ACCURACIES:\n",
    "            print(f'\\tAccuracy : {(train_accuracy*100):>0.1f} %')\n",
    "        print(f'\\t------------   {time.time() - start_train_time:.2f} s')\n",
    "\n",
    "    # VALIDATION\n",
    "    start_val_time = time.time()  # start time of the epoch (validation)\n",
    "    val_losses, _, val_accuracy = onn_validate_mse(\n",
    "        ozcan_optical_setup.net,  # optical network composed in 3.\n",
    "        val_wf_loader,  # dataloader of validation set\n",
    "        detector_processor,  # detector processor\n",
    "        loss_func_clf,\n",
    "        device=DEVICE,\n",
    "        show_process=show_progress,\n",
    "    )  # evaluate the model\n",
    "    mean_val_loss = np.mean(val_losses)\n",
    "\n",
    "    if (epoch == 0) or ((epoch + 1) % print_each == 0) or (epoch == n_epochs - 1):  # validation info\n",
    "        print('Validation results')\n",
    "        print(f'\\t{loss_func_name} : {mean_val_loss:.6f}')\n",
    "        if CALCULATE_ACCURACIES:\n",
    "            print(f'\\tAccuracy : {(val_accuracy*100):>0.1f} %')\n",
    "        print(f'\\t------------   {time.time() - start_val_time:.2f} s')\n",
    "\n",
    "    if scheduler:\n",
    "        scheduler.step(mean_val_loss)\n",
    "\n",
    "    # save losses\n",
    "    train_epochs_losses.append(mean_train_loss)\n",
    "    val_epochs_losses.append(mean_val_loss)\n",
    "    # seve accuracies\n",
    "    train_epochs_acc.append(train_accuracy)\n",
    "    val_epochs_acc.append(val_accuracy)"
   ]
  },
  {
   "cell_type": "markdown",
   "metadata": {},
   "source": [
    "#### Learning curves (MSELoss and Accuracy)"
   ]
  },
  {
   "cell_type": "code",
   "execution_count": null,
   "metadata": {},
   "outputs": [],
   "source": [
    "# learning curve\n",
    "fig, axs = plt.subplots(1, 2, figsize=(10, 3))\n",
    "\n",
    "axs[0].plot(range(1, n_epochs + 1), np.array(train_epochs_losses) * 1e3, label='train')\n",
    "axs[0].plot(range(1, n_epochs + 1), np.array(val_epochs_losses) * 1e3, linestyle='dashed', label='validation')\n",
    "\n",
    "axs[1].plot(range(1, n_epochs + 1), train_epochs_acc, label='train')\n",
    "axs[1].plot(range(1, n_epochs + 1), val_epochs_acc, linestyle='dashed', label='validation')\n",
    "\n",
    "axs[0].set_ylabel(loss_func_name + r' $\\times 10^3$')\n",
    "axs[0].set_xlabel('Epoch')\n",
    "axs[0].legend()\n",
    "\n",
    "axs[1].set_ylabel('Accuracy')\n",
    "axs[1].set_xlabel('Epoch')\n",
    "axs[1].legend()\n",
    "\n",
    "plt.show()"
   ]
  },
  {
   "cell_type": "code",
   "execution_count": null,
   "metadata": {},
   "outputs": [],
   "source": [
    "# array with all losses\n",
    "# TODO: make with PANDAS?\n",
    "all_lasses_header = ','.join([\n",
    "    f'{loss_func_name.split()[0]}_train', f'{loss_func_name.split()[0]}_val',\n",
    "    'accuracy_train', 'accuracy_val'\n",
    "])\n",
    "all_losses_array = np.array(\n",
    "    [train_epochs_losses, val_epochs_losses, train_epochs_acc, val_epochs_acc]\n",
    ").T"
   ]
  },
  {
   "cell_type": "code",
   "execution_count": null,
   "metadata": {},
   "outputs": [],
   "source": []
  },
  {
   "cell_type": "markdown",
   "metadata": {},
   "source": [
    "#### Trained phase masks"
   ]
  },
  {
   "cell_type": "code",
   "execution_count": null,
   "metadata": {},
   "outputs": [],
   "source": [
    "n_cols = NUM_OF_DIFF_LAYERS  # number of columns for DiffractiveLayer's masks visualization\n",
    "n_rows = 1\n",
    "\n",
    "# plot wavefronts phase\n",
    "fig, axs = plt.subplots(n_rows, n_cols, figsize=(n_cols * 3, n_rows * 3.2))\n",
    "ind_diff_layer = 0\n",
    "\n",
    "cmap = 'gist_stern'  # 'gist_stern' 'rainbow'\n",
    "\n",
    "for ind_layer, layer in enumerate(ozcan_optical_setup.net.to(torch.device(\"cpu\"))):\n",
    "    if isinstance(layer, elements.DiffractiveLayer):  # plot masks for Diffractive layers\n",
    "        if n_rows > 1:\n",
    "            ax_this = axs[ind_diff_layer // n_cols][ind_diff_layer % n_cols]\n",
    "        else:\n",
    "            ax_this = axs[ind_diff_layer % n_cols]\n",
    "\n",
    "        ax_this.set_title(f'{ind_diff_layer + 1}. DiffractiveLayer')\n",
    "\n",
    "        trained_mask = layer.mask.detach()\n",
    "\n",
    "        ax_this.imshow(\n",
    "            trained_mask, cmap=cmap,\n",
    "            vmin=0, vmax=MAX_PHASE\n",
    "        )\n",
    "        ind_diff_layer += 1\n",
    "\n",
    "    # select only a part within apertures!\n",
    "    x_frame = (x_layer_nodes - DETECTOR_SIZE[1]) / 2\n",
    "    y_frame = (y_layer_nodes - DETECTOR_SIZE[0]) / 2\n",
    "    ax_this.set_xlim([x_frame, x_layer_nodes - x_frame])\n",
    "    ax_this.set_ylim([y_frame, y_layer_nodes - y_frame])\n",
    "\n",
    "plt.show()"
   ]
  },
  {
   "cell_type": "code",
   "execution_count": null,
   "metadata": {},
   "outputs": [],
   "source": []
  },
  {
   "cell_type": "markdown",
   "metadata": {},
   "source": [
    "### 4.2.3. Saving the results"
   ]
  },
  {
   "cell_type": "markdown",
   "metadata": {},
   "source": [
    "#### Pathes"
   ]
  },
  {
   "cell_type": "code",
   "execution_count": null,
   "metadata": {},
   "outputs": [],
   "source": [
    "RESULTS_FOLDER = 'models/reproduced_results/MNIST_MSE_Ozcan_2018-2020_GPU'\n",
    "\n",
    "if not os.path.exists(RESULTS_FOLDER):\n",
    "    os.makedirs(RESULTS_FOLDER)"
   ]
  },
  {
   "cell_type": "code",
   "execution_count": null,
   "metadata": {},
   "outputs": [],
   "source": [
    "# filepath to save the model\n",
    "model_filepath = f'{RESULTS_FOLDER}/optical_setup_net_gpu.pth'\n",
    "# filepath to save losses\n",
    "losses_filepath = f'{RESULTS_FOLDER}/training_curves_gpu.csv'"
   ]
  },
  {
   "cell_type": "markdown",
   "metadata": {},
   "source": [
    "#### Saving model weights and learning curves"
   ]
  },
  {
   "cell_type": "code",
   "execution_count": null,
   "metadata": {},
   "outputs": [],
   "source": [
    "# saving model\n",
    "torch.save(ozcan_optical_setup.net.state_dict(), model_filepath)"
   ]
  },
  {
   "cell_type": "code",
   "execution_count": null,
   "metadata": {},
   "outputs": [],
   "source": [
    "# saving losses\n",
    "np.savetxt(\n",
    "    losses_filepath, all_losses_array,\n",
    "    delimiter=',', header=all_lasses_header, comments=\"\"\n",
    ")"
   ]
  },
  {
   "cell_type": "code",
   "execution_count": null,
   "metadata": {},
   "outputs": [],
   "source": []
  },
  {
   "cell_type": "markdown",
   "metadata": {},
   "source": [
    "# 5. Load saved weights for the model"
   ]
  },
  {
   "cell_type": "code",
   "execution_count": null,
   "metadata": {},
   "outputs": [],
   "source": [
    "RESULTS_FOLDER = 'models/reproduced_results/MNIST_MSE_Ozcan_2018-2020_gpu'\n",
    "\n",
    "load_model_filepath = f'{RESULTS_FOLDER}/optical_setup_net_gpu.pth'"
   ]
  },
  {
   "cell_type": "code",
   "execution_count": null,
   "metadata": {},
   "outputs": [],
   "source": [
    "# setup to load weights\n",
    "ozcan_optical_setup_loaded = get_setup(SIM_PARAMS)\n",
    "\n",
    "# LOAD WEIGHTS\n",
    "ozcan_optical_setup_loaded.net.load_state_dict(torch.load(load_model_filepath))"
   ]
  },
  {
   "cell_type": "code",
   "execution_count": null,
   "metadata": {},
   "outputs": [],
   "source": []
  },
  {
   "cell_type": "markdown",
   "metadata": {},
   "source": [
    "## 5.1. Calculate metrics on test set for the loaded model\n",
    "\n",
    "Checking if the loaded model works correctly!"
   ]
  },
  {
   "cell_type": "code",
   "execution_count": null,
   "metadata": {},
   "outputs": [],
   "source": [
    "test_losses_1, _, test_accuracy_1 = onn_validate_mse(\n",
    "    ozcan_optical_setup_loaded.net.to(torch.device(\"cuda\")),  # optical network with loaded weights\n",
    "    test_wf_loader,  # dataloader of training set\n",
    "    detector_processor,  # detector processor\n",
    "    loss_func_clf,\n",
    "    device=DEVICE,\n",
    "    show_process=True,\n",
    ")  # evaluate the model\n",
    "\n",
    "print(\n",
    "    'Results after training on TEST set:\\n' +\n",
    "    f'\\t{loss_func_name} : {np.mean(test_losses_1):.6f}\\n' +\n",
    "    f'\\tAccuracy : {(test_accuracy_1 * 100):>0.1f} %'\n",
    ")"
   ]
  },
  {
   "cell_type": "code",
   "execution_count": null,
   "metadata": {},
   "outputs": [],
   "source": []
  },
  {
   "cell_type": "markdown",
   "metadata": {},
   "source": [
    "## 5.2. Example of classification (propagation through the setup)"
   ]
  },
  {
   "cell_type": "markdown",
   "metadata": {},
   "source": [
    "### 5.2.1. Select a sample to propagate"
   ]
  },
  {
   "cell_type": "code",
   "execution_count": null,
   "metadata": {},
   "outputs": [],
   "source": [
    "# plot an image\n",
    "# '1' - 3214, good\n",
    "# '4' - 6152, good\n",
    "# '6' - 123, good\n",
    "# '8' - 128, good\n",
    "# '0' - 3, good\n",
    "ind_test = 128\n",
    "cmap = 'hot'\n",
    "\n",
    "fig, axs = plt.subplots(1, 2, figsize=(2 * 3, 3))\n",
    "\n",
    "test_wavefront, test_target = mnist_wf_test_ds[ind_test]\n",
    "\n",
    "axs[0].set_title(f'intensity (id={ind_test})')\n",
    "axs[0].imshow(test_wavefront.intensity, cmap=cmap)\n",
    "\n",
    "axs[1].set_title(f'phase')\n",
    "axs[1].imshow(\n",
    "    test_wavefront.phase, cmap=cmap,\n",
    "    vmin=0, vmax=2 * torch.pi\n",
    ")\n",
    "\n",
    "plt.show()"
   ]
  },
  {
   "cell_type": "code",
   "execution_count": null,
   "metadata": {},
   "outputs": [],
   "source": [
    "# propagation of the example through the trained network\n",
    "ozcan_optical_setup_loaded.net.to(torch.device(\"cpu\"))\n",
    "setup_scheme, test_wavefronts = ozcan_optical_setup_loaded.stepwise_forward(test_wavefront)"
   ]
  },
  {
   "cell_type": "code",
   "execution_count": null,
   "metadata": {},
   "outputs": [],
   "source": []
  },
  {
   "cell_type": "markdown",
   "metadata": {},
   "source": [
    "### 5.2.2. Amplitude profiles"
   ]
  },
  {
   "cell_type": "code",
   "execution_count": null,
   "metadata": {},
   "outputs": [],
   "source": [
    "print(setup_scheme)  # prints propagation scheme\n",
    "\n",
    "n_cols = 5  # number of columns to plot all wavefronts during propagation\n",
    "n_rows = (len(ozcan_optical_setup_loaded.net) // n_cols) + 1\n",
    "\n",
    "to_plot = 'amp'  # <--- chose what to plot\n",
    "cmap = 'grey'  # choose colormaps\n",
    "detector_cmap = 'hot'\n",
    "\n",
    "within_aperture = True  # if true plots only the field which is within apertures!\n",
    "\n",
    "# create a figure with subplots\n",
    "fig, axs = plt.subplots(n_rows, n_cols, figsize=(n_cols * 3, n_rows * 3.2))\n",
    "\n",
    "# turn off unecessary axes\n",
    "for ind_row in range(n_rows):\n",
    "    for ind_col in range(n_cols):\n",
    "        ax_this = axs[ind_row][ind_col]\n",
    "        if ind_row * n_cols + ind_col >= len(test_wavefronts):\n",
    "            ax_this.axis('off')\n",
    "\n",
    "# plot wavefronts\n",
    "for ind_wf, wavefront in enumerate(test_wavefronts):\n",
    "    ax_this = axs[ind_wf // n_cols][ind_wf % n_cols]\n",
    "\n",
    "    # delete unnecessary ticks\n",
    "    if not (ind_wf // n_cols) == n_rows - 1:\n",
    "        ax_this.set_xticks([])\n",
    "    if not (ind_wf % n_cols) == 0:\n",
    "        ax_this.set_yticks([])\n",
    "\n",
    "    if to_plot == 'phase':\n",
    "        # plot angle for each wavefront, because intensities pictures are indistinguishable from each other\n",
    "        if ind_wf < len(wavefronts) - 1:\n",
    "            ax_this.set_title('Phase for $WF_{' + f'{ind_wf}' + '}$')\n",
    "            ax_this.imshow(\n",
    "                wavefront.phase.detach().numpy(), cmap=cmap,\n",
    "                vmin=0, vmax=2 * torch.pi\n",
    "            )\n",
    "        else:  # (not a wavefront!)\n",
    "            ax_this.set_title('Detector phase ($WF_{' + f'{ind_wf}' + '})$')\n",
    "            # Detector has no phase!\n",
    "\n",
    "    if to_plot == 'amp':\n",
    "        # plot angle for each wavefront, because intensities pictures are indistinguishable from each other\n",
    "        if ind_wf < len(test_wavefronts) - 1:\n",
    "            ax_this.set_title('Intensity for $WF_{' + f'{ind_wf}' + '}$')\n",
    "            ax_this.imshow(\n",
    "                wavefront.intensity.detach().numpy(), cmap=cmap,\n",
    "                # vmin=0, vmax=max_intensity  # uncomment to make the same limits\n",
    "            )\n",
    "        else:  # Detector output (not a wavefront!)\n",
    "            ax_this.set_title('Detector Intensity ($WF_{' + f'{ind_wf}' + '})$')\n",
    "            ax_this.imshow(\n",
    "                wavefront.detach().numpy(), cmap=detector_cmap,\n",
    "                # vmin=0, vmax=max_intensity  # uncomment to make the same limits\n",
    "            )\n",
    "\n",
    "    # Comment: Detector output is Tensor! It has no methods of Wavefront (like .phase or .intensity)!\n",
    "    if within_aperture:\n",
    "        # select only a part within apertures!\n",
    "        x_frame = (x_layer_nodes - DETECTOR_SIZE[1]) / 2\n",
    "        y_frame = (y_layer_nodes - DETECTOR_SIZE[0]) / 2\n",
    "        ax_this.axis([x_frame, x_layer_nodes - x_frame, y_layer_nodes - y_frame, y_frame])\n",
    "\n",
    "plt.show()"
   ]
  },
  {
   "cell_type": "markdown",
   "metadata": {},
   "source": [
    "### 5.2.3. Detector picture"
   ]
  },
  {
   "cell_type": "code",
   "execution_count": null,
   "metadata": {},
   "outputs": [],
   "source": [
    "# create a figure with subplots\n",
    "fig, ax_this = plt.subplots(1, 1, figsize=(3, 3.2))\n",
    "\n",
    "# Detector output (not a wavefront!)\n",
    "ax_this.set_title('Detector Intensity')\n",
    "ax_this.imshow(\n",
    "    test_wavefronts[-1].detach().numpy(), cmap='hot',\n",
    "    # vmin=0, vmax=1  # uncomment to make the same limits\n",
    ")\n",
    "\n",
    "for zone in get_zones_patches(selected_detector_mask):\n",
    "    # add zone's patches to the axis\n",
    "    # zone_copy = copy(zone)\n",
    "    ax_this.add_patch(zone)\n",
    "\n",
    "# select only a part within apertures!\n",
    "x_frame = (x_layer_nodes - DETECTOR_SIZE[1]) / 2\n",
    "y_frame = (y_layer_nodes - DETECTOR_SIZE[0]) / 2\n",
    "plt.axis([x_frame, x_layer_nodes - x_frame, y_layer_nodes - y_frame, y_frame])\n",
    "\n",
    "plt.show()"
   ]
  },
  {
   "cell_type": "code",
   "execution_count": null,
   "metadata": {},
   "outputs": [],
   "source": [
    "# get probabilities of an example classification\n",
    "if detector_processor:\n",
    "    test_probas = detector_processor.forward(test_wavefronts[-1])\n",
    "    # Comment: forward() method is from DetectorProcessorClf\n",
    "    #          p_i = I(detector_i) / sum_j(I(detector_j))\n",
    "\n",
    "    assert np.isclose(test_probas.sum().item(), 1)\n",
    "\n",
    "    for label, prob in enumerate(test_probas[0]):\n",
    "        print(f'{label} : {prob * 100:.2f}%')"
   ]
  },
  {
   "cell_type": "code",
   "execution_count": null,
   "metadata": {},
   "outputs": [],
   "source": []
  },
  {
   "cell_type": "code",
   "execution_count": null,
   "metadata": {},
   "outputs": [],
   "source": []
  },
  {
   "cell_type": "markdown",
   "metadata": {},
   "source": [
    "## 5.3. Energy _efficiency_"
   ]
  },
  {
   "cell_type": "markdown",
   "metadata": {},
   "source": [
    "### 5.3.1. Predict all Test dataset and save all results"
   ]
  },
  {
   "cell_type": "code",
   "execution_count": null,
   "metadata": {},
   "outputs": [],
   "source": [
    "targets_test_lst = []\n",
    "preds_test_lst = []\n",
    "\n",
    "detector_sums_by_classes = [\n",
    "    torch.zeros(size=SIM_PARAMS.axes_size(axs=('H', 'W'))) for _ in range(number_of_classes)\n",
    "]\n",
    "samples_by_classes = [0 for _ in range(number_of_classes)]\n",
    "probas_sums_by_classes = [\n",
    "    torch.zeros(number_of_classes) for _ in range(number_of_classes)\n",
    "]\n",
    "\n",
    "# loop over the test dataset\n",
    "for ind, (wavefront_this, target_this) in enumerate(tqdm(mnist_wf_test_ds)):\n",
    "    ozcan_optical_setup_loaded.net.eval()\n",
    "\n",
    "    batch_wavefronts = torch.unsqueeze(wavefront_this, 0)\n",
    "    batch_targets = torch.unsqueeze(torch.tensor(target_this), 0)  # to use forwards for batches\n",
    "\n",
    "    batch_labels = detector_processor.batch_forward(batch_targets).argmax(1)\n",
    "\n",
    "    with torch.no_grad():\n",
    "        detector_output = ozcan_optical_setup_loaded.net(batch_wavefronts)\n",
    "        # process a detector image\n",
    "        batch_probas = detector_processor.batch_forward(detector_output)\n",
    "\n",
    "        for ind_in_batch in range(batch_labels.size()[0]):\n",
    "            label_this = batch_labels[ind_in_batch].item()  # true label\n",
    "            targets_test_lst.append(label_this)\n",
    "\n",
    "            detector_sums_by_classes[label_this] += detector_output[ind_in_batch]\n",
    "            probas_sums_by_classes[label_this] += batch_probas[ind_in_batch]\n",
    "            samples_by_classes[label_this] += 1\n",
    "\n",
    "            preds_test_lst.append(batch_probas[ind_in_batch].argmax().item())"
   ]
  },
  {
   "cell_type": "code",
   "execution_count": null,
   "metadata": {},
   "outputs": [],
   "source": []
  },
  {
   "cell_type": "markdown",
   "metadata": {},
   "source": [
    "### 5.3.2. Confusion matrix"
   ]
  },
  {
   "cell_type": "code",
   "execution_count": null,
   "metadata": {},
   "outputs": [],
   "source": [
    "for class_ind in range(number_of_classes):\n",
    "    probas_sums_by_classes[class_ind] /= samples_by_classes[class_ind]"
   ]
  },
  {
   "cell_type": "code",
   "execution_count": null,
   "metadata": {},
   "outputs": [],
   "source": [
    "avg_probas_mat = torch.zeros(size=(number_of_classes, number_of_classes))\n",
    "\n",
    "for ind_class in range(number_of_classes):\n",
    "    avg_probas_mat[ind_class, :] = probas_sums_by_classes[ind_class]"
   ]
  },
  {
   "cell_type": "code",
   "execution_count": null,
   "metadata": {},
   "outputs": [],
   "source": [
    "# ordinary confusion matrix\n",
    "confusion_matrix = torch.zeros(size=(number_of_classes, number_of_classes), dtype=torch.int32)\n",
    "\n",
    "for ind in range(len(mnist_wf_test_ds)):\n",
    "    confusion_matrix[targets_test_lst[ind], preds_test_lst[ind]] += 1"
   ]
  },
  {
   "cell_type": "markdown",
   "metadata": {},
   "source": [
    "#### Plot confusion matrices"
   ]
  },
  {
   "cell_type": "code",
   "execution_count": null,
   "metadata": {},
   "outputs": [],
   "source": [
    "fig, (ax0, ax1) = plt.subplots(1, 2, figsize=(10, 5))\n",
    "\n",
    "# CONFUSION MATRIX\n",
    "ax0.set_title('Confusion matrix')\n",
    "ax0.matshow(confusion_matrix, cmap='Blues')\n",
    "\n",
    "for i in range(number_of_classes):\n",
    "    for j in range(number_of_classes):\n",
    "        val = confusion_matrix[j, i].item()\n",
    "        ax0.text(\n",
    "            i, j, str(val),\n",
    "            va='center', ha='center',\n",
    "            c='k', fontsize=9\n",
    "        )\n",
    "\n",
    "ax0.set_ylabel('Target')\n",
    "ax0.set_xlabel('Predicted')\n",
    "\n",
    "ax0.set_xticks(range(number_of_classes))\n",
    "ax0.set_yticks(range(number_of_classes))\n",
    "\n",
    "# AVERAGED PREDICTED PROBAS\n",
    "ax1.set_title('Averaged confidences')\n",
    "ax1.matshow(avg_probas_mat, cmap='Greens')\n",
    "\n",
    "for i in range(number_of_classes):\n",
    "    for j in range(number_of_classes):\n",
    "        val = avg_probas_mat[j, i].item()\n",
    "        ax1.text(\n",
    "            i, j, f'{val:.1f}',\n",
    "            va='center', ha='center',\n",
    "            c='k', fontsize=9\n",
    "        )\n",
    "\n",
    "ax1.set_xlabel(r'$\\sum I_i / \\left( \\sum I_0 + \\dots + \\sum I_9 \\right)$')\n",
    "\n",
    "ax1.set_xticks(range(number_of_classes))\n",
    "ax1.set_yticks(range(number_of_classes))\n",
    "# ax1.set_yticks(range(number_of_classes), labels=['' for _ in range(number_of_classes)])\n",
    "\n",
    "plt.show()\n",
    "\n",
    "# save figure\n",
    "# fig.savefig(f'{RESULTS_FOLDER}/confusion_matrix.png', bbox_inches='tight')"
   ]
  },
  {
   "cell_type": "code",
   "execution_count": null,
   "metadata": {},
   "outputs": [],
   "source": []
  },
  {
   "cell_type": "markdown",
   "metadata": {},
   "source": [
    "### 5.3.3. Averaged detector for a selected class"
   ]
  },
  {
   "cell_type": "code",
   "execution_count": null,
   "metadata": {},
   "outputs": [],
   "source": [
    "n_cols = 5  # number of columns to plot all wavefronts during propagation\n",
    "n_rows = (number_of_classes // n_cols)\n",
    "\n",
    "detector_cmap = 'hot'\n",
    "\n",
    "# create a figure with subplots\n",
    "fig, axs = plt.subplots(n_rows, n_cols, figsize=(n_cols * 3, n_rows * 3))\n",
    "\n",
    "# turn off unecessary axes\n",
    "for ind_row in range(n_rows):\n",
    "    for ind_col in range(n_cols):\n",
    "        ax_this = axs[ind_row][ind_col]\n",
    "        if ind_row * n_cols + ind_col >= number_of_classes:\n",
    "            ax_this.axis('off')\n",
    "\n",
    "# plot wavefronts\n",
    "for selected_class in range(number_of_classes):\n",
    "    ax_this = axs[selected_class // n_cols][selected_class % n_cols]\n",
    "\n",
    "    # focus \"efficiency\"\n",
    "    int_over_detector_zones = 0\n",
    "\n",
    "    for ind_class in range(number_of_classes):\n",
    "        int_over_detector_zones += detector_processor.batch_zone_integral(\n",
    "            detector_sums_by_classes[selected_class].unsqueeze(0).unsqueeze(0),\n",
    "            ind_class=ind_class,\n",
    "        )[0].item()\n",
    "\n",
    "    detector_int = detector_sums_by_classes[selected_class].sum().item()\n",
    "    detector_efficiency = int_over_detector_zones / detector_int\n",
    "\n",
    "    # Detector output (not a wavefront!)\n",
    "    ax_this.set_title(\n",
    "        f'`{selected_class}`: ' + r'$E_{zones}\\approx$' +\n",
    "        f'{detector_efficiency * 100:.2f} %'\n",
    "    )\n",
    "    ax_this.imshow(\n",
    "        detector_sums_by_classes[selected_class] / samples_by_classes[selected_class],\n",
    "        cmap=detector_cmap,\n",
    "        # vmin=0, vmax=0.02  # uncomment to make the same limits\n",
    "    )\n",
    "\n",
    "    for zone in get_zones_patches(selected_detector_mask):\n",
    "        # add zone's patches to the axis\n",
    "        # zone_copy = copy(zone)\n",
    "        ax_this.add_patch(zone)\n",
    "\n",
    "    ax_this.set_xticks([])\n",
    "    ax_this.set_yticks([])\n",
    "\n",
    "    # select only a part within apertures!\n",
    "    x_frame = (x_layer_nodes - DETECTOR_SIZE[1]) / 2\n",
    "    y_frame = (y_layer_nodes - DETECTOR_SIZE[0]) / 2\n",
    "    ax_this.axis([x_frame, x_layer_nodes - x_frame, y_layer_nodes - y_frame, y_frame])\n",
    "\n",
    "plt.show()\n",
    "\n",
    "# save figure\n",
    "# fig.savefig(f'{RESULTS_FOLDER}/averaged_detector_for_classes.png', bbox_inches='tight')"
   ]
  },
  {
   "cell_type": "code",
   "execution_count": null,
   "metadata": {},
   "outputs": [],
   "source": []
  },
  {
   "cell_type": "markdown",
   "metadata": {},
   "source": [
    "### 5.6.3. Detector _efficiency_\n",
    "\n",
    "$$\n",
    "\\frac{\\sum\\limits_{\\text{class}=0}^9 \\left( \\iint\\limits_{S_\\text{class}} I(x,y) \\right)}{\\iint\\limits_{S_\\text{detector}} I(x,y)}\n",
    "$$"
   ]
  },
  {
   "cell_type": "code",
   "execution_count": null,
   "metadata": {},
   "outputs": [],
   "source": [
    "detector_efficiency_by_classes = {}\n",
    "\n",
    "for selected_class in range(number_of_classes):\n",
    "    int_over_detector_zones = 0\n",
    "\n",
    "    for ind_class in range(number_of_classes):\n",
    "        int_over_detector_zones += detector_processor.batch_zone_integral(\n",
    "            detector_sums_by_classes[selected_class].unsqueeze(0).unsqueeze(0),\n",
    "            ind_class=ind_class,\n",
    "        )[0].item()\n",
    "\n",
    "    detector_int = detector_sums_by_classes[selected_class].sum().item()\n",
    "    detector_efficiency_by_classes[selected_class] = int_over_detector_zones / detector_int"
   ]
  },
  {
   "cell_type": "code",
   "execution_count": null,
   "metadata": {},
   "outputs": [],
   "source": [
    "detector_efficiency_by_classes"
   ]
  },
  {
   "cell_type": "code",
   "execution_count": null,
   "metadata": {},
   "outputs": [],
   "source": []
  }
 ],
 "metadata": {
  "kernelspec": {
   "display_name": ".venv",
   "language": "python",
   "name": "python3"
  },
  "language_info": {
   "codemirror_mode": {
    "name": "ipython",
    "version": 3
   },
   "file_extension": ".py",
   "mimetype": "text/x-python",
   "name": "python",
   "nbconvert_exporter": "python",
   "pygments_lexer": "ipython3",
   "version": "3.11.4"
  }
 },
 "nbformat": 4,
 "nbformat_minor": 2
}
