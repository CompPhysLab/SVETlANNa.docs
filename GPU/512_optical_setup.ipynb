{
 "cells": [
  {
   "cell_type": "markdown",
   "metadata": {},
   "source": [
    "### Imports"
   ]
  },
  {
   "cell_type": "code",
   "execution_count": 1,
   "metadata": {},
   "outputs": [],
   "source": [
    "import os\n",
    "import sys\n",
    "import random\n",
    "import time\n",
    "\n",
    "import numpy as np\n",
    "import torch\n",
    "from torch.utils.data import Dataset\n",
    "from torch import nn\n",
    "from torch.nn import functional\n",
    "import torchvision\n",
    "import torchvision.transforms as transforms\n",
    "from torchvision.transforms import InterpolationMode\n",
    "from tqdm import tqdm\n",
    "import matplotlib.pyplot as plt\n",
    "import matplotlib.patches as patches\n",
    "\n",
    "# our library\n",
    "from svetlanna import SimulationParameters\n",
    "from svetlanna.parameters import ConstrainedParameter\n",
    "from svetlanna import Wavefront\n",
    "from svetlanna import elements\n",
    "from svetlanna.setup import LinearOpticalSetup\n",
    "from svetlanna.detector import Detector, DetectorProcessorClf\n",
    "from svetlanna.transforms import ToWavefront\n",
    "\n",
    "# datasets of wavefronts\n",
    "from src.wf_datasets import DatasetOfWavefronts\n",
    "from src.wf_datasets import WavefrontsDatasetSimple"
   ]
  },
  {
   "cell_type": "code",
   "execution_count": 2,
   "metadata": {},
   "outputs": [],
   "source": [
    "import GPUtil\n",
    "import cpuinfo\n",
    "import psutil"
   ]
  },
  {
   "cell_type": "code",
   "execution_count": 3,
   "metadata": {},
   "outputs": [
    {
     "name": "stdout",
     "output_type": "stream",
     "text": [
      "GPU Information:\n",
      "id: 0\n",
      "name: NVIDIA GeForce GTX 1050\n",
      "load: 0.0\n",
      "free_memory: 4004.0\n",
      "used_memory: 0.0\n",
      "total_memory: 4096.0\n",
      "temperature: 54.0\n",
      "uuid: GPU-a013ac1c-c861-d8ac-4b46-e3eaa68461f1\n",
      "--------------------\n"
     ]
    }
   ],
   "source": [
    "# Получение информации о GPU\n",
    "def get_gpu_info():\n",
    "    gpus = GPUtil.getGPUs()\n",
    "    gpu_info = []\n",
    "    for gpu in gpus:\n",
    "        info = {\n",
    "            \"id\": gpu.id,\n",
    "            \"name\": gpu.name,\n",
    "            \"load\": gpu.load,\n",
    "            \"free_memory\": gpu.memoryFree,\n",
    "            \"used_memory\": gpu.memoryUsed,\n",
    "            \"total_memory\": gpu.memoryTotal,\n",
    "            \"temperature\": gpu.temperature,\n",
    "            \"uuid\": gpu.uuid\n",
    "        }\n",
    "        gpu_info.append(info)\n",
    "    return gpu_info\n",
    "\n",
    "# Вывод информации о GPU\n",
    "gpu_info = get_gpu_info()\n",
    "print(\"GPU Information:\")\n",
    "for info in gpu_info:\n",
    "    for key, value in info.items():\n",
    "        print(f\"{key}: {value}\")\n",
    "    print(\"-\" * 20)"
   ]
  },
  {
   "cell_type": "markdown",
   "metadata": {},
   "source": [
    "# Optical Neural Network\n",
    "\n",
    "In that example notebook we will try to realize a simple architecture of an optical system, which might be used for the optical neural network.\n",
    "\n",
    "> In general, the phase and amplitude of eachneuron can be learnable parameters, providinga complex-valued modulation at each layer, which improves the inference performance of the diffractive network.\n",
    "\n",
    "> ... we first trained it as a digit classifierto perform automated classification of hand-written digits, from $0$ to $9$. Forthis task, phase-only transmission masks were designed by training **a five-layer** $D^2 NN$ with $55,000$ images ($5000$ validation images) from the MNIST handwritten digit data-base.\n",
    "\n",
    ">  We then used continuous-wave illumination at $0.4$ $THz$...\n",
    "\n",
    "Some info from [a supplementary material](https://www.science.org/doi/suppl/10.1126/science.aat8084/suppl_file/aat8084-lin-sm-rev-3.pdf) (information about MNIST classification):\n",
    "\n",
    "> Because we consider coherent illumination, the input information can be encoded in the amplitude and/or phase channels of the input plane.\n",
    "\n",
    "> For each layer of the $D^2NN$, we set we set the neuron size to be $400$ $\\mu m$...\n",
    "\n",
    "> At the detector/output plane, we measured the intensity of the network output...\n",
    "\n",
    "#### <span style=\"color:red\">Additional information</span>\n",
    "\n",
    "In another article [[2]](https://ieeexplore.ieee.org/abstract/document/8732486) of the same authors sume details were clarified: \n",
    "\n",
    "> In our numerical simulations, we used a neuron size of approximately $0.53 \\times \\lambda $\n",
    "\n",
    ">  In addition, the height and width of each diffractive layer was set to include $200 \\times 200 = 40K$ neurons per layer."
   ]
  },
  {
   "cell_type": "markdown",
   "metadata": {},
   "source": [
    "# 1. Simulation parameters"
   ]
  },
  {
   "cell_type": "code",
   "execution_count": 4,
   "metadata": {},
   "outputs": [],
   "source": [
    "working_frequency = 0.4 * 1e12 # [Hz]\n",
    "c_const = 299_792_458  # [m / s]"
   ]
  },
  {
   "cell_type": "code",
   "execution_count": 5,
   "metadata": {},
   "outputs": [
    {
     "name": "stdout",
     "output_type": "stream",
     "text": [
      "lambda = 749.481 um\n"
     ]
    }
   ],
   "source": [
    "working_wavelength = c_const / working_frequency  # [m]\n",
    "print(f'lambda = {working_wavelength * 1e6:.3f} um')"
   ]
  },
  {
   "cell_type": "code",
   "execution_count": 6,
   "metadata": {},
   "outputs": [
    {
     "name": "stdout",
     "output_type": "stream",
     "text": [
      "neuron size = 397.225 um\n"
     ]
    }
   ],
   "source": [
    "# neuron size (square)\n",
    "neuron_size = 0.53 * working_wavelength  # [m]\n",
    "print(f'neuron size = {neuron_size * 1e6:.3f} um')"
   ]
  },
  {
   "cell_type": "code",
   "execution_count": null,
   "metadata": {},
   "outputs": [],
   "source": [
    "DETECTOR_SIZE = (512, 512)  # from the extended article!\n",
    "# an actual zone where weights will be updated during a training process"
   ]
  },
  {
   "cell_type": "markdown",
   "metadata": {},
   "source": [
    "**<span style=\"color:red\">Difference.</span>** We will use `'AS'` method for `FreeSpace`'s, but we wont increase a size of a layer in `SimulationParameters` (i.e. numerical mesh)!"
   ]
  },
  {
   "cell_type": "code",
   "execution_count": 8,
   "metadata": {},
   "outputs": [
    {
     "name": "stdout",
     "output_type": "stream",
     "text": [
      "Layer size (in neurons): 256 x 256 = 65536\n"
     ]
    }
   ],
   "source": [
    "# number of neurons in simulation\n",
    "x_layer_nodes = DETECTOR_SIZE[1] * 1\n",
    "y_layer_nodes = DETECTOR_SIZE[0] * 1\n",
    "# Comment: Same size as proposed!\n",
    "\n",
    "print(f'Layer size (in neurons): {x_layer_nodes} x {y_layer_nodes} = {x_layer_nodes * y_layer_nodes}')"
   ]
  },
  {
   "cell_type": "code",
   "execution_count": 9,
   "metadata": {},
   "outputs": [
    {
     "name": "stdout",
     "output_type": "stream",
     "text": [
      "Layer size (in cm): 10.16896017536 x 10.16896017536\n"
     ]
    }
   ],
   "source": [
    "# physical size of each layer (from the article) - (8 x 8) [cm]\n",
    "x_layer_size_m = x_layer_nodes * neuron_size  # [m]\n",
    "y_layer_size_m = y_layer_nodes * neuron_size\n",
    "\n",
    "print(f'Layer size (in cm): {x_layer_size_m * 1e2} x {y_layer_size_m * 1e2}')"
   ]
  },
  {
   "cell_type": "code",
   "execution_count": 10,
   "metadata": {},
   "outputs": [],
   "source": [
    "# simulation parameters for the rest of the notebook\n",
    "SIM_PARAMS = SimulationParameters(\n",
    "    axes={\n",
    "        'W': torch.linspace(-x_layer_size_m / 2, x_layer_size_m / 2, x_layer_nodes),\n",
    "        'H': torch.linspace(-y_layer_size_m / 2, y_layer_size_m / 2, y_layer_nodes),\n",
    "        'wavelength': working_wavelength,  # only one wavelength!\n",
    "    }\n",
    ")"
   ]
  },
  {
   "cell_type": "markdown",
   "metadata": {},
   "source": [
    "# 2. Dataset preparation (Data Engineer)"
   ]
  },
  {
   "cell_type": "markdown",
   "metadata": {},
   "source": [
    "## 2.1. [MNIST Dataset](https://www.kaggle.com/datasets/hojjatk/mnist-dataset)"
   ]
  },
  {
   "cell_type": "code",
   "execution_count": 11,
   "metadata": {},
   "outputs": [],
   "source": [
    "# initialize a directory for a dataset\n",
    "MNIST_DATA_FOLDER = './data'  # folder to store data"
   ]
  },
  {
   "cell_type": "markdown",
   "metadata": {},
   "source": [
    "### 2.1.1. Load Train and Test datasets of images"
   ]
  },
  {
   "cell_type": "code",
   "execution_count": 12,
   "metadata": {},
   "outputs": [],
   "source": [
    "# TRAIN (images)\n",
    "mnist_train_ds = torchvision.datasets.MNIST(\n",
    "    root=MNIST_DATA_FOLDER,\n",
    "    train=True,  # for train dataset\n",
    "    download=False,\n",
    ")"
   ]
  },
  {
   "cell_type": "code",
   "execution_count": 13,
   "metadata": {},
   "outputs": [],
   "source": [
    "# TEST (images)\n",
    "mnist_test_ds = torchvision.datasets.MNIST(\n",
    "    root=MNIST_DATA_FOLDER,\n",
    "    train=False,  # for test dataset\n",
    "    download=False,\n",
    ")"
   ]
  },
  {
   "cell_type": "code",
   "execution_count": 14,
   "metadata": {},
   "outputs": [
    {
     "name": "stdout",
     "output_type": "stream",
     "text": [
      "Train data: 60000\n",
      "Test data : 10000\n"
     ]
    }
   ],
   "source": [
    "print(f'Train data: {len(mnist_train_ds)}')\n",
    "print(f'Test data : {len(mnist_test_ds)}')"
   ]
  },
  {
   "cell_type": "markdown",
   "metadata": {},
   "source": [
    "### 2.1.2. Create Train and Test datasets of wavefronts\n",
    "\n",
    "We need to do an amplitude modulation of each image from the dataset."
   ]
  },
  {
   "cell_type": "markdown",
   "metadata": {},
   "source": [
    "#### Select classes zones on `Detector`"
   ]
  },
  {
   "cell_type": "markdown",
   "metadata": {},
   "source": [
    "> ... size of these detectors $(6.4 \\lambda \\times 6.4 \\lambda)$ ...\n",
    "\n",
    "**<span style=\"color:red\">Comment:</span>** `DetectorProcessor` in our library is used to process an information on detector. For example, for the current task `DetectorProcessor` must return only 10 values (1 value per 1 class)."
   ]
  },
  {
   "cell_type": "code",
   "execution_count": 15,
   "metadata": {},
   "outputs": [],
   "source": [
    "import src.detector_segmentation as detector_segmentation"
   ]
  },
  {
   "cell_type": "code",
   "execution_count": 16,
   "metadata": {},
   "outputs": [],
   "source": [
    "number_of_classes = 10"
   ]
  },
  {
   "cell_type": "markdown",
   "metadata": {},
   "source": [
    "#### Detector mask"
   ]
  },
  {
   "cell_type": "code",
   "execution_count": 17,
   "metadata": {},
   "outputs": [],
   "source": [
    "detector_segment_size = 10 * working_wavelength"
   ]
  },
  {
   "cell_type": "code",
   "execution_count": 18,
   "metadata": {},
   "outputs": [],
   "source": [
    "# size of each segment in neurons\n",
    "x_segment_nodes = int(detector_segment_size / neuron_size)\n",
    "y_segment_nodes = int(detector_segment_size / neuron_size)\n",
    "# each segment of size = (y_segment_nodes, x_segment_nodes)"
   ]
  },
  {
   "cell_type": "code",
   "execution_count": 19,
   "metadata": {},
   "outputs": [],
   "source": [
    "y_boundary_nodes = y_segment_nodes * 9\n",
    "x_boundary_nodes = x_segment_nodes * 9"
   ]
  },
  {
   "cell_type": "code",
   "execution_count": 20,
   "metadata": {},
   "outputs": [],
   "source": [
    "DETECTOR_MASK = detector_segmentation.squares_mnist(\n",
    "    y_boundary_nodes, x_boundary_nodes,  # size of a detector or an aperture (in the middle of detector)\n",
    "    SIM_PARAMS\n",
    ")"
   ]
  },
  {
   "cell_type": "markdown",
   "metadata": {},
   "source": [
    "**<span style=\"color:red\">Comment:</span>** This mask will be used to generate a target image for each number! \n",
    "\n",
    "<span style=\"color:red\">Target image:</span> zeros are everywhere except the necessary zone responsible for the label! "
   ]
  },
  {
   "cell_type": "code",
   "execution_count": null,
   "metadata": {},
   "outputs": [],
   "source": []
  },
  {
   "cell_type": "markdown",
   "metadata": {},
   "source": [
    "#### To visualize detector zones (for further use)"
   ]
  },
  {
   "cell_type": "code",
   "execution_count": 21,
   "metadata": {},
   "outputs": [],
   "source": [
    "ZONES_HIGHLIGHT_COLOR = 'r'\n",
    "ZONES_LW = 0.5\n",
    "selected_detector_mask = DETECTOR_MASK.clone().detach()"
   ]
  },
  {
   "cell_type": "code",
   "execution_count": 22,
   "metadata": {},
   "outputs": [],
   "source": [
    "def get_zones_patches(detector_mask):\n",
    "    \"\"\"\n",
    "    Returns a list of patches to draw zones in final visualisation\n",
    "    \"\"\"\n",
    "    zones_patches = []\n",
    "\n",
    "    delta = 1 #0.5\n",
    "\n",
    "    for ind_class in range(number_of_classes):\n",
    "        idx_y, idx_x = (detector_mask == ind_class).nonzero(as_tuple=True)\n",
    "\n",
    "        zone_rect = patches.Rectangle(\n",
    "            (idx_x[0] - delta, idx_y[0] - delta),\n",
    "            idx_x[-1] - idx_x[0] + 2 * delta, idx_y[-1] - idx_y[0] + 2 * delta,\n",
    "            linewidth=ZONES_LW,\n",
    "            edgecolor=ZONES_HIGHLIGHT_COLOR,\n",
    "            facecolor='none'\n",
    "        )\n",
    "\n",
    "        zones_patches.append(zone_rect)\n",
    "\n",
    "    return zones_patches"
   ]
  },
  {
   "cell_type": "markdown",
   "metadata": {},
   "source": [
    "#### Visualize mask"
   ]
  },
  {
   "cell_type": "code",
   "execution_count": 23,
   "metadata": {},
   "outputs": [
    {
     "data": {
      "image/png": "[encoded data removed]",
      "text/plain": [
       "<Figure size 300x300 with 1 Axes>"
      ]
     },
     "metadata": {},
     "output_type": "display_data"
    }
   ],
   "source": [
    "fig, ax0 = plt.subplots(1, 1, figsize=(3, 3))\n",
    "\n",
    "ax0.set_title(f'Detector segments')\n",
    "ax0.imshow(selected_detector_mask, cmap='grey')\n",
    "\n",
    "for zone in get_zones_patches(selected_detector_mask):\n",
    "    # add zone's patches to the axis\n",
    "    # zone_copy = copy(zone)\n",
    "    ax0.add_patch(zone)\n",
    "\n",
    "plt.show()"
   ]
  },
  {
   "cell_type": "code",
   "execution_count": null,
   "metadata": {},
   "outputs": [],
   "source": []
  },
  {
   "cell_type": "markdown",
   "metadata": {},
   "source": [
    "#### Dataset of wavefronts"
   ]
  },
  {
   "cell_type": "code",
   "execution_count": 24,
   "metadata": {},
   "outputs": [],
   "source": [
    "# select modulation type\n",
    "MODULATION_TYPE = 'amp'  # using ONLY amplitude to encode each picture in a Wavefront!"
   ]
  },
  {
   "cell_type": "code",
   "execution_count": 25,
   "metadata": {},
   "outputs": [],
   "source": [
    "resize_y = int(DETECTOR_SIZE[0] / 3)\n",
    "resize_x = int(DETECTOR_SIZE[1] / 3)  # shape for transforms.Resize\n",
    "# Comment: Looks like in [2] article MNIST pictures were resized to ~100 x 100 neurons\n",
    "\n",
    "# paddings along OY\n",
    "pad_top = int((y_layer_nodes - resize_y) / 2)\n",
    "pad_bottom = y_layer_nodes - pad_top - resize_y\n",
    "# paddings along OX\n",
    "pad_left = int((x_layer_nodes - resize_x) / 2)\n",
    "pad_right = x_layer_nodes - pad_left - resize_x  # params for transforms.Pad"
   ]
  },
  {
   "cell_type": "code",
   "execution_count": 26,
   "metadata": {},
   "outputs": [],
   "source": [
    "# compose all transforms!\n",
    "image_transform_for_ds = transforms.Compose(\n",
    "  [\n",
    "      transforms.ToTensor(),\n",
    "      transforms.Resize(\n",
    "          size=(resize_y, resize_x),\n",
    "          interpolation=InterpolationMode.NEAREST,\n",
    "      ),\n",
    "      transforms.Pad(\n",
    "          padding=(\n",
    "              pad_left,  # left padding\n",
    "              pad_top,  # top padding\n",
    "              pad_right,  # right padding\n",
    "              pad_bottom  # bottom padding\n",
    "          ),\n",
    "          fill=0,\n",
    "      ),  # padding to match sizes!\n",
    "      ToWavefront(modulation_type=MODULATION_TYPE)  # <- select modulation type!!!\n",
    "  ]\n",
    ")"
   ]
  },
  {
   "cell_type": "markdown",
   "metadata": {},
   "source": [
    "**<span style=\"color:red\">Comment.</span>** Here `dataset.getitem()` will return a pair of a `Wavefront`, where a number encoded, and a target label (a number from 0 to 9). During the training process we will use MSE loss and we will generate a target detector picture based on a detector zones (will be initialized later in 3.1.3). "
   ]
  },
  {
   "cell_type": "code",
   "execution_count": 27,
   "metadata": {},
   "outputs": [],
   "source": [
    "# TRAIN dataset of WAVEFRONTS\n",
    "mnist_wf_train_ds = DatasetOfWavefronts(\n",
    "    init_ds=mnist_train_ds,  # dataset of images\n",
    "    transformations=image_transform_for_ds,  # image transformation\n",
    "    sim_params=SIM_PARAMS,  # simulation parameters\n",
    "    target='detector',\n",
    "    detector_mask=DETECTOR_MASK\n",
    ")"
   ]
  },
  {
   "cell_type": "code",
   "execution_count": 28,
   "metadata": {},
   "outputs": [],
   "source": [
    "# TEST dataset of WAVEFRONTS\n",
    "mnist_wf_test_ds = DatasetOfWavefronts(\n",
    "    init_ds=mnist_test_ds,  # dataset of images\n",
    "    transformations=image_transform_for_ds,  # image transformation\n",
    "    sim_params=SIM_PARAMS,  # simulation parameters\n",
    "    target='detector',\n",
    "    detector_mask=DETECTOR_MASK\n",
    ")"
   ]
  },
  {
   "cell_type": "code",
   "execution_count": 29,
   "metadata": {},
   "outputs": [
    {
     "name": "stdout",
     "output_type": "stream",
     "text": [
      "Train data: 60000\n",
      "Test data : 10000\n"
     ]
    }
   ],
   "source": [
    "print(f'Train data: {len(mnist_train_ds)}')\n",
    "print(f'Test data : {len(mnist_test_ds)}')"
   ]
  },
  {
   "cell_type": "code",
   "execution_count": 30,
   "metadata": {},
   "outputs": [
    {
     "data": {
      "image/png": "[encoded data removed]",
      "text/plain": [
       "<Figure size 1200x960 with 12 Axes>"
      ]
     },
     "metadata": {},
     "output_type": "display_data"
    }
   ],
   "source": [
    "# plot several EXAMPLES from TRAIN dataset\n",
    "n_examples= 4  # number of examples to plot\n",
    "# choosing indecies of images (from train) to plot\n",
    "random.seed(78)\n",
    "train_examples_ids = random.sample(range(len(mnist_train_ds)), n_examples)\n",
    "\n",
    "all_examples_wavefronts = []\n",
    "\n",
    "n_lines = 3\n",
    "fig, axs = plt.subplots(n_lines, n_examples, figsize=(n_examples * 3, n_lines * 3.2))\n",
    "for ind_ex, ind_train in enumerate(train_examples_ids):\n",
    "    image, label = mnist_train_ds[ind_train]\n",
    "\n",
    "    axs[0][ind_ex].set_title(f'id={ind_train} [{label}]')\n",
    "    axs[0][ind_ex].imshow(image, cmap='gray')\n",
    "\n",
    "    wavefront, target_image = mnist_wf_train_ds[ind_train]\n",
    "    assert isinstance(wavefront, Wavefront)\n",
    "\n",
    "    all_examples_wavefronts.append(wavefront)\n",
    "\n",
    "    axs[1][ind_ex].set_title(f'$|WF|^2$')\n",
    "    # here we can plot intensity for a wavefront\n",
    "    axs[1][ind_ex].imshow(\n",
    "        wavefront.intensity, cmap='gray',\n",
    "        vmin=0, vmax=1\n",
    "    )\n",
    "\n",
    "    # axs[2][ind_ex].set_title(f'phase of $WF$')\n",
    "    # axs[2][ind_ex].imshow(\n",
    "    #     wavefront.phase[0], cmap='gray',\n",
    "    #     vmin=0, vmax= 2 * torch.pi\n",
    "    # )\n",
    "\n",
    "    axs[2][ind_ex].set_title(f'Target image')\n",
    "    axs[2][ind_ex].imshow(\n",
    "        target_image, cmap='gray',\n",
    "        vmin=0, vmax= 1\n",
    "    )\n",
    "\n",
    "    for zone in get_zones_patches(selected_detector_mask):\n",
    "        # add zone's patches to the axis\n",
    "        # zone_copy = copy(zone)\n",
    "        axs[2][ind_ex].add_patch(zone)\n",
    "\n",
    "plt.show()"
   ]
  },
  {
   "cell_type": "code",
   "execution_count": null,
   "metadata": {},
   "outputs": [],
   "source": []
  },
  {
   "cell_type": "markdown",
   "metadata": {},
   "source": [
    "# 3. Optical network\n",
    "\n",
    "Info from a supplementary material of [[1]](https://www.science.org/doi/suppl/10.1126/science.aat8084/suppl_file/aat8084-lin-sm-rev-3.pdf) for MNIST classification:\n",
    "\n",
    "> Following the corresponding $D^2NN$ design, the axial distance between two successive 3D-printed layers was set to be $3.0$ $cm$...\n",
    "\n",
    "> The distance between detector/output plane and the last layer of the optical neural network was adjusted as $3$ $cm$...\n",
    "\n",
    "#### <span style=\"color:red\">Additional information</span>\n",
    "\n",
    "From [[2]](https://ieeexplore.ieee.org/abstract/document/8732486):\n",
    "\n",
    "> ... the axial distance between the successive diffractive layers is set to be $\\sim 40 \\times \\lambda$ as in [[1]](https://www.science.org/doi/10.1126/science.aat8084) ..."
   ]
  },
  {
   "cell_type": "markdown",
   "metadata": {},
   "source": [
    "**<span style=\"color:red\">Difference.</span>** You can use an another number of diffractive layers (for phase-only training)!"
   ]
  },
  {
   "cell_type": "code",
   "execution_count": 31,
   "metadata": {},
   "outputs": [],
   "source": [
    "NUM_OF_DIFF_LAYERS = 5  # number of diffractive layers\n",
    "FREE_SPACE_DISTANCE = 40 * working_wavelength  # [m] - distance between difractive layers"
   ]
  },
  {
   "cell_type": "code",
   "execution_count": 32,
   "metadata": {},
   "outputs": [
    {
     "name": "stdout",
     "output_type": "stream",
     "text": [
      "Distance between layers is 2.998 cm\n"
     ]
    }
   ],
   "source": [
    "print(f'Distance between layers is {FREE_SPACE_DISTANCE * 1e2:.3f} cm')"
   ]
  },
  {
   "cell_type": "code",
   "execution_count": null,
   "metadata": {},
   "outputs": [],
   "source": []
  },
  {
   "cell_type": "markdown",
   "metadata": {},
   "source": [
    "## 3.1. Architecture\n",
    "\n",
    "See Figure 2A from [[1]](https://www.science.org/doi/10.1126/science.aat8084).\n",
    "\n",
    "See Figure 1(a) from [[2]](https://ieeexplore.ieee.org/abstract/document/8732486)."
   ]
  },
  {
   "cell_type": "markdown",
   "metadata": {},
   "source": [
    "### 3.1.1. List of Elements"
   ]
  },
  {
   "cell_type": "code",
   "execution_count": 33,
   "metadata": {},
   "outputs": [],
   "source": [
    "MAX_PHASE = 2 * np.pi  # max phase for phase masks"
   ]
  },
  {
   "cell_type": "markdown",
   "metadata": {},
   "source": [
    "**<span style=\"color:red\">Information from [1,2]: </span>**\n",
    "> a $5$-layer, phase-only (complex-valued) diffractive optical network ..."
   ]
  },
  {
   "cell_type": "markdown",
   "metadata": {},
   "source": [
    "**<span style=\"color:red\">Difference.</span>** An another method for `FreeSpace`'s in contrast to [2]!"
   ]
  },
  {
   "cell_type": "code",
   "execution_count": 34,
   "metadata": {},
   "outputs": [],
   "source": [
    "FREESPACE_METHOD = 'AS'  # we use another method in contrast to [2]!!!"
   ]
  },
  {
   "cell_type": "markdown",
   "metadata": {},
   "source": [
    "**<span style=\"color:red\">Information from [2]: </span>**\n",
    "> a diffractive layer ... neurons ... were initialized with $\\pi$ for phase values and $1$ for amplitude values ..."
   ]
  },
  {
   "cell_type": "code",
   "execution_count": 35,
   "metadata": {},
   "outputs": [],
   "source": [
    "INIT_PHASES = torch.ones(NUM_OF_DIFF_LAYERS) * np.pi  # initial values for phase masks"
   ]
  },
  {
   "cell_type": "code",
   "execution_count": null,
   "metadata": {},
   "outputs": [],
   "source": []
  },
  {
   "cell_type": "markdown",
   "metadata": {},
   "source": [
    "**<span style=\"color:red\">Comment</span>**\n",
    "\n",
    "Here we are using a default `ConstrainedParameter` which is using the sigmoid function to limit a parameter range.\n",
    "\n",
    "In [[2]](https://ieeexplore.ieee.org/abstract/document/8732486) authors discuss such approach in the section Results and Discussion A. and underline that limiting parameters with the sigmoid function may lead to Vanishing Gradients. Authors also propose an another way to limit parameters - by using ReLU.\n",
    "\n",
    "In our case the sigmoid function works well but it is possible to realize the ReLU approach via specifying `bound_func` for `Constrained Parameter` (<span style=\"color:red\">examples of customizing `bound_func` are provided in ...</span>)."
   ]
  },
  {
   "cell_type": "code",
   "execution_count": 36,
   "metadata": {},
   "outputs": [],
   "source": [
    "# functions that return single elements for further architecture\n",
    "\n",
    "def get_free_space(\n",
    "    freespace_sim_params,\n",
    "    freespace_distance,  # in [m]!\n",
    "    freespace_method='AS',\n",
    "):\n",
    "    \"\"\"\n",
    "    Returns FreeSpace layer with a bounded distance parameter.\n",
    "    \"\"\"\n",
    "    return elements.FreeSpace(\n",
    "        simulation_parameters=freespace_sim_params,\n",
    "        distance=freespace_distance,  # distance is not learnable!\n",
    "        method=freespace_method\n",
    "    )\n",
    "\n",
    "\n",
    "def get_const_phase_layer(\n",
    "    sim_params: SimulationParameters,\n",
    "    value, max_phase=2 * torch.pi\n",
    "):\n",
    "    \"\"\"\n",
    "    Returns DiffractiveLayer with a constant phase mask.\n",
    "    \"\"\"\n",
    "    x_nodes, y_nodes = sim_params.axes_size(axs=('W', 'H'))\n",
    "\n",
    "    const_mask = torch.ones(size=(y_nodes, x_nodes)) * value\n",
    "\n",
    "    return elements.DiffractiveLayer(\n",
    "        simulation_parameters=sim_params,\n",
    "        mask=ConstrainedParameter(\n",
    "            const_mask,\n",
    "            min_value=0,\n",
    "            max_value=max_phase\n",
    "        ),  # HERE WE ARE USING CONSTRAINED PARAMETER!\n",
    "    )  # ATTENTION TO DOCUMENTATION!"
   ]
  },
  {
   "cell_type": "code",
   "execution_count": 37,
   "metadata": {},
   "outputs": [],
   "source": [
    "def get_const_phase_layer_no_train(\n",
    "    sim_params: SimulationParameters,\n",
    "    value\n",
    "):\n",
    "    \"\"\"\n",
    "    Returns DiffractiveLayer with a constant phase mask.\n",
    "    \"\"\"\n",
    "    x_nodes, y_nodes = sim_params.axes_size(axs=('W', 'H'))\n",
    "\n",
    "    const_mask = torch.ones(size=(y_nodes, x_nodes)) * value\n",
    "\n",
    "    return elements.DiffractiveLayer(\n",
    "        simulation_parameters=sim_params,\n",
    "        mask=const_mask,  # HERE WE ARE USING CONSTRAINED PARAMETER!\n",
    "    )  # ATTENTION TO DOCUMENTATION!"
   ]
  },
  {
   "cell_type": "markdown",
   "metadata": {},
   "source": [
    "Function to construct a list of elements to reproduce an architecture from [the extended article](https://ieeexplore.ieee.org/abstract/document/8732486):"
   ]
  },
  {
   "cell_type": "code",
   "execution_count": 38,
   "metadata": {},
   "outputs": [],
   "source": [
    "def get_elements_list(\n",
    "    num_layers,\n",
    "    num_layers_no_train,\n",
    "    simulation_parameters,\n",
    "    freespace_method,\n",
    "    phase_values,\n",
    "):\n",
    "    \"\"\"\n",
    "    Composes a list of elements for the setup.\n",
    "    ...\n",
    "\n",
    "    Parameters\n",
    "    ----------\n",
    "    num_layers : int\n",
    "        Number of layers in the system.\n",
    "    simulation_parameters : SimulationParameters()\n",
    "        A simulation parameters for a task.\n",
    "    freespace_method : str\n",
    "        Propagation method for free spaces in a setup.\n",
    "    phase_values : torch.Tensor()\n",
    "        Torch tensor of phase values to generate constant masks for diffractive layers.\n",
    "\n",
    "    Returns\n",
    "    -------\n",
    "    elements_list : list(Element)\n",
    "        List of Elements for an optical setup.\n",
    "    \"\"\"\n",
    "    elements_list = []  # list of elements\n",
    "\n",
    "    # first FreeSpace layer before first DiffractiveLayer\n",
    "    elements_list.append(\n",
    "        get_free_space(\n",
    "            simulation_parameters,  # simulation parameters for the notebook\n",
    "            FREE_SPACE_DISTANCE,  # in [m]\n",
    "            freespace_method=freespace_method,\n",
    "        )\n",
    "    )\n",
    "\n",
    "    # compose the architecture\n",
    "    for ind_layer in range(num_layers):\n",
    "\n",
    "        # -----------------------------------------------------------------------\n",
    "        # add DiffractiveLayer (learnable phase mask)\n",
    "        elements_list.append(\n",
    "            get_const_phase_layer(\n",
    "                simulation_parameters,  # simulation parameters for the notebook\n",
    "                value=phase_values[ind_layer].item(),\n",
    "                max_phase=MAX_PHASE\n",
    "            )\n",
    "        )\n",
    "        # -----------------------------------------------------------------------\n",
    "\n",
    "        # add FreeSpace\n",
    "        elements_list.append(\n",
    "            get_free_space(\n",
    "                simulation_parameters,  # simulation parameters for the notebook\n",
    "                FREE_SPACE_DISTANCE,  # in [m]\n",
    "                freespace_method=freespace_method,\n",
    "            )\n",
    "        )\n",
    "\n",
    "    for ind_layer in range(num_layers_no_train):\n",
    "\n",
    "        # -----------------------------------------------------------------------\n",
    "        # add DiffractiveLayer (untrained phase mask)\n",
    "        elements_list.append(\n",
    "            get_const_phase_layer_no_train(\n",
    "                simulation_parameters,  # simulation parameters for the notebook\n",
    "                value=phase_values[(ind_layer % (num_layers))].item()\n",
    "            )\n",
    "        )\n",
    "        # -----------------------------------------------------------------------\n",
    "\n",
    "        # add FreeSpace\n",
    "        elements_list.append(\n",
    "            get_free_space(\n",
    "                simulation_parameters,  # simulation parameters for the notebook\n",
    "                FREE_SPACE_DISTANCE,  # in [m]\n",
    "                freespace_method=freespace_method,\n",
    "            )\n",
    "        )\n",
    "\n",
    "    # ---------------------------------------------------------------------------\n",
    "    # add Detector in the end of the system!\n",
    "    elements_list.append(\n",
    "        Detector(\n",
    "            simulation_parameters=simulation_parameters,\n",
    "            func='intensity'  # detector that returns intensity\n",
    "        )\n",
    "    )\n",
    "\n",
    "    return elements_list"
   ]
  },
  {
   "cell_type": "code",
   "execution_count": 39,
   "metadata": {},
   "outputs": [],
   "source": [
    "NUM_OF_DIFF_LAYERS_NO_TRAIN = 507"
   ]
  },
  {
   "cell_type": "code",
   "execution_count": 40,
   "metadata": {},
   "outputs": [
    {
     "name": "stdout",
     "output_type": "stream",
     "text": [
      "Number of elements in the system (including Detector): 1026\n"
     ]
    }
   ],
   "source": [
    "architecture_elements_list = get_elements_list(\n",
    "    num_layers=NUM_OF_DIFF_LAYERS,\n",
    "    num_layers_no_train=NUM_OF_DIFF_LAYERS_NO_TRAIN,\n",
    "    simulation_parameters=SIM_PARAMS,\n",
    "    freespace_method=FREESPACE_METHOD,\n",
    "    phase_values=INIT_PHASES,\n",
    ")\n",
    "\n",
    "print(f'Number of elements in the system (including Detector): {len(architecture_elements_list)}')"
   ]
  },
  {
   "cell_type": "code",
   "execution_count": null,
   "metadata": {},
   "outputs": [],
   "source": []
  },
  {
   "cell_type": "markdown",
   "metadata": {},
   "source": [
    "### 3.1.2. Compose `LinearOpticalSetup`"
   ]
  },
  {
   "cell_type": "code",
   "execution_count": 41,
   "metadata": {},
   "outputs": [],
   "source": [
    "def get_setup(simulation_parameters):\n",
    "    \"\"\"\n",
    "    Returns an optical setup. Recreates all elements.\n",
    "    \"\"\"\n",
    "    elements_list = get_elements_list(\n",
    "        num_layers=NUM_OF_DIFF_LAYERS,\n",
    "        num_layers_no_train=NUM_OF_DIFF_LAYERS_NO_TRAIN,\n",
    "        simulation_parameters=SIM_PARAMS,\n",
    "        freespace_method=FREESPACE_METHOD,\n",
    "        phase_values=INIT_PHASES,\n",
    "    )  # recreate a list of elements\n",
    "\n",
    "    return LinearOpticalSetup(elements=elements_list)"
   ]
  },
  {
   "cell_type": "code",
   "execution_count": 42,
   "metadata": {},
   "outputs": [],
   "source": [
    "def get_setup_upd(num_layers_no_train):\n",
    "    \"\"\"\n",
    "    Returns an optical setup. Recreates all elements.\n",
    "    \"\"\"\n",
    "    elements_list = get_elements_list(\n",
    "        num_layers=NUM_OF_DIFF_LAYERS,\n",
    "        num_layers_no_train=num_layers_no_train,\n",
    "        simulation_parameters=SIM_PARAMS,\n",
    "        freespace_method=FREESPACE_METHOD,\n",
    "        phase_values=INIT_PHASES,\n",
    "    )  # recreate a list of elements\n",
    "\n",
    "    return LinearOpticalSetup(elements=elements_list)"
   ]
  },
  {
   "cell_type": "code",
   "execution_count": null,
   "metadata": {},
   "outputs": [],
   "source": []
  },
  {
   "cell_type": "code",
   "execution_count": 43,
   "metadata": {},
   "outputs": [],
   "source": [
    "# create an optical setup\n",
    "optical_setup = get_setup_upd(NUM_OF_DIFF_LAYERS_NO_TRAIN)"
   ]
  },
  {
   "cell_type": "markdown",
   "metadata": {},
   "source": [
    "**<span style=\"color:red\">Comment:</span>** Setup ends with `Detector` that returns an output tensor of intensities for each input `Wavefront`."
   ]
  },
  {
   "cell_type": "code",
   "execution_count": null,
   "metadata": {},
   "outputs": [],
   "source": []
  },
  {
   "cell_type": "markdown",
   "metadata": {},
   "source": [
    "#### Example of a wavefrnt propagation"
   ]
  },
  {
   "cell_type": "code",
   "execution_count": 44,
   "metadata": {},
   "outputs": [],
   "source": [
    "example_wf = mnist_wf_train_ds[128][0]"
   ]
  },
  {
   "cell_type": "code",
   "execution_count": 45,
   "metadata": {},
   "outputs": [],
   "source": [
    "setup_scheme, wavefronts = optical_setup.stepwise_forward(example_wf)"
   ]
  },
  {
   "cell_type": "code",
   "execution_count": null,
   "metadata": {},
   "outputs": [],
   "source": []
  },
  {
   "cell_type": "markdown",
   "metadata": {},
   "source": [
    "### 3.1.3 Detector processor (to calculate accuracies only)\n",
    "\n",
    "> ... size of these detectors $(6.4 \\lambda \\times 6.4 \\lambda)$ ...\n",
    "\n",
    "**<span style=\"color:red\">Comment:</span>** `DetectorProcessor` in our library is used to process an information on detector. For example, for the current task `DetectorProcessor` must return only 10 values (1 value per 1 class)."
   ]
  },
  {
   "cell_type": "code",
   "execution_count": 46,
   "metadata": {},
   "outputs": [],
   "source": [
    "CALCULATE_ACCURACIES = True  # if False, accuracies will not be calculated!"
   ]
  },
  {
   "cell_type": "code",
   "execution_count": 47,
   "metadata": {},
   "outputs": [],
   "source": [
    "# create a DetectorProcessorOzcanClf object\n",
    "if CALCULATE_ACCURACIES:\n",
    "    detector_processor = DetectorProcessorClf(\n",
    "        simulation_parameters=SIM_PARAMS,\n",
    "        num_classes=number_of_classes,\n",
    "        segmented_detector=DETECTOR_MASK,\n",
    "    )\n",
    "else:\n",
    "    detector_processor = None"
   ]
  },
  {
   "cell_type": "code",
   "execution_count": null,
   "metadata": {},
   "outputs": [],
   "source": []
  },
  {
   "cell_type": "markdown",
   "metadata": {},
   "source": [
    "# 4. Training of the network\n",
    "\n",
    "Variables at the moment\n",
    "- `lin_optical_setup` : `LinearOpticalSetup` – a linear optical network composed of Elements\n",
    "- `detector_processor` : `DetectorProcessorClf` – this layer process an image from the detector and calculates probabilities of belonging to classes."
   ]
  },
  {
   "cell_type": "code",
   "execution_count": 48,
   "metadata": {},
   "outputs": [],
   "source": [
    "DEVICE = 'cuda'  # 'mps' is not support a CrossEntropyLoss"
   ]
  },
  {
   "cell_type": "markdown",
   "metadata": {},
   "source": [
    "## 4.1. Prepare some stuff for training"
   ]
  },
  {
   "cell_type": "markdown",
   "metadata": {},
   "source": [
    "### 4.1.1. `DataLoader`'s\n",
    "\n",
    "Info from a supplementary material of [[1]](https://www.science.org/doi/suppl/10.1126/science.aat8084/suppl_file/aat8084-lin-sm-rev-3.pdf) for MNIST classification:\n",
    "\n",
    "> The training batch size was set to be $8$..."
   ]
  },
  {
   "cell_type": "code",
   "execution_count": 49,
   "metadata": {},
   "outputs": [],
   "source": [
    "train_bs = 128  # a batch size for training set\n",
    "val_bs = 64"
   ]
  },
  {
   "cell_type": "markdown",
   "metadata": {},
   "source": [
    "> Forthis task, phase-only transmission masks weredesigned by training a five-layer $D^2 NN$ with $55000$ images ($5000$ validation images) from theMNIST (Modified National Institute of Stan-dards and Technology) handwritten digit data-base."
   ]
  },
  {
   "cell_type": "code",
   "execution_count": 50,
   "metadata": {},
   "outputs": [],
   "source": [
    "# mnist_wf_train_ds\n",
    "train_wf_ds, val_wf_ds = torch.utils.data.random_split(\n",
    "    dataset=mnist_wf_train_ds,\n",
    "    lengths=[55000, 5000],  # sizes from the article\n",
    "    generator=torch.Generator().manual_seed(178)  # for reproducibility\n",
    ")"
   ]
  },
  {
   "cell_type": "code",
   "execution_count": 51,
   "metadata": {},
   "outputs": [],
   "source": [
    "train_wf_loader = torch.utils.data.DataLoader(\n",
    "    train_wf_ds,\n",
    "    batch_size=train_bs,\n",
    "    shuffle=True,\n",
    "    # num_workers=2,\n",
    "    drop_last=False,\n",
    ")\n",
    "\n",
    "val_wf_loader = torch.utils.data.DataLoader(\n",
    "    val_wf_ds,\n",
    "    batch_size=val_bs,\n",
    "    shuffle=False,\n",
    "    # num_workers=2,\n",
    "    drop_last=False,\n",
    ")"
   ]
  },
  {
   "cell_type": "code",
   "execution_count": null,
   "metadata": {},
   "outputs": [],
   "source": []
  },
  {
   "cell_type": "markdown",
   "metadata": {},
   "source": [
    "### 4.1.2. Optimizer and loss function\n",
    "\n",
    "Info from a supplementary material of [[1]](https://www.science.org/doi/suppl/10.1126/science.aat8084/suppl_file/aat8084-lin-sm-rev-3.pdf) for MNIST classification:\n",
    "\n",
    "> We used the stochastic gradient descent algorithm, Adam, to back-propagate the errors and update the\n",
    "layers of the network to minimize the loss function.\n",
    "\n",
    "**<span style=\"color:red\">Additional info</span>** from [[2]](https://ieeexplore.ieee.org/abstract/document/8732486):\n",
    "> a back-propagation method by applying the adaptive moment estimation optimizer (Adam) with a learning rate of $10^{−3}$"
   ]
  },
  {
   "cell_type": "code",
   "execution_count": 52,
   "metadata": {},
   "outputs": [],
   "source": [
    "LR = 1e-3"
   ]
  },
  {
   "cell_type": "code",
   "execution_count": 53,
   "metadata": {},
   "outputs": [],
   "source": [
    "def get_adam_optimizer(net):\n",
    "    return torch.optim.Adam(\n",
    "        params=net.parameters(),  # NETWORK PARAMETERS!\n",
    "        lr=LR\n",
    "    )"
   ]
  },
  {
   "cell_type": "markdown",
   "metadata": {},
   "source": [
    "**<span style=\"color:red\">Comment:</span>** We are using `MSELoss` as in [1] (that was clarified in [2])! "
   ]
  },
  {
   "cell_type": "code",
   "execution_count": 54,
   "metadata": {},
   "outputs": [],
   "source": [
    "loss_func_clf = nn.MSELoss()  # by default: reduction='mean'\n",
    "loss_func_name = 'MSE'"
   ]
  },
  {
   "cell_type": "markdown",
   "metadata": {},
   "source": [
    "## 4.2. Training of the optical network"
   ]
  },
  {
   "cell_type": "markdown",
   "metadata": {},
   "source": [
    "### 4.2.1. Before training"
   ]
  },
  {
   "cell_type": "markdown",
   "metadata": {},
   "source": [
    "> a diffractive layer ... neurons ... were initialized with $\\pi$ for phase values and $1$ for amplitude values ..."
   ]
  },
  {
   "cell_type": "markdown",
   "metadata": {},
   "source": [
    "#### Metrics for Test dataset"
   ]
  },
  {
   "cell_type": "code",
   "execution_count": 55,
   "metadata": {},
   "outputs": [],
   "source": [
    "test_wf_loader = torch.utils.data.DataLoader(\n",
    "    mnist_wf_test_ds,\n",
    "    batch_size=10,\n",
    "    shuffle=False,\n",
    "    # num_workers=2,\n",
    "    drop_last=False,\n",
    ")  # data loader for a test MNIST data"
   ]
  },
  {
   "cell_type": "code",
   "execution_count": 56,
   "metadata": {},
   "outputs": [],
   "source": [
    "optical_setup.net = optical_setup.net.to(DEVICE)\n",
    "SIM_PARAMS = SIM_PARAMS.to(DEVICE)"
   ]
  },
  {
   "cell_type": "markdown",
   "metadata": {},
   "source": [
    "## 4.3. Forward Loop"
   ]
  },
  {
   "cell_type": "code",
   "execution_count": 57,
   "metadata": {},
   "outputs": [],
   "source": [
    "def onn_forward(\n",
    "    optical_net,\n",
    "    wavefronts_dataloader,\n",
    "    device='cpu',\n",
    "    show_process=False\n",
    "    ):\n",
    "    \"\"\"\n",
    "    Performs network's forward for all data.\n",
    "        NO DetectorProcessor\n",
    "        NO Loss\n",
    "    \"\"\"\n",
    "    optical_net.eval()  # activate 'eval' mode of a model\n",
    "\n",
    "    for batch_wavefronts, batch_labels in tqdm(\n",
    "        wavefronts_dataloader,\n",
    "        total=len(wavefronts_dataloader),\n",
    "        desc='validation', position=0,\n",
    "        leave=True, disable=not show_process\n",
    "    ):  # go by batches\n",
    "        # batch_wavefronts - input wavefronts, batch_labels - labels\n",
    "        batch_size = batch_wavefronts.size()[0]\n",
    "\n",
    "        # Pin memory for faster transfer to GPU\n",
    "        batch_wavefronts = batch_wavefronts.pin_memory().to(device, non_blocking=True)\n",
    "        batch_labels = batch_labels.pin_memory().to(device, non_blocking=True)\n",
    "\n",
    "        with torch.no_grad():\n",
    "            # ONLY FORWARD!\n",
    "            detector_output  = optical_net(batch_wavefronts)"
   ]
  },
  {
   "cell_type": "markdown",
   "metadata": {},
   "source": [
    "## 4.4. DEVICE = GPU"
   ]
  },
  {
   "cell_type": "code",
   "execution_count": 58,
   "metadata": {},
   "outputs": [],
   "source": [
    "DEVICE = \"cuda\""
   ]
  },
  {
   "cell_type": "code",
   "execution_count": 59,
   "metadata": {},
   "outputs": [],
   "source": [
    "optical_setup.net = optical_setup.net.to(DEVICE)\n",
    "SIM_PARAMS = SIM_PARAMS.to(DEVICE)"
   ]
  },
  {
   "cell_type": "markdown",
   "metadata": {},
   "source": [
    "PROFILING WITH CHOOSEN DEVICE"
   ]
  },
  {
   "cell_type": "code",
   "execution_count": 60,
   "metadata": {},
   "outputs": [],
   "source": [
    "# # speed test just for forward on train set\n",
    "# with Profile() as profile:\n",
    "#     onn_forward(\n",
    "#         optical_setup.net,  # optical network composed in 3.\n",
    "#         train_wf_loader,  # dataloader of training set\n",
    "#         device=DEVICE,\n",
    "#         show_process=True,\n",
    "#     )\n",
    "#     Stats(profile).sort_stats(SortKey.CUMULATIVE).print_stats(30)"
   ]
  },
  {
   "cell_type": "code",
   "execution_count": 62,
   "metadata": {},
   "outputs": [
    {
     "name": "stderr",
     "output_type": "stream",
     "text": [
      "validation: 100%|██████████| 1718/1718 [01:49<00:00, 15.66it/s]\n",
      "validation: 100%|██████████| 859/859 [01:43<00:00,  8.29it/s]\n",
      "validation: 100%|██████████| 214/214 [01:34<00:00,  2.26it/s]\n",
      "validation: 100%|██████████| 107/107 [01:39<00:00,  1.08it/s]\n",
      "validation: 100%|██████████| 53/53 [01:42<00:00,  1.94s/it]\n"
     ]
    }
   ],
   "source": [
    "params = [\n",
    "    {\n",
    "        'pin_memory': True,\n",
    "        'drop_last': True,\n",
    "    },\n",
    "]\n",
    "\n",
    "# cpu_times = {}\n",
    "gpu_times = {}\n",
    "batch_sizes = [32, 64, 256, 512, 1024]\n",
    "\n",
    "for i, param in enumerate(params):\n",
    "    # cpu_times_ = []\n",
    "    gpu_times_ = []\n",
    "\n",
    "    # cpu_times[i] = cpu_times_\n",
    "    gpu_times[i] = gpu_times_\n",
    "\n",
    "    for bs in batch_sizes:\n",
    "        train_loader = torch.utils.data.DataLoader(\n",
    "            train_wf_ds,\n",
    "            batch_size=bs,\n",
    "            **param\n",
    "\n",
    "        )\n",
    "\n",
    "        SIM_PARAMS = SIM_PARAMS.to('cuda')\n",
    "\n",
    "        optical_setup = get_setup_upd(2)\n",
    "\n",
    "        net = optical_setup.net.to('cuda')\n",
    "        start = time.process_time()\n",
    "        onn_forward(\n",
    "            net,  # optical network composed in 3.\n",
    "            train_loader,  # dataloader of training set\n",
    "            device='cuda',\n",
    "            show_process=True,\n",
    "        )\n",
    "        gpu_times_.append(time.process_time() - start)\n",
    "        torch.cuda.empty_cache()"
   ]
  },
  {
   "cell_type": "code",
   "execution_count": 63,
   "metadata": {},
   "outputs": [
    {
     "data": {
      "text/plain": [
       "<matplotlib.legend.Legend at 0x1f28f91f3d0>"
      ]
     },
     "execution_count": 63,
     "metadata": {},
     "output_type": "execute_result"
    },
    {
     "data": {
      "image/png": "[encoded data removed]",
      "text/plain": [
       "<Figure size 600x300 with 1 Axes>"
      ]
     },
     "metadata": {},
     "output_type": "display_data"
    }
   ],
   "source": [
    "plt.figure(figsize=(6, 3))\n",
    "# plt.plot(batch_sizes, cpu_times[0], '-o', label='cpu')\n",
    "plt.plot(batch_sizes, gpu_times[0], '-o', label='gpu')\n",
    "# plt.yscale('log')\n",
    "# plt.xscale('log')\n",
    "plt.xlabel('bs')\n",
    "plt.ylabel('time, s')\n",
    "plt.legend()"
   ]
  },
  {
   "cell_type": "markdown",
   "metadata": {},
   "source": [
    "## 4.5. DEVICE = CPU"
   ]
  },
  {
   "cell_type": "code",
   "execution_count": 64,
   "metadata": {},
   "outputs": [],
   "source": [
    "DEVICE = \"cpu\"\n",
    "optical_setup.net = optical_setup.net.to(DEVICE)\n",
    "SIM_PARAMS = SIM_PARAMS.to(DEVICE)"
   ]
  },
  {
   "cell_type": "code",
   "execution_count": 65,
   "metadata": {},
   "outputs": [],
   "source": [
    "# speed test just for forward on train set\n",
    "# with Profile() as profile:\n",
    "#     onn_forward(\n",
    "#         optical_setup.net,  # optical network composed in 3.\n",
    "#         train_wf_loader,  # dataloader of training set\n",
    "#         device=DEVICE,\n",
    "#         show_process=True,\n",
    "#     )\n",
    "#     Stats(profile).sort_stats(SortKey.CUMULATIVE).print_stats(30)"
   ]
  },
  {
   "cell_type": "code",
   "execution_count": 68,
   "metadata": {},
   "outputs": [
    {
     "name": "stderr",
     "output_type": "stream",
     "text": [
      "validation:   0%|          | 0/1718 [00:00<?, ?it/s]"
     ]
    },
    {
     "name": "stderr",
     "output_type": "stream",
     "text": [
      "validation: 100%|██████████| 1718/1718 [05:48<00:00,  4.93it/s]\n",
      "validation: 100%|██████████| 859/859 [05:23<00:00,  2.65it/s]\n",
      "validation: 100%|██████████| 214/214 [06:58<00:00,  1.96s/it]\n",
      "validation: 100%|██████████| 107/107 [06:41<00:00,  3.76s/it]\n",
      "validation: 100%|██████████| 53/53 [06:19<00:00,  7.16s/it]\n"
     ]
    }
   ],
   "source": [
    "params = [\n",
    "    {\n",
    "        'pin_memory': True,\n",
    "        'drop_last': True,\n",
    "    },\n",
    "]\n",
    "\n",
    "cpu_times = {}\n",
    "# gpu_times = {}\n",
    "batch_sizes = [32, 64, 256, 512, 1024]\n",
    "\n",
    "for i, param in enumerate(params):\n",
    "    cpu_times_ = []\n",
    "    # gpu_times_ = []\n",
    "\n",
    "    cpu_times[i] = cpu_times_\n",
    "    # gpu_times[i] = gpu_times_\n",
    "\n",
    "    for bs in batch_sizes:\n",
    "        train_loader = torch.utils.data.DataLoader(\n",
    "            train_wf_ds,\n",
    "            batch_size=bs,\n",
    "            **param\n",
    "\n",
    "        )\n",
    "\n",
    "        SIM_PARAMS = SIM_PARAMS.to('cpu')\n",
    "\n",
    "        optical_setup = get_setup_upd(2)\n",
    "\n",
    "\n",
    "        net = optical_setup.net.to('cpu')\n",
    "        start = time.process_time()\n",
    "        onn_forward(\n",
    "            net,  # optical network composed in 3.\n",
    "            train_loader,  # dataloader of training set\n",
    "            device='cpu',\n",
    "            show_process=True,\n",
    "        )\n",
    "        cpu_times_.append(time.process_time() - start)"
   ]
  },
  {
   "cell_type": "code",
   "execution_count": 69,
   "metadata": {},
   "outputs": [
    {
     "data": {
      "text/plain": [
       "<matplotlib.legend.Legend at 0x1f2cc67f3d0>"
      ]
     },
     "execution_count": 69,
     "metadata": {},
     "output_type": "execute_result"
    },
    {
     "data": {
      "image/png": "[encoded data removed]",
      "text/plain": [
       "<Figure size 600x300 with 1 Axes>"
      ]
     },
     "metadata": {},
     "output_type": "display_data"
    }
   ],
   "source": [
    "plt.figure(figsize=(6, 3))\n",
    "plt.plot(batch_sizes, cpu_times[0], '-o', label='cpu')\n",
    "# plt.plot(batch_sizes, gpu_times[0], '-o', label='gpu')\n",
    "plt.yscale('log')\n",
    "plt.xscale('log')\n",
    "plt.xlabel('bs')\n",
    "plt.ylabel('time, s')\n",
    "plt.legend()"
   ]
  },
  {
   "cell_type": "markdown",
   "metadata": {},
   "source": [
    "## 4.6 COMPARING CPU AND GPU"
   ]
  },
  {
   "cell_type": "code",
   "execution_count": 70,
   "metadata": {},
   "outputs": [
    {
     "data": {
      "text/plain": [
       "<matplotlib.legend.Legend at 0x1f2d4ba0410>"
      ]
     },
     "execution_count": 70,
     "metadata": {},
     "output_type": "execute_result"
    },
    {
     "data": {
      "image/png": "[encoded data removed]",
      "text/plain": [
       "<Figure size 600x300 with 1 Axes>"
      ]
     },
     "metadata": {},
     "output_type": "display_data"
    }
   ],
   "source": [
    "plt.figure(figsize=(6, 3))\n",
    "plt.title('Forward pass time: grid' + rf\"${DETECTOR_SIZE[0]}\\times{DETECTOR_SIZE[1]}$\")\n",
    "plt.plot(batch_sizes, cpu_times[0], '-o', label='cpu', color=\"blue\")\n",
    "plt.plot(batch_sizes, gpu_times[0], '-o', label='gpu', color=\"red\")\n",
    "plt.yscale('log')\n",
    "plt.xscale('log')\n",
    "plt.xticks([2, 32, 64, 256, 512], [2, 32, 64, 256, 512])\n",
    "plt.xlabel('batch size')\n",
    "plt.ylabel('time, s')\n",
    "plt.legend()\n"
   ]
  },
  {
   "cell_type": "code",
   "execution_count": 78,
   "metadata": {},
   "outputs": [
    {
     "data": {
      "text/plain": [
       "<matplotlib.legend.Legend at 0x1f282118410>"
      ]
     },
     "execution_count": 78,
     "metadata": {},
     "output_type": "execute_result"
    },
    {
     "data": {
      "image/png": "[encoded data removed]",
      "text/plain": [
       "<Figure size 600x300 with 1 Axes>"
      ]
     },
     "metadata": {},
     "output_type": "display_data"
    }
   ],
   "source": [
    "plt.figure(figsize=(6, 3))\n",
    "plt.title(r'Forward pass time: grid $128\\times128$')\n",
    "plt.plot(batch_sizes,  np.array(cpu_times[0]) / np.array(gpu_times[0]), '-o', label='cpu/gpu', color=\"green\")\n",
    "# plt.plot(batch_sizes, , '-o', label='gpu', color=\"red\")\n",
    "plt.yscale('log')\n",
    "plt.xscale('log')\n",
    "plt.xticks([32, 64, 256, 512, 1024], [32, 64, 256, 512, 1024])\n",
    "plt.xlabel('batch size')\n",
    "plt.ylabel('time, s')\n",
    "plt.legend()"
   ]
  },
  {
   "cell_type": "code",
   "execution_count": 72,
   "metadata": {},
   "outputs": [
    {
     "name": "stdout",
     "output_type": "stream",
     "text": [
      "[1315.015625, 1237.46875, 1539.125, 1506.5, 1434.421875]\n",
      "[406.46875, 382.921875, 354.03125, 350.734375, 357.140625]\n"
     ]
    }
   ],
   "source": [
    "print(cpu_times[0])\n",
    "print(gpu_times[0])\n"
   ]
  },
  {
   "cell_type": "markdown",
   "metadata": {},
   "source": [
    "## 4.6 COMPARING CPU AND GPU WITH DIFFERENT GRIDS"
   ]
  },
  {
   "cell_type": "code",
   "execution_count": 73,
   "metadata": {},
   "outputs": [],
   "source": [
    "cpu_times_128 = np.array([1315.03, 504.66, 467.03, 386.58, 366.36])\n",
    "gpu_times_128 = np.array([1109.91, 253.56, 206.14, 187.92, 180.72])"
   ]
  },
  {
   "cell_type": "code",
   "execution_count": 79,
   "metadata": {},
   "outputs": [
    {
     "data": {
      "text/plain": [
       "<matplotlib.legend.Legend at 0x1f282304510>"
      ]
     },
     "execution_count": 79,
     "metadata": {},
     "output_type": "execute_result"
    },
    {
     "data": {
      "image/png": "[encoded data removed]",
      "text/plain": [
       "<Figure size 600x300 with 1 Axes>"
      ]
     },
     "metadata": {},
     "output_type": "display_data"
    }
   ],
   "source": [
    "plt.figure(figsize=(6, 3))\n",
    "# plt.title(r'Forward pass time: grid $128\\times128$')\n",
    "plt.plot(batch_sizes, cpu_times[0], '-o', label=r'cpu$256\\times256$', color=\"blue\")\n",
    "plt.plot(batch_sizes, gpu_times[0], '-o', label=r'gpu$256\\times256$', color=\"red\")\n",
    "# plt.plot(batch_sizes, cpu_times_128, '--s', label=r'cpu$128\\times128$', color=\"blue\")\n",
    "# plt.plot(batch_sizes, gpu_times_128, '--s', label=r'gpu$256\\times128$', color=\"red\")\n",
    "plt.yscale('log')\n",
    "plt.xscale('log')\n",
    "plt.xticks([32, 64, 256, 512], [32, 64, 256, 512])\n",
    "plt.xlabel('batch size')\n",
    "plt.ylabel('time, s')\n",
    "plt.legend()"
   ]
  },
  {
   "cell_type": "code",
   "execution_count": 80,
   "metadata": {},
   "outputs": [
    {
     "data": {
      "text/plain": [
       "<matplotlib.legend.Legend at 0x1f2823b0c10>"
      ]
     },
     "execution_count": 80,
     "metadata": {},
     "output_type": "execute_result"
    },
    {
     "data": {
      "image/png": "[encoded data removed]",
      "text/plain": [
       "<Figure size 600x300 with 1 Axes>"
      ]
     },
     "metadata": {},
     "output_type": "display_data"
    }
   ],
   "source": [
    "plt.figure(figsize=(6, 3))\n",
    "plt.title('Forward pass time')\n",
    "plt.plot(batch_sizes,  np.array(cpu_times[0]) / np.array(gpu_times[0]), '-o', label=r'cpu/gpu, grid $256\\times256$', color=\"green\")\n",
    "plt.plot(batch_sizes,  np.array(cpu_times_128) / np.array(gpu_times_128), '-s', label=r'cpu/gpu, grid $128\\times128$', color=\"red\")\n",
    "# plt.plot(batch_sizes, , '-o', label='gpu', color=\"red\")\n",
    "# plt.yscale('log')\n",
    "# plt.xscale('log')\n",
    "plt.xticks([32, 64, 256, 512], [32, 64, 256, 512])\n",
    "plt.xlabel('batch size')\n",
    "plt.ylabel('time, s')\n",
    "plt.legend()"
   ]
  }
 ],
 "metadata": {
  "kernelspec": {
   "display_name": ".venv",
   "language": "python",
   "name": "python3"
  },
  "language_info": {
   "codemirror_mode": {
    "name": "ipython",
    "version": 3
   },
   "file_extension": ".py",
   "mimetype": "text/x-python",
   "name": "python",
   "nbconvert_exporter": "python",
   "pygments_lexer": "ipython3",
   "version": "3.11.4"
  }
 },
 "nbformat": 4,
 "nbformat_minor": 2
}
