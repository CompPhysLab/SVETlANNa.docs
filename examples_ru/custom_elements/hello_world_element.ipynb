{
 "cells": [
  {
   "cell_type": "code",
   "execution_count": null,
   "id": "f89cdffe",
   "metadata": {},
   "outputs": [
    {
     "name": "stdout",
     "output_type": "stream",
     "text": [
      "Requirement already satisfied: svetlanna in c:\\users\\gunne\\projects\\python\\dnn\\svetlanna.docs\\.venv\\lib\\site-packages (1.0.2)\n",
      "Requirement already satisfied: anywidget<0.10.0,>=0.9.13 in c:\\users\\gunne\\projects\\python\\dnn\\svetlanna.docs\\.venv\\lib\\site-packages (from svetlanna) (0.9.18)\n",
      "Requirement already satisfied: jinja2<4.0.0,>=3.1.6 in c:\\users\\gunne\\projects\\python\\dnn\\svetlanna.docs\\.venv\\lib\\site-packages (from svetlanna) (3.1.6)\n",
      "Requirement already satisfied: matplotlib<3.9.2 in c:\\users\\gunne\\projects\\python\\dnn\\svetlanna.docs\\.venv\\lib\\site-packages (from svetlanna) (3.9.1.post1)\n",
      "Requirement already satisfied: numpy<2.0 in c:\\users\\gunne\\projects\\python\\dnn\\svetlanna.docs\\.venv\\lib\\site-packages (from svetlanna) (1.26.4)\n",
      "Requirement already satisfied: ipywidgets>=7.6.0 in c:\\users\\gunne\\projects\\python\\dnn\\svetlanna.docs\\.venv\\lib\\site-packages (from anywidget<0.10.0,>=0.9.13->svetlanna) (8.1.5)\n",
      "Requirement already satisfied: psygnal>=0.8.1 in c:\\users\\gunne\\projects\\python\\dnn\\svetlanna.docs\\.venv\\lib\\site-packages (from anywidget<0.10.0,>=0.9.13->svetlanna) (0.12.0)\n",
      "Requirement already satisfied: typing-extensions>=4.2.0 in c:\\users\\gunne\\projects\\python\\dnn\\svetlanna.docs\\.venv\\lib\\site-packages (from anywidget<0.10.0,>=0.9.13->svetlanna) (4.13.0)\n",
      "Requirement already satisfied: MarkupSafe>=2.0 in c:\\users\\gunne\\projects\\python\\dnn\\svetlanna.docs\\.venv\\lib\\site-packages (from jinja2<4.0.0,>=3.1.6->svetlanna) (3.0.2)\n",
      "Requirement already satisfied: contourpy>=1.0.1 in c:\\users\\gunne\\projects\\python\\dnn\\svetlanna.docs\\.venv\\lib\\site-packages (from matplotlib<3.9.2->svetlanna) (1.3.1)\n",
      "Requirement already satisfied: cycler>=0.10 in c:\\users\\gunne\\projects\\python\\dnn\\svetlanna.docs\\.venv\\lib\\site-packages (from matplotlib<3.9.2->svetlanna) (0.12.1)\n",
      "Requirement already satisfied: fonttools>=4.22.0 in c:\\users\\gunne\\projects\\python\\dnn\\svetlanna.docs\\.venv\\lib\\site-packages (from matplotlib<3.9.2->svetlanna) (4.56.0)\n",
      "Requirement already satisfied: kiwisolver>=1.3.1 in c:\\users\\gunne\\projects\\python\\dnn\\svetlanna.docs\\.venv\\lib\\site-packages (from matplotlib<3.9.2->svetlanna) (1.4.8)\n",
      "Requirement already satisfied: packaging>=20.0 in c:\\users\\gunne\\projects\\python\\dnn\\svetlanna.docs\\.venv\\lib\\site-packages (from matplotlib<3.9.2->svetlanna) (24.2)\n",
      "Requirement already satisfied: pillow>=8 in c:\\users\\gunne\\projects\\python\\dnn\\svetlanna.docs\\.venv\\lib\\site-packages (from matplotlib<3.9.2->svetlanna) (11.1.0)\n",
      "Requirement already satisfied: pyparsing>=2.3.1 in c:\\users\\gunne\\projects\\python\\dnn\\svetlanna.docs\\.venv\\lib\\site-packages (from matplotlib<3.9.2->svetlanna) (3.2.3)\n",
      "Requirement already satisfied: python-dateutil>=2.7 in c:\\users\\gunne\\projects\\python\\dnn\\svetlanna.docs\\.venv\\lib\\site-packages (from matplotlib<3.9.2->svetlanna) (2.9.0.post0)\n",
      "Requirement already satisfied: comm>=0.1.3 in c:\\users\\gunne\\projects\\python\\dnn\\svetlanna.docs\\.venv\\lib\\site-packages (from ipywidgets>=7.6.0->anywidget<0.10.0,>=0.9.13->svetlanna) (0.2.2)\n",
      "Requirement already satisfied: ipython>=6.1.0 in c:\\users\\gunne\\projects\\python\\dnn\\svetlanna.docs\\.venv\\lib\\site-packages (from ipywidgets>=7.6.0->anywidget<0.10.0,>=0.9.13->svetlanna) (9.0.2)\n",
      "Requirement already satisfied: traitlets>=4.3.1 in c:\\users\\gunne\\projects\\python\\dnn\\svetlanna.docs\\.venv\\lib\\site-packages (from ipywidgets>=7.6.0->anywidget<0.10.0,>=0.9.13->svetlanna) (5.14.3)\n",
      "Requirement already satisfied: widgetsnbextension~=4.0.12 in c:\\users\\gunne\\projects\\python\\dnn\\svetlanna.docs\\.venv\\lib\\site-packages (from ipywidgets>=7.6.0->anywidget<0.10.0,>=0.9.13->svetlanna) (4.0.13)\n",
      "Requirement already satisfied: jupyterlab-widgets~=3.0.12 in c:\\users\\gunne\\projects\\python\\dnn\\svetlanna.docs\\.venv\\lib\\site-packages (from ipywidgets>=7.6.0->anywidget<0.10.0,>=0.9.13->svetlanna) (3.0.13)\n",
      "Requirement already satisfied: six>=1.5 in c:\\users\\gunne\\projects\\python\\dnn\\svetlanna.docs\\.venv\\lib\\site-packages (from python-dateutil>=2.7->matplotlib<3.9.2->svetlanna) (1.17.0)\n",
      "Requirement already satisfied: colorama in c:\\users\\gunne\\projects\\python\\dnn\\svetlanna.docs\\.venv\\lib\\site-packages (from ipython>=6.1.0->ipywidgets>=7.6.0->anywidget<0.10.0,>=0.9.13->svetlanna) (0.4.6)\n",
      "Requirement already satisfied: decorator in c:\\users\\gunne\\projects\\python\\dnn\\svetlanna.docs\\.venv\\lib\\site-packages (from ipython>=6.1.0->ipywidgets>=7.6.0->anywidget<0.10.0,>=0.9.13->svetlanna) (5.2.1)\n",
      "Requirement already satisfied: ipython-pygments-lexers in c:\\users\\gunne\\projects\\python\\dnn\\svetlanna.docs\\.venv\\lib\\site-packages (from ipython>=6.1.0->ipywidgets>=7.6.0->anywidget<0.10.0,>=0.9.13->svetlanna) (1.1.1)\n",
      "Requirement already satisfied: jedi>=0.16 in c:\\users\\gunne\\projects\\python\\dnn\\svetlanna.docs\\.venv\\lib\\site-packages (from ipython>=6.1.0->ipywidgets>=7.6.0->anywidget<0.10.0,>=0.9.13->svetlanna) (0.19.2)\n",
      "Requirement already satisfied: matplotlib-inline in c:\\users\\gunne\\projects\\python\\dnn\\svetlanna.docs\\.venv\\lib\\site-packages (from ipython>=6.1.0->ipywidgets>=7.6.0->anywidget<0.10.0,>=0.9.13->svetlanna) (0.1.7)\n",
      "Requirement already satisfied: prompt_toolkit<3.1.0,>=3.0.41 in c:\\users\\gunne\\projects\\python\\dnn\\svetlanna.docs\\.venv\\lib\\site-packages (from ipython>=6.1.0->ipywidgets>=7.6.0->anywidget<0.10.0,>=0.9.13->svetlanna) (3.0.50)\n",
      "Requirement already satisfied: pygments>=2.4.0 in c:\\users\\gunne\\projects\\python\\dnn\\svetlanna.docs\\.venv\\lib\\site-packages (from ipython>=6.1.0->ipywidgets>=7.6.0->anywidget<0.10.0,>=0.9.13->svetlanna) (2.19.1)\n",
      "Requirement already satisfied: stack_data in c:\\users\\gunne\\projects\\python\\dnn\\svetlanna.docs\\.venv\\lib\\site-packages (from ipython>=6.1.0->ipywidgets>=7.6.0->anywidget<0.10.0,>=0.9.13->svetlanna) (0.6.3)\n",
      "Requirement already satisfied: parso<0.9.0,>=0.8.4 in c:\\users\\gunne\\projects\\python\\dnn\\svetlanna.docs\\.venv\\lib\\site-packages (from jedi>=0.16->ipython>=6.1.0->ipywidgets>=7.6.0->anywidget<0.10.0,>=0.9.13->svetlanna) (0.8.4)\n",
      "Requirement already satisfied: wcwidth in c:\\users\\gunne\\projects\\python\\dnn\\svetlanna.docs\\.venv\\lib\\site-packages (from prompt_toolkit<3.1.0,>=3.0.41->ipython>=6.1.0->ipywidgets>=7.6.0->anywidget<0.10.0,>=0.9.13->svetlanna) (0.2.13)\n",
      "Requirement already satisfied: executing>=1.2.0 in c:\\users\\gunne\\projects\\python\\dnn\\svetlanna.docs\\.venv\\lib\\site-packages (from stack_data->ipython>=6.1.0->ipywidgets>=7.6.0->anywidget<0.10.0,>=0.9.13->svetlanna) (2.2.0)\n",
      "Requirement already satisfied: asttokens>=2.1.0 in c:\\users\\gunne\\projects\\python\\dnn\\svetlanna.docs\\.venv\\lib\\site-packages (from stack_data->ipython>=6.1.0->ipywidgets>=7.6.0->anywidget<0.10.0,>=0.9.13->svetlanna) (3.0.0)\n",
      "Requirement already satisfied: pure-eval in c:\\users\\gunne\\projects\\python\\dnn\\svetlanna.docs\\.venv\\lib\\site-packages (from stack_data->ipython>=6.1.0->ipywidgets>=7.6.0->anywidget<0.10.0,>=0.9.13->svetlanna) (0.2.3)\n"
     ]
    },
    {
     "name": "stderr",
     "output_type": "stream",
     "text": [
      "\n",
      "[notice] A new release of pip is available: 23.1.2 -> 25.1.1\n",
      "[notice] To update, run: python.exe -m pip install --upgrade pip\n"
     ]
    },
    {
     "name": "stdout",
     "output_type": "stream",
     "text": [
      "Requirement already satisfied: reservoirpy in c:\\users\\gunne\\projects\\python\\dnn\\svetlanna.docs\\.venv\\lib\\site-packages (0.3.13.post1)\n",
      "Requirement already satisfied: matplotlib in c:\\users\\gunne\\projects\\python\\dnn\\svetlanna.docs\\.venv\\lib\\site-packages (3.9.1.post1)\n",
      "Requirement already satisfied: tqdm in c:\\users\\gunne\\projects\\python\\dnn\\svetlanna.docs\\.venv\\lib\\site-packages (4.67.1)\n",
      "Requirement already satisfied: requests in c:\\users\\gunne\\projects\\python\\dnn\\svetlanna.docs\\.venv\\lib\\site-packages (2.32.3)\n",
      "Requirement already satisfied: av in c:\\users\\gunne\\projects\\python\\dnn\\svetlanna.docs\\.venv\\lib\\site-packages (15.0.0)\n",
      "Requirement already satisfied: scikit-image in c:\\users\\gunne\\projects\\python\\dnn\\svetlanna.docs\\.venv\\lib\\site-packages (0.25.2)\n",
      "Requirement already satisfied: py-cpuinfo in c:\\users\\gunne\\projects\\python\\dnn\\svetlanna.docs\\.venv\\lib\\site-packages (9.0.0)\n",
      "Requirement already satisfied: gputil in c:\\users\\gunne\\projects\\python\\dnn\\svetlanna.docs\\.venv\\lib\\site-packages (1.4.0)\n",
      "Requirement already satisfied: dill>=0.3.1.1 in c:\\users\\gunne\\projects\\python\\dnn\\svetlanna.docs\\.venv\\lib\\site-packages (from reservoirpy) (0.4.0)\n",
      "Requirement already satisfied: joblib>=0.14.1 in c:\\users\\gunne\\projects\\python\\dnn\\svetlanna.docs\\.venv\\lib\\site-packages (from reservoirpy) (1.5.1)\n",
      "Requirement already satisfied: numpy>=1.21.1 in c:\\users\\gunne\\projects\\python\\dnn\\svetlanna.docs\\.venv\\lib\\site-packages (from reservoirpy) (1.26.4)\n",
      "Requirement already satisfied: scipy>=1.4.1 in c:\\users\\gunne\\projects\\python\\dnn\\svetlanna.docs\\.venv\\lib\\site-packages (from reservoirpy) (1.15.2)\n",
      "Requirement already satisfied: contourpy>=1.0.1 in c:\\users\\gunne\\projects\\python\\dnn\\svetlanna.docs\\.venv\\lib\\site-packages (from matplotlib) (1.3.1)\n",
      "Requirement already satisfied: cycler>=0.10 in c:\\users\\gunne\\projects\\python\\dnn\\svetlanna.docs\\.venv\\lib\\site-packages (from matplotlib) (0.12.1)\n",
      "Requirement already satisfied: fonttools>=4.22.0 in c:\\users\\gunne\\projects\\python\\dnn\\svetlanna.docs\\.venv\\lib\\site-packages (from matplotlib) (4.56.0)\n",
      "Requirement already satisfied: kiwisolver>=1.3.1 in c:\\users\\gunne\\projects\\python\\dnn\\svetlanna.docs\\.venv\\lib\\site-packages (from matplotlib) (1.4.8)\n",
      "Requirement already satisfied: packaging>=20.0 in c:\\users\\gunne\\projects\\python\\dnn\\svetlanna.docs\\.venv\\lib\\site-packages (from matplotlib) (24.2)\n",
      "Requirement already satisfied: pillow>=8 in c:\\users\\gunne\\projects\\python\\dnn\\svetlanna.docs\\.venv\\lib\\site-packages (from matplotlib) (11.1.0)\n",
      "Requirement already satisfied: pyparsing>=2.3.1 in c:\\users\\gunne\\projects\\python\\dnn\\svetlanna.docs\\.venv\\lib\\site-packages (from matplotlib) (3.2.3)\n",
      "Requirement already satisfied: python-dateutil>=2.7 in c:\\users\\gunne\\projects\\python\\dnn\\svetlanna.docs\\.venv\\lib\\site-packages (from matplotlib) (2.9.0.post0)\n",
      "Requirement already satisfied: colorama in c:\\users\\gunne\\projects\\python\\dnn\\svetlanna.docs\\.venv\\lib\\site-packages (from tqdm) (0.4.6)\n",
      "Requirement already satisfied: charset-normalizer<4,>=2 in c:\\users\\gunne\\projects\\python\\dnn\\svetlanna.docs\\.venv\\lib\\site-packages (from requests) (3.4.1)\n",
      "Requirement already satisfied: idna<4,>=2.5 in c:\\users\\gunne\\projects\\python\\dnn\\svetlanna.docs\\.venv\\lib\\site-packages (from requests) (3.10)\n",
      "Requirement already satisfied: urllib3<3,>=1.21.1 in c:\\users\\gunne\\projects\\python\\dnn\\svetlanna.docs\\.venv\\lib\\site-packages (from requests) (2.3.0)\n",
      "Requirement already satisfied: certifi>=2017.4.17 in c:\\users\\gunne\\projects\\python\\dnn\\svetlanna.docs\\.venv\\lib\\site-packages (from requests) (2025.1.31)\n",
      "Requirement already satisfied: networkx>=3.0 in c:\\users\\gunne\\projects\\python\\dnn\\svetlanna.docs\\.venv\\lib\\site-packages (from scikit-image) (3.3)\n",
      "Requirement already satisfied: imageio!=2.35.0,>=2.33 in c:\\users\\gunne\\projects\\python\\dnn\\svetlanna.docs\\.venv\\lib\\site-packages (from scikit-image) (2.37.0)\n",
      "Requirement already satisfied: tifffile>=2022.8.12 in c:\\users\\gunne\\projects\\python\\dnn\\svetlanna.docs\\.venv\\lib\\site-packages (from scikit-image) (2025.6.11)\n",
      "Requirement already satisfied: lazy-loader>=0.4 in c:\\users\\gunne\\projects\\python\\dnn\\svetlanna.docs\\.venv\\lib\\site-packages (from scikit-image) (0.4)\n",
      "Requirement already satisfied: six>=1.5 in c:\\users\\gunne\\projects\\python\\dnn\\svetlanna.docs\\.venv\\lib\\site-packages (from python-dateutil>=2.7->matplotlib) (1.17.0)\n"
     ]
    },
    {
     "name": "stderr",
     "output_type": "stream",
     "text": [
      "\n",
      "[notice] A new release of pip is available: 23.1.2 -> 25.1.1\n",
      "[notice] To update, run: python.exe -m pip install --upgrade pip\n"
     ]
    }
   ],
   "source": [
    "!pip install svetlanna\n",
    "!pip install reservoirpy matplotlib tqdm requests av scikit-image py-cpuinfo gputil pandas"
   ]
  },
  {
   "cell_type": "code",
   "execution_count": 2,
   "id": "abf9c159",
   "metadata": {},
   "outputs": [],
   "source": [
    "import svetlanna as sv\n",
    "from svetlanna import Wavefront, SimulationParameters\n",
    "from svetlanna.parameters import OptimizableFloat, OptimizableTensor\n",
    "from svetlanna.wavefront import mul\n",
    "from svetlanna.units import ureg\n",
    "import torch"
   ]
  },
  {
   "cell_type": "markdown",
   "id": "79e37ca7",
   "metadata": {},
   "source": [
    "# Пример создания нового оптического элемента"
   ]
  },
  {
   "cell_type": "markdown",
   "id": "fef19270",
   "metadata": {},
   "source": [
    "Рассмотрим оптический элемент, который действует на волновой фронт следующим образом:\n",
    "$$\n",
    "f(u) = a\\left(\\hat{W}u\\right)^b\n",
    "$$\n",
    "где $u$ - падающий волновой фронт, и $a$ , $b$ - некоторые параметры. $W$ - это двумерная маска пропускания в плоскости (x,y).\n",
    "Произведение $\\hat{W}x$ представляет собой поэлементное умножение:\n",
    "$$\\left[\\hat{W}u\\right](x_i, y_i) = \\hat{W}(x_i, y_i)u(x_i, y_i)$$"
   ]
  },
  {
   "cell_type": "markdown",
   "id": "a86e2af9",
   "metadata": {},
   "source": [
    "Для создания класса, представляющего собой новый оптический элемент с функцией пропускания, описанной выше, необходимо наследовать этот класса от родительского класса `svetlanna.elements.Element`"
   ]
  },
  {
   "cell_type": "code",
   "execution_count": 3,
   "id": "cc6102f2",
   "metadata": {},
   "outputs": [],
   "source": [
    "class MyElement(sv.elements.Element):\n",
    "    def __init__(\n",
    "        self,\n",
    "        simulation_parameters: SimulationParameters,\n",
    "        a: OptimizableFloat,\n",
    "        b: int,\n",
    "        W: OptimizableTensor\n",
    "    ) -> None:\n",
    "        super().__init__(simulation_parameters)  # эта строчка обязательно должна быть  в конструкторе!\n",
    "\n",
    "        self.a = self.process_parameter(\n",
    "            'a', a\n",
    "        )\n",
    "        self.b = self.process_parameter(\n",
    "            'b', b\n",
    "        )\n",
    "        self.W = self.process_parameter(\n",
    "            'W', W\n",
    "        )\n",
    "\n",
    "    def forward(self, incident_wavefront: Wavefront) -> Wavefront:\n",
    "        r = mul(\n",
    "            incident_wavefront,\n",
    "            self.W,\n",
    "            ('H', 'W'),\n",
    "            self.simulation_parameters\n",
    "        )\n",
    "        return self.a * r**self.b"
   ]
  },
  {
   "cell_type": "markdown",
   "id": "6121baae",
   "metadata": {},
   "source": [
    "Рассмотрим подробнее каждую часть кода:\n",
    "\n",
    "Для явного указания объектов, который необходимо оптимизировать, доступны типы `OptimizableFloat` и `OptimizableTensor`\n",
    "* `OptimizableFloat` используется для скалярных значений\n",
    "* `OptimizableTensor` используются для тензоров - векторов и матриц\n",
    "\n",
    "Используемые параметры(тензоры или скаляры) должны быть зарегистрированы с использованием метода `process_parameter`.\n",
    "Этот метод выполняет различные действия в зависимости от предоставленного аргумента:\n",
    "\n",
    "* если аргумент требует вычисления градиента(например `torch.nn.Parameter`), он регистрирует параметр в экземпляре `torch.nn.Module` \n",
    "* если аргумент является тензором, он регистрирует его как буфер\n",
    "* в остальных случая метод не совершает никаких операций\n",
    "\n",
    "**Лучшая практика**: всегда использовать метод `process_parameter` для любого аргумента, переданного в конструктор.\n",
    "\n",
    "Метод `forward` должен быть применен к любому новому элементу\n",
    "Помимо умножения и возведения в степень, он включает поэлементное произведение.\n",
    "Для осуществления поэлементного умножения между волновым фронтом и тензором необходимо использовать функцию `mul`.\n",
    "Для выполнения произведения необходимо указать оси $W$.\n",
    "В этом примере $W$ - это двумерная маска пропускания в плоскости (x,y), соответственно его оси указаны как `('H', 'W')`\n",
    "Порядок имен осей должен соответствовать порядку осей тензора при вызове `.shape`\n",
    "\n",
    "Подход с использованием метода `mul` обеспечивает совместимость с дальнейшими изменениями порядка осей волнового фронта и изменениями количества осей (например, ось партии, физические свойства, такие как `поляризация`, `длина волны` и т. д.)."
   ]
  },
  {
   "cell_type": "code",
   "execution_count": 4,
   "id": "251fefd0",
   "metadata": {},
   "outputs": [],
   "source": [
    "sim_params = SimulationParameters({\n",
    "    'W': torch.linspace(-1, 1, 10) * ureg.cm,\n",
    "    'H': torch.linspace(-1, 1, 10) * ureg.cm,\n",
    "    'wavelength': torch.tensor([400, 500, 600]) * ureg.nm\n",
    "})\n",
    "\n",
    "wf = Wavefront(torch.rand((3, 10, 10)))"
   ]
  },
  {
   "cell_type": "code",
   "execution_count": 5,
   "id": "411a6dcf",
   "metadata": {},
   "outputs": [
    {
     "name": "stdout",
     "output_type": "stream",
     "text": [
      "torch.Size([3, 10, 10])\n"
     ]
    }
   ],
   "source": [
    "el1 = MyElement(\n",
    "    sim_params,\n",
    "    a=sv.ConstrainedParameter(2., min_value=0., max_value=5),\n",
    "    b=2,\n",
    "    W=torch.rand((10, 10))\n",
    ")\n",
    "\n",
    "print(el1(wf).shape)  # transmitted wavefront shape"
   ]
  },
  {
   "cell_type": "markdown",
   "id": "5807fbc6",
   "metadata": {},
   "source": [
    "# Свойства, зависящие от длины волны"
   ]
  },
  {
   "cell_type": "markdown",
   "id": "d4a5f84f",
   "metadata": {},
   "source": [
    "Рассмотрим оптический элемент с нелинейной функцией пропускания, которая дана выражением\n",
    "$$\n",
    "f(u) = u \\frac{600}{600 + \\lambda}\n",
    "$$\n",
    "где $\\lambda$ - длина волны в нм."
   ]
  },
  {
   "cell_type": "code",
   "execution_count": 6,
   "id": "941f3e30",
   "metadata": {},
   "outputs": [],
   "source": [
    "class MyNonlinearElement(sv.elements.Element):\n",
    "    def forward(self, incident_wavefront: Wavefront) -> Wavefront:\n",
    "        lmbda = self.simulation_parameters.axes.wavelength / ureg.nm\n",
    "        t = 600 / (600 + lmbda)\n",
    "        return mul(\n",
    "            incident_wavefront,\n",
    "            t,\n",
    "            'wavelength',\n",
    "            self.simulation_parameters\n",
    "        )"
   ]
  },
  {
   "cell_type": "markdown",
   "id": "28a77e89",
   "metadata": {},
   "source": [
    "В этом примере реализован только метод `forward`.\n",
    "Для построения $f(u)$ длина волны должна быть получена из параметров моделирования.\n",
    "Общий подход к доступу к любой оси из параметров моделирования: `self.simulation_parameters.axes.<имя оси>`.\n",
    "В этом случае длина волны извлекается с помощью `self.simulation_parameters.axes.wavelength`.\n",
    "Затем для умножения используется функция `mul`.\n",
    "Это гарантирует работоспособность кода в различных сценариях, например: когда в параметрах моделирования указана одна длина волны (`'wavelength': 500 * ureg.nm`) или когда добавлено больше осей.\n",
    "В этих случаях тот же код будет работать без каких-либо изменений."
   ]
  },
  {
   "cell_type": "code",
   "execution_count": 7,
   "id": "5686dcc2",
   "metadata": {},
   "outputs": [
    {
     "name": "stdout",
     "output_type": "stream",
     "text": [
      "torch.Size([3, 10, 10])\n"
     ]
    }
   ],
   "source": [
    "el2 = MyNonlinearElement(\n",
    "    sim_params\n",
    ")\n",
    "\n",
    "print(el2(wf).shape)  # transmitted wavefront shape"
   ]
  },
  {
   "cell_type": "markdown",
   "id": "3386ea2e",
   "metadata": {},
   "source": [
    "# Свойства, зависящие от длины волны, улучшение"
   ]
  },
  {
   "cell_type": "markdown",
   "id": "03da8da4",
   "metadata": {},
   "source": [
    "Можно заметить, что `t` пересчитывается каждый раз при вызове метода `forward`.\n",
    "Для сокращения вычислений эту переменную можно вычислить один раз во время инициализации и зарегистрировать как буфер."
   ]
  },
  {
   "cell_type": "code",
   "execution_count": 8,
   "id": "38a35440",
   "metadata": {},
   "outputs": [],
   "source": [
    "class MyNonlinearElementImproved(sv.elements.Element):\n",
    "    def __init__(self, simulation_parameters: SimulationParameters) -> None:\n",
    "        super().__init__(simulation_parameters)\n",
    "\n",
    "        lmbda = self.simulation_parameters.axes.wavelength / ureg.nm\n",
    "        t = 600 / (600 + lmbda)\n",
    "\n",
    "        if isinstance(lmbda, torch.Tensor):\n",
    "            self.t = self.make_buffer('t', t)\n",
    "        else:\n",
    "            self.t = t\n",
    "\n",
    "    def forward(self, incident_wavefront: Wavefront) -> Wavefront:\n",
    "        return mul(\n",
    "            incident_wavefront,\n",
    "            self.t,\n",
    "            'wavelength',\n",
    "            self.simulation_parameters\n",
    "        )"
   ]
  },
  {
   "cell_type": "markdown",
   "id": "0bff82ee",
   "metadata": {},
   "source": [
    "Для того, чтобы сохранить любой тензор в качестве буфера, следует использовать метод `make_buffer`.\n",
    "Этот метод применим только к объектам `torch.Tensors`, поэтому необходимо условие `if`.\n",
    "\n",
    "Важно отметить, что если выражение зависит от параметра, требующего вычисления градиента, тензор не следует буферизировать.\n",
    "Его необходимо вычислять при каждом вызове метода forward для обеспечения корректного отслеживания градиента."
   ]
  },
  {
   "cell_type": "markdown",
   "id": "9f2c7b64",
   "metadata": {},
   "source": [
    "# Спецификации"
   ]
  },
  {
   "cell_type": "code",
   "execution_count": 9,
   "id": "3df98c27",
   "metadata": {},
   "outputs": [],
   "source": [
    "from svetlanna.specs import ReprRepr, PrettyReprRepr, NpyFileRepr, ImageRepr\n",
    "from svetlanna.specs import ParameterSpecs"
   ]
  },
  {
   "cell_type": "markdown",
   "id": "b45af9dd",
   "metadata": {},
   "source": [
    "В настоящее время существует четыре типа представления переменных: `ReprRepr`, `PrettyReprRepr`, `NpyFileRepr`, `ImageRepr`.\n",
    "\n",
    "Для отображения спецификаций (и их последующего сохранения) необходимо реализовать метод `to_specs`.\n",
    "Для представлений требуется аргумент `value`, которым могут быть любые релевантные данные, например, `self.mask.abs()`.\n",
    "В следующем примере эта концепция демонстрируется на основе случайных тензоров."
   ]
  },
  {
   "cell_type": "code",
   "execution_count": 10,
   "id": "1e8771e9",
   "metadata": {},
   "outputs": [],
   "source": [
    "class ElementWithSpecs(sv.elements.Element):\n",
    "    def forward(self, incident_wavefront: Wavefront) -> Wavefront:\n",
    "        ...\n",
    "\n",
    "    def to_specs(self) -> list[ParameterSpecs]:\n",
    "        return [\n",
    "            ParameterSpecs(\n",
    "                'a', (\n",
    "                    ReprRepr(123),\n",
    "                    PrettyReprRepr(123, units='cm'),\n",
    "                )\n",
    "            ),\n",
    "            ParameterSpecs(\n",
    "                'b', (\n",
    "                    ImageRepr(\n",
    "                        torch.rand((100, 100)).numpy(force=True)\n",
    "                    ),\n",
    "                    NpyFileRepr(\n",
    "                        torch.rand((100, 100)).numpy(force=True)\n",
    "                    ),\n",
    "                    PrettyReprRepr(\n",
    "                        torch.rand((100, 100)), units='nm'),\n",
    "                )\n",
    "            ),\n",
    "            ParameterSpecs(\n",
    "                'c', (\n",
    "                    ImageRepr(\n",
    "                        torch.rand((100, 100)).numpy(force=True)\n",
    "                    ),\n",
    "                )\n",
    "            )\n",
    "        ]"
   ]
  },
  {
   "cell_type": "code",
   "execution_count": 11,
   "id": "dee17710",
   "metadata": {},
   "outputs": [
    {
     "data": {
      "text/html": [
       "<div style=\"font-family:monospace;\">\n",
       "        <div style=\"margin-top:0.5rem;\">\n",
       "            <b>a</b>\n",
       "        </div>\n",
       "        \n",
       "            <div style=\"margin-bottom: 0.5rem;padding-left: 2rem;\">\n",
       "<pre style=\"white-space:pre-wrap;\">123\n",
       "</pre>\n",
       "            </div>\n",
       "            \n",
       "            <div style=\"margin-bottom: 0.5rem;padding-left: 2rem;\">\n",
       "<pre style=\"white-space:pre-wrap;\">123 [cm]\n",
       "</pre>\n",
       "            </div>\n",
       "            \n",
       "        <div style=\"margin-top:0.5rem;\">\n",
       "            <b>b</b>\n",
       "        </div>\n",
       "        \n",
       "            <div style=\"margin-bottom: 0.5rem;padding-left: 2rem;\">\n",
       "<pre style=\"white-space:pre-wrap;\">\n",
       "<img style=\"min-width:7rem;min-height:7rem;max-width:12rem;max-height:12rem;object-fit:contain;image-rendering:pixelated;\" src=\"data:image/png;base64, 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\"/>\n",
       "</pre>\n",
       "            </div>\n",
       "            \n",
       "            <div style=\"margin-bottom: 0.5rem;padding-left: 2rem;\">\n",
       "<pre style=\"white-space:pre-wrap;\">Tensor of size (100x100) [nm]\n",
       "</pre>\n",
       "            </div>\n",
       "            \n",
       "        <div style=\"margin-top:0.5rem;\">\n",
       "            <b>c</b>\n",
       "        </div>\n",
       "        \n",
       "            <div style=\"margin-bottom: 0.5rem;padding-left: 2rem;\">\n",
       "<pre style=\"white-space:pre-wrap;\">\n",
       "<img style=\"min-width:7rem;min-height:7rem;max-width:12rem;max-height:12rem;object-fit:contain;image-rendering:pixelated;\" src=\"data:image/png;base64, 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\"/>\n",
       "</pre>\n",
       "            </div>\n",
       "            </div>"
      ],
      "text/plain": [
       "ElementWithSpecs()"
      ]
     },
     "execution_count": 11,
     "metadata": {},
     "output_type": "execute_result"
    }
   ],
   "source": [
    "# specs can be displayed in the jupyter cell\n",
    "ElementWithSpecs(sim_params)"
   ]
  }
 ],
 "metadata": {
  "kernelspec": {
   "display_name": ".venv (3.11.4)",
   "language": "python",
   "name": "python3"
  },
  "language_info": {
   "codemirror_mode": {
    "name": "ipython",
    "version": 3
   },
   "file_extension": ".py",
   "mimetype": "text/x-python",
   "name": "python",
   "nbconvert_exporter": "python",
   "pygments_lexer": "ipython3",
   "version": "3.11.4"
  }
 },
 "nbformat": 4,
 "nbformat_minor": 5
}
