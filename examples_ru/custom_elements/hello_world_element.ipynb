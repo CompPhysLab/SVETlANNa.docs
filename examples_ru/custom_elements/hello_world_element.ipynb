{
 "cells": [
  {
   "cell_type": "code",
   "execution_count": null,
   "id": "abf9c159",
   "metadata": {},
   "outputs": [],
   "source": [
    "import svetlanna as sv\n",
    "from svetlanna import Wavefront, SimulationParameters\n",
    "from svetlanna.parameters import OptimizableFloat, OptimizableTensor\n",
    "from svetlanna.wavefront import mul\n",
    "from svetlanna.units import ureg\n",
    "import torch"
   ]
  },
  {
   "cell_type": "markdown",
   "id": "79e37ca7",
   "metadata": {},
   "source": [
    "# Пример создания нового оптического элемента"
   ]
  },
  {
   "cell_type": "markdown",
   "id": "fef19270",
   "metadata": {},
   "source": [
    "Рассмотрим оптический элемент, который действует на волновой фронт следующим образом:\n",
    "$$\n",
    "f(u) = a\\left(\\hat{W}u\\right)^b\n",
    "$$\n",
    "где $u$ - падающий волновой фронт, и $a$ , $b$ - некоторые параметры. $W$ - это двумерная маска пропускания в плоскости (x,y).\n",
    "Произведение $\\hat{W}x$ представляет собой поэлементное умножение:\n",
    "$$\\left[\\hat{W}u\\right](x_i, y_i) = \\hat{W}(x_i, y_i)u(x_i, y_i)$$"
   ]
  },
  {
   "cell_type": "markdown",
   "id": "a86e2af9",
   "metadata": {},
   "source": [
    "Для создания класса, представляющего собой новый оптический элемент с функцией пропускания, описанной выше, необходимо наследовать этот класса от родительского класса `svetlanna.elements.Element`"
   ]
  },
  {
   "cell_type": "code",
   "execution_count": null,
   "id": "cc6102f2",
   "metadata": {},
   "outputs": [],
   "source": [
    "class MyElement(sv.elements.Element):\n",
    "    def __init__(\n",
    "        self,\n",
    "        simulation_parameters: SimulationParameters,\n",
    "        a: OptimizableFloat,\n",
    "        b: int,\n",
    "        W: OptimizableTensor\n",
    "    ) -> None:\n",
    "        super().__init__(simulation_parameters)  # эта строчка обязательно должна быть  в конструкторе!\n",
    "\n",
    "        self.a = self.process_parameter(\n",
    "            'a', a\n",
    "        )\n",
    "        self.b = self.process_parameter(\n",
    "            'b', b\n",
    "        )\n",
    "        self.W = self.process_parameter(\n",
    "            'W', W\n",
    "        )\n",
    "\n",
    "    def forward(self, incident_wavefront: Wavefront) -> Wavefront:\n",
    "        r = mul(\n",
    "            incident_wavefront,\n",
    "            self.W,\n",
    "            ('H', 'W'),\n",
    "            self.simulation_parameters\n",
    "        )\n",
    "        return self.a * r**self.b"
   ]
  },
  {
   "cell_type": "markdown",
   "id": "6121baae",
   "metadata": {},
   "source": [
    "Рассмотрим подробнее каждую часть кода:\n",
    "\n",
    "Для явного указания объектов, который необходимо оптимизировать, доступны типы `OptimizableFloat` и `OptimizableTensor`\n",
    "* `OptimizableFloat` используется для скалярных значений\n",
    "* `OptimizableTensor` используются для тензоров - векторов и матриц\n",
    "\n",
    "Используемые параметры(тензоры или скаляры) должны быть зарегистрированы с использованием метода `process_parameter`.\n",
    "Этот метод выполняет различные действия в зависимости от предоставленного аргумента:\n",
    "\n",
    "* если аргумент требует вычисления градиента(например `torch.nn.Parameter`), он регистрирует параметр в экземпляре `torch.nn.Module` \n",
    "* если аргумент является тензором, он регистрирует его как буфер\n",
    "* в остальных случая метод не совершает никаких операций\n",
    "\n",
    "**Лучшая практика**: всегда использовать метод `process_parameter` для любого аргумента, переданного в конструктор.\n",
    "\n",
    "Метод `forward` должен быть применен к любому новому элементу\n",
    "Помимо умножения и возведения в степень, он включает поэлементное произведение.\n",
    "Для осуществления поэлементного умножения между волновым фронтом и тензором необходимо использовать функцию `mul`.\n",
    "Для выполнения произведения необходимо указать оси $W$.\n",
    "В этом примере $W$ - это двумерная маска пропускания в плоскости (x,y), соответственно его оси указаны как `('H', 'W')`\n",
    "Порядок имен осей должен соответствовать порядку осей тензора при вызове `.shape`\n",
    "\n",
    "Подход с использованием метода `mul` обеспечивает совместимость с дальнейшими изменениями порядка осей волнового фронта и изменениями количества осей (например, ось партии, физические свойства, такие как `поляризация`, `длина волны` и т. д.)."
   ]
  },
  {
   "cell_type": "code",
   "execution_count": null,
   "id": "251fefd0",
   "metadata": {},
   "outputs": [],
   "source": [
    "sim_params = SimulationParameters({\n",
    "    'W': torch.linspace(-1, 1, 10) * ureg.cm,\n",
    "    'H': torch.linspace(-1, 1, 10) * ureg.cm,\n",
    "    'wavelength': torch.tensor([400, 500, 600]) * ureg.nm\n",
    "})\n",
    "\n",
    "wf = Wavefront(torch.rand((3, 10, 10)))"
   ]
  },
  {
   "cell_type": "code",
   "execution_count": null,
   "id": "411a6dcf",
   "metadata": {},
   "outputs": [
    {
     "name": "stdout",
     "output_type": "stream",
     "text": [
      "torch.Size([3, 10, 10])\n"
     ]
    }
   ],
   "source": [
    "el1 = MyElement(\n",
    "    sim_params,\n",
    "    a=sv.ConstrainedParameter(2., min_value=0., max_value=5),\n",
    "    b=2,\n",
    "    W=torch.rand((10, 10))\n",
    ")\n",
    "\n",
    "print(el1(wf).shape)  # transmitted wavefront shape"
   ]
  },
  {
   "cell_type": "markdown",
   "id": "5807fbc6",
   "metadata": {},
   "source": [
    "# Свойства, зависящие от длины волны"
   ]
  },
  {
   "cell_type": "markdown",
   "id": "d4a5f84f",
   "metadata": {},
   "source": [
    "Рассмотрим оптический элемент с нелинейной функцией пропускания, которая дана выражением\n",
    "$$\n",
    "f(u) = u \\frac{600}{600 + \\lambda}\n",
    "$$\n",
    "где $\\lambda$ - длина волны в нм."
   ]
  },
  {
   "cell_type": "code",
   "execution_count": null,
   "id": "941f3e30",
   "metadata": {},
   "outputs": [],
   "source": [
    "class MyNonlinearElement(sv.elements.Element):\n",
    "    def forward(self, incident_wavefront: Wavefront) -> Wavefront:\n",
    "        lmbda = self.simulation_parameters.axes.wavelength / ureg.nm\n",
    "        t = 600 / (600 + lmbda)\n",
    "        return mul(\n",
    "            incident_wavefront,\n",
    "            t,\n",
    "            'wavelength',\n",
    "            self.simulation_parameters\n",
    "        )"
   ]
  },
  {
   "cell_type": "markdown",
   "id": "28a77e89",
   "metadata": {},
   "source": [
    "В этом примере реализован только метод `forward`.\n",
    "Для построения $f(u)$ длина волны должна быть получена из параметров моделирования.\n",
    "Общий подход к доступу к любой оси из параметров моделирования: `self.simulation_parameters.axes.<имя оси>`.\n",
    "В этом случае длина волны извлекается с помощью `self.simulation_parameters.axes.wavelength`.\n",
    "Затем для умножения используется функция `mul`.\n",
    "Это гарантирует работоспособность кода в различных сценариях, например: когда в параметрах моделирования указана одна длина волны (`'wavelength': 500 * ureg.nm`) или когда добавлено больше осей.\n",
    "В этих случаях тот же код будет работать без каких-либо изменений."
   ]
  },
  {
   "cell_type": "code",
   "execution_count": null,
   "id": "5686dcc2",
   "metadata": {},
   "outputs": [
    {
     "name": "stdout",
     "output_type": "stream",
     "text": [
      "torch.Size([3, 10, 10])\n"
     ]
    }
   ],
   "source": [
    "el2 = MyNonlinearElement(\n",
    "    sim_params\n",
    ")\n",
    "\n",
    "print(el2(wf).shape)  # transmitted wavefront shape"
   ]
  },
  {
   "cell_type": "markdown",
   "id": "3386ea2e",
   "metadata": {},
   "source": [
    "# Свойства, зависящие от длины волны, улучшение"
   ]
  },
  {
   "cell_type": "markdown",
   "id": "03da8da4",
   "metadata": {},
   "source": [
    "Можно заметить, что `t` пересчитывается каждый раз при вызове метода `forward`.\n",
    "Для сокращения вычислений эту переменную можно вычислить один раз во время инициализации и зарегистрировать как буфер."
   ]
  },
  {
   "cell_type": "code",
   "execution_count": null,
   "id": "38a35440",
   "metadata": {},
   "outputs": [],
   "source": [
    "class MyNonlinearElementImproved(sv.elements.Element):\n",
    "    def __init__(self, simulation_parameters: SimulationParameters) -> None:\n",
    "        super().__init__(simulation_parameters)\n",
    "\n",
    "        lmbda = self.simulation_parameters.axes.wavelength / ureg.nm\n",
    "        t = 600 / (600 + lmbda)\n",
    "\n",
    "        if isinstance(lmbda, torch.Tensor):\n",
    "            self.t = self.make_buffer('t', t)\n",
    "        else:\n",
    "            self.t = t\n",
    "\n",
    "    def forward(self, incident_wavefront: Wavefront) -> Wavefront:\n",
    "        return mul(\n",
    "            incident_wavefront,\n",
    "            self.t,\n",
    "            'wavelength',\n",
    "            self.simulation_parameters\n",
    "        )"
   ]
  },
  {
   "cell_type": "markdown",
   "id": "0bff82ee",
   "metadata": {},
   "source": [
    "Для того, чтобы сохранить любой тензор в качестве буфера, следует использовать метод `make_buffer`.\n",
    "Этот метод применим только к объектам `torch.Tensors`, поэтому необходимо условие `if`.\n",
    "\n",
    "Важно отметить, что если выражение зависит от параметра, требующего вычисления градиента, тензор не следует буферизировать.\n",
    "Его необходимо вычислять при каждом вызове метода forward для обеспечения корректного отслеживания градиента."
   ]
  },
  {
   "cell_type": "markdown",
   "id": "9f2c7b64",
   "metadata": {},
   "source": [
    "# Спецификации"
   ]
  },
  {
   "cell_type": "code",
   "execution_count": null,
   "id": "3df98c27",
   "metadata": {},
   "outputs": [],
   "source": [
    "from svetlanna.specs import ReprRepr, PrettyReprRepr, NpyFileRepr, ImageRepr\n",
    "from svetlanna.specs import ParameterSpecs"
   ]
  },
  {
   "cell_type": "markdown",
   "id": "b45af9dd",
   "metadata": {},
   "source": [
    "В настоящее время существует четыре типа представления переменных: `ReprRepr`, `PrettyReprRepr`, `NpyFileRepr`, `ImageRepr`.\n",
    "\n",
    "Для отображения спецификаций (и их последующего сохранения) необходимо реализовать метод `to_specs`.\n",
    "Для представлений требуется аргумент `value`, которым могут быть любые релевантные данные, например, `self.mask.abs()`.\n",
    "В следующем примере эта концепция демонстрируется на основе случайных тензоров."
   ]
  },
  {
   "cell_type": "code",
   "execution_count": null,
   "id": "1e8771e9",
   "metadata": {},
   "outputs": [],
   "source": [
    "class ElementWithSpecs(sv.elements.Element):\n",
    "    def forward(self, incident_wavefront: Wavefront) -> Wavefront:\n",
    "        ...\n",
    "\n",
    "    def to_specs(self) -> list[ParameterSpecs]:\n",
    "        return [\n",
    "            ParameterSpecs(\n",
    "                'a', (\n",
    "                    ReprRepr(123),\n",
    "                    PrettyReprRepr(123, units='cm'),\n",
    "                )\n",
    "            ),\n",
    "            ParameterSpecs(\n",
    "                'b', (\n",
    "                    ImageRepr(\n",
    "                        torch.rand((100, 100)).numpy(force=True)\n",
    "                    ),\n",
    "                    NpyFileRepr(\n",
    "                        torch.rand((100, 100)).numpy(force=True)\n",
    "                    ),\n",
    "                    PrettyReprRepr(\n",
    "                        torch.rand((100, 100)), units='nm'),\n",
    "                )\n",
    "            ),\n",
    "            ParameterSpecs(\n",
    "                'c', (\n",
    "                    ImageRepr(\n",
    "                        torch.rand((100, 100)).numpy(force=True)\n",
    "                    ),\n",
    "                )\n",
    "            )\n",
    "        ]"
   ]
  },
  {
   "cell_type": "code",
   "execution_count": null,
   "id": "dee17710",
   "metadata": {},
   "outputs": [
    {
     "data": {
      "text/html": [
       "<div style=\"font-family:monospace;\">\n",
       "        <div style=\"margin-top:0.5rem;\">\n",
       "            <b>a</b>\n",
       "        </div>\n",
       "        \n",
       "            <div style=\"margin-bottom: 0.5rem;padding-left: 2rem;\">\n",
       "<pre style=\"white-space:pre-wrap;\">123\n",
       "</pre>\n",
       "            </div>\n",
       "            \n",
       "            <div style=\"margin-bottom: 0.5rem;padding-left: 2rem;\">\n",
       "<pre style=\"white-space:pre-wrap;\">123 [cm]\n",
       "</pre>\n",
       "            </div>\n",
       "            \n",
       "        <div style=\"margin-top:0.5rem;\">\n",
       "            <b>b</b>\n",
       "        </div>\n",
       "        \n",
       "            <div style=\"margin-bottom: 0.5rem;padding-left: 2rem;\">\n",
       "<pre style=\"white-space:pre-wrap;\">\n",
       "<img class=\"spec-img\" src=\"data:image/png;base64, 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\"/>\n",
       "</pre>\n",
       "            </div>\n",
       "            \n",
       "            <div style=\"margin-bottom: 0.5rem;padding-left: 2rem;\">\n",
       "<pre style=\"white-space:pre-wrap;\">Tensor of size (100x100) [nm]\n",
       "</pre>\n",
       "            </div>\n",
       "            \n",
       "        <div style=\"margin-top:0.5rem;\">\n",
       "            <b>c</b>\n",
       "        </div>\n",
       "        \n",
       "            <div style=\"margin-bottom: 0.5rem;padding-left: 2rem;\">\n",
       "<pre style=\"white-space:pre-wrap;\">\n",
       "<img class=\"spec-img\" src=\"data:image/png;base64, iVBORw0KGgoAAAANSUhEUgAAAGQAAABkCAAAAABVicqIAAAkIElEQVR4nAXBB0CIaxgG0Of9CpVISqWSJCJKNiEhWSGJJpIQQgjJSkhGRZJIAyEZJRFJEkI3FSVJGkoqJEmK+t97Dtm01iglPrpfvDFn9ZKbR8rrg5yNaxsN3qg7nTMqPTzb7m2/HaEFU+PmvnxWbKv0Wr9o9KvfJ67rdDO+ckhvbUNCvfbsoPF2n062HGmYNDno99TRB2XubFF+WZwxemTzjlB+vrn064475U2i+v0LnlLXlzfpbqfCWF/edVUNHVeM8fDsfeSrrkSdxwOcuDCA/b90wwUTLZzz84DxyHTKu63LOh57qKbrZ5pceEF68V8aeXIxJu6txt6joyA9zsObtOtseWEfhOarCjyNV8K4Z4VwYWO6WrmVff8TnPhJC7YbjdH/yiDUyHvj0+i97H5wC3+r/oUaGReuLo4huTWXeenCp3CbMF+8s7XBPS8VelPQLgWNusdXC3vh68OepMO3IDSu28PwZD6tib3OaZF6rD/gIXxabtPuEcV4Mm4k0enRnGxliULto3xpYiVFyT+F4txsiJguuKg/kXq5aGLgmE2s+aA7ZFp+UeGRErEibSA5OUhYHrQc3jLRELfazMhiuiPLuSlzZtlHit+jjBrVwzxsdm9cPjcC305v4rNy3+jz1VQxK1xfMk1/RD3jd2Ng9kw+oVSOZp9OsAlMRU8XNTyOHssb4m8zfW7DLZu9fH34DslznTGJ6gG3UbZwM1bJO4gDzR950vsgOjf/Pe6mS/jY0B0u72KoZ/lBqSBaFeMcnsEj1U+CRTfSjcvmwgBFuA2vRGrTRdIf8gPWZZfRGGxNMwdlcUuKLXQb1pDFrYWSmOaRIy0+XU4j5Pvg06VKTLP+zI+jI6nstxz0zxPsvy9FjdEqoXcxgT0zPolZb21E9/4/uceLaWJI73+YbTQEJQf3t7+dqM5xn2fRSvPX0F20l2M/OLPr/Gf0z2WlEAeuu4iKn4U8yrEVzvWnyFbRH+r3Y3mCoxo07BfykRofytIfj8zXm6jaaiCfD1vNyRrzodOnNysXvOe2obdZTmWojHPhBTK8N5O3mI+F+flm8aJbrogyeM3dPEMl4f5gL+dsDyLVO36SvUZv2PoaYabBNQwY0IY1TVFUapKEQpVsTmsbA8+7V+iZRQYFdJqIwLwQ+vFmIrVP0yErrXCi/D+w4DZabH2p43ZTZ9So98HEKZrUY0E5hN6ga6Tfx5VLQy+LuP96clJYOTxXJZCRfCdea5AKPXczmDoOoS4fldG54DB7OF6CTNePFPnqIH/yvYe0qt0cfyMddTW7+O6O5dzQvUgMnrGH00/cY9ewXTzruiTEX78t0oDECZTccJZdvoehpu8c6cC/KD7WNhlDZyyHu6q/VPh9JCcHV+CMdy4t2qnHZVu0oX1tMYrXd4G1/mLc0p0G58Q1qOjmBIvp3xE6aSj3OFKHuDsX6FD/VhY7iv3FxcjF+JykT7bvNiHxfSUNfaIAsosmpzx3qcKxidqt1uOT3CvoL7qOT899EZzRnY9NbZbmeH/k40GxZDC+FZ2zHaC5wJiaDuTDYfhyUR16AdpbrTE/oYjEwfenEFyXgdaLhF3di9Dz3DfaGv0feR4YgoDDCtTJzYgOTXGid42WbPChHea65mi4fpHqv0QIRZM5FK5yWPLLWCOZvx4Nu4hSJHdWgbtzZywYe4JEYw2HOveF0Pxzn/fkD4S1UMKILmk0ftM++rIzFy5ftDBzyD6qWvpc2qmynLvvVqQ4SQtlsb+QWzqXm/kf3ZvdzGfavYV5k5soHh/KCg9fYHPGKbLX/Y6vpQs511mBNgW9ZWGVoo+DIX35zLpcTI3tys8mq3WcG5zE28+ESG66u3lX0CEx+cRBqoly++v69oRk7lPO2qPrqXVSIbLdrej0jQIp9mIjO/ePJaXjt9h/USes263MqzpPxjn5m8gp1oPIGj+NSs5FUWzoan7U/JFuZSTJXI+2pbAh4bT2hzwGlT3EjgdZfHBTROfL1m1k9PC48GiM5NmnVaTCot58b2mJcOqyhI7Nk+U3er4Yqsk43+09JS3yhWeBM24su0HCp/g0v9ngyUGRJ6hPYKQ0b4EJ7PcP4wx5Z/w1L0dzck9JbNyHb9Jx+EQEQ+XraDYb8h0mpYsp9+Jdcp8xAA9DnyBvyXrxuV6WLCz1WOuEhtTS9wU0lH5g8NrvLK4qr6AtXtEUqGKPngfkKOv1TyjWxdMqaRHVR3XgafRTetOvEMM949kk2RP2pIYr47XJ2RTYOK4TspUALd1vONz/fse61abYUPuZxKdeIrd+MUpnvMVsXWsWufQbS/81oe+FZdz4IISM7lci5o4V/qY0w6LOnyY+f4yhaj8wJ2UvvcpbR4orMtFnYw8MPTUGfcN/4ukEedwarCB92DRZ5q6TA+8apY4G+VQOiN7G5aoClhqHSPxeRSxTF98x8NMj9MRPlExQ4s3tfmw4eL/05slv9vzazgF/iqlzhYQVFqu4+kQ1/JWm89OQk9izdLV0b34ER6lbiCVmmdI6zUWUuqEFzYdUcOJBhKD2NJ5/7wSJQ31tyOlLqkxyiTe9UhiIxcOi8dFuBXn32kEHWjJJbUya+FHRjMreWlhZe4s8LrmgoE2ZJhrHozBqqejdVYPCw1LhMzKGJitM4VWulbB9KkdLbf6De/oeWqbcweLUtmC+5JGANTq6+LLAkZdk2pKW5nr23n2Mp57VQOqC81KkUmeuGFHH31028HXVfbgSbcfG96/BoucQ9A7ZwwOPzUNLzhIeV2yE7hpvpPyRCdJjaSo/Kj0LcXYRxLWRZrTBdhrmmdTBbWs63fsALLYshGlFLrmtsoC1pTbs548lq9Vy5D51LjxW9qUhz6Ko9FsGNl94wcd/v0Fb9k9E3VCmQScCMejRQ+6sYCLkzh3hQ3XbeKLXQojSJIHro2x5yNUVqH4UzivH3mdPFV/eUJvK2zzk2/1d54lBXo1Yot0Kv1nrqN7ABJfWfkUnrTDKveYG86yedKPwL+rXL0f328cxxe+1TE5pDxQtqaeVU+Jol6I3iaRPhjhQ9wWGysO5OsSa7vZYSmZejsI3oBdpujjIXHOIR+PwTR0JW8Zx4NVUOF6XxfgmebR008fc4Z1onIdApmUiApLLSbXMjg713MNlOuV4Z25JrvLV8FO36RAK/YqRNGQojCftY4/8eP7woggX3l6B/bci9LxjgJADnZCUWSNmnwqn+31fs3XMTh7/+Yskc6QYXVNCJcfWZ/gymRDlmcyGS2LYvU6dSsJSuVI2mnfVGODswTYh3uz6i/yqaTie34v8VPZQgFMnyOnd4VlhY2jHSjuKTJ0nJbsYIntJiWQdNJRe2UyjrcH/RPaAi1yUZiR0UwpwMLmONZV1qKIpga/06Iqo/DmUUz0G9lGlyLu0mMTJpiecZFgDlfCvFDa/FHfyb/Gm59Y0+EsVEiwewdxVCQ2li+A7VJ0sgp5x3xUj4TW6AGe1jHFBz5fjnl3gz3bG5NCnDeFjJuC4nTxyVZ1RM1KZC2L+Yv7OjZLY0N+O5BIiMMSnF7b1W8G+cWaoO/UfN01ZykPvTORt74fTDysXcg+6gzdzbThbzZp1Xk2GfrMxmhPn4uyJdXTxdwSv2DQChU9u0PraED4w/BfstSeIlvJV/PlQnBA1262lg4srSUF7Og/LvUq6y9fQhlwXTrP+hek3x1DT/YlYr75asjKJRPtGA4r5MI/0ytqRY22KkbYnSa48lz3dNKEz8zsmzluDoUXroDUsE/eCVkvQlrClrxeLcWUVYoLdVl5btRl3bSqAs9v4Z/8s0RAnh+gUCTiSgJwzoHbkImHjb/K1qecPyQMxR6ma5kQXYlj+MHpW5Eov9o/HlsqDVFE5XJpbsorzR/zAWB0Vqn+8ikQATZHiR0/BUrWuUDa+xd0LCxB46Qav0k+hQSFebLGxD3JmTYNJ7DqpW+FMDo/RpXabRlY82IGJSfH8traK05OMUHb+Anfqf5W9LLqLGa3fyP2iPJ+Ymcdr3TdC5A8+IdK2B3L6zizE+m0nc3d5LH3iiWUTHkFuy2a0DNCBc8+l0ClUF3o7RsCUxqKo5QWNmWwKzYfxHPN9PfXa3AvHrvpAch5KisrnePjw7Wx/74moPx2OsrEOLOS6eLNPWLKo1/zL5aXxwJVVdCd0NHWz38/2X2TIotqV1oUeJe9T9bCMuAzHaTfZq9KTh/13VXr80FXo9xnDn2QvwMcgmZoyn0lTIzqR48NkLJjaidYuOIqaP54QplPcSCb3EWz36ZHSs28cMFWGlwXs44CARVJVZTeYJ57kyretkpnmfjSZMiUuTIb/OS3pchdjcTuwnT2MbiPmpsBfNTnuSJgmGgxXk7HeSWrv8RNfOoWQ+/fzLCxdwljd2of1v7/GKcVlVBHawJWPw+jth20yqVkKyJY2c20vP+SF9qOYGU5smhiD8EvuMmXfv8GvPRPvzzwn98Ru8EyKlFZ/9UDs8Sy+vLOMK48P5+ibWby9wk0I8/QNCPnvF/bc7oGzetmwVD1BMnjAAZGX0dhUgey/bpT24Typ9dZDuLE13Xz9lVrnNUrHrp3nXSd8SOmFI7eETpDsTz6k4O5AYuYtmJxZy+1BJ8nldTlGDtaE+PbSGrdfx9DFwIcU7qmNv6nHKTHjKLiTM59ybYXVWWcEn5WhUdP/YJ55nCRFuLKeYj3pBwokTe7BHuvvkcuMNaj22Cp2O2i2b74qQfPIZRH6M5EVZn7ht6otEB4jb/KMXw/Z8n0DLi65yYN+jsCJ2ffIKqUvD3r1FkpBJtTr7j2pdYYBEqclidYtynjwbDatPDCKrAeoUNLHHK6QmUTtPUOl/NNbZNdddKIDboOR+9QU+vaW1K1ZDmJeUSTpTjLEoTEmHNDzNb/YVIQF5a8RMPA6xV+9yYuuvebLcdNEf/2d0u2wZ9h6fAs9vzEKT7c7Q26HBivYpHKMXgInXiwR69ashvzvu/xmzTtJNskGCpl12KQACLc7A2Bi34+tbs1H7v4ZQnP/DS6clsATA9TI3mIt1U7ohs7/DvEYozBRpbORjc93wdE+J+FeXYuGXCM0Vqwjj/zZwlXLlSdcMWMrJxfS/vtTKDTokWNwKvX1yIJo6OlAZyL0hPqlIHKYNQ5PM0ZTxq8BVBpoz7klnizlWHAPxzRy3/ARRQv2wymqK+5828R1Dkf4iLsjlqrtQuNVf57aOxVpS87RK6+faLYu521WI6RkpZ/wat3WIY7+Ucf07dNYpj0Wt22SWeHSYLQrmsB4xjCkOT+gXbmVInyjMp+9cUr6e0mBSgomoSzmBbkW+EsWK9N5f0YdfX50iW7dekeZm+RRsHgcvHrvx7x9dmS8dAorvh8sxGFDU96X85Sc+QlnfIlE6IZI3mgzEHIvzOnH30gYTNNDyJdC6qHhJUZkj8SxRmO22f2KjUd6COcN6+lKWp8Op+CrvKnbfI7PDOG7VY3843oRBY4zopDROZQoGwXxtOMg7Z7FnH5cE4uOBNOfYadpcv5m3jDCl/cmWkrd98vg25IYbj96A507zeSjOjepx/d7qHNYTy9LW+nj6scy3mf/QWPiMFwsCKV1PQWNG9sddinf4Dm2hON6p5MoL54Ik/0/aETXCpZXZsk/KgY3di0kj9szuF2/jJZlfZXCUq9J1duXc9nNPRjfZQgs1QdgmXEeWF6Df31U4PJ3V0lMzOQr13z5cNkC7jbWRvLVKGMPv9msVtgb4oHrcR7ldYinFcSKimE3+IrPV/xbm8Q2p79QWa45vTbSEr3XvJWpVgnF7B/u8My7JUl5j3hpRDT38hxP1jPnSZE7c1nD0AeflK7g+N/P3OXHM2G2Wos893uJvSc7Q/hfHgPp7RxySNjNkevXyMy9twPfpBGU9aQVFepvUJZai8BXDNlvMWylMAoDNCuEQ6CP8Mg9SjvnZ7H++zWiOasarP5ZJMv+g2VGsPj80ZgHTF+AmVPi+JzROwi3lgW0ebbEf5YeovZX+rhzZgxrGF7mqqmepK9agKqtuzkkrgrhcn3h2iUAF/t85PntTzo02tqwNr+Y3D7Z0Bbd+dRL0Zf1uo2E2ukFuH73LeZfdWbn/zoQMe8rRHxsHHLjzyP1jgxSnvpKzZs1cMpuFv3e8l7yOxnMFs4VMO86jhcFXBB52vWUUT4Ibz6ulqnNCpfqWtuQH7GLjyhH4bhpB952mkOD3RrxRO45KXg9oti0dgwe5wCxLTGHC8xvUVVSRkeZF5NJdG+0zVwFpKhSn1dJlG74EzcznLHApAODlUaxV/My0i8rgWucmXhr/4Bz437gARx41zhVnJy6iw/FubHd2zFIiLwFDa0MXNl0DcL0/GiKfnmWY+z0ZLp8Wk22dxJgKL+QNb72ww3z+xjqvYdl9R9ggs4L9CvNI7+jSXC+HMvS8ou8UteJamQ30/R1b+hsQQO8L+XQrvij5J9a0G6n58V9NuaSbcwqiHRNK84coEcVQ0075jp8R1rcdupZcYhuPpWniaGroZ0dTGorbf718zjCG0xyMfv9YHS/L3FT16f0xTqNS+JCWChqwkNpPLxuPOeM1OFcvsRAtlpVwtoH+VDd9IPF0OcDcM2oBkfi42SqJ6tA/Nkv7S9/gR+GNcj0SsZdO1VUpI7s9PtQOM03k8XYXSXAqasI+jxD8o19zBVa+Vj2dBHXTJlFHk/3YGKBOjrV3WDvWQ348EUPN+S/krCvns5T1JoxZUZ3LOvbHy8tMoXpkD44/byWnTp1RU2PJ8guccOj5ZM4StMA08akc2zbJEru85aCHi0X62ZnU9b7wTysujOKl63FmzVhpJ2xo8NFVx/N7X+wd90EiEvaq0T3uZ95yMDHuObRwCXZBRgfdL7DvqMPTcElDm/4Rtm9K8k++jVl3FGVbgeepZ1V58jYeCUe3NXCSh8DVj4YLV77bOeqV62kGL2ZVf/6yeSo9IFb60e4LNjIwmHOEu6ipUNnPXSkiRof0OC7EPNmygivl087fD4Mo9RVJ9loWBykx/I8Xi1TzJgaxftpBR+55koHtNvwRmYf9ewogolFLbZ8CGP/+zaI3PKTvE23w2paCvu/iYCwlimkraNq+GRYo/AqNcFeq+/8MdCD+v85KeN7Xx2THprTCqW+8JszCM57+mKmMiFbUQ2PpzcjeNJ35uhfuJHyALJ78sivax9MzxlGeSb5kmHKE0pQc6QE448kgj42sfrN4TTe8AenDnhIU2U+Um6lHNTUw6G3ZRWvfnmJj8wtQUmuJ6eEjuQXy8tQ3DsNo9c0YUXvMeTwSZe9V8ojYOwhqeSPLA459eTMtJtUYN6OH8HTUXI9GkLbeSKW6XlxjGE04sIC2DBnC0c3bZD2N3/iuCMJ9PPBcsqemMlFS4IpPSMUa0eWQo/MYZT8EmorFGE9cyNqrrhhbsQUUbTBipoHOfDa006YGbIYnTuv5cPx3Vkc+HKU9EYMwaHyh+Rg4Um7xitLofFOwry3O2b6x7Yb1ndFrfCQ5nVLRlTRM3RJPErxp89SXIo6thpkYX/HZ3pUE4/9G/WRcd8ZDuV+InZtCM/3ceP5jlPJ2m0gRGi/rvA9pcHtuVdg4FLMP9udZGzbbPlrSFdyuakvVr8ZLW0euEmo1L0juZAhHSnB/ZBTcInrSgdIjzABi3LO8pwx8h0livv4W6oM+uRZ4qQ9iYttkdTzsCZcV2+DoLn9UP2wMylzNJt/308H71/liskyvDx2v9T94mLRemopMv8p4ucDXby/t0q2tOIMOx1ypYfJHUJPTwFe7YSgX+4ie/A7GN724ZoBM3jKgdfYtPISzw1YLcVq3yExsiGLs9QsKd04kVzxkNWn3qVpam3iX/sQEVLVgw2Nt4tjwx5Lmp3bsLehNz/rZEVj0625vxP4d5MOZPvvkl6oqaA18Bg03kbQubJwXM8ewF5+atiY3iIy94axqA6VUBL9GT7jt3Ckewf91G3G5Fca8G1xgYJ6ER1PiOcXybdF1LIfjCAtWHVcQX1+Hc6ZLcKQMz+Rb79RlNmZoWroVOpcEYSf/f7RAo4j8/bX6NLFH/EDX0IkJu7mb7GjJNXp6YgcvZn1It+xTs+sjnEZAcja/EP6p2dG0WY/6cZQM9JeHYWF+iY8QMmPNtt8poNhEZJOcTuNGX6Ugq7eh4Zqd37eVodlRxqlxmOOkMvZictOy0kUzT8lSq7uJvn4YLpvFETefy+wpfZAGe2IQQhQiUaHURT/d3wc/oUf6/B9chcnL9bT+9ZwDq/WYK2jvUTPT15Ild/PF5ckcbOVNwY5nJMyDlyEWJuIqfKq7Gx3WxJGS43xYNdWGuy4hb82eLGRk6UYuCaMg/MzeZCKHBkrmmD7szTs3nZa5sPulSSjdIKfTDlDJSsW86K9Qzhx4WNOVU1GwIgNPKjBBa1m96j1pjLtVthNf/I+0PeoY0Lsdrsiqc7si+k+9eTf8oc7bgzExNqNaLR1oKi2U5Rj6EJLlyri9M+vvO3kdLTYaGHBACPI9BstWncEoDq9FT1T/Nj9pqEY899calGop9IxylDOM5cUx7fgoslPSWxYkUp5qy9J69PUJNlAL/HjtRYifC9Ta/8W5IfkIXhsMV7vtEZutB925AXy9b0TKDP+A7/cNoA3JviSpUt/+mNkKkzGLmcrdVnU9slHmlcC9757WPxW8uQDw/aSmDrem2duZvJ+9lQcO9qJF3bk8K3AMejc3grH4We5wacKpp0/oqC/F5X1nkKH01WxrosB7Yk1oZUqw9js0h1OtX8Fs4hvKI9phemSkZJX/1xhJ/eKf4TsozbdhSQaq+3oX+8tNKg+Bf0W9qFhnlXUvSUTyV7HeOCIVeT3czCcwqpQtWMHV9cbdUwI7JBeNl/nMTSO665J1HNkCSozXqHLvGIKyNJCQ9NMylqWxDfdm6F36QvsuypCHL1zjtp/F+L7ZYHtbT/RrCIL/9BPPP9NCIm7tVJK/CneN7wMrd/jWOZVdxlYfJW6VMwmh0NnaMjFDZKO/nYyn1XLlx6EYUZCPNdPmseFFr3o0hlnmt/tGc85L98hXGb+Ru+7V/jfxlLJbcF4/njKDEujHenzyRTOrzIWA+/vgXXhB1bdsos6H3uOO30cZe+oJvGinGHwOjGeTKI1Wfbhd4xQmsv6wwcjwmCFuGBSIa2wUod16AayU9CXEVsvXpKkByfp+ABf8VPtA/2c+wKzRTvbBtdwaa+nmHl4K1JNl2D5JQfa17cLQgdcx4978yj+srrked8a5zb+QHPJCVL88h/1ul1Mt2w7oZehmcj+m82Wq/WY7m6UhG/xJxSNfIn4Yz4st28uNlra4q6JMn1K+ktrbiig+ck5WuHUnQomT+Ozv0J5rKU9Rj84K3UknRA7XjWQd3sWajRM2PF5E97ui+fWWz4cPPA0W3YyokHBj8n0YCuJuR+yxMxfv1hh4nNcOHUaFsuu4/eiT3AfP5mqMpl976ZhfaWLVJFpyHtuz6ZbIx5CLuUiPX7eA8vku8K5pTtpaflQyKPxyHR9B+/LAZBLzIZOeDkMtwRLG8aZQSxMOMbJhvckC7vVLB+0SXJ9p46qs3+gdtqXzSwXkUXkeh5pel7kGkwTE03tkRI+g8Mrg+G/UwuFd6bx0Df9cXVrX/aeUYUAq61Y8Ow5qXTLpA8z/8CqvisNGG1BYltNGzK3tIsLLw9QW8kXETPxFJdOimBk6CJ9Wj2yT+2ko7cz8cl+BUvjZ7NJ+EHIWXXDZzsVhOZPQN+FhYiatBPXZ2sg4PAqCl5zhhckGki3JkTx6qBhdF75JUTq6H/seiYS/vc9ELL8H571DCKLuUF0xtSUivoZIH9FDb+ymwAPKRAes5xRVb2StndroYiMu6zv9IW/OBej+X0MBVSelv7O6Y1Gh9Fwe36WTFJW4Hj/oWiaMQnCSD5CyJ4azGvP1+GIPaNKNg4XJkzoqErI4olBP6ERo4JHrRs4e99cUmwbTrs25KDtyg+0/tcfLtm2uJy4mr9tP8gnpQARtTKezy1ciWMn5pKN2zva36c/Xtg0s1jx6Sdm0iZEnrUlvec50HE8xBmVkfD68kE69rIWYVbdoHvpLeJVszl8tyrfD3JAl/x29HhnTnu67STfu+2UtOkaLkXGSvmPhnDYcTuknVBAZs0vnt2yTKrVn0BCVUpmc6WptOC7HV85pg7pjwnikuxEY7mPWFyhjIk5eei+/yoXKs7GDq9UerL8ByY7b+OcjNHS2sElpOHYgDHelWSkbSgqChvp72YvZAYCcasGku/YW9SjboUkWv1kaInCa7r38BHZ/+2Hu+YHUKxqKIUdKkCS/FZ21jLkzeFHqTXvAg7ejuGxo+ORpDcDNUX6lLx5PfuV7eBmpdNsEzoW3Uuu4+hXW7r5WAYX+q9g4737Uex/ioTi50o26POH5cYtZnOV4xx+TIdks/NkMnUi2L02GZqzTERMuge1v1lIK1e6UULZYvRJ1CfPFgsqH7+Nshcr45n9NuoVUoRamV7IvZWOlGM9EDXIn1T27iS1I09JjHrei3R2vIZHRxIdy3mHtXP7cv3cROzuESRy+/vS98VfYJ3WCTuzc7Avw0ya2lUJWd3HoyRqDnKm3cPhnRaU++MO5sVs5tm7mpBy9LS0pNZCSksZLAVXz+G7XRohnrouZ98hepR5bgir3R0AlwU98H2lNix+qMDEhvFu1Tleeifx37s97zlN7Qh92OLDPr0b0ePHej7cmijd0euH6XOvcXpOveR/WOCmd18KqEmmeQv0Rc73eowyGSMJp5AaunFbwtRBa/jJmvl00HEPtamW843Wy4yaQG6qWU66TV1ltA9NJ69jbR3KDzVpxcImLvjmTC7WE9D+oBl/66t54GkFsbhQi3xuvoP14zVIOmrIm2/Ng5u9H4misG9Yu2Qt1N9aiE0+/3jkzjze3C8Ph7rsocXKNlhwfjCs90Xi7PJKbiqolPmdY8IKh0HPcu1Z9vkSivfeJS3OOSn0nX4jYrAqjj0JIXcbg46U/Y2U+FWDqlaeJPFuiQY/0stjh/Q8qPksQ3qBFwzvHqY074dY/FGblo0phOW8WhE/bjKpr3KmNQG/qNDrB2KS7dh00x7odtWmrQaPkWRWRLtSLHFhzx7OyPKTsbMtgfTnH17rxLK4e+UPOSt9RnjTVT7T/RON2LkELxK+4T8Va3wbNguO7pOgsqwYQTGDcLrLHOwOHY2ZD6P4vzNbRGbzeU696EXhgQYwMS/A8KhxHD/JW/KZ1hneXStx+8BULNpgQWLosrfww1CqTS7kScrjpeSH68l0kh7fW9uApTNs+YzpV3Q/8QupZqWYtTIYxpuKpWxxgR52zUXMLjnxtPoSrx92tuOzSgVib94it7zewvhwIL2XLUKqTzIS71dAqCU6dgx9Zsx/yVfItuwXV7XlcPz0HGhGuHPG6eWkPu8UDx/2C8ect3LjFi+Ycw8a6tEJrouKODbsATSTNkpv/q6XKcnUweR1GZDff49q9UqkHWd2Sor91yDBxYZFfb9gmaz/nmBzxwhoOr/GzT+mcL08mDbJp1CZwyhe1+MghR4oRPQ7V4roXIfaKdasGxCPxnVDKfyOEnuxoVhnWAW1u/mo1AqQ2ourMaXWSdTuo44b3iUwe3mARKr/anjaHkK4SwP2jArgc2GPYerdD24rmxFaD9JKj5K8XsyWFoXUwo2C2G32K5F85KK0YeF9NptlBfs7R+mQbl/+YDoV9UXD6Pm3+Zwyf6+U1iNfNtRlGMYdnQhxdkQG7Kx3UFHgdISmZtHOYc78LHsQ+kw+LR2YvY1nyakKj0gVUehVzln+cTCUPcyFJqmkMfITD1mfSfPkwthqeyw3bu2D2A11cF4wAylRMUI/zoGPvJLBoH/LWPhv1MLyAVZ8/vh1mKlJmJejjLqnDagNkSO5+RdwW5VYNek24kvjEfSnAfEtzWy65y1N8EoW86t0eM+yV+R40k98G3GIta0NcGGoBV7TMalqzHKh+18eGzbMh7Acb8kVGdM6XlVt59zmQLYpGMieBkN58vEBZGK3DxfWXYDKFE3ETH6AziOTqHOvzcJsUTfQLSN+dvoV5d+QQWy8HOJGj2Lde+HkaqsGn1cSbdutgJn9+6HjnzKJoMPLsXFcmGwPxSGs1zqL9t58Kp5e6AmDRR0Yd/8IkuboS3+N+0Oj217odg1i19qBWKt1ij0y5fjayUKszrmK+Je/cG/aUWzuVAPnE2pIn/YKf3a/lL6yBn0Omg3h6qxGSzqF4vmyeeJKbiN23H6HQcND4XH5GOskNNEfoxkyF9e2SN5fPmGm6ifYZleyv38ZZgRki+Oyphhs3cD6TsO4d85NYet1jGO898EkcAudW+5G+jePwEapEv8DJ/mlhD4m5ysAAAAASUVORK5CYII=\"/>\n",
       "</pre>\n",
       "            </div>\n",
       "            </div>"
      ],
      "text/plain": [
       "ElementWithSpecs()"
      ]
     },
     "metadata": {},
     "output_type": "display_data"
    }
   ],
   "source": [
    "# specs can be displayed in the jupyter cell\n",
    "ElementWithSpecs(sim_params)"
   ]
  }
 ],
 "metadata": {
  "language_info": {
   "name": "python"
  }
 },
 "nbformat": 4,
 "nbformat_minor": 5
}
