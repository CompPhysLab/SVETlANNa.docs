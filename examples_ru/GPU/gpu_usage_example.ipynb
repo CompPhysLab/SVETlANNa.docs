{
 "cells": [
  {
   "cell_type": "code",
   "execution_count": 1,
   "metadata": {},
   "outputs": [
    {
     "name": "stdout",
     "output_type": "stream",
     "text": [
      "Requirement already satisfied: svetlanna in c:\\users\\gunne\\projects\\python\\dnn\\svetlanna.docs\\.venv\\lib\\site-packages (1.0.2)\n",
      "Requirement already satisfied: anywidget<0.10.0,>=0.9.13 in c:\\users\\gunne\\projects\\python\\dnn\\svetlanna.docs\\.venv\\lib\\site-packages (from svetlanna) (0.9.18)\n",
      "Requirement already satisfied: jinja2<4.0.0,>=3.1.6 in c:\\users\\gunne\\projects\\python\\dnn\\svetlanna.docs\\.venv\\lib\\site-packages (from svetlanna) (3.1.6)\n",
      "Requirement already satisfied: matplotlib<3.9.2 in c:\\users\\gunne\\projects\\python\\dnn\\svetlanna.docs\\.venv\\lib\\site-packages (from svetlanna) (3.9.1.post1)\n",
      "Requirement already satisfied: numpy<2.0 in c:\\users\\gunne\\projects\\python\\dnn\\svetlanna.docs\\.venv\\lib\\site-packages (from svetlanna) (1.26.4)\n",
      "Requirement already satisfied: ipywidgets>=7.6.0 in c:\\users\\gunne\\projects\\python\\dnn\\svetlanna.docs\\.venv\\lib\\site-packages (from anywidget<0.10.0,>=0.9.13->svetlanna) (8.1.5)\n",
      "Requirement already satisfied: psygnal>=0.8.1 in c:\\users\\gunne\\projects\\python\\dnn\\svetlanna.docs\\.venv\\lib\\site-packages (from anywidget<0.10.0,>=0.9.13->svetlanna) (0.12.0)\n",
      "Requirement already satisfied: typing-extensions>=4.2.0 in c:\\users\\gunne\\projects\\python\\dnn\\svetlanna.docs\\.venv\\lib\\site-packages (from anywidget<0.10.0,>=0.9.13->svetlanna) (4.13.0)\n",
      "Requirement already satisfied: MarkupSafe>=2.0 in c:\\users\\gunne\\projects\\python\\dnn\\svetlanna.docs\\.venv\\lib\\site-packages (from jinja2<4.0.0,>=3.1.6->svetlanna) (3.0.2)\n",
      "Requirement already satisfied: contourpy>=1.0.1 in c:\\users\\gunne\\projects\\python\\dnn\\svetlanna.docs\\.venv\\lib\\site-packages (from matplotlib<3.9.2->svetlanna) (1.3.1)\n",
      "Requirement already satisfied: cycler>=0.10 in c:\\users\\gunne\\projects\\python\\dnn\\svetlanna.docs\\.venv\\lib\\site-packages (from matplotlib<3.9.2->svetlanna) (0.12.1)\n",
      "Requirement already satisfied: fonttools>=4.22.0 in c:\\users\\gunne\\projects\\python\\dnn\\svetlanna.docs\\.venv\\lib\\site-packages (from matplotlib<3.9.2->svetlanna) (4.56.0)\n",
      "Requirement already satisfied: kiwisolver>=1.3.1 in c:\\users\\gunne\\projects\\python\\dnn\\svetlanna.docs\\.venv\\lib\\site-packages (from matplotlib<3.9.2->svetlanna) (1.4.8)\n",
      "Requirement already satisfied: packaging>=20.0 in c:\\users\\gunne\\projects\\python\\dnn\\svetlanna.docs\\.venv\\lib\\site-packages (from matplotlib<3.9.2->svetlanna) (24.2)\n",
      "Requirement already satisfied: pillow>=8 in c:\\users\\gunne\\projects\\python\\dnn\\svetlanna.docs\\.venv\\lib\\site-packages (from matplotlib<3.9.2->svetlanna) (11.1.0)\n",
      "Requirement already satisfied: pyparsing>=2.3.1 in c:\\users\\gunne\\projects\\python\\dnn\\svetlanna.docs\\.venv\\lib\\site-packages (from matplotlib<3.9.2->svetlanna) (3.2.3)\n",
      "Requirement already satisfied: python-dateutil>=2.7 in c:\\users\\gunne\\projects\\python\\dnn\\svetlanna.docs\\.venv\\lib\\site-packages (from matplotlib<3.9.2->svetlanna) (2.9.0.post0)\n",
      "Requirement already satisfied: comm>=0.1.3 in c:\\users\\gunne\\projects\\python\\dnn\\svetlanna.docs\\.venv\\lib\\site-packages (from ipywidgets>=7.6.0->anywidget<0.10.0,>=0.9.13->svetlanna) (0.2.2)\n",
      "Requirement already satisfied: ipython>=6.1.0 in c:\\users\\gunne\\projects\\python\\dnn\\svetlanna.docs\\.venv\\lib\\site-packages (from ipywidgets>=7.6.0->anywidget<0.10.0,>=0.9.13->svetlanna) (9.0.2)\n",
      "Requirement already satisfied: traitlets>=4.3.1 in c:\\users\\gunne\\projects\\python\\dnn\\svetlanna.docs\\.venv\\lib\\site-packages (from ipywidgets>=7.6.0->anywidget<0.10.0,>=0.9.13->svetlanna) (5.14.3)\n",
      "Requirement already satisfied: widgetsnbextension~=4.0.12 in c:\\users\\gunne\\projects\\python\\dnn\\svetlanna.docs\\.venv\\lib\\site-packages (from ipywidgets>=7.6.0->anywidget<0.10.0,>=0.9.13->svetlanna) (4.0.13)\n",
      "Requirement already satisfied: jupyterlab-widgets~=3.0.12 in c:\\users\\gunne\\projects\\python\\dnn\\svetlanna.docs\\.venv\\lib\\site-packages (from ipywidgets>=7.6.0->anywidget<0.10.0,>=0.9.13->svetlanna) (3.0.13)\n",
      "Requirement already satisfied: six>=1.5 in c:\\users\\gunne\\projects\\python\\dnn\\svetlanna.docs\\.venv\\lib\\site-packages (from python-dateutil>=2.7->matplotlib<3.9.2->svetlanna) (1.17.0)\n",
      "Requirement already satisfied: colorama in c:\\users\\gunne\\projects\\python\\dnn\\svetlanna.docs\\.venv\\lib\\site-packages (from ipython>=6.1.0->ipywidgets>=7.6.0->anywidget<0.10.0,>=0.9.13->svetlanna) (0.4.6)\n",
      "Requirement already satisfied: decorator in c:\\users\\gunne\\projects\\python\\dnn\\svetlanna.docs\\.venv\\lib\\site-packages (from ipython>=6.1.0->ipywidgets>=7.6.0->anywidget<0.10.0,>=0.9.13->svetlanna) (5.2.1)\n",
      "Requirement already satisfied: ipython-pygments-lexers in c:\\users\\gunne\\projects\\python\\dnn\\svetlanna.docs\\.venv\\lib\\site-packages (from ipython>=6.1.0->ipywidgets>=7.6.0->anywidget<0.10.0,>=0.9.13->svetlanna) (1.1.1)\n",
      "Requirement already satisfied: jedi>=0.16 in c:\\users\\gunne\\projects\\python\\dnn\\svetlanna.docs\\.venv\\lib\\site-packages (from ipython>=6.1.0->ipywidgets>=7.6.0->anywidget<0.10.0,>=0.9.13->svetlanna) (0.19.2)\n",
      "Requirement already satisfied: matplotlib-inline in c:\\users\\gunne\\projects\\python\\dnn\\svetlanna.docs\\.venv\\lib\\site-packages (from ipython>=6.1.0->ipywidgets>=7.6.0->anywidget<0.10.0,>=0.9.13->svetlanna) (0.1.7)\n",
      "Requirement already satisfied: prompt_toolkit<3.1.0,>=3.0.41 in c:\\users\\gunne\\projects\\python\\dnn\\svetlanna.docs\\.venv\\lib\\site-packages (from ipython>=6.1.0->ipywidgets>=7.6.0->anywidget<0.10.0,>=0.9.13->svetlanna) (3.0.50)\n",
      "Requirement already satisfied: pygments>=2.4.0 in c:\\users\\gunne\\projects\\python\\dnn\\svetlanna.docs\\.venv\\lib\\site-packages (from ipython>=6.1.0->ipywidgets>=7.6.0->anywidget<0.10.0,>=0.9.13->svetlanna) (2.19.1)\n",
      "Requirement already satisfied: stack_data in c:\\users\\gunne\\projects\\python\\dnn\\svetlanna.docs\\.venv\\lib\\site-packages (from ipython>=6.1.0->ipywidgets>=7.6.0->anywidget<0.10.0,>=0.9.13->svetlanna) (0.6.3)\n",
      "Requirement already satisfied: parso<0.9.0,>=0.8.4 in c:\\users\\gunne\\projects\\python\\dnn\\svetlanna.docs\\.venv\\lib\\site-packages (from jedi>=0.16->ipython>=6.1.0->ipywidgets>=7.6.0->anywidget<0.10.0,>=0.9.13->svetlanna) (0.8.4)\n",
      "Requirement already satisfied: wcwidth in c:\\users\\gunne\\projects\\python\\dnn\\svetlanna.docs\\.venv\\lib\\site-packages (from prompt_toolkit<3.1.0,>=3.0.41->ipython>=6.1.0->ipywidgets>=7.6.0->anywidget<0.10.0,>=0.9.13->svetlanna) (0.2.13)\n",
      "Requirement already satisfied: executing>=1.2.0 in c:\\users\\gunne\\projects\\python\\dnn\\svetlanna.docs\\.venv\\lib\\site-packages (from stack_data->ipython>=6.1.0->ipywidgets>=7.6.0->anywidget<0.10.0,>=0.9.13->svetlanna) (2.2.0)\n",
      "Requirement already satisfied: asttokens>=2.1.0 in c:\\users\\gunne\\projects\\python\\dnn\\svetlanna.docs\\.venv\\lib\\site-packages (from stack_data->ipython>=6.1.0->ipywidgets>=7.6.0->anywidget<0.10.0,>=0.9.13->svetlanna) (3.0.0)\n",
      "Requirement already satisfied: pure-eval in c:\\users\\gunne\\projects\\python\\dnn\\svetlanna.docs\\.venv\\lib\\site-packages (from stack_data->ipython>=6.1.0->ipywidgets>=7.6.0->anywidget<0.10.0,>=0.9.13->svetlanna) (0.2.3)\n"
     ]
    },
    {
     "name": "stderr",
     "output_type": "stream",
     "text": [
      "\n",
      "[notice] A new release of pip is available: 23.1.2 -> 25.1.1\n",
      "[notice] To update, run: python.exe -m pip install --upgrade pip\n"
     ]
    },
    {
     "name": "stdout",
     "output_type": "stream",
     "text": [
      "Requirement already satisfied: reservoirpy in c:\\users\\gunne\\projects\\python\\dnn\\svetlanna.docs\\.venv\\lib\\site-packages (0.3.13.post1)\n",
      "Requirement already satisfied: matplotlib in c:\\users\\gunne\\projects\\python\\dnn\\svetlanna.docs\\.venv\\lib\\site-packages (3.9.1.post1)\n",
      "Requirement already satisfied: tqdm in c:\\users\\gunne\\projects\\python\\dnn\\svetlanna.docs\\.venv\\lib\\site-packages (4.67.1)\n",
      "Requirement already satisfied: requests in c:\\users\\gunne\\projects\\python\\dnn\\svetlanna.docs\\.venv\\lib\\site-packages (2.32.3)\n",
      "Requirement already satisfied: av in c:\\users\\gunne\\projects\\python\\dnn\\svetlanna.docs\\.venv\\lib\\site-packages (15.0.0)\n",
      "Requirement already satisfied: scikit-image in c:\\users\\gunne\\projects\\python\\dnn\\svetlanna.docs\\.venv\\lib\\site-packages (0.25.2)\n",
      "Requirement already satisfied: py-cpuinfo in c:\\users\\gunne\\projects\\python\\dnn\\svetlanna.docs\\.venv\\lib\\site-packages (9.0.0)\n",
      "Requirement already satisfied: gputil in c:\\users\\gunne\\projects\\python\\dnn\\svetlanna.docs\\.venv\\lib\\site-packages (1.4.0)\n",
      "Requirement already satisfied: pandas in c:\\users\\gunne\\projects\\python\\dnn\\svetlanna.docs\\.venv\\lib\\site-packages (2.3.1)\n",
      "Requirement already satisfied: dill>=0.3.1.1 in c:\\users\\gunne\\projects\\python\\dnn\\svetlanna.docs\\.venv\\lib\\site-packages (from reservoirpy) (0.4.0)\n",
      "Requirement already satisfied: joblib>=0.14.1 in c:\\users\\gunne\\projects\\python\\dnn\\svetlanna.docs\\.venv\\lib\\site-packages (from reservoirpy) (1.5.1)\n",
      "Requirement already satisfied: numpy>=1.21.1 in c:\\users\\gunne\\projects\\python\\dnn\\svetlanna.docs\\.venv\\lib\\site-packages (from reservoirpy) (1.26.4)\n",
      "Requirement already satisfied: scipy>=1.4.1 in c:\\users\\gunne\\projects\\python\\dnn\\svetlanna.docs\\.venv\\lib\\site-packages (from reservoirpy) (1.15.2)\n",
      "Requirement already satisfied: contourpy>=1.0.1 in c:\\users\\gunne\\projects\\python\\dnn\\svetlanna.docs\\.venv\\lib\\site-packages (from matplotlib) (1.3.1)\n",
      "Requirement already satisfied: cycler>=0.10 in c:\\users\\gunne\\projects\\python\\dnn\\svetlanna.docs\\.venv\\lib\\site-packages (from matplotlib) (0.12.1)\n",
      "Requirement already satisfied: fonttools>=4.22.0 in c:\\users\\gunne\\projects\\python\\dnn\\svetlanna.docs\\.venv\\lib\\site-packages (from matplotlib) (4.56.0)\n",
      "Requirement already satisfied: kiwisolver>=1.3.1 in c:\\users\\gunne\\projects\\python\\dnn\\svetlanna.docs\\.venv\\lib\\site-packages (from matplotlib) (1.4.8)\n",
      "Requirement already satisfied: packaging>=20.0 in c:\\users\\gunne\\projects\\python\\dnn\\svetlanna.docs\\.venv\\lib\\site-packages (from matplotlib) (24.2)\n",
      "Requirement already satisfied: pillow>=8 in c:\\users\\gunne\\projects\\python\\dnn\\svetlanna.docs\\.venv\\lib\\site-packages (from matplotlib) (11.1.0)\n",
      "Requirement already satisfied: pyparsing>=2.3.1 in c:\\users\\gunne\\projects\\python\\dnn\\svetlanna.docs\\.venv\\lib\\site-packages (from matplotlib) (3.2.3)\n",
      "Requirement already satisfied: python-dateutil>=2.7 in c:\\users\\gunne\\projects\\python\\dnn\\svetlanna.docs\\.venv\\lib\\site-packages (from matplotlib) (2.9.0.post0)\n",
      "Requirement already satisfied: colorama in c:\\users\\gunne\\projects\\python\\dnn\\svetlanna.docs\\.venv\\lib\\site-packages (from tqdm) (0.4.6)\n",
      "Requirement already satisfied: charset-normalizer<4,>=2 in c:\\users\\gunne\\projects\\python\\dnn\\svetlanna.docs\\.venv\\lib\\site-packages (from requests) (3.4.1)\n",
      "Requirement already satisfied: idna<4,>=2.5 in c:\\users\\gunne\\projects\\python\\dnn\\svetlanna.docs\\.venv\\lib\\site-packages (from requests) (3.10)\n",
      "Requirement already satisfied: urllib3<3,>=1.21.1 in c:\\users\\gunne\\projects\\python\\dnn\\svetlanna.docs\\.venv\\lib\\site-packages (from requests) (2.3.0)\n",
      "Requirement already satisfied: certifi>=2017.4.17 in c:\\users\\gunne\\projects\\python\\dnn\\svetlanna.docs\\.venv\\lib\\site-packages (from requests) (2025.1.31)\n",
      "Requirement already satisfied: networkx>=3.0 in c:\\users\\gunne\\projects\\python\\dnn\\svetlanna.docs\\.venv\\lib\\site-packages (from scikit-image) (3.3)\n",
      "Requirement already satisfied: imageio!=2.35.0,>=2.33 in c:\\users\\gunne\\projects\\python\\dnn\\svetlanna.docs\\.venv\\lib\\site-packages (from scikit-image) (2.37.0)\n",
      "Requirement already satisfied: tifffile>=2022.8.12 in c:\\users\\gunne\\projects\\python\\dnn\\svetlanna.docs\\.venv\\lib\\site-packages (from scikit-image) (2025.6.11)\n",
      "Requirement already satisfied: lazy-loader>=0.4 in c:\\users\\gunne\\projects\\python\\dnn\\svetlanna.docs\\.venv\\lib\\site-packages (from scikit-image) (0.4)\n",
      "Requirement already satisfied: pytz>=2020.1 in c:\\users\\gunne\\projects\\python\\dnn\\svetlanna.docs\\.venv\\lib\\site-packages (from pandas) (2025.2)\n",
      "Requirement already satisfied: tzdata>=2022.7 in c:\\users\\gunne\\projects\\python\\dnn\\svetlanna.docs\\.venv\\lib\\site-packages (from pandas) (2025.2)\n",
      "Requirement already satisfied: six>=1.5 in c:\\users\\gunne\\projects\\python\\dnn\\svetlanna.docs\\.venv\\lib\\site-packages (from python-dateutil>=2.7->matplotlib) (1.17.0)\n"
     ]
    },
    {
     "name": "stderr",
     "output_type": "stream",
     "text": [
      "\n",
      "[notice] A new release of pip is available: 23.1.2 -> 25.1.1\n",
      "[notice] To update, run: python.exe -m pip install --upgrade pip\n"
     ]
    }
   ],
   "source": [
    "!pip install svetlanna\n",
    "!pip install reservoirpy matplotlib tqdm requests av scikit-image py-cpuinfo gputil pandas"
   ]
  },
  {
   "cell_type": "code",
   "execution_count": 2,
   "metadata": {},
   "outputs": [],
   "source": [
    "import time\n",
    "\n",
    "import numpy as np\n",
    "import torch\n",
    "from torch import nn\n",
    "import torchvision\n",
    "import torchvision.transforms as transforms\n",
    "from torchvision.transforms import InterpolationMode\n",
    "from tqdm import tqdm\n",
    "import matplotlib.pyplot as plt\n",
    "\n",
    "# наша библиотека\n",
    "from svetlanna import SimulationParameters\n",
    "from svetlanna.parameters import ConstrainedParameter\n",
    "from svetlanna import Wavefront\n",
    "from svetlanna import elements\n",
    "from svetlanna.setup import LinearOpticalSetup\n",
    "from svetlanna.detector import Detector, DetectorProcessorClf\n",
    "from svetlanna.transforms import ToWavefront\n",
    "\n",
    "from src.wf_datasets import DatasetOfWavefronts\n",
    "from src.wf_datasets import WavefrontsDatasetSimple"
   ]
  },
  {
   "cell_type": "markdown",
   "metadata": {},
   "source": [
    "# Решение прямой задачи дифракции с использованием графического процессора \n",
    "\n",
    "В данном примере решена прямая задача дифракции с использованием графического процессора.\n",
    "\n",
    "**<span style=\"color:red\">ПРЕДУПРЕЖДЕНИЕ.</span>** для запуска этого примера необходимо установить с [официального сайта](https://pytorch.org/get-started/locally/) версию `torch`, поддерживающую вычисления на CUDA.\n",
    "\n",
    "Также с [официального сайта NVIDIA](https://developer.nvidia.com/cuda-toolkit) необходимо установить драйвера CUDA. \n",
    "\n",
    "**<span style=\"color:red\">ВАЖНО:</span>** версия torch с поддержкой CUDA и версия драйверов CUDA должны совпадать. Версия драйверов CUDA зависит от видеокарты, на которой планируется запуск примера."
   ]
  },
  {
   "cell_type": "markdown",
   "metadata": {},
   "source": [
    "# Информация об архитектуре оптической нейронной сети\n",
    "\n",
    "В этом примере реализована простая оптическая система, которая может быть использована в качестве архитектуры для дифракционной нейронной сети. \n",
    "\n",
    "> В общем случае фаза и амплитуда каждого нейрона могут быть изучаемыми параметрами, обеспечивая комплекснозначную модуляцию на каждом слое, что улучшает производительность вывода дифракционной сети.\n",
    "\n",
    "> ... Сначала мы обучили его как классификатор цифр для автоматической классификации рукописных цифр от 0 до 9. Для этой задачи были разработаны маски пропускания, учитывающие только фазу, путём обучения **пятислойной** нейронной сети $D^2 на 55 000 изображений (из них 5000 проверочных) из базы данных рукописных цифр MNIST.\n",
    "\n",
    ">  Затем мы использовали непрерывное освещение на частоте $0,4$ $ТГц$...\n",
    "\n",
    "\n",
    "Некоторая информация из [дополнительного материала](https://www.science.org/doi/suppl/10.1126/science.aat8084/suppl_file/aat8084-lin-sm-rev-3.pdf) (информация о классификации MNIST):\n",
    "\n",
    "> Поскольку мы рассматриваем когерентное освещение, входная информация может быть закодирована в амплитудных и/или фазовых каналах входной плоскости.\n",
    "\n",
    "> Для каждого слоя $D^2NN$ мы устанавливаем размер нейрона равным $400$ $\\mu m$...\n",
    "\n",
    "> На плоскости детектор/выход мы измерили интенсивность выхода сети...\n",
    "\n",
    "#### <span style=\"color:red\">Дополнительная информация</span>\n",
    "\n",
    "В другой статье [[2]](https://ieeexplore.ieee.org/abstract/document/8732486) тех же авторов были уточнены некоторые детали:\n",
    "\n",
    "> В наших численных моделях мы использовали размер нейрона приблизительно $0,53 \\times \\lambda $\n",
    "\n",
    ">  Кроме того, высота и ширина каждого дифракционного слоя были установлены таким образом, чтобы включать $200 \\times 200 = 40 тыс.$ нейронов на слой."
   ]
  },
  {
   "cell_type": "markdown",
   "metadata": {},
   "source": [
    "# 1. Параметры симуляции"
   ]
  },
  {
   "cell_type": "code",
   "execution_count": 3,
   "metadata": {},
   "outputs": [],
   "source": [
    "working_frequency = 0.4 * 1e12 # [Гц]\n",
    "c_const = 299_792_458  # [м / с]"
   ]
  },
  {
   "cell_type": "code",
   "execution_count": 4,
   "metadata": {},
   "outputs": [
    {
     "name": "stdout",
     "output_type": "stream",
     "text": [
      "Длина волны = 749.481 нм\n"
     ]
    }
   ],
   "source": [
    "working_wavelength = c_const / working_frequency  # [м]\n",
    "print(f'Длина волны = {working_wavelength * 1e6:.3f} нм')"
   ]
  },
  {
   "cell_type": "code",
   "execution_count": 5,
   "metadata": {},
   "outputs": [
    {
     "name": "stdout",
     "output_type": "stream",
     "text": [
      "neuron size = 397.225 um\n"
     ]
    }
   ],
   "source": [
    "# размер нейрона\n",
    "neuron_size = 0.53 * working_wavelength  # [m]\n",
    "print(f'neuron size = {neuron_size * 1e6:.3f} um')"
   ]
  },
  {
   "cell_type": "code",
   "execution_count": 6,
   "metadata": {},
   "outputs": [],
   "source": [
    "DETECTOR_SIZE = (32, 32)"
   ]
  },
  {
   "cell_type": "code",
   "execution_count": 7,
   "metadata": {},
   "outputs": [
    {
     "name": "stdout",
     "output_type": "stream",
     "text": [
      "Размер слоя в нейронах: 32 x 32 = 1024\n"
     ]
    }
   ],
   "source": [
    "# количество нейронов в симуляции\n",
    "x_layer_nodes = DETECTOR_SIZE[1] * 1\n",
    "y_layer_nodes = DETECTOR_SIZE[0] * 1\n",
    "\n",
    "print(f'Размер слоя в нейронах: {x_layer_nodes} x {y_layer_nodes} = {x_layer_nodes * y_layer_nodes}')"
   ]
  },
  {
   "cell_type": "code",
   "execution_count": 8,
   "metadata": {},
   "outputs": [
    {
     "name": "stdout",
     "output_type": "stream",
     "text": [
      "Размер слоя в сантиметрах: 1.27112002192 x 1.27112002192\n"
     ]
    }
   ],
   "source": [
    "# физический размер каждого слоя - (8 x 8) [см]\n",
    "x_layer_size_m = x_layer_nodes * neuron_size  # [м]\n",
    "y_layer_size_m = y_layer_nodes * neuron_size\n",
    "\n",
    "print(f'Размер слоя в сантиметрах: {x_layer_size_m * 1e2} x {y_layer_size_m * 1e2}')"
   ]
  },
  {
   "cell_type": "code",
   "execution_count": 9,
   "metadata": {},
   "outputs": [],
   "source": [
    "SIM_PARAMS = SimulationParameters(\n",
    "    axes={\n",
    "        'W': torch.linspace(-x_layer_size_m / 2, x_layer_size_m / 2, x_layer_nodes),\n",
    "        'H': torch.linspace(-y_layer_size_m / 2, y_layer_size_m / 2, y_layer_nodes),\n",
    "        'wavelength': working_wavelength,  # only one wavelength!\n",
    "    }\n",
    ")"
   ]
  },
  {
   "cell_type": "markdown",
   "metadata": {},
   "source": [
    "# 2. Подготовка выборки данных (Инженер данных)"
   ]
  },
  {
   "cell_type": "markdown",
   "metadata": {},
   "source": [
    "## 2.1. [Выборка данных MNIST](https://www.kaggle.com/datasets/hojjatk/mnist-dataset): загрузка и преобразование в волновые фронты"
   ]
  },
  {
   "cell_type": "code",
   "execution_count": 10,
   "metadata": {},
   "outputs": [],
   "source": [
    "# инициализация директории для набора данных MNIST\n",
    "MNIST_DATA_FOLDER = './data'"
   ]
  },
  {
   "cell_type": "markdown",
   "metadata": {},
   "source": [
    "### 2.1.1. Загрузка тренировочной и тестовой выборок изображений"
   ]
  },
  {
   "cell_type": "code",
   "execution_count": 11,
   "metadata": {},
   "outputs": [],
   "source": [
    "# тренировочный набор MNIST\n",
    "mnist_train_ds = torchvision.datasets.MNIST(\n",
    "    root=MNIST_DATA_FOLDER,\n",
    "    train=True,  # для тренировочного набора\n",
    "    download=True,\n",
    ")"
   ]
  },
  {
   "cell_type": "code",
   "execution_count": 12,
   "metadata": {},
   "outputs": [
    {
     "name": "stdout",
     "output_type": "stream",
     "text": [
      "Размер тренировочой выборки: 60000\n"
     ]
    }
   ],
   "source": [
    "print(f'Размер тренировочой выборки: {len(mnist_train_ds)}')"
   ]
  },
  {
   "cell_type": "markdown",
   "metadata": {},
   "source": [
    "### 2.1.2. Детектор\n",
    "\n",
    "`DetectorProcessor` в нашей библиотеке используется для обработки информации на детекторе. Например, для текущей задачи `DetectorProcessor` должен возвращать только 10 значений, каждое из которых соответствует определенной цифре.\n",
    "\n",
    " Определим объект типа “Detector”"
   ]
  },
  {
   "cell_type": "code",
   "execution_count": 13,
   "metadata": {},
   "outputs": [],
   "source": [
    "import src.detector_segmentation as detector_segmentation"
   ]
  },
  {
   "cell_type": "code",
   "execution_count": 14,
   "metadata": {},
   "outputs": [],
   "source": [
    "number_of_classes = 10"
   ]
  },
  {
   "cell_type": "code",
   "execution_count": 15,
   "metadata": {},
   "outputs": [],
   "source": [
    "detector_segment_size = 10 * working_wavelength"
   ]
  },
  {
   "cell_type": "code",
   "execution_count": 16,
   "metadata": {},
   "outputs": [],
   "source": [
    "# размер каждого сегмента в нейронах\n",
    "x_segment_nodes = int(detector_segment_size / neuron_size)\n",
    "y_segment_nodes = int(detector_segment_size / neuron_size)"
   ]
  },
  {
   "cell_type": "code",
   "execution_count": 17,
   "metadata": {},
   "outputs": [],
   "source": [
    "y_boundary_nodes = y_segment_nodes * 9\n",
    "x_boundary_nodes = x_segment_nodes * 9"
   ]
  },
  {
   "cell_type": "code",
   "execution_count": 18,
   "metadata": {},
   "outputs": [],
   "source": [
    "DETECTOR_MASK = detector_segmentation.squares_mnist(\n",
    "    y_boundary_nodes, x_boundary_nodes,\n",
    "    SIM_PARAMS\n",
    ")"
   ]
  },
  {
   "cell_type": "markdown",
   "metadata": {},
   "source": [
    "**<span style=\"color:red\">Комментарий:</span>** Эта маска будет использована для генерации целевых изображений для каждой цифры\n",
    "\n",
    "<span style=\"color:red\">Целевое изображение:</span> нули везде кроме нужной зоны детектора! "
   ]
  },
  {
   "cell_type": "markdown",
   "metadata": {},
   "source": [
    "### 2.1.3. Преобразование изображений в волновые фронты"
   ]
  },
  {
   "cell_type": "code",
   "execution_count": 19,
   "metadata": {},
   "outputs": [],
   "source": [
    "# выбор типа модуляции\n",
    "MODULATION_TYPE = 'amp'  # используем только амплитуду для кодирования каждого изображения в волновом фронте!"
   ]
  },
  {
   "cell_type": "code",
   "execution_count": 20,
   "metadata": {},
   "outputs": [],
   "source": [
    "resize_y = int(DETECTOR_SIZE[0] / 3)\n",
    "resize_x = int(DETECTOR_SIZE[1] / 3)\n",
    "\n",
    "# отсутпы по OY\n",
    "pad_top = int((y_layer_nodes - resize_y) / 2)\n",
    "pad_bottom = y_layer_nodes - pad_top - resize_y\n",
    "# отсутпы по OX\n",
    "pad_left = int((x_layer_nodes - resize_x) / 2)\n",
    "pad_right = x_layer_nodes - pad_left - resize_x"
   ]
  },
  {
   "cell_type": "code",
   "execution_count": 21,
   "metadata": {},
   "outputs": [],
   "source": [
    "# преобразование изображений в волновой фронт\n",
    "image_transform_for_ds = transforms.Compose(\n",
    "  [\n",
    "      transforms.ToTensor(),\n",
    "      transforms.Resize(\n",
    "          size=(resize_y, resize_x),\n",
    "          interpolation=InterpolationMode.NEAREST,\n",
    "      ),\n",
    "      transforms.Pad(\n",
    "          padding=(\n",
    "              pad_left,  # левый отступ\n",
    "              pad_top,  # верхний отступ\n",
    "              pad_right,  # правый отступ\n",
    "              pad_bottom  # нижний отступ\n",
    "          ),\n",
    "          fill=0,\n",
    "      ),\n",
    "      ToWavefront(modulation_type=MODULATION_TYPE)  # <- выбранный тип модуляции!!!\n",
    "  ]\n",
    ")"
   ]
  },
  {
   "cell_type": "markdown",
   "metadata": {},
   "source": [
    "**<span style=\"color:red\">Комментарий.</span>** в этой части кода`dataset.getitem()` вернет пару `Wavefront`, в котором закодировано само изображений цифры, и целевую метку(число от 0 до 9). В течение процесса тренировки в качестве функции потерь будет использована функция среднеквадратической ошибки,также будет сгенерировано изображение детектора цели на основе зон детектора (будет инициализировано позже в 3.1.3)."
   ]
  },
  {
   "cell_type": "code",
   "execution_count": 22,
   "metadata": {},
   "outputs": [],
   "source": [
    "# тренировочный набор волновых фронтов MNIST\n",
    "mnist_wf_train_ds = DatasetOfWavefronts(\n",
    "    init_ds=mnist_train_ds,  # выборка изображений\n",
    "    transformations=image_transform_for_ds,  # преобразование изображений\n",
    "    sim_params=SIM_PARAMS,  # параметры симуляции\n",
    "    target='detector',\n",
    "    detector_mask=DETECTOR_MASK\n",
    ")"
   ]
  },
  {
   "cell_type": "markdown",
   "metadata": {},
   "source": [
    "# 3. Создание архитектуры оптической нейронной сети\n",
    "\n",
    "Будет рассмотрена архитектура оптической нейронной сети, состоящая из нескольких дифракционных слоев, преобразующих фазовое распределение падающего волнового фронта. Несколько масок будут подвержены обучению.\n",
    "\n",
    "#### <span style=\"color:red\">Дополнительная информация</span>\n",
    "\n",
    "Из статьи [[2]](https://ieeexplore.ieee.org/abstract/document/8732486):\n",
    "\n",
    "> ... аксиальное расстояние между последовательными дифракционными слоями устанавливается равным $\\sim 40 \\times \\lambda$ as in [[1]](https://www.science.org/doi/10.1126/science.aat8084) ..."
   ]
  },
  {
   "cell_type": "markdown",
   "metadata": {},
   "source": [
    "## 3.1 Инициализация параметров для создания архитектуры дифракционной нейронной сети"
   ]
  },
  {
   "cell_type": "code",
   "execution_count": 23,
   "metadata": {},
   "outputs": [],
   "source": [
    "NUM_OF_DIFF_LAYERS = 5  # число обучаемых дифракционных слоев в оптической нейронной сети\n",
    "NUM_OF_DIFF_LAYERS_NO_TRAIN = 507 # число дифракционных слоев в оптической нейронной сети без обучения\n",
    "FREE_SPACE_DISTANCE = 40 * working_wavelength  # [m] - растояние между дифракционными слоями"
   ]
  },
  {
   "cell_type": "code",
   "execution_count": 24,
   "metadata": {},
   "outputs": [
    {
     "name": "stdout",
     "output_type": "stream",
     "text": [
      "Расстояние между дифракционными слоями равно 2.998 cm\n"
     ]
    }
   ],
   "source": [
    "print(f'Расстояние между дифракционными слоями равно {FREE_SPACE_DISTANCE * 1e2:.3f} cm')"
   ]
  },
  {
   "cell_type": "code",
   "execution_count": 25,
   "metadata": {},
   "outputs": [],
   "source": [
    "MAX_PHASE = 2 * np.pi  # максимальный набег фазы для фазовых масок\n",
    "INIT_PHASE = torch.pi # начальная фаза для слоев"
   ]
  },
  {
   "cell_type": "markdown",
   "metadata": {},
   "source": [
    "**<span style=\"color:red\">Отличие от статьи.</span>** используем другой метод распространения волн из модуля `FreeSpace`, отличный от метода из статьи [2]!"
   ]
  },
  {
   "cell_type": "code",
   "execution_count": 26,
   "metadata": {},
   "outputs": [],
   "source": [
    "FREESPACE_METHOD = 'AS'"
   ]
  },
  {
   "cell_type": "code",
   "execution_count": 27,
   "metadata": {},
   "outputs": [],
   "source": [
    "INIT_PHASES = torch.ones(NUM_OF_DIFF_LAYERS) * np.pi  # начальные значения фазовых масок"
   ]
  },
  {
   "cell_type": "markdown",
   "metadata": {},
   "source": [
    "**<span style=\"color:red\">Комментарий:</span>**\n",
    "Здесь мы используем класс `ConstrainedParameter`, который использует функцию сигмоиды для ограничения параметров в ходе обучения.\n",
    "\n",
    "**<span style=\"color:red\">Комментарий:</span>** оптическая система заканчивается детектором `Detector`, который возвращает тензор выходных распределений интенсивности для каждого входного волнового фронта `Wavefront`."
   ]
  },
  {
   "cell_type": "markdown",
   "metadata": {},
   "source": [
    "## 3.2 Функции для создания архитектуры оптической нейронной сети"
   ]
  },
  {
   "cell_type": "markdown",
   "metadata": {},
   "source": [
    "Инициализируем функцию, которая создает описанную ранее оптическую систему и возвращает объект типа `LinearOpticalSetup`:"
   ]
  },
  {
   "cell_type": "code",
   "execution_count": null,
   "metadata": {},
   "outputs": [],
   "source": [
    "def set_setup():\n",
    "    \"\"\"\n",
    "    Returns an optical setup. Recreates all elements.\n",
    "    \"\"\"\n",
    "\n",
    "    global NUM_OF_DIFF_LAYERS, NUM_OF_DIFF_LAYERS_NO_TRAIN, FREE_SPACE_DISTANCE, SIM_PARAMS, FREESPACE_METHOD, INIT_PHASE\n",
    "    global SIM_PARAMS\n",
    "\n",
    "    elements_list = []\n",
    "\n",
    "    free_space = elements.FreeSpace(\n",
    "        simulation_parameters=SIM_PARAMS,\n",
    "        distance=FREE_SPACE_DISTANCE,\n",
    "        method=FREESPACE_METHOD\n",
    "    )\n",
    "\n",
    "    x_nodes, y_nodes = SIM_PARAMS.axes_size(axs=('W', 'H'))\n",
    "    const_mask = torch.ones(size=(y_nodes, x_nodes)) * INIT_PHASE\n",
    "\n",
    "    trainable_diffractive_layer = elements.DiffractiveLayer(\n",
    "        simulation_parameters=SIM_PARAMS,\n",
    "        mask=ConstrainedParameter(\n",
    "            const_mask,\n",
    "            min_value=0,\n",
    "            max_value=MAX_PHASE\n",
    "        ),\n",
    "    )\n",
    "\n",
    "    untrained_diffractive_layer = elements.DiffractiveLayer(\n",
    "        simulation_parameters=SIM_PARAMS,\n",
    "        mask=const_mask,  # Здесь мы не используем ConstrainedParameter, чтобы не ограничивать значения маски\n",
    "    )\n",
    "\n",
    "    elements_list.append(free_space)\n",
    "\n",
    "    for _ in range(NUM_OF_DIFF_LAYERS):\n",
    "        elements_list.append(trainable_diffractive_layer)\n",
    "        elements_list.append(free_space)\n",
    "    for _ in range(NUM_OF_DIFF_LAYERS_NO_TRAIN):\n",
    "        elements_list.append(untrained_diffractive_layer)\n",
    "        elements_list.append(free_space)\n",
    "\n",
    "     # Добавляем детектор в конце оптической системы\n",
    "    elements_list.append(\n",
    "        Detector(\n",
    "            simulation_parameters=SIM_PARAMS,\n",
    "            func='intensity'  # детектор возвращает интенсивность\n",
    "        )\n",
    "    )\n",
    "\n",
    "    return LinearOpticalSetup(elements=elements_list)"
   ]
  },
  {
   "cell_type": "markdown",
   "metadata": {},
   "source": [
    "## 4. Обработка детектором\n",
    "\n",
    "`DetectorProcessor` в нашей библиотеке используется для обработки информации на детекторе. Например, для текущей задачи `DetectorProcessor` должен возвращать только 10 значений, каждое из которых соответствует определенной цифре."
   ]
  },
  {
   "cell_type": "code",
   "execution_count": 32,
   "metadata": {},
   "outputs": [],
   "source": [
    "CALCULATE_ACCURACIES = True"
   ]
  },
  {
   "cell_type": "code",
   "execution_count": 33,
   "metadata": {},
   "outputs": [],
   "source": [
    "# создаем объект DetectorProcessorOzcanClf\n",
    "if CALCULATE_ACCURACIES:\n",
    "    detector_processor = DetectorProcessorClf(\n",
    "        simulation_parameters=SIM_PARAMS,\n",
    "        num_classes=number_of_classes,\n",
    "        segmented_detector=DETECTOR_MASK,\n",
    "    )\n",
    "else:\n",
    "    detector_processor = None"
   ]
  },
  {
   "cell_type": "markdown",
   "metadata": {},
   "source": [
    "# 5. Подготовка к тренировки нейронной сети"
   ]
  },
  {
   "cell_type": "markdown",
   "metadata": {},
   "source": [
    "## 5.1 Загрузка тренировочной выборки волновых фронтов"
   ]
  },
  {
   "cell_type": "code",
   "execution_count": 34,
   "metadata": {},
   "outputs": [],
   "source": [
    "# выделяем тренировочный набор данных\n",
    "train_wf_ds, _ = torch.utils.data.random_split(\n",
    "    dataset=mnist_wf_train_ds,\n",
    "    lengths=[55000, 5000],  # sizes from the article\n",
    "    generator=torch.Generator().manual_seed(178)  # for reproducibility\n",
    ")"
   ]
  },
  {
   "cell_type": "markdown",
   "metadata": {},
   "source": [
    "## 5.2 Выбор метода оптимизации весов"
   ]
  },
  {
   "cell_type": "code",
   "execution_count": 35,
   "metadata": {},
   "outputs": [],
   "source": [
    "LR = 1e-3"
   ]
  },
  {
   "cell_type": "code",
   "execution_count": 36,
   "metadata": {},
   "outputs": [],
   "source": [
    "def get_adam_optimizer(net):\n",
    "    return torch.optim.Adam(\n",
    "        params=net.parameters(),  # NETWORK PARAMETERS!\n",
    "        lr=LR\n",
    "    )"
   ]
  },
  {
   "cell_type": "markdown",
   "metadata": {},
   "source": [
    "**<span style=\"color:red\">Комментарий:</span>** в качестве функции потерь используем значение среднеквадратической ошибки `MSELoss`"
   ]
  },
  {
   "cell_type": "code",
   "execution_count": 37,
   "metadata": {},
   "outputs": [],
   "source": [
    "loss_func_clf = nn.MSELoss()\n",
    "loss_func_name = 'MSE'"
   ]
  },
  {
   "cell_type": "markdown",
   "metadata": {},
   "source": [
    "## 5.3 Прямое распространение через нейронную сеть(прямая задача дифракции)"
   ]
  },
  {
   "cell_type": "code",
   "execution_count": 39,
   "metadata": {},
   "outputs": [],
   "source": [
    "def onn_forward(\n",
    "    optical_net,\n",
    "    wavefronts_dataloader,\n",
    "    device='cpu',\n",
    "    show_process=False\n",
    "    ):\n",
    "    \"\"\"\n",
    "    Performs network's forward for all data.\n",
    "        NO DetectorProcessor\n",
    "        NO Loss\n",
    "    \"\"\"\n",
    "    optical_net.eval()  # включение режима оценки\n",
    "\n",
    "    for batch_wavefronts, batch_labels in tqdm(\n",
    "        wavefronts_dataloader,\n",
    "        total=len(wavefronts_dataloader),\n",
    "        desc='validation', position=0,\n",
    "        leave=True, disable=not show_process\n",
    "    ):\n",
    "\n",
    "        batch_size = batch_wavefronts.size()[0]\n",
    "\n",
    "        # пинование памяти для более быстрой передачи на GPU\n",
    "        batch_wavefronts = batch_wavefronts.pin_memory().to(device, non_blocking=True)\n",
    "        batch_labels = batch_labels.pin_memory().to(device, non_blocking=True)\n",
    "\n",
    "        with torch.no_grad():\n",
    "            # только прямое распространение!\n",
    "            detector_output  = optical_net(batch_wavefronts)"
   ]
  },
  {
   "cell_type": "markdown",
   "metadata": {},
   "source": [
    "# 6. Решения прямой задачи дифракции на различных вычислительных устройствах"
   ]
  },
  {
   "cell_type": "markdown",
   "metadata": {},
   "source": [
    "## 6.1 Использование GPU\n",
    "\n",
    "Для использования GPU необходимо, чтобы все обучаемые параметры, набор данный, сама нейронная сеть и параметры симуляции находились на одном вычислительном устройстве. Для переноса параметров симуляции и нейронной сети используется метод `to(<device>)` с указанием нужного устройства, доступного для использования.\n",
    "\n",
    "В случае некорректного переноса появится ошибка, сообщающая о том, что какие-то из объектов располагаются на различных вычислительных устройствах."
   ]
  },
  {
   "cell_type": "code",
   "execution_count": null,
   "metadata": {},
   "outputs": [],
   "source": [
    "gpu_info = torch.cuda.get_device_properties(0) if torch.cuda.is_available() else None\n",
    "if gpu_info:\n",
    "    print(f\"gpu name: {gpu_info.name}\")\n",
    "    print(f\"gpu memory total: {gpu_info.total_memory / 1e9:.3f} GB\")\n",
    "    print(f\"gpu compute capability: {gpu_info.major}.{gpu_info.minor}\")\n",
    "    print(f\"gpu device count: {torch.cuda.device_count()}\")"
   ]
  },
  {
   "cell_type": "code",
   "execution_count": null,
   "metadata": {},
   "outputs": [
    {
     "name": "stderr",
     "output_type": "stream",
     "text": [
      "validation: 100%|██████████| 429/429 [03:30<00:00,  2.03it/s]\n",
      "validation: 100%|██████████| 214/214 [02:07<00:00,  1.67it/s]\n",
      "validation: 100%|██████████| 107/107 [01:07<00:00,  1.59it/s]\n",
      "validation: 100%|██████████| 53/53 [00:56<00:00,  1.07s/it]\n"
     ]
    }
   ],
   "source": [
    "DEVICE = \"cuda\"\n",
    "optical_setup = set_setup()\n",
    "net = optical_setup.net.to(DEVICE)\n",
    "SIM_PARAMS = SIM_PARAMS.to(DEVICE)\n",
    "\n",
    "params = [\n",
    "    {\n",
    "        'pin_memory': True,\n",
    "        'drop_last': True,\n",
    "    },\n",
    "]\n",
    "\n",
    "\n",
    "gpu_times = {}\n",
    "batch_sizes = [128, 256, 512, 1024]\n",
    "\n",
    "for i, param in enumerate(params):\n",
    "\n",
    "    gpu_times_ = []\n",
    "\n",
    "    gpu_times[i] = gpu_times_\n",
    "\n",
    "    for bs in batch_sizes:\n",
    "        train_loader = torch.utils.data.DataLoader(\n",
    "            train_wf_ds,\n",
    "            batch_size=bs,\n",
    "            **param\n",
    "\n",
    "        )\n",
    "\n",
    "        start = time.process_time()\n",
    "        onn_forward(\n",
    "            net,\n",
    "            train_loader,\n",
    "            device='cuda',\n",
    "            show_process=True,\n",
    "        )\n",
    "        gpu_times_.append(time.process_time() - start)\n",
    "        # torch.cuda.empty_cache()"
   ]
  },
  {
   "cell_type": "markdown",
   "metadata": {},
   "source": [
    "# 6.2 Использование CPU"
   ]
  },
  {
   "cell_type": "code",
   "execution_count": 42,
   "metadata": {},
   "outputs": [
    {
     "name": "stderr",
     "output_type": "stream",
     "text": [
      "validation: 100%|██████████| 429/429 [05:13<00:00,  1.37it/s]\n",
      "validation: 100%|██████████| 214/214 [04:55<00:00,  1.38s/it]\n",
      "validation: 100%|██████████| 107/107 [04:27<00:00,  2.50s/it]\n",
      "validation: 100%|██████████| 53/53 [03:59<00:00,  4.52s/it]\n"
     ]
    }
   ],
   "source": [
    "DEVICE = \"cpu\"\n",
    "optical_setup = set_setup()\n",
    "net = optical_setup.net.to(DEVICE)\n",
    "SIM_PARAMS = SIM_PARAMS.to(DEVICE)\n",
    "\n",
    "params = [\n",
    "    {\n",
    "        'pin_memory': True,\n",
    "        'drop_last': True,\n",
    "    },\n",
    "]\n",
    "\n",
    "cpu_times = {}\n",
    "batch_sizes = [128, 256, 512, 1024]\n",
    "\n",
    "for i, param in enumerate(params):\n",
    "    cpu_times_ = []\n",
    "\n",
    "    cpu_times[i] = cpu_times_\n",
    "\n",
    "    for bs in batch_sizes:\n",
    "        train_loader = torch.utils.data.DataLoader(\n",
    "            train_wf_ds,\n",
    "            batch_size=bs,\n",
    "            **param\n",
    "\n",
    "        )\n",
    "\n",
    "        start = time.process_time()\n",
    "        onn_forward(\n",
    "            net,  # optical network composed in 3.\n",
    "            train_loader,  # dataloader of training set\n",
    "            device='cpu',\n",
    "            show_process=True,\n",
    "        )\n",
    "        cpu_times_.append(time.process_time() - start)"
   ]
  },
  {
   "cell_type": "markdown",
   "metadata": {},
   "source": [
    "## 6.3 Сравнение GPU и CPU\n",
    "\n",
    "Уже при небольших размерах расчетной сетки можно наблюдать ускорение в несколько раз при использовании gpu. Итоговое значение ускорение также зависит от выбранного для совершения вычислений устройства."
   ]
  },
  {
   "cell_type": "code",
   "execution_count": 44,
   "metadata": {},
   "outputs": [
    {
     "data": {
      "text/plain": [
       "<matplotlib.legend.Legend at 0x23b01713b90>"
      ]
     },
     "execution_count": 44,
     "metadata": {},
     "output_type": "execute_result"
    },
    {
     "data": {
      "image/png": "[encoded data removed]",
      "text/plain": [
       "<Figure size 800x400 with 1 Axes>"
      ]
     },
     "metadata": {},
     "output_type": "display_data"
    }
   ],
   "source": [
    "plt.figure(figsize=(8, 4))\n",
    "plt.title('Время решения прямой задачи,\\nразмер сетки' + rf\"${DETECTOR_SIZE[0]}\\times{DETECTOR_SIZE[1]}$\")\n",
    "plt.plot(batch_sizes, cpu_times[0], '-o', label='cpu', color=\"blue\")\n",
    "plt.plot(batch_sizes, gpu_times[0], '-o', label='gpu', color=\"red\")\n",
    "plt.yscale('log')\n",
    "plt.xscale('log')\n",
    "plt.xticks(batch_sizes,batch_sizes)\n",
    "plt.xlabel('размер батча')\n",
    "plt.ylabel('время выполнения, с')\n",
    "plt.legend()\n"
   ]
  },
  {
   "cell_type": "code",
   "execution_count": 45,
   "metadata": {},
   "outputs": [
    {
     "data": {
      "text/plain": [
       "<matplotlib.legend.Legend at 0x23b1dd05410>"
      ]
     },
     "execution_count": 45,
     "metadata": {},
     "output_type": "execute_result"
    },
    {
     "data": {
      "image/png": "[encoded data removed]",
      "text/plain": [
       "<Figure size 800x400 with 1 Axes>"
      ]
     },
     "metadata": {},
     "output_type": "display_data"
    }
   ],
   "source": [
    "plt.figure(figsize=(8, 4))\n",
    "plt.title('Время решения прямой задачи,\\nразмер сетки' + rf\"${DETECTOR_SIZE[0]}\\times{DETECTOR_SIZE[1]}$\")\n",
    "plt.plot(batch_sizes,  np.array(cpu_times[0]) / np.array(gpu_times[0]), '-o', label='cpu/gpu', color=\"green\")\n",
    "\n",
    "plt.yscale('log')\n",
    "plt.xscale('log')\n",
    "plt.xticks(batch_sizes, batch_sizes)\n",
    "plt.xlabel('размер батча')\n",
    "plt.ylabel('ускорение')\n",
    "plt.legend()"
   ]
  }
 ],
 "metadata": {
  "kernelspec": {
   "display_name": ".venv (3.11.4)",
   "language": "python",
   "name": "python3"
  },
  "language_info": {
   "codemirror_mode": {
    "name": "ipython",
    "version": 3
   },
   "file_extension": ".py",
   "mimetype": "text/x-python",
   "name": "python",
   "nbconvert_exporter": "python",
   "pygments_lexer": "ipython3",
   "version": "3.11.4"
  }
 },
 "nbformat": 4,
 "nbformat_minor": 2
}
