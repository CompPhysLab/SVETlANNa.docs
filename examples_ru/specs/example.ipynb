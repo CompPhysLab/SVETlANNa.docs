{
 "cells": [
  {
   "cell_type": "code",
   "execution_count": 1,
   "metadata": {},
   "outputs": [],
   "source": [
    "import svetlanna as sv\n",
    "import torch\n",
    "from svetlanna.units import ureg"
   ]
  },
  {
   "cell_type": "markdown",
   "metadata": {},
   "source": [
    "# Определение параметров"
   ]
  },
  {
   "cell_type": "code",
   "execution_count": 2,
   "metadata": {},
   "outputs": [],
   "source": [
    "# simulation parameters\n",
    "sim_params = sv.SimulationParameters({\n",
    "    'W': torch.linspace(-1 * ureg.cm, 1 * ureg.cm, 100),\n",
    "    'H': torch.linspace(-1 * ureg.cm, 1 * ureg.cm, 100),\n",
    "    'wavelength': 600 * ureg.nm,\n",
    "})"
   ]
  },
  {
   "cell_type": "code",
   "execution_count": 3,
   "metadata": {},
   "outputs": [
    {
     "name": "stderr",
     "output_type": "stream",
     "text": [
      "/Users/vigos/Documents/GitHub/SVETlANNa/svetlanna/elements/free_space.py:152: UserWarning: Aliasing problems may occur in the AS method. Consider reducing the distance or increasing the Nx*dx product.\n",
      "  warn(\n",
      "/Users/vigos/Documents/GitHub/SVETlANNa/svetlanna/elements/free_space.py:158: UserWarning: Aliasing problems may occur in the AS method. Consider reducing the distance or increasing the Ny*dy product.\n",
      "  warn(\n"
     ]
    }
   ],
   "source": [
    "el1 = sv.elements.ThinLens(\n",
    "    sim_params,\n",
    "    focal_length=1 * ureg.cm,\n",
    "    radius=2 * ureg.cm\n",
    ")\n",
    "\n",
    "el2 = sv.elements.FreeSpace(\n",
    "    sim_params,\n",
    "    distance=sv.Parameter([[10*ureg.cm]]),\n",
    "    method='AS'\n",
    ")\n",
    "\n",
    "el3 = sv.elements.ThinLens(\n",
    "    sim_params,\n",
    "    focal_length=sv.ConstrainedParameter(\n",
    "        1 * ureg.cm,\n",
    "        min_value=0.5 * ureg.mm,\n",
    "        max_value=10 * ureg.cm\n",
    "    ),\n",
    "    radius=2 * ureg.cm\n",
    ")\n",
    "\n",
    "el4 = sv.elements.DiffractiveLayer(\n",
    "    sim_params,\n",
    "    mask=sv.ConstrainedParameter(\n",
    "        torch.rand(100,100),\n",
    "        min_value=0,\n",
    "        max_value=2*torch.pi\n",
    "    )\n",
    ")"
   ]
  },
  {
   "cell_type": "code",
   "execution_count": 4,
   "metadata": {},
   "outputs": [],
   "source": [
    "setup = sv.LinearOpticalSetup(\n",
    "    [el1, el2, el3, el4]\n",
    ")"
   ]
  },
  {
   "cell_type": "markdown",
   "metadata": {},
   "source": [
    "# Запись спецификаций\n",
    "\n",
    "Спецификации могут быть записаны путем указания последовательности элементов:"
   ]
  },
  {
   "cell_type": "code",
   "execution_count": 5,
   "metadata": {},
   "outputs": [],
   "source": [
    "from svetlanna.specs.specs_writer import write_specs\n",
    "\n",
    "write_specs(\n",
    "    el1, el2, el3, el4, filename='specs.txt'\n",
    ")"
   ]
  },
  {
   "cell_type": "markdown",
   "metadata": {},
   "source": [
    "Каталог и имя файла спецификаций можно изменить с помощью соответствующих аргументов.\n",
    "В настоящее время файлы спецификаций могут иметь расширение `.txt` или `.md`."
   ]
  },
  {
   "cell_type": "code",
   "execution_count": 6,
   "metadata": {},
   "outputs": [],
   "source": [
    "# same as before, using elements from setup and markdown specs file\n",
    "write_specs(\n",
    "    *setup.elements, directory='specs', filename='specs.md'\n",
    ")"
   ]
  },
  {
   "cell_type": "markdown",
   "metadata": {},
   "source": [
    "# Возможности ipython\n",
    "\n",
    "Характеристики каждого элемента можно отобразить с помощью метода `_repr_html_`:"
   ]
  },
  {
   "cell_type": "code",
   "execution_count": 7,
   "metadata": {},
   "outputs": [
    {
     "data": {
      "text/html": [
       "<div style=\"font-family:monospace;\">\n",
       "        <div style=\"margin-top:0.5rem;\">\n",
       "            <b>focal_length</b>\n",
       "        </div>\n",
       "        \n",
       "            <div style=\"margin-bottom: 0.5rem;padding-left: 2rem;\">\n",
       "<pre style=\"white-space:pre-wrap;\">0.01\n",
       "</pre>\n",
       "            </div>\n",
       "            \n",
       "        <div style=\"margin-top:0.5rem;\">\n",
       "            <b>radius</b>\n",
       "        </div>\n",
       "        \n",
       "            <div style=\"margin-bottom: 0.5rem;padding-left: 2rem;\">\n",
       "<pre style=\"white-space:pre-wrap;\">0.02\n",
       "</pre>\n",
       "            </div>\n",
       "            </div>"
      ],
      "text/plain": [
       "ThinLens()"
      ]
     },
     "execution_count": 7,
     "metadata": {},
     "output_type": "execute_result"
    }
   ],
   "source": [
    "el1"
   ]
  },
  {
   "cell_type": "code",
   "execution_count": 8,
   "metadata": {},
   "outputs": [
    {
     "data": {
      "text/html": [
       "<div style=\"font-family:monospace;\">\n",
       "        <div style=\"margin-top:0.5rem;\">\n",
       "            <b>mask</b>\n",
       "        </div>\n",
       "        \n",
       "            <div style=\"margin-bottom: 0.5rem;padding-left: 2rem;\">\n",
       "<pre style=\"white-space:pre-wrap;\">ConstrainedParameter of size (100x100)\n",
       "</pre>\n",
       "            </div>\n",
       "            \n",
       "            <div style=\"margin-bottom: 0.5rem;padding-left: 2rem;\">\n",
       "<pre style=\"white-space:pre-wrap;\">\n",
       "<img class=\"spec-img\" src=\"data:image/png;base64, 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\"/>\n",
       "</pre>\n",
       "            </div>\n",
       "            \n",
       "        <div style=\"margin-top:0.5rem;\">\n",
       "            <b>mask_norm</b>\n",
       "        </div>\n",
       "        \n",
       "            <div style=\"margin-bottom: 0.5rem;padding-left: 2rem;\">\n",
       "<pre style=\"white-space:pre-wrap;\">6.283185307179586\n",
       "</pre>\n",
       "            </div>\n",
       "            </div>"
      ],
      "text/plain": [
       "DiffractiveLayer(\n",
       "  (mask_svtlnn_inner_parameter): InnerParameterStorageModule()\n",
       ")"
      ]
     },
     "execution_count": 8,
     "metadata": {},
     "output_type": "execute_result"
    }
   ],
   "source": [
    "el4"
   ]
  }
 ],
 "metadata": {
  "kernelspec": {
   "display_name": ".venv",
   "language": "python",
   "name": "python3"
  },
  "language_info": {
   "codemirror_mode": {
    "name": "ipython",
    "version": 3
   },
   "file_extension": ".py",
   "mimetype": "text/x-python",
   "name": "python",
   "nbconvert_exporter": "python",
   "pygments_lexer": "ipython3",
   "version": "3.11.9"
  }
 },
 "nbformat": 4,
 "nbformat_minor": 4
}
