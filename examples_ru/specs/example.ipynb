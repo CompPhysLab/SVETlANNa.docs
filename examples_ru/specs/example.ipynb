{
 "cells": [
  {
   "cell_type": "code",
   "execution_count": null,
   "metadata": {},
   "outputs": [],
   "source": [
    "!pip install svetlanna\n",
    "!pip install reservoirpy matplotlib tqdm requests av scikit-image py-cpuinfo gputil pandas"
   ]
  },
  {
   "cell_type": "code",
   "execution_count": 1,
   "metadata": {},
   "outputs": [],
   "source": [
    "import svetlanna as sv\n",
    "import torch\n",
    "from svetlanna.units import ureg"
   ]
  },
  {
   "cell_type": "markdown",
   "metadata": {},
   "source": [
    "# Определение параметров"
   ]
  },
  {
   "cell_type": "code",
   "execution_count": 2,
   "metadata": {},
   "outputs": [],
   "source": [
    "# simulation parameters\n",
    "sim_params = sv.SimulationParameters({\n",
    "    'W': torch.linspace(-1 * ureg.cm, 1 * ureg.cm, 100),\n",
    "    'H': torch.linspace(-1 * ureg.cm, 1 * ureg.cm, 100),\n",
    "    'wavelength': 600 * ureg.nm,\n",
    "})"
   ]
  },
  {
   "cell_type": "code",
   "execution_count": 3,
   "metadata": {},
   "outputs": [
    {
     "name": "stderr",
     "output_type": "stream",
     "text": [
      "c:\\Users\\gunne\\projects\\python\\dnn\\SVETlANNa.docs\\.venv\\Lib\\site-packages\\svetlanna\\elements\\free_space.py:153: UserWarning: Aliasing problems may occur in the AS method. Consider reducing the distance or increasing the Nx*dx product.\n",
      "  warn(\n",
      "c:\\Users\\gunne\\projects\\python\\dnn\\SVETlANNa.docs\\.venv\\Lib\\site-packages\\svetlanna\\elements\\free_space.py:159: UserWarning: Aliasing problems may occur in the AS method. Consider reducing the distance or increasing the Ny*dy product.\n",
      "  warn(\n"
     ]
    }
   ],
   "source": [
    "el1 = sv.elements.ThinLens(\n",
    "    sim_params,\n",
    "    focal_length=1 * ureg.cm,\n",
    "    radius=2 * ureg.cm\n",
    ")\n",
    "\n",
    "el2 = sv.elements.FreeSpace(\n",
    "    sim_params,\n",
    "    distance=sv.Parameter([[10*ureg.cm]]),\n",
    "    method='AS'\n",
    ")\n",
    "\n",
    "el3 = sv.elements.ThinLens(\n",
    "    sim_params,\n",
    "    focal_length=sv.ConstrainedParameter(\n",
    "        1 * ureg.cm,\n",
    "        min_value=0.5 * ureg.mm,\n",
    "        max_value=10 * ureg.cm\n",
    "    ),\n",
    "    radius=2 * ureg.cm\n",
    ")\n",
    "\n",
    "el4 = sv.elements.DiffractiveLayer(\n",
    "    sim_params,\n",
    "    mask=sv.ConstrainedParameter(\n",
    "        torch.rand(100,100),\n",
    "        min_value=0,\n",
    "        max_value=2*torch.pi\n",
    "    )\n",
    ")"
   ]
  },
  {
   "cell_type": "code",
   "execution_count": 4,
   "metadata": {},
   "outputs": [],
   "source": [
    "setup = sv.LinearOpticalSetup(\n",
    "    [el1, el2, el3, el4]\n",
    ")"
   ]
  },
  {
   "cell_type": "markdown",
   "metadata": {},
   "source": [
    "# Запись спецификаций\n",
    "\n",
    "Спецификации могут быть записаны путем указания последовательности элементов:"
   ]
  },
  {
   "cell_type": "code",
   "execution_count": 5,
   "metadata": {},
   "outputs": [
    {
     "data": {
      "text/plain": [
       "<svetlanna.specs.specs_writer._ElementsIterator at 0x19c3ae73dd0>"
      ]
     },
     "execution_count": 5,
     "metadata": {},
     "output_type": "execute_result"
    }
   ],
   "source": [
    "from svetlanna.specs.specs_writer import write_specs\n",
    "\n",
    "write_specs(\n",
    "    el1, el2, el3, el4, filename='specs.txt'\n",
    ")"
   ]
  },
  {
   "cell_type": "markdown",
   "metadata": {},
   "source": [
    "Каталог и имя файла спецификаций можно изменить с помощью соответствующих аргументов.\n",
    "В настоящее время файлы спецификаций могут иметь расширение `.txt` или `.md`."
   ]
  },
  {
   "cell_type": "code",
   "execution_count": 6,
   "metadata": {},
   "outputs": [
    {
     "data": {
      "text/plain": [
       "<svetlanna.specs.specs_writer._ElementsIterator at 0x19c3af28790>"
      ]
     },
     "execution_count": 6,
     "metadata": {},
     "output_type": "execute_result"
    }
   ],
   "source": [
    "# same as before, using elements from setup and markdown specs file\n",
    "write_specs(\n",
    "    *setup.elements, directory='specs', filename='specs.md'\n",
    ")"
   ]
  },
  {
   "cell_type": "markdown",
   "metadata": {},
   "source": [
    "# Возможности ipython\n",
    "\n",
    "Характеристики каждого элемента можно отобразить с помощью метода `_repr_html_`:"
   ]
  },
  {
   "cell_type": "code",
   "execution_count": 7,
   "metadata": {},
   "outputs": [
    {
     "data": {
      "text/html": [
       "<div style=\"font-family:monospace;\">\n",
       "        <div style=\"margin-top:0.5rem;\">\n",
       "            <b>focal_length</b>\n",
       "        </div>\n",
       "        \n",
       "            <div style=\"margin-bottom: 0.5rem;padding-left: 2rem;\">\n",
       "<pre style=\"white-space:pre-wrap;\">0.01\n",
       "</pre>\n",
       "            </div>\n",
       "            \n",
       "        <div style=\"margin-top:0.5rem;\">\n",
       "            <b>radius</b>\n",
       "        </div>\n",
       "        \n",
       "            <div style=\"margin-bottom: 0.5rem;padding-left: 2rem;\">\n",
       "<pre style=\"white-space:pre-wrap;\">0.02\n",
       "</pre>\n",
       "            </div>\n",
       "            </div>"
      ],
      "text/plain": [
       "ThinLens()"
      ]
     },
     "execution_count": 7,
     "metadata": {},
     "output_type": "execute_result"
    }
   ],
   "source": [
    "el1"
   ]
  },
  {
   "cell_type": "code",
   "execution_count": 8,
   "metadata": {},
   "outputs": [
    {
     "data": {
      "text/html": [
       "<div style=\"font-family:monospace;\">\n",
       "        <div style=\"margin-top:0.5rem;\">\n",
       "            <b>mask</b>\n",
       "        </div>\n",
       "        \n",
       "            <div style=\"margin-bottom: 0.5rem;padding-left: 2rem;\">\n",
       "<pre style=\"white-space:pre-wrap;\">ConstrainedParameter of size (100x100)\n",
       "</pre>\n",
       "            </div>\n",
       "            \n",
       "            <div style=\"margin-bottom: 0.5rem;padding-left: 2rem;\">\n",
       "<pre style=\"white-space:pre-wrap;\">\n",
       "<img style=\"min-width:7rem;min-height:7rem;max-width:12rem;max-height:12rem;object-fit:contain;image-rendering:pixelated;\" src=\"data:image/png;base64, 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\"/>\n",
       "</pre>\n",
       "            </div>\n",
       "            \n",
       "        <div style=\"margin-top:0.5rem;\">\n",
       "            <b>mask_norm</b>\n",
       "        </div>\n",
       "        \n",
       "            <div style=\"margin-bottom: 0.5rem;padding-left: 2rem;\">\n",
       "<pre style=\"white-space:pre-wrap;\">6.283185307179586\n",
       "</pre>\n",
       "            </div>\n",
       "            </div>"
      ],
      "text/plain": [
       "DiffractiveLayer(\n",
       "  (mask_svtlnn_inner_parameter): InnerParameterStorageModule()\n",
       ")"
      ]
     },
     "execution_count": 8,
     "metadata": {},
     "output_type": "execute_result"
    }
   ],
   "source": [
    "el4"
   ]
  }
 ],
 "metadata": {
  "kernelspec": {
   "display_name": ".venv (3.11.4)",
   "language": "python",
   "name": "python3"
  },
  "language_info": {
   "codemirror_mode": {
    "name": "ipython",
    "version": 3
   },
   "file_extension": ".py",
   "mimetype": "text/x-python",
   "name": "python",
   "nbconvert_exporter": "python",
   "pygments_lexer": "ipython3",
   "version": "3.11.4"
  }
 },
 "nbformat": 4,
 "nbformat_minor": 4
}
