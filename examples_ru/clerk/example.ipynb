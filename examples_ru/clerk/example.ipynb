{
 "cells": [
  {
   "cell_type": "code",
   "execution_count": 10,
   "id": "2b558262",
   "metadata": {},
   "outputs": [
    {
     "name": "stdout",
     "output_type": "stream",
     "text": [
      "Requirement already satisfied: svetlanna in c:\\users\\gunne\\projects\\python\\dnn\\svetlanna.docs\\.venv\\lib\\site-packages (1.0.2)\n",
      "Requirement already satisfied: anywidget<0.10.0,>=0.9.13 in c:\\users\\gunne\\projects\\python\\dnn\\svetlanna.docs\\.venv\\lib\\site-packages (from svetlanna) (0.9.18)\n",
      "Requirement already satisfied: jinja2<4.0.0,>=3.1.6 in c:\\users\\gunne\\projects\\python\\dnn\\svetlanna.docs\\.venv\\lib\\site-packages (from svetlanna) (3.1.6)\n",
      "Requirement already satisfied: matplotlib<3.9.2 in c:\\users\\gunne\\projects\\python\\dnn\\svetlanna.docs\\.venv\\lib\\site-packages (from svetlanna) (3.9.1.post1)\n",
      "Requirement already satisfied: numpy<2.0 in c:\\users\\gunne\\projects\\python\\dnn\\svetlanna.docs\\.venv\\lib\\site-packages (from svetlanna) (1.26.4)\n",
      "Requirement already satisfied: ipywidgets>=7.6.0 in c:\\users\\gunne\\projects\\python\\dnn\\svetlanna.docs\\.venv\\lib\\site-packages (from anywidget<0.10.0,>=0.9.13->svetlanna) (8.1.5)\n",
      "Requirement already satisfied: psygnal>=0.8.1 in c:\\users\\gunne\\projects\\python\\dnn\\svetlanna.docs\\.venv\\lib\\site-packages (from anywidget<0.10.0,>=0.9.13->svetlanna) (0.12.0)\n",
      "Requirement already satisfied: typing-extensions>=4.2.0 in c:\\users\\gunne\\projects\\python\\dnn\\svetlanna.docs\\.venv\\lib\\site-packages (from anywidget<0.10.0,>=0.9.13->svetlanna) (4.13.0)\n",
      "Requirement already satisfied: MarkupSafe>=2.0 in c:\\users\\gunne\\projects\\python\\dnn\\svetlanna.docs\\.venv\\lib\\site-packages (from jinja2<4.0.0,>=3.1.6->svetlanna) (3.0.2)\n",
      "Requirement already satisfied: contourpy>=1.0.1 in c:\\users\\gunne\\projects\\python\\dnn\\svetlanna.docs\\.venv\\lib\\site-packages (from matplotlib<3.9.2->svetlanna) (1.3.1)\n",
      "Requirement already satisfied: cycler>=0.10 in c:\\users\\gunne\\projects\\python\\dnn\\svetlanna.docs\\.venv\\lib\\site-packages (from matplotlib<3.9.2->svetlanna) (0.12.1)\n",
      "Requirement already satisfied: fonttools>=4.22.0 in c:\\users\\gunne\\projects\\python\\dnn\\svetlanna.docs\\.venv\\lib\\site-packages (from matplotlib<3.9.2->svetlanna) (4.56.0)\n",
      "Requirement already satisfied: kiwisolver>=1.3.1 in c:\\users\\gunne\\projects\\python\\dnn\\svetlanna.docs\\.venv\\lib\\site-packages (from matplotlib<3.9.2->svetlanna) (1.4.8)\n",
      "Requirement already satisfied: packaging>=20.0 in c:\\users\\gunne\\projects\\python\\dnn\\svetlanna.docs\\.venv\\lib\\site-packages (from matplotlib<3.9.2->svetlanna) (24.2)\n",
      "Requirement already satisfied: pillow>=8 in c:\\users\\gunne\\projects\\python\\dnn\\svetlanna.docs\\.venv\\lib\\site-packages (from matplotlib<3.9.2->svetlanna) (11.1.0)\n",
      "Requirement already satisfied: pyparsing>=2.3.1 in c:\\users\\gunne\\projects\\python\\dnn\\svetlanna.docs\\.venv\\lib\\site-packages (from matplotlib<3.9.2->svetlanna) (3.2.3)\n",
      "Requirement already satisfied: python-dateutil>=2.7 in c:\\users\\gunne\\projects\\python\\dnn\\svetlanna.docs\\.venv\\lib\\site-packages (from matplotlib<3.9.2->svetlanna) (2.9.0.post0)\n",
      "Requirement already satisfied: comm>=0.1.3 in c:\\users\\gunne\\projects\\python\\dnn\\svetlanna.docs\\.venv\\lib\\site-packages (from ipywidgets>=7.6.0->anywidget<0.10.0,>=0.9.13->svetlanna) (0.2.2)\n",
      "Requirement already satisfied: ipython>=6.1.0 in c:\\users\\gunne\\projects\\python\\dnn\\svetlanna.docs\\.venv\\lib\\site-packages (from ipywidgets>=7.6.0->anywidget<0.10.0,>=0.9.13->svetlanna) (9.0.2)\n",
      "Requirement already satisfied: traitlets>=4.3.1 in c:\\users\\gunne\\projects\\python\\dnn\\svetlanna.docs\\.venv\\lib\\site-packages (from ipywidgets>=7.6.0->anywidget<0.10.0,>=0.9.13->svetlanna) (5.14.3)\n",
      "Requirement already satisfied: widgetsnbextension~=4.0.12 in c:\\users\\gunne\\projects\\python\\dnn\\svetlanna.docs\\.venv\\lib\\site-packages (from ipywidgets>=7.6.0->anywidget<0.10.0,>=0.9.13->svetlanna) (4.0.13)\n",
      "Requirement already satisfied: jupyterlab-widgets~=3.0.12 in c:\\users\\gunne\\projects\\python\\dnn\\svetlanna.docs\\.venv\\lib\\site-packages (from ipywidgets>=7.6.0->anywidget<0.10.0,>=0.9.13->svetlanna) (3.0.13)\n",
      "Requirement already satisfied: six>=1.5 in c:\\users\\gunne\\projects\\python\\dnn\\svetlanna.docs\\.venv\\lib\\site-packages (from python-dateutil>=2.7->matplotlib<3.9.2->svetlanna) (1.17.0)\n",
      "Requirement already satisfied: colorama in c:\\users\\gunne\\projects\\python\\dnn\\svetlanna.docs\\.venv\\lib\\site-packages (from ipython>=6.1.0->ipywidgets>=7.6.0->anywidget<0.10.0,>=0.9.13->svetlanna) (0.4.6)\n",
      "Requirement already satisfied: decorator in c:\\users\\gunne\\projects\\python\\dnn\\svetlanna.docs\\.venv\\lib\\site-packages (from ipython>=6.1.0->ipywidgets>=7.6.0->anywidget<0.10.0,>=0.9.13->svetlanna) (5.2.1)\n",
      "Requirement already satisfied: ipython-pygments-lexers in c:\\users\\gunne\\projects\\python\\dnn\\svetlanna.docs\\.venv\\lib\\site-packages (from ipython>=6.1.0->ipywidgets>=7.6.0->anywidget<0.10.0,>=0.9.13->svetlanna) (1.1.1)\n",
      "Requirement already satisfied: jedi>=0.16 in c:\\users\\gunne\\projects\\python\\dnn\\svetlanna.docs\\.venv\\lib\\site-packages (from ipython>=6.1.0->ipywidgets>=7.6.0->anywidget<0.10.0,>=0.9.13->svetlanna) (0.19.2)\n",
      "Requirement already satisfied: matplotlib-inline in c:\\users\\gunne\\projects\\python\\dnn\\svetlanna.docs\\.venv\\lib\\site-packages (from ipython>=6.1.0->ipywidgets>=7.6.0->anywidget<0.10.0,>=0.9.13->svetlanna) (0.1.7)\n",
      "Requirement already satisfied: prompt_toolkit<3.1.0,>=3.0.41 in c:\\users\\gunne\\projects\\python\\dnn\\svetlanna.docs\\.venv\\lib\\site-packages (from ipython>=6.1.0->ipywidgets>=7.6.0->anywidget<0.10.0,>=0.9.13->svetlanna) (3.0.50)\n",
      "Requirement already satisfied: pygments>=2.4.0 in c:\\users\\gunne\\projects\\python\\dnn\\svetlanna.docs\\.venv\\lib\\site-packages (from ipython>=6.1.0->ipywidgets>=7.6.0->anywidget<0.10.0,>=0.9.13->svetlanna) (2.19.1)\n",
      "Requirement already satisfied: stack_data in c:\\users\\gunne\\projects\\python\\dnn\\svetlanna.docs\\.venv\\lib\\site-packages (from ipython>=6.1.0->ipywidgets>=7.6.0->anywidget<0.10.0,>=0.9.13->svetlanna) (0.6.3)\n",
      "Requirement already satisfied: parso<0.9.0,>=0.8.4 in c:\\users\\gunne\\projects\\python\\dnn\\svetlanna.docs\\.venv\\lib\\site-packages (from jedi>=0.16->ipython>=6.1.0->ipywidgets>=7.6.0->anywidget<0.10.0,>=0.9.13->svetlanna) (0.8.4)\n",
      "Requirement already satisfied: wcwidth in c:\\users\\gunne\\projects\\python\\dnn\\svetlanna.docs\\.venv\\lib\\site-packages (from prompt_toolkit<3.1.0,>=3.0.41->ipython>=6.1.0->ipywidgets>=7.6.0->anywidget<0.10.0,>=0.9.13->svetlanna) (0.2.13)\n",
      "Requirement already satisfied: executing>=1.2.0 in c:\\users\\gunne\\projects\\python\\dnn\\svetlanna.docs\\.venv\\lib\\site-packages (from stack_data->ipython>=6.1.0->ipywidgets>=7.6.0->anywidget<0.10.0,>=0.9.13->svetlanna) (2.2.0)\n",
      "Requirement already satisfied: asttokens>=2.1.0 in c:\\users\\gunne\\projects\\python\\dnn\\svetlanna.docs\\.venv\\lib\\site-packages (from stack_data->ipython>=6.1.0->ipywidgets>=7.6.0->anywidget<0.10.0,>=0.9.13->svetlanna) (3.0.0)\n",
      "Requirement already satisfied: pure-eval in c:\\users\\gunne\\projects\\python\\dnn\\svetlanna.docs\\.venv\\lib\\site-packages (from stack_data->ipython>=6.1.0->ipywidgets>=7.6.0->anywidget<0.10.0,>=0.9.13->svetlanna) (0.2.3)\n"
     ]
    },
    {
     "name": "stderr",
     "output_type": "stream",
     "text": [
      "\n",
      "[notice] A new release of pip is available: 23.1.2 -> 25.1.1\n",
      "[notice] To update, run: python.exe -m pip install --upgrade pip\n"
     ]
    },
    {
     "name": "stdout",
     "output_type": "stream",
     "text": [
      "Requirement already satisfied: reservoirpy in c:\\users\\gunne\\projects\\python\\dnn\\svetlanna.docs\\.venv\\lib\\site-packages (0.3.13.post1)\n",
      "Requirement already satisfied: matplotlib in c:\\users\\gunne\\projects\\python\\dnn\\svetlanna.docs\\.venv\\lib\\site-packages (3.9.1.post1)\n",
      "Requirement already satisfied: tqdm in c:\\users\\gunne\\projects\\python\\dnn\\svetlanna.docs\\.venv\\lib\\site-packages (4.67.1)\n",
      "Requirement already satisfied: requests in c:\\users\\gunne\\projects\\python\\dnn\\svetlanna.docs\\.venv\\lib\\site-packages (2.32.3)\n",
      "Requirement already satisfied: av in c:\\users\\gunne\\projects\\python\\dnn\\svetlanna.docs\\.venv\\lib\\site-packages (15.0.0)\n",
      "Requirement already satisfied: scikit-image in c:\\users\\gunne\\projects\\python\\dnn\\svetlanna.docs\\.venv\\lib\\site-packages (0.25.2)\n",
      "Requirement already satisfied: py-cpuinfo in c:\\users\\gunne\\projects\\python\\dnn\\svetlanna.docs\\.venv\\lib\\site-packages (9.0.0)\n",
      "Requirement already satisfied: gputil in c:\\users\\gunne\\projects\\python\\dnn\\svetlanna.docs\\.venv\\lib\\site-packages (1.4.0)\n",
      "Collecting pandas\n",
      "  Downloading pandas-2.3.1-cp311-cp311-win_amd64.whl (11.3 MB)\n",
      "                                              0.0/11.3 MB ? eta -:--:--\n",
      "                                              0.0/11.3 MB ? eta -:--:--\n",
      "                                             0.1/11.3 MB 656.4 kB/s eta 0:00:18\n",
      "                                             0.1/11.3 MB 563.7 kB/s eta 0:00:20\n",
      "                                             0.1/11.3 MB 722.1 kB/s eta 0:00:16\n",
      "                                             0.2/11.3 MB 766.6 kB/s eta 0:00:15\n",
      "                                             0.2/11.3 MB 831.5 kB/s eta 0:00:14\n",
      "                                             0.2/11.3 MB 801.7 kB/s eta 0:00:14\n",
      "                                             0.3/11.3 MB 780.5 kB/s eta 0:00:15\n",
      "     -                                       0.3/11.3 MB 819.2 kB/s eta 0:00:14\n",
      "     -                                       0.4/11.3 MB 882.8 kB/s eta 0:00:13\n",
      "     -                                       0.4/11.3 MB 882.8 kB/s eta 0:00:13\n",
      "     -                                       0.4/11.3 MB 755.6 kB/s eta 0:00:15\n",
      "     -                                       0.5/11.3 MB 805.0 kB/s eta 0:00:14\n",
      "     -                                       0.5/11.3 MB 773.5 kB/s eta 0:00:15\n",
      "     -                                       0.5/11.3 MB 796.1 kB/s eta 0:00:14\n",
      "     --                                      0.6/11.3 MB 844.8 kB/s eta 0:00:13\n",
      "     --                                      0.6/11.3 MB 832.9 kB/s eta 0:00:13\n",
      "     --                                      0.7/11.3 MB 860.8 kB/s eta 0:00:13\n",
      "     --                                      0.7/11.3 MB 865.7 kB/s eta 0:00:13\n",
      "     --                                      0.8/11.3 MB 912.8 kB/s eta 0:00:12\n",
      "     --                                      0.9/11.3 MB 921.8 kB/s eta 0:00:12\n",
      "     ---                                     0.9/11.3 MB 961.7 kB/s eta 0:00:11\n",
      "     ---                                     1.0/11.3 MB 962.6 kB/s eta 0:00:11\n",
      "     ---                                     1.0/11.3 MB 954.6 kB/s eta 0:00:11\n",
      "     ---                                     1.1/11.3 MB 997.2 kB/s eta 0:00:11\n",
      "     ---                                     1.1/11.3 MB 997.1 kB/s eta 0:00:11\n",
      "     ----                                     1.2/11.3 MB 1.0 MB/s eta 0:00:10\n",
      "     ----                                     1.3/11.3 MB 1.0 MB/s eta 0:00:10\n",
      "     ----                                     1.4/11.3 MB 1.0 MB/s eta 0:00:10\n",
      "     ----                                     1.4/11.3 MB 1.1 MB/s eta 0:00:10\n",
      "     -----                                    1.5/11.3 MB 1.1 MB/s eta 0:00:10\n",
      "     -----                                    1.5/11.3 MB 1.1 MB/s eta 0:00:09\n",
      "     -----                                    1.6/11.3 MB 1.1 MB/s eta 0:00:09\n",
      "     -----                                    1.7/11.3 MB 1.1 MB/s eta 0:00:09\n",
      "     ------                                   1.7/11.3 MB 1.1 MB/s eta 0:00:09\n",
      "     ------                                   1.8/11.3 MB 1.1 MB/s eta 0:00:09\n",
      "     ------                                   1.9/11.3 MB 1.1 MB/s eta 0:00:09\n",
      "     -------                                  2.0/11.3 MB 1.2 MB/s eta 0:00:08\n",
      "     -------                                  2.1/11.3 MB 1.2 MB/s eta 0:00:08\n",
      "     -------                                  2.2/11.3 MB 1.2 MB/s eta 0:00:08\n",
      "     -------                                  2.3/11.3 MB 1.2 MB/s eta 0:00:08\n",
      "     --------                                 2.4/11.3 MB 1.3 MB/s eta 0:00:08\n",
      "     --------                                 2.5/11.3 MB 1.3 MB/s eta 0:00:07\n",
      "     ---------                                2.6/11.3 MB 1.3 MB/s eta 0:00:07\n",
      "     ---------                                2.7/11.3 MB 1.3 MB/s eta 0:00:07\n",
      "     ---------                                2.8/11.3 MB 1.4 MB/s eta 0:00:07\n",
      "     ----------                               2.9/11.3 MB 1.4 MB/s eta 0:00:07\n",
      "     ----------                               3.0/11.3 MB 1.4 MB/s eta 0:00:06\n",
      "     ----------                               3.1/11.3 MB 1.4 MB/s eta 0:00:06\n",
      "     -----------                              3.2/11.3 MB 1.4 MB/s eta 0:00:06\n",
      "     -----------                              3.3/11.3 MB 1.5 MB/s eta 0:00:06\n",
      "     -----------                              3.4/11.3 MB 1.5 MB/s eta 0:00:06\n",
      "     ------------                             3.5/11.3 MB 1.5 MB/s eta 0:00:06\n",
      "     ------------                             3.6/11.3 MB 1.5 MB/s eta 0:00:06\n",
      "     -------------                            3.7/11.3 MB 1.5 MB/s eta 0:00:06\n",
      "     -------------                            3.8/11.3 MB 1.6 MB/s eta 0:00:05\n",
      "     -------------                            3.9/11.3 MB 1.6 MB/s eta 0:00:05\n",
      "     --------------                           4.1/11.3 MB 1.6 MB/s eta 0:00:05\n",
      "     --------------                           4.1/11.3 MB 1.6 MB/s eta 0:00:05\n",
      "     --------------                           4.2/11.3 MB 1.6 MB/s eta 0:00:05\n",
      "     ---------------                          4.4/11.3 MB 1.6 MB/s eta 0:00:05\n",
      "     ---------------                          4.5/11.3 MB 1.6 MB/s eta 0:00:05\n",
      "     ----------------                         4.6/11.3 MB 1.7 MB/s eta 0:00:05\n",
      "     ----------------                         4.7/11.3 MB 1.7 MB/s eta 0:00:05\n",
      "     ----------------                         4.8/11.3 MB 1.7 MB/s eta 0:00:04\n",
      "     -----------------                        4.9/11.3 MB 1.7 MB/s eta 0:00:04\n",
      "     -----------------                        5.0/11.3 MB 1.7 MB/s eta 0:00:04\n",
      "     ------------------                       5.2/11.3 MB 1.7 MB/s eta 0:00:04\n",
      "     ------------------                       5.3/11.3 MB 1.7 MB/s eta 0:00:04\n",
      "     ------------------                       5.4/11.3 MB 1.8 MB/s eta 0:00:04\n",
      "     -------------------                      5.5/11.3 MB 1.8 MB/s eta 0:00:04\n",
      "     -------------------                      5.6/11.3 MB 1.8 MB/s eta 0:00:04\n",
      "     --------------------                     5.7/11.3 MB 1.8 MB/s eta 0:00:04\n",
      "     --------------------                     5.8/11.3 MB 1.8 MB/s eta 0:00:04\n",
      "     --------------------                     5.9/11.3 MB 1.8 MB/s eta 0:00:04\n",
      "     ---------------------                    6.1/11.3 MB 1.8 MB/s eta 0:00:03\n",
      "     ---------------------                    6.2/11.3 MB 1.8 MB/s eta 0:00:03\n",
      "     ----------------------                   6.3/11.3 MB 1.8 MB/s eta 0:00:03\n",
      "     ----------------------                   6.4/11.3 MB 1.9 MB/s eta 0:00:03\n",
      "     -----------------------                  6.5/11.3 MB 1.9 MB/s eta 0:00:03\n",
      "     -----------------------                  6.6/11.3 MB 1.9 MB/s eta 0:00:03\n",
      "     -----------------------                  6.8/11.3 MB 1.9 MB/s eta 0:00:03\n",
      "     ------------------------                 6.9/11.3 MB 1.9 MB/s eta 0:00:03\n",
      "     ------------------------                 7.1/11.3 MB 1.9 MB/s eta 0:00:03\n",
      "     -------------------------                7.2/11.3 MB 1.9 MB/s eta 0:00:03\n",
      "     -------------------------                7.3/11.3 MB 1.9 MB/s eta 0:00:03\n",
      "     -------------------------                7.3/11.3 MB 1.9 MB/s eta 0:00:03\n",
      "     --------------------------               7.4/11.3 MB 1.9 MB/s eta 0:00:03\n",
      "     --------------------------               7.5/11.3 MB 1.9 MB/s eta 0:00:02\n",
      "     --------------------------               7.6/11.3 MB 1.9 MB/s eta 0:00:02\n",
      "     ---------------------------              7.8/11.3 MB 1.9 MB/s eta 0:00:02\n",
      "     ---------------------------              7.9/11.3 MB 1.9 MB/s eta 0:00:02\n",
      "     ----------------------------             8.0/11.3 MB 2.0 MB/s eta 0:00:02\n",
      "     ----------------------------             8.2/11.3 MB 2.0 MB/s eta 0:00:02\n",
      "     -----------------------------            8.3/11.3 MB 2.0 MB/s eta 0:00:02\n",
      "     -----------------------------            8.4/11.3 MB 2.0 MB/s eta 0:00:02\n",
      "     ------------------------------           8.6/11.3 MB 2.0 MB/s eta 0:00:02\n",
      "     ------------------------------           8.7/11.3 MB 2.0 MB/s eta 0:00:02\n",
      "     -------------------------------          8.8/11.3 MB 2.0 MB/s eta 0:00:02\n",
      "     -------------------------------          9.0/11.3 MB 2.0 MB/s eta 0:00:02\n",
      "     --------------------------------         9.1/11.3 MB 2.0 MB/s eta 0:00:02\n",
      "     --------------------------------         9.2/11.3 MB 2.1 MB/s eta 0:00:02\n",
      "     ---------------------------------        9.4/11.3 MB 2.1 MB/s eta 0:00:01\n",
      "     ---------------------------------        9.5/11.3 MB 2.1 MB/s eta 0:00:01\n",
      "     ----------------------------------       9.7/11.3 MB 2.1 MB/s eta 0:00:01\n",
      "     ----------------------------------       9.8/11.3 MB 2.1 MB/s eta 0:00:01\n",
      "     -----------------------------------      10.0/11.3 MB 2.1 MB/s eta 0:00:01\n",
      "     -----------------------------------      10.1/11.3 MB 2.1 MB/s eta 0:00:01\n",
      "     ------------------------------------     10.3/11.3 MB 2.1 MB/s eta 0:00:01\n",
      "     ------------------------------------     10.4/11.3 MB 2.2 MB/s eta 0:00:01\n",
      "     -------------------------------------    10.5/11.3 MB 2.2 MB/s eta 0:00:01\n",
      "     -------------------------------------    10.7/11.3 MB 2.3 MB/s eta 0:00:01\n",
      "     --------------------------------------   10.8/11.3 MB 2.4 MB/s eta 0:00:01\n",
      "     --------------------------------------   10.9/11.3 MB 2.4 MB/s eta 0:00:01\n",
      "     ---------------------------------------  11.1/11.3 MB 2.5 MB/s eta 0:00:01\n",
      "     ---------------------------------------  11.2/11.3 MB 2.5 MB/s eta 0:00:01\n",
      "     ---------------------------------------  11.3/11.3 MB 2.5 MB/s eta 0:00:01\n",
      "     ---------------------------------------- 11.3/11.3 MB 2.5 MB/s eta 0:00:00\n",
      "Requirement already satisfied: dill>=0.3.1.1 in c:\\users\\gunne\\projects\\python\\dnn\\svetlanna.docs\\.venv\\lib\\site-packages (from reservoirpy) (0.4.0)\n",
      "Requirement already satisfied: joblib>=0.14.1 in c:\\users\\gunne\\projects\\python\\dnn\\svetlanna.docs\\.venv\\lib\\site-packages (from reservoirpy) (1.5.1)\n",
      "Requirement already satisfied: numpy>=1.21.1 in c:\\users\\gunne\\projects\\python\\dnn\\svetlanna.docs\\.venv\\lib\\site-packages (from reservoirpy) (1.26.4)\n",
      "Requirement already satisfied: scipy>=1.4.1 in c:\\users\\gunne\\projects\\python\\dnn\\svetlanna.docs\\.venv\\lib\\site-packages (from reservoirpy) (1.15.2)\n",
      "Requirement already satisfied: contourpy>=1.0.1 in c:\\users\\gunne\\projects\\python\\dnn\\svetlanna.docs\\.venv\\lib\\site-packages (from matplotlib) (1.3.1)\n",
      "Requirement already satisfied: cycler>=0.10 in c:\\users\\gunne\\projects\\python\\dnn\\svetlanna.docs\\.venv\\lib\\site-packages (from matplotlib) (0.12.1)\n",
      "Requirement already satisfied: fonttools>=4.22.0 in c:\\users\\gunne\\projects\\python\\dnn\\svetlanna.docs\\.venv\\lib\\site-packages (from matplotlib) (4.56.0)\n",
      "Requirement already satisfied: kiwisolver>=1.3.1 in c:\\users\\gunne\\projects\\python\\dnn\\svetlanna.docs\\.venv\\lib\\site-packages (from matplotlib) (1.4.8)\n",
      "Requirement already satisfied: packaging>=20.0 in c:\\users\\gunne\\projects\\python\\dnn\\svetlanna.docs\\.venv\\lib\\site-packages (from matplotlib) (24.2)\n",
      "Requirement already satisfied: pillow>=8 in c:\\users\\gunne\\projects\\python\\dnn\\svetlanna.docs\\.venv\\lib\\site-packages (from matplotlib) (11.1.0)\n",
      "Requirement already satisfied: pyparsing>=2.3.1 in c:\\users\\gunne\\projects\\python\\dnn\\svetlanna.docs\\.venv\\lib\\site-packages (from matplotlib) (3.2.3)\n",
      "Requirement already satisfied: python-dateutil>=2.7 in c:\\users\\gunne\\projects\\python\\dnn\\svetlanna.docs\\.venv\\lib\\site-packages (from matplotlib) (2.9.0.post0)\n",
      "Requirement already satisfied: colorama in c:\\users\\gunne\\projects\\python\\dnn\\svetlanna.docs\\.venv\\lib\\site-packages (from tqdm) (0.4.6)\n",
      "Requirement already satisfied: charset-normalizer<4,>=2 in c:\\users\\gunne\\projects\\python\\dnn\\svetlanna.docs\\.venv\\lib\\site-packages (from requests) (3.4.1)\n",
      "Requirement already satisfied: idna<4,>=2.5 in c:\\users\\gunne\\projects\\python\\dnn\\svetlanna.docs\\.venv\\lib\\site-packages (from requests) (3.10)\n",
      "Requirement already satisfied: urllib3<3,>=1.21.1 in c:\\users\\gunne\\projects\\python\\dnn\\svetlanna.docs\\.venv\\lib\\site-packages (from requests) (2.3.0)\n",
      "Requirement already satisfied: certifi>=2017.4.17 in c:\\users\\gunne\\projects\\python\\dnn\\svetlanna.docs\\.venv\\lib\\site-packages (from requests) (2025.1.31)\n",
      "Requirement already satisfied: networkx>=3.0 in c:\\users\\gunne\\projects\\python\\dnn\\svetlanna.docs\\.venv\\lib\\site-packages (from scikit-image) (3.3)\n",
      "Requirement already satisfied: imageio!=2.35.0,>=2.33 in c:\\users\\gunne\\projects\\python\\dnn\\svetlanna.docs\\.venv\\lib\\site-packages (from scikit-image) (2.37.0)\n",
      "Requirement already satisfied: tifffile>=2022.8.12 in c:\\users\\gunne\\projects\\python\\dnn\\svetlanna.docs\\.venv\\lib\\site-packages (from scikit-image) (2025.6.11)\n",
      "Requirement already satisfied: lazy-loader>=0.4 in c:\\users\\gunne\\projects\\python\\dnn\\svetlanna.docs\\.venv\\lib\\site-packages (from scikit-image) (0.4)\n",
      "Collecting pytz>=2020.1 (from pandas)\n",
      "  Downloading pytz-2025.2-py2.py3-none-any.whl (509 kB)\n",
      "                                              0.0/509.2 kB ? eta -:--:--\n",
      "     -----------                            153.6/509.2 kB 4.6 MB/s eta 0:00:01\n",
      "     -----------------------                317.4/509.2 kB 3.3 MB/s eta 0:00:01\n",
      "     ---------------------------------      450.6/509.2 kB 3.5 MB/s eta 0:00:01\n",
      "     -------------------------------------- 509.2/509.2 kB 3.2 MB/s eta 0:00:00\n",
      "Collecting tzdata>=2022.7 (from pandas)\n",
      "  Downloading tzdata-2025.2-py2.py3-none-any.whl (347 kB)\n",
      "                                              0.0/347.8 kB ? eta -:--:--\n",
      "     ----------------                       153.6/347.8 kB 3.1 MB/s eta 0:00:01\n",
      "     ----------------------------------     317.4/347.8 kB 3.3 MB/s eta 0:00:01\n",
      "     -------------------------------------- 347.8/347.8 kB 3.6 MB/s eta 0:00:00\n",
      "Requirement already satisfied: six>=1.5 in c:\\users\\gunne\\projects\\python\\dnn\\svetlanna.docs\\.venv\\lib\\site-packages (from python-dateutil>=2.7->matplotlib) (1.17.0)\n",
      "Installing collected packages: pytz, tzdata, pandas\n",
      "Successfully installed pandas-2.3.1 pytz-2025.2 tzdata-2025.2\n"
     ]
    },
    {
     "name": "stderr",
     "output_type": "stream",
     "text": [
      "\n",
      "[notice] A new release of pip is available: 23.1.2 -> 25.1.1\n",
      "[notice] To update, run: python.exe -m pip install --upgrade pip\n"
     ]
    }
   ],
   "source": [
    "!pip install svetlanna\n",
    "!pip install reservoirpy matplotlib tqdm requests av scikit-image py-cpuinfo gputil pandas"
   ]
  },
  {
   "cell_type": "code",
   "execution_count": 11,
   "id": "b03c990c",
   "metadata": {},
   "outputs": [],
   "source": [
    "from svetlanna.clerk import Clerk\n",
    "import matplotlib.pyplot as plt\n",
    "import torch"
   ]
  },
  {
   "cell_type": "markdown",
   "id": "79c9f1ab",
   "metadata": {},
   "source": [
    "Рассмотрим модель нейронной сети с методом `forward`, который определяется выражением $f(x) = a^2$, где $a$ - параметр модели."
   ]
  },
  {
   "cell_type": "code",
   "execution_count": 12,
   "id": "1ba5e611",
   "metadata": {},
   "outputs": [],
   "source": [
    "class MyNet(torch.nn.Module):\n",
    "    def __init__(self) -> None:\n",
    "        super().__init__()\n",
    "        self.a = torch.nn.Parameter(torch.tensor(10.))\n",
    "\n",
    "    def forward(self, *args, **kwargs):\n",
    "        return self.a**2"
   ]
  },
  {
   "cell_type": "markdown",
   "id": "b418d771",
   "metadata": {},
   "source": [
    "Теперь познакомимся с модулем Cleck, который помогает логировать данные.\n",
    "Cleck позволяет пользователям управлять экспериментами, каждый из которых представляет собой определённый цикл обучения модели при определённых условиях, таких как особые гиперпараметры."
   ]
  },
  {
   "cell_type": "code",
   "execution_count": 13,
   "id": "aea5a17a",
   "metadata": {},
   "outputs": [],
   "source": [
    "clerk = Clerk('experiment_example')"
   ]
  },
  {
   "cell_type": "markdown",
   "id": "0b5fafff",
   "metadata": {},
   "source": [
    "Данные будут сохранены в папку `experiment_example`.\n",
    "Для регистрации условий эксперимента используйте метод `save_conditions`.\n",
    "Условиями могут быть любые данные, которые можно сериализовать в JSON."
   ]
  },
  {
   "cell_type": "code",
   "execution_count": 14,
   "id": "77f7acda",
   "metadata": {},
   "outputs": [],
   "source": [
    "conditions = {\n",
    "    'date': '23/01',\n",
    "    'description': 'Example model',\n",
    "    'some_parameters': [1., 123, '1']\n",
    "}\n",
    "clerk.save_conditions(conditions)"
   ]
  },
  {
   "cell_type": "markdown",
   "id": "dcfc7d2c",
   "metadata": {},
   "source": [
    "Приступим к эксперименту с обучений созданной модели.\n",
    "Для начала нам нужно создать оптимизатор и инициализировать модель:"
   ]
  },
  {
   "cell_type": "code",
   "execution_count": 15,
   "id": "79da27ce",
   "metadata": {},
   "outputs": [],
   "source": [
    "model = MyNet()\n",
    "optimizer = torch.optim.Adam(model.parameters(), lr=0.05)"
   ]
  },
  {
   "cell_type": "markdown",
   "id": "8dd3be11",
   "metadata": {},
   "source": [
    "Во время обучения мы можем создавать контрольные точки, хранящие все параметры модели и оптимизатора. Это позволяет перезагружать их позже для возобновления или перезапуска эксперимента.\n",
    "Чтобы указать, какие объекты с `state_dict` следует сохранять в контрольных точках, мы используем метод `set_checkpoint_targets`.\n",
    "Каждый объект должен иметь уникальный ключ, который будет использоваться для восстановления определённых параметров при необходимости:"
   ]
  },
  {
   "cell_type": "code",
   "execution_count": 16,
   "id": "29e2c050",
   "metadata": {},
   "outputs": [],
   "source": [
    "clerk.set_checkpoint_targets({\n",
    "    'model': model,\n",
    "    'optimizer': optimizer\n",
    "})"
   ]
  },
  {
   "cell_type": "markdown",
   "id": "e8b2fa31",
   "metadata": {},
   "source": [
    "В качестве модели можно использовать объект `LinearOpticalSetup`.\n",
    "\n",
    "Теперь мы готовы начать процесс обучения.\n",
    "Две наиболее распространённые операции во время обучения — это регистрация потерь и создание контрольных точек.\n",
    "Ниже продемонстрированы оба сценария."
   ]
  },
  {
   "cell_type": "code",
   "execution_count": 17,
   "id": "a2949404",
   "metadata": {},
   "outputs": [],
   "source": [
    "with clerk:  # Enable Clerk's writing mode\n",
    "    for epoch in range(10):\n",
    "        for batch in range(20):\n",
    "            # Standard training procedure\n",
    "            loss = model()\n",
    "            loss.backward()\n",
    "            optimizer.step()\n",
    "            optimizer.zero_grad()\n",
    "\n",
    "            # Log training data with a specific tag\n",
    "            # Data must be JSON serializable\n",
    "            clerk.write_log(\n",
    "                'loss_log',  # Tag for the log entry\n",
    "                {\n",
    "                    'loss': loss.item(),  # the data\n",
    "                    'x': model.a.item(),\n",
    "                    'batch': batch,\n",
    "                    'epoch': epoch\n",
    "                }\n",
    "            )\n",
    "\n",
    "        # Create a new checkpoint at the end of each epoch.\n",
    "        # Metadata can be included to describe the checkpoint.\n",
    "        clerk.write_checkpoint(metadata={'epoch': epoch})"
   ]
  },
  {
   "cell_type": "markdown",
   "id": "d02086f4",
   "metadata": {},
   "source": [
    "Мы можем получить доступ к логированным данным, используя `pandas`, после чего визуализировать кривую потерь:\n",
    "\n",
    "**<span style=\"color:red\">ВАЖНО:</span>** поскольку данный функционал является опциональным, необходимо перед запуском установить библиотеку [pandas](https://pandas.pydata.org/)"
   ]
  },
  {
   "cell_type": "code",
   "execution_count": 18,
   "id": "c57ee62a",
   "metadata": {},
   "outputs": [
    {
     "data": {
      "text/plain": [
       "[<matplotlib.lines.Line2D at 0x1f96c5283d0>]"
      ]
     },
     "execution_count": 18,
     "metadata": {},
     "output_type": "execute_result"
    },
    {
     "data": {
      "image/png": "[encoded data removed]",
      "text/plain": [
       "<Figure size 640x480 with 1 Axes>"
      ]
     },
     "metadata": {},
     "output_type": "display_data"
    }
   ],
   "source": [
    "df = clerk.load_logs_to_pandas(tag='loss_log')\n",
    "plt.plot(df['loss'])"
   ]
  },
  {
   "cell_type": "markdown",
   "id": "c496866d",
   "metadata": {},
   "source": [
    "Если необходимо продолжить процесс обучения, можно использовать функцию возобновления клерка.\n",
    "Это делается путем настройки клерка с помощью `begin(resume=True)`.\n",
    "При возобновлении параметры объектов, ранее заданные с помощью `set_checkpoint_targets`, будут восстановлены из контрольной точки с наибольшим индексом."
   ]
  },
  {
   "cell_type": "code",
   "execution_count": 19,
   "id": "6fdd3c3d",
   "metadata": {},
   "outputs": [],
   "source": [
    "with clerk.begin(resume=True):  # Enable Clerk's writing mode and resume from the latest checkpoint\n",
    "    for epoch in range(10):\n",
    "        for batch in range(20):\n",
    "\n",
    "            loss = model()\n",
    "            loss.backward()\n",
    "            optimizer.step()\n",
    "            optimizer.zero_grad()\n",
    "\n",
    "            clerk.write_log(\n",
    "                'loss_log',\n",
    "                {\n",
    "                    'loss': loss.item(),\n",
    "                    'x': model.a.item(),\n",
    "                    'batch': batch,\n",
    "                    'epoch': epoch\n",
    "                }\n",
    "            )\n",
    "\n",
    "        clerk.write_checkpoint(metadata={'epoch': epoch})"
   ]
  },
  {
   "cell_type": "code",
   "execution_count": 20,
   "id": "30b4f4ba",
   "metadata": {},
   "outputs": [
    {
     "data": {
      "text/plain": [
       "[<matplotlib.lines.Line2D at 0x1f96e76a0d0>]"
      ]
     },
     "execution_count": 20,
     "metadata": {},
     "output_type": "execute_result"
    },
    {
     "data": {
      "image/png": "[encoded data removed]",
      "text/plain": [
       "<Figure size 640x480 with 1 Axes>"
      ]
     },
     "metadata": {},
     "output_type": "display_data"
    }
   ],
   "source": [
    "df = clerk.load_logs_to_pandas(tag='loss_log')\n",
    "plt.plot(df['loss'])"
   ]
  },
  {
   "cell_type": "markdown",
   "id": "1219f0a2",
   "metadata": {},
   "source": [
    "Можно заметить, что обучение продолжалось ещё 200 шагов.\n",
    "\n",
    "Ещё одна особенность клерка заключается в том, что во время вывода можно загрузить определённую контрольную точку и использовать сохранённые параметры модели для прогнозирования."
   ]
  },
  {
   "cell_type": "code",
   "execution_count": 21,
   "id": "bc365bc5",
   "metadata": {},
   "outputs": [
    {
     "name": "stdout",
     "output_type": "stream",
     "text": [
      "conditions {'date': '23/01', 'description': 'Example model', 'some_parameters': [1.0, 123, '1']}\n",
      "metadata: {'epoch': 9}\n"
     ]
    }
   ],
   "source": [
    "# инициализация модели\n",
    "model_inference = MyNet()\n",
    "\n",
    "# Создание нового экземпляра Clerk для вывода\n",
    "clerk = Clerk('experiment_example')\n",
    "\n",
    "# Загрузка условий эксперимента\n",
    "conditions = clerk.load_conditions()\n",
    "\n",
    "# Загрузка контрольной точки с индексом 9\n",
    "# Здесь мы указываем, что хотим загрузить модель и оптимизатор из контрольной точки\n",
    "# Параметры, указанные в set_checkpoint_targets, будут восстановлены из контрольной точки\n",
    "# Если вы хотите загрузить другие объекты, их также нужно указать в set_checkpoint_targets\n",
    "metadata = clerk.load_checkpoint(9, targets={\n",
    "    'model': model_inference\n",
    "})\n",
    "\n",
    "# Теперь модель готова к использованию\n",
    "print('conditions', conditions)\n",
    "print('metadata:', metadata)"
   ]
  },
  {
   "cell_type": "markdown",
   "id": "17a2e7dd",
   "metadata": {},
   "source": [
    "Clerk предоставляет функцию автоматического резервного копирования, гарантируя сохранение состояния обучения в случае возникновения исключения внутри контекста.\n",
    "Чтобы включить эту функцию, установите флаг autosave_checkpoint в значение True:"
   ]
  },
  {
   "cell_type": "code",
   "execution_count": 24,
   "id": "86da8dde",
   "metadata": {},
   "outputs": [],
   "source": [
    "try:\n",
    "    with clerk.begin(autosave_checkpoint=True):\n",
    "        for epoch in range(10):\n",
    "            for batch in range(20):\n",
    "                # Simulating an error\n",
    "                raise RuntimeError\n",
    "except:\n",
    "    pass"
   ]
  },
  {
   "cell_type": "markdown",
   "id": "88aa20f3",
   "metadata": {},
   "source": [
    "Как показано выше, контрольные точки можно загрузить, используя их индекс.\n",
    "Вы также можете загрузить контрольную точку, указав имя её файла напрямую:"
   ]
  },
  {
   "cell_type": "code",
   "execution_count": 25,
   "id": "809c7915",
   "metadata": {},
   "outputs": [
    {
     "data": {
      "text/plain": [
       "'Пример кода для загрузки контрольной точки с указанием имени файла\\n'"
      ]
     },
     "execution_count": 25,
     "metadata": {},
     "output_type": "execute_result"
    }
   ],
   "source": [
    "\"\"\"Пример кода для загрузки контрольной точки с указанием имени файла\n",
    "\"\"\"\n",
    "\n",
    "# metadata = clerk.load_checkpoint(\n",
    "#     <path_to_file>\n",
    "# )\n",
    "\n",
    "# print('metadata:', metadata)"
   ]
  },
  {
   "cell_type": "markdown",
   "id": "77154f20",
   "metadata": {},
   "source": [
    "Чтобы удалить все резервные контрольные точки, используйте:"
   ]
  },
  {
   "cell_type": "code",
   "execution_count": 26,
   "id": "bb533e34",
   "metadata": {},
   "outputs": [],
   "source": [
    "clerk.clean_backup_checkpoints()"
   ]
  }
 ],
 "metadata": {
  "kernelspec": {
   "display_name": ".venv (3.11.4)",
   "language": "python",
   "name": "python3"
  },
  "language_info": {
   "codemirror_mode": {
    "name": "ipython",
    "version": 3
   },
   "file_extension": ".py",
   "mimetype": "text/x-python",
   "name": "python",
   "nbconvert_exporter": "python",
   "pygments_lexer": "ipython3",
   "version": "3.11.4"
  }
 },
 "nbformat": 4,
 "nbformat_minor": 5
}
