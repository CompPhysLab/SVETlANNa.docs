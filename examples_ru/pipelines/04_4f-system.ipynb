{
 "cells": [
  {
   "cell_type": "code",
   "execution_count": null,
   "id": "06f96450",
   "metadata": {},
   "outputs": [],
   "source": [
    "!pip install svetlanna\n",
    "!pip install reservoirpy matplotlib tqdm requests av scikit-image py-cpuinfo gputil pandas"
   ]
  },
  {
   "cell_type": "markdown",
   "id": "91043ec4-53b7-47da-be60-b4bc18c7316f",
   "metadata": {},
   "source": [
    "### Импорт библиотек"
   ]
  },
  {
   "cell_type": "code",
   "execution_count": 1,
   "id": "18ace139-b928-4b85-a80f-c65ccba445d7",
   "metadata": {},
   "outputs": [],
   "source": [
    "import os\n",
    "import sys\n",
    "import random"
   ]
  },
  {
   "cell_type": "code",
   "execution_count": 2,
   "id": "0941dcb3-8797-4dcc-809c-e758ee1f662d",
   "metadata": {},
   "outputs": [],
   "source": [
    "import time"
   ]
  },
  {
   "cell_type": "code",
   "execution_count": 3,
   "id": "8e6e43c9-c3a2-48bd-a333-1fae018ccf19",
   "metadata": {},
   "outputs": [],
   "source": [
    "import numpy as np"
   ]
  },
  {
   "cell_type": "code",
   "execution_count": 4,
   "id": "c2e4e361-f7b4-4ebc-87e6-5f641b119b41",
   "metadata": {},
   "outputs": [],
   "source": [
    "import torch\n",
    "from torch.utils.data import Dataset"
   ]
  },
  {
   "cell_type": "code",
   "execution_count": 5,
   "id": "0748be64-ffb4-4554-bd03-dd11434b472b",
   "metadata": {},
   "outputs": [],
   "source": [
    "from torch import nn"
   ]
  },
  {
   "cell_type": "code",
   "execution_count": 6,
   "id": "ef1dc77e-ff98-410f-b16e-8f422d335371",
   "metadata": {},
   "outputs": [],
   "source": [
    "import torchvision\n",
    "import torchvision.transforms as transforms\n",
    "import torch.nn.functional as functional"
   ]
  },
  {
   "cell_type": "code",
   "execution_count": 7,
   "id": "e073ef72-dfe0-462b-a108-a334dfaa01bc",
   "metadata": {},
   "outputs": [],
   "source": [
    "from torchvision.transforms import InterpolationMode"
   ]
  },
  {
   "cell_type": "code",
   "execution_count": 8,
   "id": "3312fab8-ef85-4843-a1ce-639f1dc4044f",
   "metadata": {},
   "outputs": [],
   "source": [
    "from svetlanna import SimulationParameters\n",
    "from svetlanna.parameters import BoundedParameter"
   ]
  },
  {
   "cell_type": "code",
   "execution_count": 9,
   "id": "82667a0b-47ff-48ce-abda-860676213a73",
   "metadata": {},
   "outputs": [],
   "source": [
    "from svetlanna import Wavefront\n",
    "from svetlanna import elements\n",
    "from svetlanna.setup import LinearOpticalSetup\n",
    "from svetlanna.detector import Detector, DetectorProcessorClf"
   ]
  },
  {
   "cell_type": "code",
   "execution_count": 10,
   "id": "bbb5c5e6-3530-46fe-8af8-56e8723672e5",
   "metadata": {},
   "outputs": [],
   "source": [
    "from svetlanna.transforms import ToWavefront"
   ]
  },
  {
   "cell_type": "code",
   "execution_count": 11,
   "id": "fb552548-0a83-4ae3-8100-ffd229e32ac3",
   "metadata": {},
   "outputs": [],
   "source": [
    "from src.wf_datasets import DatasetOfWavefronts\n",
    "from src.wf_datasets import WavefrontsDatasetSimple"
   ]
  },
  {
   "cell_type": "code",
   "execution_count": 12,
   "id": "96622644-96ea-437d-b229-9643ab5fb882",
   "metadata": {},
   "outputs": [],
   "source": [
    "from tqdm import tqdm"
   ]
  },
  {
   "cell_type": "code",
   "execution_count": 13,
   "id": "d88c532d-296f-4769-b92e-49b525bf5e35",
   "metadata": {},
   "outputs": [],
   "source": [
    "from datetime import datetime"
   ]
  },
  {
   "cell_type": "code",
   "execution_count": 14,
   "id": "4741ab5c-d61d-47b3-8cb4-0cfb5ac4c604",
   "metadata": {},
   "outputs": [],
   "source": [
    "import matplotlib.pyplot as plt\n",
    "import matplotlib.patches as patches\n",
    "\n",
    "plt.style.use('dark_background')\n",
    "%matplotlib inline\n",
    "# %config InlineBackend.figure_format = 'retina'"
   ]
  },
  {
   "cell_type": "code",
   "execution_count": null,
   "id": "f7f7ff83-67f3-4f22-8b28-011ca16e7f94",
   "metadata": {},
   "outputs": [],
   "source": []
  },
  {
   "cell_type": "markdown",
   "id": "df1746b5-98e0-4c74-a103-accb408b7384",
   "metadata": {},
   "source": [
    "# 4F система\n",
    "\n",
    "В данном примере мы обучим [4F систему](https://www.science.org/doi/10.1126/science.aat8084) на случайно сгенерированном датасете."
   ]
  },
  {
   "cell_type": "code",
   "execution_count": null,
   "id": "402a1c38-f187-456f-baa7-d6fbbcbe3337",
   "metadata": {},
   "outputs": [],
   "source": []
  },
  {
   "cell_type": "markdown",
   "id": "e305192b-2e8d-441e-be43-06b664c10e8b",
   "metadata": {},
   "source": [
    "# 1. Параметры моделирования"
   ]
  },
  {
   "cell_type": "code",
   "execution_count": 15,
   "id": "8de56693-8023-4bfc-a920-c6441b3c3a40",
   "metadata": {},
   "outputs": [],
   "source": [
    "c_const = 299_792_458  # [m / s]"
   ]
  },
  {
   "cell_type": "code",
   "execution_count": 16,
   "id": "f5b7ca5e-00ab-4b8a-8ec8-1dcd456ec94c",
   "metadata": {},
   "outputs": [
    {
     "name": "stdout",
     "output_type": "stream",
     "text": [
      "lambda = 10.000 um\n"
     ]
    }
   ],
   "source": [
    "working_wavelength = 10 * 1e-6  # [m]\n",
    "print(f'lambda = {working_wavelength * 1e6:.3f} um')"
   ]
  },
  {
   "cell_type": "code",
   "execution_count": 17,
   "id": "93df5049-5fb8-4562-bb4b-aeed9370ebe2",
   "metadata": {},
   "outputs": [],
   "source": [
    "# Физический размер волнового фронта — (1 × 1) [см]\n",
    "x_mesh_size_m = 2 * 1e-2  # [m]\n",
    "y_mesh_size_m = x_mesh_size_m"
   ]
  },
  {
   "cell_type": "code",
   "execution_count": 18,
   "id": "de195d18-428b-4733-870e-b63ed62607ff",
   "metadata": {},
   "outputs": [],
   "source": [
    "#количество нейронов в симуляции\n",
    "\n",
    "mesh_step_size_m = 5 * 1e-5  # [m]\n",
    "\n",
    "x_mesh_nodes = int(x_mesh_size_m / mesh_step_size_m)\n",
    "y_mesh_nodes = int(y_mesh_size_m / mesh_step_size_m)"
   ]
  },
  {
   "cell_type": "code",
   "execution_count": 19,
   "id": "49a938b1-94ba-4427-978f-e17e0f65a396",
   "metadata": {},
   "outputs": [
    {
     "name": "stdout",
     "output_type": "stream",
     "text": [
      "Mesh size: 400 x 400 = 160000\n"
     ]
    }
   ],
   "source": [
    "print(f'Mesh size: {x_mesh_nodes} x {y_mesh_nodes} = {x_mesh_nodes * y_mesh_nodes}')"
   ]
  },
  {
   "cell_type": "code",
   "execution_count": 20,
   "id": "8c53984c-79c1-413f-a56b-5e7498f8c77a",
   "metadata": {},
   "outputs": [],
   "source": [
    "\n",
    "SIM_PARAMS = SimulationParameters(\n",
    "    axes={\n",
    "        'W': torch.linspace(-x_mesh_size_m / 2, x_mesh_size_m / 2, x_mesh_nodes),\n",
    "        'H': torch.linspace(-y_mesh_size_m / 2, y_mesh_size_m / 2, y_mesh_nodes),\n",
    "        'wavelength': working_wavelength,  # only one wavelength!\n",
    "    }\n",
    ")"
   ]
  },
  {
   "cell_type": "code",
   "execution_count": null,
   "id": "7481a797-a187-45a9-b11f-5b4b5ac536ab",
   "metadata": {},
   "outputs": [],
   "source": []
  },
  {
   "cell_type": "code",
   "execution_count": null,
   "id": "0a0e9026-18f8-479d-b7f9-dd4dddd3c865",
   "metadata": {},
   "outputs": [],
   "source": []
  },
  {
   "cell_type": "markdown",
   "id": "cb33f100-f64e-411a-8833-0fb3e2ac881f",
   "metadata": {},
   "source": [
    "# 2. Подготовка датасета\n",
    "\n",
    "\n",
    "Генерация датасета волновых фронтов со случайными распределениями интенсивности"
   ]
  },
  {
   "cell_type": "markdown",
   "id": "260bf3ee-3a75-450a-af4b-cc1729af45e7",
   "metadata": {},
   "source": [
    "## 2.1. Целевая 4F - система"
   ]
  },
  {
   "cell_type": "code",
   "execution_count": 21,
   "id": "80de29f1-d455-47f2-903c-1e249d8c5333",
   "metadata": {},
   "outputs": [],
   "source": [
    "TARGET_F = 4 * 1e-2  # in [m]\n",
    "\n",
    "LENS_RADII = 2 * 1e-2  # in [m]\n",
    "FREESPACE_METHOD = 'AS'"
   ]
  },
  {
   "cell_type": "code",
   "execution_count": 22,
   "id": "58941ee5-0964-49fc-858e-a888eedc9680",
   "metadata": {},
   "outputs": [],
   "source": [
    "# list of elements for a target 4f system\n",
    "TARGET_4F_LIST = [\n",
    "    elements.FreeSpace(\n",
    "        simulation_parameters=SIM_PARAMS,\n",
    "        distance=TARGET_F,\n",
    "        method=FREESPACE_METHOD\n",
    "    ),\n",
    "    elements.ThinLens(  # first lens\n",
    "        simulation_parameters=SIM_PARAMS,\n",
    "        focal_length=TARGET_F,\n",
    "        radius=LENS_RADII\n",
    "    ),\n",
    "    elements.FreeSpace(\n",
    "        simulation_parameters=SIM_PARAMS,\n",
    "        distance=2 * TARGET_F,\n",
    "        method=FREESPACE_METHOD\n",
    "    ),\n",
    "    elements.ThinLens(  # second lens\n",
    "        simulation_parameters=SIM_PARAMS,\n",
    "        focal_length=TARGET_F,\n",
    "        radius=LENS_RADII\n",
    "    ),\n",
    "    elements.FreeSpace(\n",
    "        simulation_parameters=SIM_PARAMS,\n",
    "        distance=TARGET_F,\n",
    "        method=FREESPACE_METHOD\n",
    "    ),\n",
    "    Detector(  # detector that returns tensor of intensities\n",
    "        simulation_parameters=SIM_PARAMS,\n",
    "        func='intensity'\n",
    "    )\n",
    "]"
   ]
  },
  {
   "cell_type": "code",
   "execution_count": 23,
   "id": "4b484a26-4fdf-47d4-a62c-a823e537d9a6",
   "metadata": {},
   "outputs": [],
   "source": [
    "TARGET_4F_SYSTEM = LinearOpticalSetup(\n",
    "    elements=TARGET_4F_LIST\n",
    ")"
   ]
  },
  {
   "cell_type": "code",
   "execution_count": null,
   "id": "57208ebf-cf75-4d3b-a5ee-df90fd7b1290",
   "metadata": {},
   "outputs": [],
   "source": []
  },
  {
   "cell_type": "markdown",
   "id": "e4555659-de80-4faa-ae59-abd7b12b4eac",
   "metadata": {},
   "source": [
    "## 2.2. Dataset class"
   ]
  },
  {
   "cell_type": "code",
   "execution_count": null,
   "id": "7bf9bc64-f589-4aba-8896-3b2b3f1be286",
   "metadata": {},
   "outputs": [],
   "source": [
    "class RandomPixelsWavefronts(Dataset):\n",
    "    \"\"\"\n",
    "    Подход, основанный на освещении апертуры формы изображения.\n",
    "    \"\"\"\n",
    "    def __init__(\n",
    "        self,\n",
    "        image_size_m,  # (h, w) in [m]\n",
    "        image_size_pixels,  # (n_y, n_x)\n",
    "        target_setup : LinearOpticalSetup,\n",
    "        sim_params: SimulationParameters,\n",
    "    ):\n",
    "        \"\"\"\n",
    "        Параметры\n",
    "        ----------\n",
    "\n",
    "        sim_params : SimulationParameters\n",
    "            Параметры симуляции для последующей оптической нейросети.\n",
    "        ...\n",
    "\n",
    "        \"\"\"\n",
    "        self.sim_params = sim_params # для проверки, приводят ли все преобразования к правильной форме\n",
    "        self.image_size_pixels = image_size_pixels\n",
    "        self.pixels_number = self.image_size_pixels[0] * self.image_size_pixels[1]\n",
    "\n",
    "        m_to_mesh_nodes_y = len(SIM_PARAMS.axes.H) / (SIM_PARAMS.axes.H[-1] - SIM_PARAMS.axes.H[0]).item()\n",
    "        m_to_mesh_nodes_x = len(SIM_PARAMS.axes.W) / (SIM_PARAMS.axes.W[-1] - SIM_PARAMS.axes.W[0]).item()\n",
    "        self.image_size_mesh_nodes = (\n",
    "            int(image_size_m[0] * m_to_mesh_nodes_y),\n",
    "            int(image_size_m[1] * m_to_mesh_nodes_x)\n",
    "        )  # size of all pixels in mesh nodes\n",
    "\n",
    "        self.target_setup = target_setup\n",
    "\n",
    "    def __len__(self):\n",
    "        return 2 ** (self.pixels_number)\n",
    "\n",
    "    def __getitem__(self, ind: int) -> tuple:\n",
    "        \"\"\"\n",
    "        Параметры\n",
    "        ----------\n",
    "        ind : int\n",
    "            Индекс возвращаемого элемента.\n",
    "\n",
    "        Возвращает\n",
    "        ----------\n",
    "        tuple\n",
    "            Элемент датасета: кортеж (Wavefront, Tensor)\n",
    "            Размер волнового фронта должен соответствовать параметрам симуляции!\n",
    "        \"\"\"\n",
    "\n",
    "        # создать входной волновой фронт\n",
    "\n",
    "        # индекс как генератор случайных чисел [метод 1]\n",
    "        # pixels_set = torch.randint(\n",
    "        #     2, size=(9,),\n",
    "        #     generator=torch.Generator().manual_seed(ind)  # используем ind как генератор для воспроизводимости\n",
    "        # ).resize_(self.image_size_pixels)\n",
    "\n",
    "        # каждый пиксель устанавливается на основе бинаризованного индекса [метод 2]\n",
    "\n",
    "        pixels_set = torch.tensor(\n",
    "            list(\n",
    "                map(\n",
    "                    int,\n",
    "                    '0' * (self.pixels_number - len(bin(ind)[2:])) + bin(ind)[2:])\n",
    "            ),\n",
    "            dtype=torch.float32\n",
    "        ).resize_(self.image_size_pixels)\n",
    "\n",
    "        pixels_image = functional.interpolate(\n",
    "            pixels_set[None, None, ...],\n",
    "            size=self.image_size_mesh_nodes\n",
    "        )[0][0]\n",
    "\n",
    "        # добавление паддинга\n",
    "        y_nodes, x_nodes = self.sim_params.axes_size(axs=('H', 'W'))\n",
    "        y_img, x_img = self.image_size_mesh_nodes\n",
    "\n",
    "        if (not y_nodes == y_img) or (not x_nodes == x_img):\n",
    "            # добавляем паддинг для соответствия размерам симуляции\n",
    "            # симметрично!\n",
    "            pad_top = int((y_nodes - y_img) / 2)\n",
    "            pad_bottom = y_nodes - pad_top - y_img\n",
    "            pad_left = int((x_nodes - x_img) / 2)\n",
    "            pad_right = x_nodes - pad_left - x_img  # параметры для transforms.Pad\n",
    "\n",
    "            # трансформация с паддингом для согласования размера апертуры с параметрами симуляции\n",
    "            pixels_image = functional.pad(\n",
    "                input=pixels_image,\n",
    "                pad=(pad_left, pad_right, pad_top, pad_bottom),\n",
    "                mode='constant',\n",
    "                value=0\n",
    "            )\n",
    "\n",
    "        # преобразование тензора в волновой фронт\n",
    "        pixels_wf = ToWavefront(modulation_type='amp').forward(pixels_image)\n",
    "\n",
    "        # вычисление целевого волнового фронта на основе self.target_setup\n",
    "        self.target_setup.net.eval()\n",
    "        # target = pixels_wf\n",
    "        with torch.no_grad():\n",
    "            # for el in self.target_setup.net:\n",
    "            #     target = el.forward(target)\n",
    "            #     print(f'{type(el).__name__}: {target.size()}')\n",
    "            target = self.target_setup.forward(pixels_wf)\n",
    "\n",
    "        return pixels_wf, target\n"
   ]
  },
  {
   "cell_type": "code",
   "execution_count": null,
   "id": "16e8fd9e-c244-4851-9d69-43ecf7d3be9a",
   "metadata": {},
   "outputs": [],
   "source": []
  },
  {
   "cell_type": "markdown",
   "id": "7e49d1c7-69cb-4b2e-a9c5-c5384185050e",
   "metadata": {},
   "source": [
    "### 2.2.1. Датасет с изображениями"
   ]
  },
  {
   "cell_type": "code",
   "execution_count": 25,
   "id": "12ecf102-8c44-4341-ba08-0bd3869b1eb9",
   "metadata": {},
   "outputs": [],
   "source": [
    "PIXELS_DS = RandomPixelsWavefronts(\n",
    "    (0.5 * 1e-2, 0.5 * 1e-2),  # (h, w) in [m]\n",
    "    (3, 3),  # (n_y, n_x)\n",
    "    TARGET_4F_SYSTEM,\n",
    "    SIM_PARAMS,\n",
    ")"
   ]
  },
  {
   "cell_type": "code",
   "execution_count": 26,
   "id": "8182b8eb-8845-4017-bad0-73b1e6a35a25",
   "metadata": {},
   "outputs": [
    {
     "name": "stdout",
     "output_type": "stream",
     "text": [
      "Dataset size: 512\n"
     ]
    }
   ],
   "source": [
    "print(f'Dataset size: {len(PIXELS_DS)}')"
   ]
  },
  {
   "cell_type": "code",
   "execution_count": null,
   "id": "c2e56600-1cab-429d-90fa-80ae662abaa7",
   "metadata": {},
   "outputs": [],
   "source": []
  },
  {
   "cell_type": "markdown",
   "id": "6a9d2602-38fe-4af8-92c3-615a6c18b13c",
   "metadata": {},
   "source": [
    "### 2.2.2. Визуализация нескольких примеров из датасета"
   ]
  },
  {
   "cell_type": "code",
   "execution_count": null,
   "id": "27afd624-bd4c-4e6d-b485-ebf3b233f1c5",
   "metadata": {},
   "outputs": [
    {
     "data": {
      "image/png": "[encoded data removed]",
      "text/plain": [
       "<Figure size 1200x640 with 8 Axes>"
      ]
     },
     "metadata": {},
     "output_type": "display_data"
    }
   ],
   "source": [
    "# визуализация нескольких ПРИМЕРОВ из тренировочного датасета\n",
    "n_examples = 4  # количество примеров для отображения\n",
    "# выбор индексов изображений (из train) для отображения\n",
    "random.seed(78)\n",
    "examples_ids = random.sample(range(len(PIXELS_DS)), n_examples)\n",
    "\n",
    "n_lines = 2\n",
    "fig, axs = plt.subplots(n_lines, n_examples, figsize=(n_examples * 3, n_lines * 3.2))\n",
    "\n",
    "for ind_ex, ind_sample in enumerate(examples_ids):\n",
    "\n",
    "    wavefront, target = PIXELS_DS[ind_sample]\n",
    "\n",
    "    axs[0][ind_ex].set_title(f'$|WF|^2$, ind={ind_sample}')\n",
    "    # здесь мы можем отобразить интенсивность волнового фронта\n",
    "    axs[0][ind_ex].imshow(\n",
    "        wavefront.intensity, cmap='gray',\n",
    "        vmin=0, vmax=1\n",
    "    )\n",
    "\n",
    "    axs[1][ind_ex].set_title('Цель')\n",
    "    axs[1][ind_ex].imshow(\n",
    "        target, cmap='gray',\n",
    "        vmin=0, vmax=1\n",
    "    )\n",
    "\n",
    "plt.show()\n"
   ]
  },
  {
   "cell_type": "code",
   "execution_count": null,
   "id": "1b8692aa-cb8c-431c-a26e-712965ccc362",
   "metadata": {},
   "outputs": [],
   "source": []
  },
  {
   "cell_type": "markdown",
   "id": "6a5e5cb1-1889-49e5-9494-2f7eaa4bc763",
   "metadata": {},
   "source": [
    "## 2.3. Разделение датасета на обучающую и тестовую выборки"
   ]
  },
  {
   "cell_type": "code",
   "execution_count": 28,
   "id": "3b3755f9-81f9-4c45-96c9-abcc6215f7e0",
   "metadata": {},
   "outputs": [],
   "source": [
    "train_size = int(0.8 * len(PIXELS_DS))\n",
    "\n",
    "DATA_SPLIT_SEED = 178"
   ]
  },
  {
   "cell_type": "code",
   "execution_count": null,
   "id": "0e2e6d4c-8bdf-4f97-8142-ba55bd99abbf",
   "metadata": {},
   "outputs": [],
   "source": [
    "train_set, val_set = torch.utils.data.random_split(\n",
    "    PIXELS_DS,\n",
    "    [train_size, len(PIXELS_DS) - train_size],\n",
    "    generator=torch.Generator().manual_seed(DATA_SPLIT_SEED)"
   ]
  },
  {
   "cell_type": "code",
   "execution_count": 30,
   "id": "c8491209-fc6f-4384-80db-ccc1e221db95",
   "metadata": {},
   "outputs": [
    {
     "name": "stdout",
     "output_type": "stream",
     "text": [
      "Train data: 409\n",
      "Test data : 103\n"
     ]
    }
   ],
   "source": [
    "print(f'Train data: {len(train_set)}')\n",
    "print(f'Test data : {len(val_set)}')"
   ]
  },
  {
   "cell_type": "code",
   "execution_count": null,
   "id": "43aad04d-2135-4a23-9eb9-e1174a86d293",
   "metadata": {},
   "outputs": [],
   "source": []
  },
  {
   "cell_type": "markdown",
   "id": "537bbae5-920b-4041-b12c-bf35e32bd2fe",
   "metadata": {},
   "source": [
    "# 3. Оптическая нейросеть для обучения\n"
   ]
  },
  {
   "cell_type": "markdown",
   "id": "0c1e584e-55d9-4bdc-9800-c9aa6b817b80",
   "metadata": {},
   "source": [
    "## 3.1. Список элементов"
   ]
  },
  {
   "cell_type": "code",
   "execution_count": 31,
   "id": "08bc017b-d5fb-42a3-88a1-62f989f3a6b2",
   "metadata": {},
   "outputs": [],
   "source": [
    "DISTANCE_MAX = 10 * 1e-2  # [м] – верхняя граница для оптимизации расстояний\n",
    "DISTANCE_MIN = 1 * 1e-2   # [м] – нижняя граница для оптимизации расстояний\n",
    "\n",
    "F_MAX = 10 * 1e-2  # [м] – верхняя граница для оптимизации фокусных расстояний\n",
    "F_MIN = 1 * 1e-2   # [м] – нижняя граница для оптимизации фокусных расстояний\n"
   ]
  },
  {
   "cell_type": "code",
   "execution_count": 32,
   "id": "0ece42b3-7d2c-46bd-8f5c-110e507887fd",
   "metadata": {},
   "outputs": [],
   "source": [
    "# значения для инициализации обучаемой системы\n",
    "INIT_DISTANCES = [2 * 1e-2, 2 * 1e-2, 4 * 1e-2]\n",
    "INIT_F = [5 * 1e-2, 6.5 * 1e-2]\n"
   ]
  },
  {
   "cell_type": "code",
   "execution_count": null,
   "id": "c47bbeff-5313-4ed7-ab58-9be3dfc29315",
   "metadata": {},
   "outputs": [],
   "source": [
    "def get_elements_list(\n",
    "    distances,\n",
    "    focal_lengths,\n",
    "    simulation_parameters,\n",
    "    freespace_method,\n",
    "):\n",
    "    \"\"\"\n",
    "    Формирует список элементов для оптической системы.\n",
    "        Оптическая система: FS|ThinLens|FS|ThinLens|FS|Detector\n",
    "    ...\n",
    "\n",
    "    Параметры\n",
    "    ----------\n",
    "    distances : list[float]\n",
    "        Список из трёх расстояний для инициализации FreeSpace (в метрах).\n",
    "    focal_lengths : list[float]\n",
    "        Список фокусных расстояний для инициализации ThinLens (в метрах).\n",
    "    simulation_parameters : SimulationParameters()\n",
    "        Параметры симуляции для задачи.\n",
    "    freespace_method : str\n",
    "        Метод распространения для свободного пространства в системе.\n",
    "\n",
    "    Возвращает\n",
    "    ----------\n",
    "    elements_list : list(Element)\n",
    "        Список элементов для оптической системы.\n",
    "    \"\"\"\n",
    "\n",
    "    return [\n",
    "        elements.FreeSpace(\n",
    "            simulation_parameters=simulation_parameters,\n",
    "            distance=BoundedParameter(\n",
    "                distances[0],\n",
    "                min_value=DISTANCE_MIN,\n",
    "                max_value=DISTANCE_MAX\n",
    "            ),\n",
    "            method=freespace_method\n",
    "        ),\n",
    "        elements.ThinLens(  # первая линза\n",
    "            simulation_parameters=simulation_parameters,\n",
    "            focal_length=BoundedParameter(\n",
    "                focal_lengths[0],\n",
    "                min_value=F_MIN,\n",
    "                max_value=F_MAX\n",
    "            ),\n",
    "            radius=LENS_RADII  # радиус линзы не обучаемый\n",
    "        ),\n",
    "        elements.FreeSpace(\n",
    "            simulation_parameters=simulation_parameters,\n",
    "            distance=BoundedParameter(\n",
    "                distances[1],\n",
    "                min_value=DISTANCE_MIN,\n",
    "                max_value=DISTANCE_MAX\n",
    "            ),\n",
    "            method=freespace_method\n",
    "        ),\n",
    "        elements.ThinLens(  # вторая линза\n",
    "            simulation_parameters=simulation_parameters,\n",
    "            focal_length=BoundedParameter(\n",
    "                focal_lengths[1],\n",
    "                min_value=F_MIN,\n",
    "                max_value=F_MAX\n",
    "            ),\n",
    "            radius=LENS_RADII  # радиус линзы не обучаемый\n",
    "        ),\n",
    "        elements.FreeSpace(\n",
    "            simulation_parameters=simulation_parameters,\n",
    "            distance=BoundedParameter(\n",
    "                distances[2],\n",
    "                min_value=DISTANCE_MIN,\n",
    "                max_value=DISTANCE_MAX\n",
    "            ),\n",
    "            method=freespace_method\n",
    "        ),\n",
    "        Detector(  # детектор, возвращающий тензор интенсивностей\n",
    "            simulation_parameters=simulation_parameters,\n",
    "            func='intensity'\n",
    "        )\n",
    "    ]\n"
   ]
  },
  {
   "cell_type": "code",
   "execution_count": null,
   "id": "5202a0fc-c0ba-453c-87de-af8f3c365322",
   "metadata": {},
   "outputs": [],
   "source": []
  },
  {
   "cell_type": "markdown",
   "id": "afb2dea5-c025-4ae9-8267-8f274abbc4aa",
   "metadata": {},
   "source": [
    "## 3.2. Установка для тренеровки"
   ]
  },
  {
   "cell_type": "code",
   "execution_count": 34,
   "id": "d4bec4ff-7309-4e6f-9531-d48f4437622f",
   "metadata": {},
   "outputs": [],
   "source": [
    "def get_setup(simulation_parameters):\n",
    "    \"\"\"\n",
    "    Возвращает оптическую установку. Все элементы создаются заново.\n",
    "    \"\"\"\n",
    "    elements_list = get_elements_list(\n",
    "        distances=INIT_DISTANCES,\n",
    "        focal_lengths=INIT_F,\n",
    "        simulation_parameters=SIM_PARAMS,\n",
    "        freespace_method=FREESPACE_METHOD,\n",
    "    )  # пересоздание списка элементов\n",
    "\n",
    "    return LinearOpticalSetup(elements=elements_list)\n"
   ]
  },
  {
   "cell_type": "code",
   "execution_count": 35,
   "id": "8145728c-a5b9-40cb-8d3e-5ff49bb7711b",
   "metadata": {},
   "outputs": [
    {
     "data": {
      "text/plain": [
       "Sequential(\n",
       "  (0): FreeSpace()\n",
       "  (1): ThinLens()\n",
       "  (2): FreeSpace()\n",
       "  (3): ThinLens()\n",
       "  (4): FreeSpace()\n",
       "  (5): Detector()\n",
       ")"
      ]
     },
     "execution_count": 35,
     "metadata": {},
     "output_type": "execute_result"
    }
   ],
   "source": [
    "trainable_setup = get_setup(SIM_PARAMS)\n",
    "trainable_setup.net"
   ]
  },
  {
   "cell_type": "code",
   "execution_count": null,
   "id": "5bc03959-ce6f-4721-958e-d2c7c7828216",
   "metadata": {},
   "outputs": [],
   "source": []
  },
  {
   "cell_type": "markdown",
   "id": "de114cbe-ec88-45c8-851c-3decdfdbf05c",
   "metadata": {},
   "source": [
    "### 3.2.1. Пример распространения волнового фронта"
   ]
  },
  {
   "cell_type": "code",
   "execution_count": 36,
   "id": "84bcc0dd-14cb-4220-82d2-6b987c48e8d7",
   "metadata": {},
   "outputs": [],
   "source": [
    "example_wf = train_set[112][0]"
   ]
  },
  {
   "cell_type": "code",
   "execution_count": 37,
   "id": "defeaf77-da7c-44a4-a284-16f581b699ae",
   "metadata": {},
   "outputs": [],
   "source": [
    "setup_scheme, wavefronts = trainable_setup.stepwise_forward(example_wf)"
   ]
  },
  {
   "cell_type": "code",
   "execution_count": 38,
   "id": "59816b90-2e18-4cc6-907f-6265fe5f515d",
   "metadata": {},
   "outputs": [
    {
     "name": "stdout",
     "output_type": "stream",
     "text": [
      "-(0)-> [1. FreeSpace] -(1)-> [2. ThinLens] -(2)-> [3. FreeSpace] -(3)-> [4. ThinLens] -(4)-> [5. FreeSpace] -(5)-> [6. Detector] -(6)->\n"
     ]
    },
    {
     "data": {
      "image/png": "[encoded data removed]",
      "text/plain": [
       "<Figure size 1500x640 with 10 Axes>"
      ]
     },
     "metadata": {},
     "output_type": "display_data"
    }
   ],
   "source": [
    "print(setup_scheme)  # вывод схемы распространения\n",
    "\n",
    "n_cols = 5  # количество столбцов для отображения всех волновых фронтов во время распространения\n",
    "n_rows = 2\n",
    "\n",
    "to_plot = 'amp'  # <--- выбрать, что отображать: 'amp' или 'phase'\n",
    "cmap = 'grey'  # цветовая карта для волновых фронтов\n",
    "detector_cmap = 'hot'  # цветовая карта для детектора\n",
    "max_intensity = 1  # максимальная интенсивность для нормализации\n",
    "\n",
    "# создаём фигуру с подграфиками\n",
    "fig, axs = plt.subplots(n_rows, n_cols, figsize=(n_cols * 3, n_rows * 3.2))\n",
    "\n",
    "# отключаем лишние оси\n",
    "for ind_row in range(n_rows):\n",
    "    for ind_col in range(n_cols):\n",
    "        ax_this = axs[ind_row][ind_col]\n",
    "        if ind_row * n_cols + ind_col >= len(wavefronts):\n",
    "            ax_this.axis('off')\n",
    "\n",
    "# отображаем волновые фронты\n",
    "for ind_wf, wavefront in enumerate(wavefronts):\n",
    "    ax_this = axs[ind_wf // n_cols][ind_wf % n_cols]\n",
    "\n",
    "    if to_plot == 'phase':\n",
    "        # отображаем фазу волновых фронтов\n",
    "        if ind_wf < len(wavefronts) - 1:\n",
    "            ax_this.set_title(f'Фаза $WF_{{{ind_wf}}}$')\n",
    "            ax_this.imshow(\n",
    "                wavefront.phase.detach().numpy(), cmap=cmap,\n",
    "                # vmin=0, vmax=2 * torch.pi\n",
    "            )\n",
    "        else:\n",
    "            ax_this.set_title(f'Фаза детектора ($WF_{{{ind_wf}}}$)')\n",
    "            # У детектора нет фазы!\n",
    "\n",
    "    if to_plot == 'amp':\n",
    "        # отображаем интенсивность волновых фронтов\n",
    "        if ind_wf < len(wavefronts) - 1:\n",
    "            ax_this.set_title(f'Интенсивность $WF_{{{ind_wf}}}$')\n",
    "            ax_this.imshow(\n",
    "                wavefront.intensity.detach().numpy(), cmap=cmap,\n",
    "                vmin=0, vmax=max_intensity\n",
    "            )\n",
    "        else:  # вывод детектора (не волновой фронт)\n",
    "            ax_this.set_title(f'Интенсивность детектора ($WF_{{{ind_wf}}}$)')\n",
    "            ax_this.imshow(\n",
    "                wavefront.detach().numpy(), cmap=detector_cmap,\n",
    "                vmin=0, vmax=max_intensity\n",
    "            )\n",
    "\n",
    "    # Примечание: вывод детектора — это тензор! У него нет методов волнового фронта (.phase или .intensity)\n",
    "\n",
    "plt.show()\n"
   ]
  },
  {
   "cell_type": "code",
   "execution_count": null,
   "id": "63def9cf-cf39-46b1-9cdb-e4b7a9192f34",
   "metadata": {},
   "outputs": [],
   "source": []
  },
  {
   "cell_type": "markdown",
   "id": "b82cb4a3-9f87-4a47-b8b4-40d850dc809a",
   "metadata": {},
   "source": [
    "### 3.2.2. "
   ]
  },
  {
   "cell_type": "code",
   "execution_count": null,
   "id": "ddf93e0c-52ac-4c7c-ae32-3290ab4f5221",
   "metadata": {},
   "outputs": [
    {
     "data": {
      "image/png": "[encoded data removed]",
      "text/plain": [
       "<Figure size 1200x640 with 8 Axes>"
      ]
     },
     "metadata": {},
     "output_type": "display_data"
    }
   ],
   "source": [
    "# выбор индексов изображений (из валидационного набора) для отображения\n",
    "random.seed(78)\n",
    "val_examples_ids = random.sample(range(len(val_set)), n_examples)\n",
    "\n",
    "n_lines = 2\n",
    "fig, axs = plt.subplots(n_lines, n_examples, figsize=(n_examples * 3, n_lines * 3.2))\n",
    "\n",
    "for ind_ex, ind_sample in enumerate(val_examples_ids):\n",
    "\n",
    "    wavefront, target = val_set[ind_sample]\n",
    "\n",
    "    axs[0][ind_ex].set_title('$|WF_{in}|^2$, ' + f'ind={ind_sample}')\n",
    "    # отображение интенсивности входного волнового фронта\n",
    "    axs[0][ind_ex].imshow(\n",
    "        wavefront.intensity, cmap='gray',\n",
    "        vmin=0, vmax=1\n",
    "    )\n",
    "\n",
    "    # вывод обучаемой (инициализированной) сети\n",
    "    with torch.no_grad():\n",
    "        output = get_setup(SIM_PARAMS).net(wavefront)\n",
    "    axs[1][ind_ex].set_title('$|WF_{out}|^2$ для инициализированной системы')\n",
    "    axs[1][ind_ex].imshow(\n",
    "        output, cmap='gray',\n",
    "        vmin=0, vmax=1\n",
    "    )\n",
    "\n",
    "plt.show()\n"
   ]
  },
  {
   "cell_type": "code",
   "execution_count": null,
   "id": "1663991c-839e-46e2-a94d-d33d9af6a585",
   "metadata": {},
   "outputs": [],
   "source": []
  },
  {
   "cell_type": "markdown",
   "id": "55667463-2dc9-4bb2-9ab9-53e479acb09b",
   "metadata": {},
   "source": [
    "# 4. Обучение нейросети\n",
    "\n",
    "Переменные на данный момент:\n",
    "- расстояния между `ThinLens` (размеры участков `FreeSpace`)\n",
    "- фокусные расстояния линз (`ThinLenses`)\n"
   ]
  },
  {
   "cell_type": "code",
   "execution_count": 39,
   "id": "9c37298b-6f84-4586-81d2-80268e84c566",
   "metadata": {},
   "outputs": [
    {
     "data": {
      "text/plain": [
       "device(type='cpu')"
      ]
     },
     "execution_count": 39,
     "metadata": {},
     "output_type": "execute_result"
    }
   ],
   "source": [
    "DEVICE = torch.device('cuda' if torch.cuda.is_available() else 'cpu')\n",
    "\n",
    "# if DEVICE == torch.device('cpu'):\n",
    "#     DEVICE = torch.device('mps' if torch.backends.mps.is_available() else 'cpu')\n",
    "\n",
    "DEVICE"
   ]
  },
  {
   "cell_type": "markdown",
   "id": "40e3c293-0a12-4622-a6c4-9b9437ae1517",
   "metadata": {},
   "source": [
    "## 4.1. Подготовка процессов перед обучением системы"
   ]
  },
  {
   "cell_type": "markdown",
   "id": "4a538abd-0c10-4d02-af99-58410b9697f8",
   "metadata": {},
   "source": [
    "### 4.1.1. Инициализация объектов  DataLoader"
   ]
  },
  {
   "cell_type": "code",
   "execution_count": 40,
   "id": "d3dd9a8b-3e30-44df-8335-099fb140cd62",
   "metadata": {},
   "outputs": [],
   "source": [
    "train_bs = 4  # a batch size for training set\n",
    "val_bs = 10"
   ]
  },
  {
   "cell_type": "code",
   "execution_count": 41,
   "id": "43c3fbef-5a00-4784-a5c8-85c47231890e",
   "metadata": {},
   "outputs": [],
   "source": [
    "train_loader = torch.utils.data.DataLoader(\n",
    "        train_set,\n",
    "        batch_size=train_bs,\n",
    "        shuffle=True,\n",
    "        # num_workers=2,\n",
    "        drop_last=False,\n",
    "    )\n",
    "\n",
    "val_loader = torch.utils.data.DataLoader(\n",
    "    val_set,\n",
    "    batch_size=val_bs,\n",
    "    shuffle=False,\n",
    "    # num_workers=2,\n",
    "    drop_last=False,\n",
    ")"
   ]
  },
  {
   "cell_type": "code",
   "execution_count": null,
   "id": "0ff84f0d-925b-407c-a506-4d02c35fd4ea",
   "metadata": {},
   "outputs": [],
   "source": []
  },
  {
   "cell_type": "markdown",
   "id": "e61b780d-0028-4208-ad2c-2751679062c3",
   "metadata": {},
   "source": [
    "### 4.1.2. Функция потерь"
   ]
  },
  {
   "cell_type": "code",
   "execution_count": 42,
   "id": "8fbf825c-e9ca-4f94-b1d6-da4921748cf0",
   "metadata": {},
   "outputs": [],
   "source": [
    "# optimizer_clf = torch.optim.Adam(\n",
    "#     params=lin_optical_setup.net.parameters()  # параметры сети!\n",
    "# )"
   ]
  },
  {
   "cell_type": "code",
   "execution_count": 43,
   "id": "390a425d-cff3-44ba-81f6-2fe467c52a33",
   "metadata": {},
   "outputs": [],
   "source": [
    "loss_func = nn.MSELoss()\n",
    "loss_func_name = 'MSE'"
   ]
  },
  {
   "cell_type": "code",
   "execution_count": null,
   "id": "09af0a6d-09b9-4235-b10d-86cd5af1b178",
   "metadata": {},
   "outputs": [],
   "source": []
  },
  {
   "cell_type": "markdown",
   "id": "a0b9fb02-e17f-4f9b-a3e8-07c8f8d69f74",
   "metadata": {},
   "source": [
    "### 4.1.3. Циклы обучения и оценки"
   ]
  },
  {
   "cell_type": "code",
   "execution_count": null,
   "id": "c5439f37-9a98-4699-a13e-5e4c8d04dfec",
   "metadata": {},
   "outputs": [],
   "source": [
    "def onn_train_loop(\n",
    "    optical_net, wavefronts_dataloader,\n",
    "    loss_func, optimizer,\n",
    "    device='cpu', show_process=False\n",
    "):\n",
    "    \"\"\"\n",
    "    Функция для обучения `optical_net`\n",
    "    ...\n",
    "\n",
    "    Параметры\n",
    "    ----------\n",
    "        optical_net : torch.nn.Module\n",
    "            Нейросеть, состоящая из оптических элементов.\n",
    "        wavefronts_dataloader : torch.utils.data.DataLoader\n",
    "            Даталоадер (по батчам) для обучающего набора волновых фронтов.\n",
    "        loss_func :\n",
    "            Функция потерь для задачи.\n",
    "        optimizer : torch.optim\n",
    "            Оптимизатор.\n",
    "        device : str\n",
    "            Устройство для вычислений.\n",
    "        show_process : bool\n",
    "            Флаг для отображения прогресс-бара.\n",
    "\n",
    "    Возвращает\n",
    "    ----------\n",
    "        batches_losses : list[float]\n",
    "            Потери (loss) для каждого батча в эпохе.\n",
    "    \"\"\"\n",
    "    optical_net.train()  # активируем режим обучения модели\n",
    "    batches_losses = []  # для хранения потерь по каждому батчу\n",
    "\n",
    "    for batch_wavefronts, batch_targets in tqdm(\n",
    "        wavefronts_dataloader,\n",
    "        total=len(wavefronts_dataloader),\n",
    "        desc='обучение', position=0,\n",
    "        leave=True, disable=not show_process\n",
    "    ):  # проход по батчам\n",
    "        # batch_wavefronts — входные волновые фронты, batch_targets — целевые изображения\n",
    "        batch_size = batch_wavefronts.size()[0]\n",
    "\n",
    "        batch_wavefronts = batch_wavefronts.to(device)\n",
    "        batch_targets = batch_targets.to(device)\n",
    "\n",
    "        optimizer.zero_grad()\n",
    "\n",
    "        # прямой проход через оптическую нейросеть\n",
    "        detector_outputs = optical_net(batch_wavefronts)\n",
    "        # вычисление функции потерь по батчу — сравнение двух изображений\n",
    "        loss = loss_func(detector_outputs, batch_targets)\n",
    "\n",
    "        loss.backward()\n",
    "        optimizer.step()\n",
    "\n",
    "        # накопление потерь для каждого батча\n",
    "        batches_losses.append(loss.item())\n",
    "\n",
    "    return batches_losses\n"
   ]
  },
  {
   "cell_type": "code",
   "execution_count": null,
   "id": "1c3b9637-e509-4b71-b61b-a01fe93339d0",
   "metadata": {},
   "outputs": [],
   "source": [
    "def onn_validate_loop(\n",
    "    optical_net, wavefronts_dataloader,\n",
    "    loss_func,\n",
    "    device='cpu', show_process=False\n",
    "):\n",
    "    \"\"\"\n",
    "    Функция для валидации `optical_net` (например, в задаче классификации)\n",
    "    ...\n",
    "\n",
    "    Параметры\n",
    "    ----------\n",
    "        optical_net : torch.nn.Module\n",
    "            Нейросеть, составленная из оптических элементов.\n",
    "        wavefronts_dataloader : torch.utils.data.DataLoader\n",
    "            Даталоадер (по батчам) для валидационного набора волновых фронтов.\n",
    "        loss_func :\n",
    "            Функция потерь для задачи (например, многоклассовой классификации или регрессии).\n",
    "        device : str\n",
    "            Устройство для вычислений.\n",
    "        show_process : bool\n",
    "            Флаг для отображения прогресс-бара.\n",
    "\n",
    "    Возвращает\n",
    "    ----------\n",
    "        batches_losses : list[float]\n",
    "            Потери для каждого батча в эпохе.\n",
    "    \"\"\"\n",
    "    optical_net.eval()  # включаем режим валидации\n",
    "    batches_losses = []  # список для хранения потерь по батчам\n",
    "\n",
    "    for batch_wavefronts, batch_targets in tqdm(\n",
    "        wavefronts_dataloader,\n",
    "        total=len(wavefronts_dataloader),\n",
    "        desc='валидация', position=0,\n",
    "        leave=True, disable=not show_process\n",
    "    ):\n",
    "        # batch_wavefronts — входные волновые фронты, batch_targets — целевые изображения\n",
    "        batch_size = batch_wavefronts.size()[0]\n",
    "\n",
    "        batch_wavefronts = batch_wavefronts.to(device)\n",
    "        batch_targets = batch_targets.to(device)\n",
    "\n",
    "        with torch.no_grad():\n",
    "            detector_outputs = optical_net(batch_wavefronts)\n",
    "            # вычисляем loss для текущего батча\n",
    "            loss = loss_func(detector_outputs, batch_targets)\n",
    "\n",
    "        # сохраняем loss\n",
    "        batches_losses.append(loss.item())\n",
    "\n",
    "    return batches_losses\n"
   ]
  },
  {
   "cell_type": "code",
   "execution_count": null,
   "id": "ea484d71-20a9-4590-be00-32eb052cedbc",
   "metadata": {},
   "outputs": [],
   "source": []
  },
  {
   "cell_type": "markdown",
   "id": "46b3b6bb-8900-4166-b229-e78cf5b8c405",
   "metadata": {},
   "source": [
    "## 4.2. Обучение оптической нейросети"
   ]
  },
  {
   "cell_type": "markdown",
   "id": "9ac2176f-b8ff-4f59-b423-56ae6f892c99",
   "metadata": {},
   "source": [
    "### 4.2.1. До начала обучения"
   ]
  },
  {
   "cell_type": "markdown",
   "id": "20e7ed78-a572-4030-a003-71b48dffd68b",
   "metadata": {},
   "source": [
    "#### Метрики для обучающего и валидационного датасетов"
   ]
  },
  {
   "cell_type": "code",
   "execution_count": 46,
   "id": "da2ec68b-7be2-4708-a85f-3541d9b7acce",
   "metadata": {},
   "outputs": [],
   "source": [
    "# lin_optical_setup.net = lin_optical_setup.net.to(DEVICE)\n",
    "# SIM_PARAMS = SIM_PARAMS.to(DEVICE)"
   ]
  },
  {
   "cell_type": "code",
   "execution_count": null,
   "id": "9f6932db-44c5-439a-a14f-c06b5e645f2c",
   "metadata": {},
   "outputs": [
    {
     "name": "stderr",
     "output_type": "stream",
     "text": [
      "validation: 100%|██████████████████████████████████████████████████████████████████████████| 103/103 [00:04<00:00, 21.20it/s]"
     ]
    },
    {
     "name": "stdout",
     "output_type": "stream",
     "text": [
      "Results before training on TRAIN set:\n",
      "\tMSE : 0.071396\n"
     ]
    },
    {
     "name": "stderr",
     "output_type": "stream",
     "text": [
      "\n"
     ]
    }
   ],
   "source": [
    "train_losses_init = onn_validate_loop(\n",
    "    trainable_setup.net,  # оптическая сеть, собранная на этапе 3\n",
    "    train_loader,         # загрузчик обучающего набора данных\n",
    "    loss_func,\n",
    "    device=DEVICE,\n",
    "    show_process=True,\n",
    ")  # оценка модели\n",
    "\n",
    "print(\n",
    "    'Результаты до начала обучения на TRAIN наборе:\\n' +\n",
    "    f'\\t{loss_func_name} : {np.mean(train_losses_init):.6f}'\n",
    ")\n"
   ]
  },
  {
   "cell_type": "code",
   "execution_count": null,
   "id": "6142a33b-e47f-4283-bc30-13165b96fedf",
   "metadata": {},
   "outputs": [],
   "source": []
  },
  {
   "cell_type": "markdown",
   "id": "e716fb81-4dec-479c-a326-f52e2657642c",
   "metadata": {},
   "source": [
    "### 4.2.2. Обучение"
   ]
  },
  {
   "cell_type": "code",
   "execution_count": null,
   "id": "2ce8ef8d-dd2a-4bb6-8b6d-ca3792dbc6c4",
   "metadata": {},
   "outputs": [],
   "source": [
    "n_epochs = 100\n",
    "print_each = 25"
   ]
  },
  {
   "cell_type": "code",
   "execution_count": null,
   "id": "6adb8840-df52-425c-bacf-0cfea6e8c1da",
   "metadata": {},
   "outputs": [],
   "source": [
    "scheduler = None"
   ]
  },
  {
   "cell_type": "code",
   "execution_count": 56,
   "id": "c58a2fc5-fed3-4730-ae75-bb814ab0daf8",
   "metadata": {},
   "outputs": [],
   "source": [
    "# Пересоздание системы для перезапуска обучения!\n",
    "\n",
    "trainable_setup = get_setup(SIM_PARAMS)\n",
    "\n",
    "# Привязка оптимизатора к пересозданной сети!\n",
    "optimizer = torch.optim.Adam(\n",
    "    params=trainable_setup.net.parameters()  # ПАРАМЕТРЫ НЕЙРОСЕТИ!\n",
    ")\n"
   ]
  },
  {
   "cell_type": "code",
   "execution_count": 57,
   "id": "b19fb2f0-0f23-4df4-8f83-8f9acb1d550c",
   "metadata": {},
   "outputs": [],
   "source": [
    "trainable_setup.net = trainable_setup.net.to(DEVICE)"
   ]
  },
  {
   "cell_type": "code",
   "execution_count": null,
   "id": "158d9843-5ca6-42bc-84b2-eb67f25fcc6b",
   "metadata": {},
   "outputs": [],
   "source": []
  },
  {
   "cell_type": "code",
   "execution_count": null,
   "id": "d0327fee-335a-4597-b8fc-586f8902d524",
   "metadata": {},
   "outputs": [
    {
     "name": "stdout",
     "output_type": "stream",
     "text": [
      "Epoch #1: "
     ]
    },
    {
     "name": "stderr",
     "output_type": "stream",
     "text": [
      "train: 100%|███████████████████████████████████████████████████████████████████████████████| 103/103 [00:07<00:00, 13.13it/s]\n"
     ]
    },
    {
     "name": "stdout",
     "output_type": "stream",
     "text": [
      "Training results\n",
      "\tMSE : 0.054001\n",
      "\t------------   7.85 s\n"
     ]
    },
    {
     "name": "stderr",
     "output_type": "stream",
     "text": [
      "validation: 100%|████████████████████████████████████████████████████████████████████████████| 11/11 [00:01<00:00,  9.37it/s]\n"
     ]
    },
    {
     "name": "stdout",
     "output_type": "stream",
     "text": [
      "Validation results\n",
      "\tMSE : 0.040549\n",
      "\t------------   1.18 s\n",
      "Epoch #25: "
     ]
    },
    {
     "name": "stderr",
     "output_type": "stream",
     "text": [
      "train: 100%|███████████████████████████████████████████████████████████████████████████████| 103/103 [00:12<00:00,  8.24it/s]\n"
     ]
    },
    {
     "name": "stdout",
     "output_type": "stream",
     "text": [
      "Training results\n",
      "\tMSE : 0.004803\n",
      "\t------------   12.51 s\n"
     ]
    },
    {
     "name": "stderr",
     "output_type": "stream",
     "text": [
      "validation: 100%|████████████████████████████████████████████████████████████████████████████| 11/11 [00:01<00:00,  5.90it/s]\n"
     ]
    },
    {
     "name": "stdout",
     "output_type": "stream",
     "text": [
      "Validation results\n",
      "\tMSE : 0.004774\n",
      "\t------------   1.87 s\n",
      "Epoch #50: "
     ]
    },
    {
     "name": "stderr",
     "output_type": "stream",
     "text": [
      "train: 100%|███████████████████████████████████████████████████████████████████████████████| 103/103 [00:10<00:00,  9.52it/s]\n"
     ]
    },
    {
     "name": "stdout",
     "output_type": "stream",
     "text": [
      "Training results\n",
      "\tMSE : 0.004800\n",
      "\t------------   10.83 s\n"
     ]
    },
    {
     "name": "stderr",
     "output_type": "stream",
     "text": [
      "validation: 100%|████████████████████████████████████████████████████████████████████████████| 11/11 [00:01<00:00,  6.24it/s]\n"
     ]
    },
    {
     "name": "stdout",
     "output_type": "stream",
     "text": [
      "Validation results\n",
      "\tMSE : 0.004773\n",
      "\t------------   1.77 s\n",
      "Epoch #75: "
     ]
    },
    {
     "name": "stderr",
     "output_type": "stream",
     "text": [
      "train: 100%|███████████████████████████████████████████████████████████████████████████████| 103/103 [00:11<00:00,  8.89it/s]\n"
     ]
    },
    {
     "name": "stdout",
     "output_type": "stream",
     "text": [
      "Training results\n",
      "\tMSE : 0.004807\n",
      "\t------------   11.61 s\n"
     ]
    },
    {
     "name": "stderr",
     "output_type": "stream",
     "text": [
      "validation: 100%|████████████████████████████████████████████████████████████████████████████| 11/11 [00:01<00:00,  6.14it/s]\n"
     ]
    },
    {
     "name": "stdout",
     "output_type": "stream",
     "text": [
      "Validation results\n",
      "\tMSE : 0.004772\n",
      "\t------------   1.80 s\n",
      "Epoch #100: "
     ]
    },
    {
     "name": "stderr",
     "output_type": "stream",
     "text": [
      "train: 100%|███████████████████████████████████████████████████████████████████████████████| 103/103 [00:15<00:00,  6.47it/s]\n"
     ]
    },
    {
     "name": "stdout",
     "output_type": "stream",
     "text": [
      "Training results\n",
      "\tMSE : 0.004819\n",
      "\t------------   15.92 s\n"
     ]
    },
    {
     "name": "stderr",
     "output_type": "stream",
     "text": [
      "validation: 100%|████████████████████████████████████████████████████████████████████████████| 11/11 [00:02<00:00,  5.29it/s]"
     ]
    },
    {
     "name": "stdout",
     "output_type": "stream",
     "text": [
      "Validation results\n",
      "\tMSE : 0.004772\n",
      "\t------------   2.08 s\n"
     ]
    },
    {
     "name": "stderr",
     "output_type": "stream",
     "text": [
      "\n"
     ]
    }
   ],
   "source": [
    "train_epochs_losses = []\n",
    "val_epochs_losses = []  # для хранения потерь по эпохам\n",
    "\n",
    "torch.manual_seed(98)  # для воспроизводимости\n",
    "\n",
    "for epoch in range(n_epochs):\n",
    "    if (epoch == 0) or ((epoch + 1) % print_each == 0):\n",
    "        print(f'Эпоха #{epoch + 1}: ', end='')\n",
    "        show_progress = True\n",
    "    else:\n",
    "        show_progress = False\n",
    "\n",
    "    # ОБУЧЕНИЕ\n",
    "    start_train_time = time.time()  # время начала эпохи (обучение)\n",
    "    train_losses = onn_train_loop(\n",
    "        trainable_setup.net,  # оптическая сеть, собранная на этапе 3\n",
    "        train_loader,         # загрузчик обучающего набора\n",
    "        loss_func,\n",
    "        optimizer,\n",
    "        device=DEVICE,\n",
    "        show_process=show_progress,\n",
    "    )  # обучение модели\n",
    "    mean_train_loss = np.mean(train_losses)\n",
    "\n",
    "    if (epoch == 0) or ((epoch + 1) % print_each == 0):  # вывод информации по обучению\n",
    "        print('Результаты обучения')\n",
    "        print(f'\\t{loss_func_name} : {mean_train_loss:.6f}')\n",
    "        print(f'\\t------------   {time.time() - start_train_time:.2f} с')\n",
    "\n",
    "    # ВАЛИДАЦИЯ\n",
    "    start_val_time = time.time()  # время начала эпохи (валидация)\n",
    "    val_losses = onn_validate_loop(\n",
    "        trainable_setup.net,  # оптическая сеть, собранная на этапе 3\n",
    "        val_loader,           # загрузчик валидационного набора\n",
    "        loss_func,\n",
    "        device=DEVICE,\n",
    "        show_process=show_progress,\n",
    "    )  # оценка модели\n",
    "    mean_val_loss = np.mean(val_losses)\n",
    "\n",
    "    if (epoch == 0) or ((epoch + 1) % print_each == 0):  # вывод информации по валидации\n",
    "        print('Результаты валидации')\n",
    "        print(f'\\t{loss_func_name} : {mean_val_loss:.6f}')\n",
    "        print(f'\\t------------   {time.time() - start_val_time:.2f} с')\n",
    "\n",
    "    if scheduler:\n",
    "        scheduler.step(mean_val_loss)\n",
    "\n",
    "    # сохраняем потери\n",
    "    train_epochs_losses.append(mean_train_loss)\n",
    "    val_epochs_losses.append(mean_val_loss)\n"
   ]
  },
  {
   "cell_type": "code",
   "execution_count": 89,
   "id": "0814e41d-4cf7-4f02-8172-74ee2c0195c9",
   "metadata": {},
   "outputs": [
    {
     "data": {
      "image/png": "[encoded data removed]",
      "text/plain": [
       "<Figure size 500x300 with 1 Axes>"
      ]
     },
     "metadata": {},
     "output_type": "display_data"
    }
   ],
   "source": [
    "# Кривая обучения\n",
    "fig, ax0 = plt.subplots(1, 1, figsize=(5, 3))\n",
    "\n",
    "ax0.plot(range(1, n_epochs + 1), np.array(train_epochs_losses) * 1e3, label='train')\n",
    "ax0.plot(range(1, n_epochs + 1), np.array(val_epochs_losses) * 1e3, linestyle='dashed', label='validation')\n",
    "\n",
    "ax0.set_ylim([4.75, 5.0])\n",
    "ax0.set_ylabel(loss_func_name + r'$\\times 10^3$')\n",
    "ax0.set_xlabel('Epoch')\n",
    "ax0.legend()\n",
    "\n",
    "plt.show()"
   ]
  },
  {
   "cell_type": "code",
   "execution_count": 80,
   "id": "c84605eb-3e52-4a43-a828-d5ed16a5d1ee",
   "metadata": {},
   "outputs": [
    {
     "name": "stdout",
     "output_type": "stream",
     "text": [
      "Trained optical setup:\n",
      "\t1 FreeSpace:\td = 1.707 cm\n",
      "\t2 ThinLens:\tF = 4.171 cm\n",
      "\t3 FreeSpace:\td = 2.203 cm\n",
      "\t4 ThinLens:\tF = 5.752 cm\n",
      "\t5 FreeSpace:\td = 4.750 cm\n"
     ]
    }
   ],
   "source": [
    "# обучаемые параметры\n",
    "print('Trained optical setup:')\n",
    "\n",
    "for ind, el in enumerate(trainable_setup.net):\n",
    "    if isinstance(el, elements.FreeSpace):\n",
    "        print(f'\\t{ind + 1} FreeSpace:\\td = {el.distance * 100:.3f} cm')\n",
    "    if isinstance(el, elements.ThinLens):\n",
    "        print(f'\\t{ind + 1} ThinLens:\\tF = {el.focal_length * 100:.3f} cm')"
   ]
  },
  {
   "cell_type": "code",
   "execution_count": 81,
   "id": "4934e5cc-dab9-418e-b215-f911fb6b17a3",
   "metadata": {},
   "outputs": [
    {
     "name": "stdout",
     "output_type": "stream",
     "text": [
      "Target optical setup:\n",
      "\t1 FreeSpace:\td = 4.000 cm\n",
      "\t2 ThinLens:\tF = 4.000 cm\n",
      "\t3 FreeSpace:\td = 8.000 cm\n",
      "\t4 ThinLens:\tF = 4.000 cm\n",
      "\t5 FreeSpace:\td = 4.000 cm\n"
     ]
    }
   ],
   "source": [
    "print('Target optical setup:')\n",
    "\n",
    "for ind, el in enumerate(TARGET_4F_SYSTEM.net):\n",
    "    if isinstance(el, elements.FreeSpace):\n",
    "        print(f'\\t{ind + 1} FreeSpace:\\td = {el.distance * 100:.3f} cm')\n",
    "    if isinstance(el, elements.ThinLens):\n",
    "        print(f'\\t{ind + 1} ThinLens:\\tF = {el.focal_length * 100:.3f} cm')"
   ]
  },
  {
   "cell_type": "code",
   "execution_count": null,
   "id": "24d24ec1-9ebe-453c-b0cd-0330728d0bee",
   "metadata": {},
   "outputs": [],
   "source": []
  },
  {
   "cell_type": "markdown",
   "id": "50977613-09b8-4fcc-a42f-58e5e282b200",
   "metadata": {},
   "source": [
    "# 5. Сравнение полученной системы с целевой 4F-системой"
   ]
  },
  {
   "cell_type": "code",
   "execution_count": null,
   "id": "7b32ed39-0328-40f0-9a1e-fe32d8b45264",
   "metadata": {},
   "outputs": [
    {
     "data": {
      "image/png": "[encoded data removed]",
      "text/plain": [
       "<Figure size 1200x960 with 12 Axes>"
      ]
     },
     "metadata": {},
     "output_type": "display_data"
    }
   ],
   "source": [
    "# отображение нескольких ПРИМЕРОВ из ВАЛИДАЦИОННОГО набора\n",
    "# выбор индексов изображений (из валидационного набора) для отображения\n",
    "\n",
    "# random.seed(78)\n",
    "# val_examples_ids = random.sample(range(len(val_set)), n_examples)\n",
    "\n",
    "n_lines = 3\n",
    "fig, axs = plt.subplots(n_lines, n_examples, figsize=(n_examples * 3, n_lines * 3.2))\n",
    "\n",
    "for ind_ex, ind_sample in enumerate(val_examples_ids):\n",
    "\n",
    "    wavefront, target = val_set[ind_sample]\n",
    "\n",
    "    axs[0][ind_ex].set_title('$|WF_{in}|^2$, ' + f'ind={ind_sample}')\n",
    "    # отображение интенсивности входного волнового фронта\n",
    "    axs[0][ind_ex].imshow(\n",
    "        wavefront.intensity, cmap='gray',\n",
    "        vmin=0, vmax=1\n",
    "    )\n",
    "\n",
    "    # целевой вывод (после 4F-системы)\n",
    "    axs[1][ind_ex].set_title('$|WF|^2$ после 4F-системы')\n",
    "    axs[1][ind_ex].imshow(\n",
    "        target, cmap='gray',\n",
    "        vmin=0, vmax=1\n",
    "    )\n",
    "    axs[1][ind_ex].grid(True)\n",
    "\n",
    "    # вывод обученной сети\n",
    "    with torch.no_grad():\n",
    "        output = trainable_setup.net(wavefront)\n",
    "    axs[2][ind_ex].set_title('$|WF_{out}|^2$')\n",
    "    axs[2][ind_ex].imshow(\n",
    "        output, cmap='gray',\n",
    "        vmin=0, vmax=1\n",
    "    )\n",
    "    axs[2][ind_ex].grid(True)\n",
    "\n",
    "plt.show()\n"
   ]
  },
  {
   "cell_type": "code",
   "execution_count": null,
   "id": "d7891ebf-cb6c-4c3b-8dd6-9701626c3ebd",
   "metadata": {},
   "outputs": [],
   "source": []
  },
  {
   "cell_type": "code",
   "execution_count": null,
   "id": "943f718c-d03f-4c2d-8fbe-b697d1037f45",
   "metadata": {},
   "outputs": [],
   "source": []
  }
 ],
 "metadata": {
  "kernelspec": {
   "display_name": "Python 3 (ipykernel)",
   "language": "python",
   "name": "python3"
  },
  "language_info": {
   "codemirror_mode": {
    "name": "ipython",
    "version": 3
   },
   "file_extension": ".py",
   "mimetype": "text/x-python",
   "name": "python",
   "nbconvert_exporter": "python",
   "pygments_lexer": "ipython3",
   "version": "3.11.9"
  }
 },
 "nbformat": 4,
 "nbformat_minor": 5
}
