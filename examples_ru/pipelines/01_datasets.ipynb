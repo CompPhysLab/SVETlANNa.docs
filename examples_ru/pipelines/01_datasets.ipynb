{
 "cells": [
  {
   "cell_type": "code",
   "execution_count": null,
   "id": "4b6f9884",
   "metadata": {},
   "outputs": [],
   "source": [
    "!pip install svetlanna\n",
    "!pip install reservoirpy matplotlib tqdm requests av scikit-image py-cpuinfo gputil pandas"
   ]
  },
  {
   "cell_type": "markdown",
   "id": "35c58e4e-9226-4d24-ae10-b84c5cc05ce5",
   "metadata": {},
   "source": [
    "### Преамбула"
   ]
  },
  {
   "cell_type": "code",
   "execution_count": 1,
   "id": "d15a31da-c6c3-427d-a070-afdc48a01305",
   "metadata": {},
   "outputs": [],
   "source": [
    "import os\n",
    "import sys\n",
    "import random"
   ]
  },
  {
   "cell_type": "code",
   "execution_count": 2,
   "id": "f309cc84-f338-409f-b1a3-6ac36b945622",
   "metadata": {},
   "outputs": [],
   "source": [
    "import numpy as np"
   ]
  },
  {
   "cell_type": "code",
   "execution_count": 3,
   "id": "c39328b9-9fa8-4937-9a53-905ea59276c5",
   "metadata": {},
   "outputs": [],
   "source": [
    "import torch\n",
    "from torch.utils.data import Dataset"
   ]
  },
  {
   "cell_type": "code",
   "execution_count": 4,
   "id": "4ba00109-7b62-4f32-b685-17f437630230",
   "metadata": {},
   "outputs": [],
   "source": [
    "import torchvision\n",
    "import torchvision.transforms as transforms"
   ]
  },
  {
   "cell_type": "code",
   "execution_count": 5,
   "id": "a39c467c-b066-4afb-b470-4265088d5301",
   "metadata": {},
   "outputs": [],
   "source": [
    "from torchvision.transforms import InterpolationMode"
   ]
  },
  {
   "cell_type": "code",
   "execution_count": null,
   "id": "9b7826e8-9de7-4539-b16a-60827a25959f",
   "metadata": {},
   "outputs": [],
   "source": [
    "from svetlanna import SimulationParameters\n",
    "from svetlanna import elements\n",
    "from svetlanna import Wavefront"
   ]
  },
  {
   "cell_type": "code",
   "execution_count": null,
   "id": "a4086e14-3d3b-4517-a379-f6e54004382d",
   "metadata": {},
   "outputs": [],
   "source": [
    "# датасеты волновых фронтов\n",
    "from svetlanna.transforms import ToWavefront, GaussModulation\n",
    "from src.wf_datasets import DatasetOfWavefronts  # <- Dataset Class to test"
   ]
  },
  {
   "cell_type": "code",
   "execution_count": 8,
   "id": "02414ffa-fc8b-4cd7-a6fa-1f744a9a68a7",
   "metadata": {},
   "outputs": [],
   "source": [
    "import matplotlib.pyplot as plt\n",
    "\n",
    "plt.style.use('dark_background')\n",
    "%matplotlib inline\n",
    "# %config InlineBackend.figure_format = 'retina'"
   ]
  },
  {
   "cell_type": "markdown",
   "id": "80627bfb-e0f3-4df1-8f3d-f11b9a431113",
   "metadata": {},
   "source": [
    "# 1. Необработанный датасет [MNIST](https://www.kaggle.com/datasets/hojjatk/mnist-dataset)\n",
    "\n",
    "Загружаем набор данных из `torchvision` в выбранный каталог и создаём обучающие и тестовые наборы данных."
   ]
  },
  {
   "cell_type": "code",
   "execution_count": null,
   "id": "0de278d4-1f7a-4651-8fce-74c41567c08f",
   "metadata": {},
   "outputs": [],
   "source": [
    "# инициализация директории для датасета\n",
    "data_filepath = './data'"
   ]
  },
  {
   "cell_type": "code",
   "execution_count": null,
   "id": "faf533e4-3865-4b1a-bcfc-9443572863d7",
   "metadata": {},
   "outputs": [],
   "source": [
    "import ssl\n",
    "# Чтобы решить проблему с сертификатами при загрузке набора данных с помощью TorchVision,\n",
    "# воспользуйтесь решением: https://github.com/pytorch/pytorch/issues/33288#issuecomment-954160699\n",
    "ssl._create_default_https_context = ssl._create_unverified_context"
   ]
  },
  {
   "cell_type": "markdown",
   "id": "4a576a17-657c-40e3-ac25-24bcb44a6a29",
   "metadata": {},
   "source": [
    "## 1.1. Обучение"
   ]
  },
  {
   "cell_type": "code",
   "execution_count": 11,
   "id": "c1d740b2-dfd1-4bf3-a86c-6fb13a831df0",
   "metadata": {},
   "outputs": [
    {
     "data": {
      "text/plain": [
       "60000"
      ]
     },
     "execution_count": 11,
     "metadata": {},
     "output_type": "execute_result"
    }
   ],
   "source": [
    "mnist_train_ds = torchvision.datasets.MNIST(\n",
    "    root=data_filepath,\n",
    "    train=True,  # for train dataset\n",
    "    download=True,\n",
    "    # transform=transforms.ToTensor()  # <- transforms images to tensors\n",
    ")\n",
    "\n",
    "len(mnist_train_ds)"
   ]
  },
  {
   "cell_type": "code",
   "execution_count": null,
   "id": "f43bea13-f202-4723-bbf9-175b3fc32f20",
   "metadata": {},
   "outputs": [
    {
     "data": {
      "image/png": "[encoded data removed]",
      "text/plain": [
       "<Figure size 1200x300 with 4 Axes>"
      ]
     },
     "metadata": {},
     "output_type": "display_data"
    }
   ],
   "source": [
    "# визуализация нескольких изображения\n",
    "n_examples= 4\n",
    "\n",
    "# случайные индексы изображений\n",
    "random.seed(78)\n",
    "train_examples_ids = random.sample(range(len(mnist_train_ds)), n_examples)\n",
    "\n",
    "fig, axs = plt.subplots(1, n_examples, figsize=(n_examples * 3, 3))\n",
    "for ind_ex, ind_train in enumerate(train_examples_ids):\n",
    "    image, target = mnist_train_ds[ind_train]\n",
    "\n",
    "    axs[ind_ex].set_title(f'id={ind_train} [{target}]')\n",
    "    axs[ind_ex].imshow(image, cmap='gray')\n",
    "\n",
    "plt.show()"
   ]
  },
  {
   "cell_type": "markdown",
   "id": "afe9b96f-d99b-466d-abff-6fb2584f4aff",
   "metadata": {},
   "source": [
    "Each image is of the size `torch.Size([1, 28, 28])`"
   ]
  },
  {
   "cell_type": "markdown",
   "id": "e8c769dd-50f4-4b06-88e8-4f75a44a4561",
   "metadata": {},
   "source": [
    "## 1.2. Типы для датасета"
   ]
  },
  {
   "cell_type": "code",
   "execution_count": null,
   "id": "4b525694-7023-4a5b-b89a-9d1ded3d518c",
   "metadata": {},
   "outputs": [
    {
     "data": {
      "text/plain": [
       "torchvision.datasets.mnist.MNIST"
      ]
     },
     "execution_count": 13,
     "metadata": {},
     "output_type": "execute_result"
    }
   ],
   "source": [
    "# какой тип объектов?\n",
    "type(mnist_train_ds)"
   ]
  },
  {
   "cell_type": "code",
   "execution_count": null,
   "id": "c0332fad-381b-46fe-b99c-f9461e8fc37f",
   "metadata": {},
   "outputs": [],
   "source": [
    "# проверить, является ли созданный объект экземпляром класса Dataset\n",
    "assert isinstance(mnist_train_ds, Dataset)"
   ]
  },
  {
   "cell_type": "markdown",
   "id": "073b8feb-cbff-4f9e-85bc-a5cbc73c4c62",
   "metadata": {},
   "source": [
    "# 2. Датасеты волновых фронтов"
   ]
  },
  {
   "cell_type": "markdown",
   "id": "9234a563-8482-43d7-82f3-e945875ff7bb",
   "metadata": {},
   "source": [
    "## 2.1. `SimulationParameters`"
   ]
  },
  {
   "cell_type": "code",
   "execution_count": null,
   "id": "6da9f61f-3c96-42dc-bba4-e0b99e9374c1",
   "metadata": {},
   "outputs": [],
   "source": [
    "# параметры моделирования\n",
    "x_nodes = 100\n",
    "y_nodes = x_nodes\n",
    "\n",
    "x_size_m = 20 * 1e-2  # [m]\n",
    "y_size_m = x_size_m  # [m]\n",
    "\n",
    "wavelength = 1000 * 1e-9  # [m]"
   ]
  },
  {
   "cell_type": "code",
   "execution_count": null,
   "id": "a9e82fd1-228f-4ccc-8c3f-d652a5bd5d65",
   "metadata": {},
   "outputs": [],
   "source": [
    "sim_params = SimulationParameters(\n",
    "    axes={\n",
    "        'W': torch.linspace(-x_size_m / 2, x_size_m / 2, x_nodes),\n",
    "        'H': torch.linspace(-y_size_m / 2, y_size_m / 2, y_nodes),\n",
    "        'wavelength': wavelength,  # здесь задаём одну длину волны\n",
    "    }\n",
    ")"
   ]
  },
  {
   "cell_type": "markdown",
   "id": "c2ad1192-a2ce-4dd1-8503-818a90b1e964",
   "metadata": {},
   "source": [
    "## 2.2. Класс датасета волновых фронтов с помощью `transforms.Compose`"
   ]
  },
  {
   "cell_type": "markdown",
   "id": "144c07d6-236c-4c28-affd-09f34bc42e34",
   "metadata": {},
   "source": [
    "### 2.2.1. Трансформации каждого изображения из исходного датасета"
   ]
  },
  {
   "cell_type": "code",
   "execution_count": null,
   "id": "3a145ccb-4336-403a-a416-e072357a0b02",
   "metadata": {},
   "outputs": [],
   "source": [
    "resize_y = int(y_nodes / 3)\n",
    "resize_x = int(x_nodes / 3)  # shape для transforms.Resize\n",
    "\n",
    "pad_top = int((y_nodes - resize_y) / 2)\n",
    "pad_bottom = y_nodes - pad_top - resize_y\n",
    "pad_left = int((x_nodes - resize_x) / 2)\n",
    "pad_right = x_nodes - pad_left - resize_x  # параметры для transforms.Pad\n",
    "\n",
    "\n",
    "image_transform_for_ds03 = transforms.Compose(\n",
    "  [\n",
    "      transforms.ToTensor(),\n",
    "      transforms.Resize(\n",
    "          size=(resize_y, resize_x),\n",
    "          interpolation=InterpolationMode.NEAREST,\n",
    "      ),\n",
    "      transforms.Pad(\n",
    "          padding=(\n",
    "              pad_left,  # левый отступ\n",
    "              pad_top,  # верхний отступ\n",
    "              pad_right,  # правый отступ\n",
    "              pad_bottom  # нижний отступ\n",
    "          ),\n",
    "          fill=0,\n",
    "      ),  # отступы нужны для приведение в соответствие розмеров\n",
    "      ToWavefront(modulation_type='phase'),  # <- тип модуляции\n",
    "      GaussModulation(sim_params=sim_params, fwhm_x=5e-2, fwhm_y=8e-2)\n",
    "  ]\n",
    ")"
   ]
  },
  {
   "cell_type": "markdown",
   "id": "b2b5f544-89c5-45b1-8507-8fdc1bd69e4e",
   "metadata": {},
   "source": [
    "### 2.2.2. Проверка предупреждений"
   ]
  },
  {
   "cell_type": "code",
   "execution_count": null,
   "id": "88ec6c9b-2a49-4ba0-8b73-d0ae27dd06c3",
   "metadata": {},
   "outputs": [
    {
     "name": "stderr",
     "output_type": "stream",
     "text": [
      "/Users/giyuu/science-phd/git-projects/SVETlANNa/svetlanna/transforms.py:144: UserWarning: A shape of an input Wavefront does not match with SimulationParameters! Gauss was not applied!\n",
      "  warnings.warn(\n",
      "/Users/giyuu/science-phd/git-projects/SVETlANNa.docs/pipelines/src/wf_datasets.py:155: UserWarning: An output object is not of the Wavefront type!\n",
      "  warnings.warn(\n",
      "/Users/giyuu/science-phd/git-projects/SVETlANNa.docs/pipelines/src/wf_datasets.py:163: UserWarning: A shape of a resulted Wavefront does not match with SimulationParameters!\n",
      "  warnings.warn(\n"
     ]
    }
   ],
   "source": [
    "image_transform_for_ds_check = transforms.Compose(\n",
    "  [\n",
    "      transforms.ToTensor(),\n",
    "      transforms.Resize(\n",
    "          size=(resize_y, resize_x),\n",
    "          interpolation=InterpolationMode.NEAREST,\n",
    "      ),\n",
    "      GaussModulation(sim_params=sim_params, fwhm_x=5e-2, fwhm_y=8e-2)\n",
    "  ]\n",
    ")\n",
    "\n",
    "mnist_wf_train_ds_check = DatasetOfWavefronts(\n",
    "    init_ds=mnist_train_ds,  # датасет изображений\n",
    "    transformations=image_transform_for_ds_check,  # трансформация изображений\n",
    "    sim_params=sim_params\n",
    ")"
   ]
  },
  {
   "cell_type": "markdown",
   "id": "89b7ae6b-a5ed-4732-868b-59dd4ba47278",
   "metadata": {},
   "source": [
    "### 2.2.3. Новый датасет волновых фронтов"
   ]
  },
  {
   "cell_type": "code",
   "execution_count": null,
   "id": "17d9abc0-0baf-4b63-9142-64c7700c7f2c",
   "metadata": {},
   "outputs": [],
   "source": [
    "# тренирововчный датасет\n",
    "mnist_wf_train_ds03 = DatasetOfWavefronts(\n",
    "    init_ds=mnist_train_ds,  # датасет изображений\n",
    "    transformations=image_transform_for_ds03,  # трансформация изображений\n",
    "    sim_params=sim_params\n",
    ")"
   ]
  },
  {
   "cell_type": "markdown",
   "id": "de57df76-31bc-4b36-8f91-b57ebbd55ab5",
   "metadata": {},
   "source": [
    "#### Examples of items"
   ]
  },
  {
   "cell_type": "code",
   "execution_count": null,
   "id": "f91b5b06-e605-42f2-ae21-f9e1a7c918af",
   "metadata": {},
   "outputs": [
    {
     "data": {
      "image/png": "[encoded data removed]",
      "text/plain": [
       "<Figure size 1200x960 with 12 Axes>"
      ]
     },
     "metadata": {},
     "output_type": "display_data"
    }
   ],
   "source": [
    "# построение примеров изображений\n",
    "n_lines = 3\n",
    "\n",
    "fig, axs = plt.subplots(n_lines, n_examples, figsize=(n_examples * 3, n_lines * 3.2))\n",
    "\n",
    "for ind_ex, ind_train in enumerate(train_examples_ids):\n",
    "    image, label = mnist_train_ds[ind_train]\n",
    "\n",
    "    axs[0][ind_ex].set_title(f'id={ind_train} [{label}]')\n",
    "    axs[0][ind_ex].imshow(image, cmap='gray')\n",
    "\n",
    "    wavefront, wf_label = mnist_wf_train_ds03[ind_train]\n",
    "    assert isinstance(wavefront, Wavefront)\n",
    "\n",
    "    axs[1][ind_ex].set_title(f'$|WF|^2$')\n",
    "    # here we can plot intensity for a wavefront\n",
    "    axs[1][ind_ex].imshow(\n",
    "        wavefront.intensity, cmap='gray',\n",
    "        vmin=0, vmax=1,\n",
    "    )\n",
    "\n",
    "    axs[2][ind_ex].set_title(f'phase of $WF$')\n",
    "    axs[2][ind_ex].imshow(\n",
    "        wavefront.phase, cmap='gray',\n",
    "        vmin=0, vmax=2 * torch.pi\n",
    "    )\n",
    "\n",
    "plt.show()"
   ]
  }
 ],
 "metadata": {
  "kernelspec": {
   "display_name": "Python 3 (ipykernel)",
   "language": "python",
   "name": "python3"
  },
  "language_info": {
   "codemirror_mode": {
    "name": "ipython",
    "version": 3
   },
   "file_extension": ".py",
   "mimetype": "text/x-python",
   "name": "python",
   "nbconvert_exporter": "python",
   "pygments_lexer": "ipython3",
   "version": "3.11.9"
  }
 },
 "nbformat": 4,
 "nbformat_minor": 5
}
