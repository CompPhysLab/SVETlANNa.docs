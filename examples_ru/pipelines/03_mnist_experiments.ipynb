{
 "cells": [
  {
   "cell_type": "code",
   "execution_count": null,
   "id": "2bfae7ac",
   "metadata": {},
   "outputs": [],
   "source": [
    "!pip install svetlanna\n",
    "!pip install reservoirpy matplotlib tqdm requests av scikit-image py-cpuinfo gputil pandas"
   ]
  },
  {
   "cell_type": "markdown",
   "id": "35c58e4e-9226-4d24-ae10-b84c5cc05ce5",
   "metadata": {},
   "source": [
    "### Загрузка библиотек"
   ]
  },
  {
   "cell_type": "code",
   "execution_count": 1,
   "id": "d15a31da-c6c3-427d-a070-afdc48a01305",
   "metadata": {},
   "outputs": [],
   "source": [
    "import os\n",
    "import sys\n",
    "import random"
   ]
  },
  {
   "cell_type": "code",
   "execution_count": 2,
   "id": "8f0f6378-5bc3-477d-bfd3-a08a9123b091",
   "metadata": {},
   "outputs": [],
   "source": [
    "import time"
   ]
  },
  {
   "cell_type": "code",
   "execution_count": 3,
   "id": "f309cc84-f338-409f-b1a3-6ac36b945622",
   "metadata": {},
   "outputs": [],
   "source": [
    "import numpy as np"
   ]
  },
  {
   "cell_type": "code",
   "execution_count": 4,
   "id": "c39328b9-9fa8-4937-9a53-905ea59276c5",
   "metadata": {},
   "outputs": [],
   "source": [
    "import torch\n",
    "from torch.utils.data import Dataset"
   ]
  },
  {
   "cell_type": "code",
   "execution_count": 5,
   "id": "59041be7-8d30-4981-a3da-e5d090a32339",
   "metadata": {},
   "outputs": [],
   "source": [
    "from torch import nn"
   ]
  },
  {
   "cell_type": "code",
   "execution_count": 6,
   "id": "4ba00109-7b62-4f32-b685-17f437630230",
   "metadata": {},
   "outputs": [],
   "source": [
    "import torchvision\n",
    "import torchvision.transforms as transforms"
   ]
  },
  {
   "cell_type": "code",
   "execution_count": 7,
   "id": "a39c467c-b066-4afb-b470-4265088d5301",
   "metadata": {},
   "outputs": [],
   "source": [
    "from torchvision.transforms import InterpolationMode"
   ]
  },
  {
   "cell_type": "code",
   "execution_count": null,
   "id": "902804f6-c104-4b4b-9b9f-f43ac9b4c1e1",
   "metadata": {},
   "outputs": [],
   "source": [
    "# наша библиотека\n",
    "from svetlanna import SimulationParameters\n",
    "from svetlanna.parameters import BoundedParameter"
   ]
  },
  {
   "cell_type": "code",
   "execution_count": null,
   "id": "9b7826e8-9de7-4539-b16a-60827a25959f",
   "metadata": {},
   "outputs": [],
   "source": [
    "# наша библиотека\n",
    "from svetlanna import Wavefront\n",
    "from svetlanna import elements\n",
    "from svetlanna.setup import LinearOpticalSetup\n",
    "from svetlanna.detector import Detector, DetectorProcessorClf"
   ]
  },
  {
   "cell_type": "code",
   "execution_count": 10,
   "id": "d5a64cdd-5ed6-4fe1-ab77-d95120a45f72",
   "metadata": {},
   "outputs": [],
   "source": [
    "from svetlanna.transforms import ToWavefront"
   ]
  },
  {
   "cell_type": "code",
   "execution_count": null,
   "id": "1cbc8319-2f82-4979-889a-4efcc8466039",
   "metadata": {},
   "outputs": [],
   "source": [
    "# выборка данных волновых фронтов\n",
    "from src.wf_datasets import DatasetOfWavefronts\n",
    "from src.wf_datasets import IlluminatedApertureDataset"
   ]
  },
  {
   "cell_type": "code",
   "execution_count": 12,
   "id": "8603ed7b-af59-4d79-b6a7-dcb599e28e1b",
   "metadata": {},
   "outputs": [],
   "source": [
    "from tqdm import tqdm"
   ]
  },
  {
   "cell_type": "code",
   "execution_count": 13,
   "id": "0aec829e-f605-4786-a7be-da53dc878043",
   "metadata": {},
   "outputs": [],
   "source": [
    "import json"
   ]
  },
  {
   "cell_type": "code",
   "execution_count": 14,
   "id": "b3c66403-21ec-44bf-a439-b8eb1e5356eb",
   "metadata": {},
   "outputs": [],
   "source": [
    "from datetime import datetime"
   ]
  },
  {
   "cell_type": "code",
   "execution_count": 15,
   "id": "02414ffa-fc8b-4cd7-a6fa-1f744a9a68a7",
   "metadata": {},
   "outputs": [],
   "source": [
    "import matplotlib.pyplot as plt\n",
    "import matplotlib.patches as patches\n",
    "from matplotlib.path import Path\n",
    "\n",
    "plt.style.use('dark_background')\n",
    "%matplotlib inline\n",
    "# %config InlineBackend.figure_format = 'retina'"
   ]
  },
  {
   "cell_type": "code",
   "execution_count": null,
   "id": "94dfb2cb-94cf-4e83-a079-0a6ec828a66b",
   "metadata": {},
   "outputs": [],
   "source": []
  },
  {
   "cell_type": "markdown",
   "id": "cea815ac-b473-4d58-a0d5-1253d9740a40",
   "metadata": {},
   "source": [
    "# Оптическая нейронная сеть\n",
    "\n",
    "В этом примере реализованы несколько экспериментов, основанных на оптической нейронной сети с архитектурой из этой [статьи](https://www.science.org/doi/10.1126/science.aat8084)."
   ]
  },
  {
   "cell_type": "markdown",
   "id": "a92e2ca5-59c9-49cb-9442-4008446ad4eb",
   "metadata": {},
   "source": [
    "# 0. Экспериментальные параметры"
   ]
  },
  {
   "cell_type": "code",
   "execution_count": null,
   "id": "b7e34ebb-3e36-402b-ad52-9cb62be6670f",
   "metadata": {},
   "outputs": [],
   "source": [
    "working_frequency = 0.4 * 1e12 # [Гц]\n",
    "C_CONST = 299_792_458  # [м / с]"
   ]
  },
  {
   "cell_type": "code",
   "execution_count": 17,
   "id": "9cfa892b-ac25-4baf-af99-9d9ed67eb9f0",
   "metadata": {},
   "outputs": [],
   "source": [
    "EXP_NUMBER = 1"
   ]
  },
  {
   "cell_type": "code",
   "execution_count": null,
   "id": "aee213df-c564-496d-8702-967b792d846d",
   "metadata": {},
   "outputs": [],
   "source": [
    "EXP_CONDITIONS = {\n",
    "    # параметры симуляции\n",
    "    'wavelength'  : C_CONST / working_frequency,  # [м]\n",
    "    'layer_size_m': 8 * 1e-2 / 2 * 3,  # [m] - размеры по x и y равны!\n",
    "    'layer_nodes' : int(100 / 2 * 3),  # 100,\n",
    "    # TOOLS\n",
    "    'tensorboard' : True,  # для использования тензорборда!\n",
    "    # DATASET\n",
    "    'digit_resize' : 17,  # актуальный размер цифры в пикселях\n",
    "    'ds_apertures': True,  # Если набор данных создан с использованием апертур в форме цифры (True) или с использованием прямой модуляции (False)\n",
    "# необходимо указать, если 'ds_apertures' == False, значения: 'amp', 'phase' или 'both'\n",
    "    'ds_modulation': None,\n",
    "        # должен быть указан если'ds_apertures' == True\n",
    "    'gauss_waist_radius': 2e-2,  # [м] - радиус перетяжки пучка Гаусса\n",
    "    'distance_to_aperture': 3e-2,  # [м]\n",
    "    # SETUP\n",
    "    'propagator': 'AS',  # метод распространения для FreeSpase: 'AS' или 'fresnel' (так же нужен для выборки данных с апертурами)\n",
    "        # дифракционные слои\n",
    "    'n_diff_layers': 5,  # количество дифракционных слоев\n",
    "    'diff_layer_max_phase': torch.pi,  # максимальный фазовый набег для каждого DiffractiveLayer\n",
    "    'diff_layer_mask_init': 'const',  # инициализация масок DiffractiveLayer : 'const' или 'random'\n",
    "    'diff_layers_seeds': 123,  # if 'random': seed to generate seeds to init all masks!\n",
    "        # free space\n",
    "    'layers_distance': 3e-2,  # [m], расстояние между слоями\n",
    "        # апертуры\n",
    "    'add_apertures': True,  # если True - добавляет квадратные апертуры (посередине) перед каждым дифракционным слоем\n",
    "    'apertures_size': (50, 50),  # размер дополнительных отверстий в установке\n",
    "        # детектор\n",
    "    'detector_zones': 'segments',  # форма зон детектора: «квадраты» или «круги» или «полосы»\n",
    "    'detector_transpose': False,  # транспонирование детектора (делает «полосы» горизонтальными вместо вертикальных)\n",
    "    # процесс обучения\n",
    "    'train_bs': 8,\n",
    "    'val_bs': 20,  # размер батчча для валидации\n",
    "    'train_split_seed': 178,  # seed для разделения выборки данных\n",
    "    'epochs': 10,\n",
    "}"
   ]
  },
  {
   "cell_type": "code",
   "execution_count": 19,
   "id": "f113c10a-446e-4cf3-9e6b-36a65961dd76",
   "metadata": {},
   "outputs": [],
   "source": [
    "# import SummaryWriter from tensorboard\n",
    "\n",
    "if 'tensorboard' in EXP_CONDITIONS.keys():\n",
    "    if EXP_CONDITIONS['tensorboard']:\n",
    "\n",
    "        from torch.utils.tensorboard import SummaryWriter\n"
   ]
  },
  {
   "cell_type": "code",
   "execution_count": 20,
   "id": "96955aff-11d2-4df7-ba03-4ce06008efa4",
   "metadata": {},
   "outputs": [
    {
     "data": {
      "text/plain": [
       "'models/03_mnist_experiments/13-12-2024_experiment_01'"
      ]
     },
     "execution_count": 20,
     "metadata": {},
     "output_type": "execute_result"
    }
   ],
   "source": [
    "today_date = datetime.today().strftime('%d-%m-%Y')\n",
    "\n",
    "RESULTS_FOLDER = (\n",
    "    f'models/03_mnist_experiments/{today_date}_experiment_{EXP_NUMBER:02d}'\n",
    ")\n",
    "\n",
    "RESULTS_FOLDER"
   ]
  },
  {
   "cell_type": "code",
   "execution_count": 21,
   "id": "c2eba601-a1f5-4c12-871f-a4c7854974cf",
   "metadata": {},
   "outputs": [],
   "source": [
    "if not os.path.exists(RESULTS_FOLDER):\n",
    "    os.makedirs(RESULTS_FOLDER)"
   ]
  },
  {
   "cell_type": "code",
   "execution_count": null,
   "id": "f381dc5f-d4d3-4c23-8f28-86d84f0aeef8",
   "metadata": {},
   "outputs": [],
   "source": [
    "# сохраняем условия эксперимента\n",
    "json.dump(EXP_CONDITIONS, open(f'{RESULTS_FOLDER}/conditions.json', 'w'))"
   ]
  },
  {
   "cell_type": "code",
   "execution_count": 23,
   "id": "dd0dd89c-abfb-4399-9871-1b4f48686849",
   "metadata": {},
   "outputs": [],
   "source": [
    "# OR read conditions from file:\n",
    "# EXP_CONDITIONS = json.load(open(f'{RESULTS_FOLDER}/conditions.json))\n",
    "# print(EXP_CONDITIONS)"
   ]
  },
  {
   "cell_type": "code",
   "execution_count": null,
   "id": "098d998f-0ef1-4bb0-b01e-21562d5e002d",
   "metadata": {},
   "outputs": [],
   "source": []
  },
  {
   "cell_type": "markdown",
   "id": "e8a46e5e-6053-4e74-93eb-fb8e2c8f45a0",
   "metadata": {},
   "source": [
    "# 1. Параметры симуляции"
   ]
  },
  {
   "cell_type": "code",
   "execution_count": null,
   "id": "e389f46c-f2ca-4204-a30f-c270e5987163",
   "metadata": {},
   "outputs": [
    {
     "name": "stdout",
     "output_type": "stream",
     "text": [
      "lambda = 749.481 um\n"
     ]
    }
   ],
   "source": [
    "working_wavelength = EXP_CONDITIONS['wavelength']  # [м]\n",
    "print(f'длина волны = {working_wavelength * 1e6:.3f} нм')"
   ]
  },
  {
   "cell_type": "code",
   "execution_count": null,
   "id": "d74aeced-a6b6-4335-bb08-db138373441b",
   "metadata": {},
   "outputs": [],
   "source": [
    "# физические размеры слоев(из статьи)\n",
    "x_layer_size_m = EXP_CONDITIONS['layer_size_m']  # [m]\n",
    "y_layer_size_m = x_layer_size_m"
   ]
  },
  {
   "cell_type": "code",
   "execution_count": null,
   "id": "37057e7b-8ba8-49d4-a9e3-c4b9ece0c7ba",
   "metadata": {},
   "outputs": [],
   "source": [
    "# количество нейронов в симуляции\n",
    "x_layer_nodes = EXP_CONDITIONS['layer_nodes']\n",
    "y_layer_nodes = x_layer_nodes"
   ]
  },
  {
   "cell_type": "code",
   "execution_count": null,
   "id": "85db7726-46ae-448d-847f-f821e4d41509",
   "metadata": {},
   "outputs": [
    {
     "name": "stdout",
     "output_type": "stream",
     "text": [
      "Layer size (neurons): 150 x 150 = 22500\n"
     ]
    }
   ],
   "source": [
    "print(f'Размер слоя в нейронах: {x_layer_nodes} x {y_layer_nodes} = {x_layer_nodes * y_layer_nodes}')"
   ]
  },
  {
   "cell_type": "code",
   "execution_count": null,
   "id": "87befd1d-a9fa-4403-8d13-416964fbe6a6",
   "metadata": {},
   "outputs": [
    {
     "name": "stdout",
     "output_type": "stream",
     "text": [
      "Neuron size = 800.000 um\n"
     ]
    }
   ],
   "source": [
    "neuron_size = x_layer_size_m / x_layer_nodes\n",
    "print(f'Размер нейрона = {neuron_size * 1e6:.3f} um')"
   ]
  },
  {
   "cell_type": "code",
   "execution_count": null,
   "id": "6c3d95cc-633a-481a-bfa6-fe25a1d5b1a4",
   "metadata": {},
   "outputs": [],
   "source": [
    "\n",
    "\n",
    "SIM_PARAMS = SimulationParameters(\n",
    "    axes={\n",
    "        'W': torch.linspace(-x_layer_size_m / 2, x_layer_size_m / 2, x_layer_nodes),\n",
    "        'H': torch.linspace(-y_layer_size_m / 2, y_layer_size_m / 2, y_layer_nodes),\n",
    "        'wavelength': working_wavelength,  # only one wavelength!\n",
    "    }\n",
    ")"
   ]
  },
  {
   "cell_type": "code",
   "execution_count": null,
   "id": "24d6f07c-1cb7-4b52-87c8-7c5306df2a75",
   "metadata": {},
   "outputs": [],
   "source": []
  },
  {
   "cell_type": "markdown",
   "id": "ddbc9f3f-308d-4c58-b79c-de72e1eeff7b",
   "metadata": {},
   "source": [
    "# 2. Подготовка выборки данных (Инженер данных)"
   ]
  },
  {
   "cell_type": "markdown",
   "id": "f18398b5-9ee7-470c-b2ef-bcd15b6f4768",
   "metadata": {},
   "source": [
    "## 2.1. [Выборка данных MNIST](https://www.kaggle.com/datasets/hojjatk/mnist-dataset): загрузка и преобразование в волновые фронты"
   ]
  },
  {
   "cell_type": "code",
   "execution_count": null,
   "id": "0de278d4-1f7a-4651-8fce-74c41567c08f",
   "metadata": {},
   "outputs": [],
   "source": [
    "# инициализируем директорию для набора данных\n",
    "MNIST_DATA_FOLDER = './data'  # директория для хранения данных"
   ]
  },
  {
   "cell_type": "markdown",
   "id": "0ab77fa7-dba0-4fbd-bb42-57560fbcac5c",
   "metadata": {},
   "source": [
    "### 2.1.1. Загрузка тренировочной и тестовой выборок изображений"
   ]
  },
  {
   "cell_type": "code",
   "execution_count": null,
   "id": "c1d740b2-dfd1-4bf3-a86c-6fb13a831df0",
   "metadata": {},
   "outputs": [],
   "source": [
    "# тренировочная выборка MNIST\n",
    "mnist_train_ds = torchvision.datasets.MNIST(\n",
    "    root=MNIST_DATA_FOLDER,\n",
    "    train=True,  # для тренировочной выборки\n",
    "    download=False,\n",
    ")"
   ]
  },
  {
   "cell_type": "code",
   "execution_count": null,
   "id": "14fb6dc4-3849-467c-957d-26617d8c5214",
   "metadata": {},
   "outputs": [],
   "source": [
    "# тестовая выборка MNIST\n",
    "mnist_test_ds = torchvision.datasets.MNIST(\n",
    "    root=MNIST_DATA_FOLDER,\n",
    "    train=False,  # для тествовой выборки\n",
    "    download=False,\n",
    ")"
   ]
  },
  {
   "cell_type": "code",
   "execution_count": null,
   "id": "72f00e8c-0624-499f-9176-8820274bf05f",
   "metadata": {},
   "outputs": [
    {
     "name": "stdout",
     "output_type": "stream",
     "text": [
      "Train data: 60000\n",
      "Test data : 10000\n"
     ]
    }
   ],
   "source": [
    "print(f'Размер тренировочной выборки: {len(mnist_train_ds)}')\n",
    "print(f'Размер тестовой выборки: {len(mnist_test_ds)}')"
   ]
  },
  {
   "cell_type": "markdown",
   "id": "208ca22f-13b4-4066-a850-1bd35776637b",
   "metadata": {},
   "source": [
    "### 2.1.2. Создание тренировочной и тестовой выборок волновых фронтов"
   ]
  },
  {
   "cell_type": "code",
   "execution_count": null,
   "id": "1f649151-abcf-4bd4-b1c4-0a9039eb4657",
   "metadata": {},
   "outputs": [
    {
     "data": {
      "text/plain": [
       "True"
      ]
     },
     "execution_count": 34,
     "metadata": {},
     "output_type": "execute_result"
    }
   ],
   "source": [
    "DS_WITH_APERTURES = EXP_CONDITIONS['ds_apertures']\n",
    "# if True будем использовать IlluminatedApertureDataset для создания выборок волновых фронтов\n",
    "# else - DatasetOfWavefronts\n",
    "DS_WITH_APERTURES"
   ]
  },
  {
   "cell_type": "code",
   "execution_count": null,
   "id": "8c37007c-0731-4b58-9059-e2f2bb792b52",
   "metadata": {},
   "outputs": [],
   "source": [
    "# выбор типа модуляции DatasetOfWavefronts if DS_WITH_APERTURES == False\n",
    "MODULATION_TYPE = EXP_CONDITIONS['ds_modulation']  # 'phase', 'amp', 'amp&phase'\n",
    "\n",
    "# выбор метода и дистанции для FreeSpace в IlluminatedApertureDataset\n",
    "DS_METHOD = EXP_CONDITIONS['propagator']\n",
    "DS_DISTANCE = EXP_CONDITIONS['distance_to_aperture']  # [м]\n",
    "\n",
    "DS_BEAM = Wavefront.gaussian_beam(\n",
    "    simulation_parameters=SIM_PARAMS,\n",
    "    waist_radius=EXP_CONDITIONS['gauss_waist_radius'],  # [м]\n",
    ")"
   ]
  },
  {
   "cell_type": "code",
   "execution_count": null,
   "id": "cd13987a-b54c-4413-a759-492bf9118eb3",
   "metadata": {},
   "outputs": [],
   "source": []
  },
  {
   "cell_type": "code",
   "execution_count": null,
   "id": "47e20e55-53f7-4f92-95eb-3ef75d5dddeb",
   "metadata": {},
   "outputs": [],
   "source": [
    "# изменяем размер изображения, чтобы он совпадал с SimulationParameters\n",
    "resize_y = EXP_CONDITIONS['digit_resize']\n",
    "resize_x = resize_y  # shape for transforms.Resize\n",
    "\n",
    "pad_top = int((y_layer_nodes - resize_y) / 2)\n",
    "pad_bottom = y_layer_nodes - pad_top - resize_y\n",
    "pad_left = int((x_layer_nodes - resize_x) / 2)\n",
    "pad_right = x_layer_nodes - pad_left - resize_x  # params for transforms.Pad"
   ]
  },
  {
   "cell_type": "code",
   "execution_count": null,
   "id": "c9da80a7-99cc-4a4a-b0fb-bbf628ec0baa",
   "metadata": {},
   "outputs": [],
   "source": [
    "# составляем все преобразования для DatasetOfWavefronts\n",
    "image_transform_for_ds = transforms.Compose(\n",
    "  [\n",
    "      transforms.ToTensor(),\n",
    "      transforms.Resize(\n",
    "          size=(resize_y, resize_x),\n",
    "          interpolation=InterpolationMode.NEAREST,\n",
    "      ),\n",
    "      transforms.Pad(\n",
    "          padding=(\n",
    "              pad_left,  # левый отступ\n",
    "              pad_top,  # верхний отступ\n",
    "              pad_right,  # правый отступ\n",
    "              pad_bottom  # нижний отступ\n",
    "          ),\n",
    "          fill=0,\n",
    "      ),  # padding to match sizes!\n",
    "      ToWavefront(modulation_type=MODULATION_TYPE)  # <- выбор типа модуляции!!!\n",
    "  ]\n",
    ")\n",
    "\n",
    "# составляем все преобразования для IlluminatedApertureDataset\n",
    "image_to_aperture = transforms.Compose(\n",
    "  [\n",
    "      transforms.ToTensor(),\n",
    "      transforms.Resize(\n",
    "          size=(resize_y, resize_x),\n",
    "          interpolation=InterpolationMode.NEAREST,\n",
    "      ),\n",
    "      transforms.Pad(\n",
    "          padding=(\n",
    "              pad_left,  # левый отступ\n",
    "              pad_top,  # верхний отступ\n",
    "              pad_right,  # правый отступ\n",
    "              pad_bottom  # нижний отступ\n",
    "          ),\n",
    "          fill=0,\n",
    "      ),  # padding to match sizes!\n",
    "  ]\n",
    ")"
   ]
  },
  {
   "cell_type": "code",
   "execution_count": null,
   "id": "7309365a-2986-45e8-a259-97f378fcccef",
   "metadata": {},
   "outputs": [],
   "source": [
    "# Тренировочный набор данных волновых фронтов\n",
    "if not DS_WITH_APERTURES:\n",
    "    mnist_wf_train_ds = DatasetOfWavefronts(\n",
    "        init_ds=mnist_train_ds,  # выборка изображений\n",
    "        transformations=image_transform_for_ds,  # преобразование изображений\n",
    "        sim_params=SIM_PARAMS,  # параметры симуляции\n",
    "    )\n",
    "else:\n",
    "    mnist_wf_train_ds = IlluminatedApertureDataset(\n",
    "        init_ds=mnist_train_ds,  # выборка изображений\n",
    "        transformations=image_to_aperture,  # преобразование изображений\n",
    "        sim_params=SIM_PARAMS,  # параметры симуляции\n",
    "        beam_field=DS_BEAM,\n",
    "        distance=DS_DISTANCE,\n",
    "        method=DS_METHOD,\n",
    "    )"
   ]
  },
  {
   "cell_type": "code",
   "execution_count": null,
   "id": "873dfbe6-81a1-47ab-9dfd-2f1513044fe7",
   "metadata": {},
   "outputs": [],
   "source": [
    "# Тестовый набор данных волновых фронтов\n",
    "if not DS_WITH_APERTURES:\n",
    "    mnist_wf_test_ds = DatasetOfWavefronts(\n",
    "        init_ds=mnist_test_ds,  # выборка изображений\n",
    "        transformations=image_transform_for_ds,  # преобразование изображений\n",
    "        sim_params=SIM_PARAMS,  # параметры симуляции\n",
    "    )\n",
    "else:\n",
    "    mnist_wf_test_ds = IlluminatedApertureDataset(\n",
    "        init_ds=mnist_test_ds,  # выборка изображений\n",
    "        transformations=image_to_aperture,  # преобразование изображений\n",
    "        sim_params=SIM_PARAMS,  # параметры симуляции\n",
    "        beam_field=DS_BEAM,\n",
    "        distance=DS_DISTANCE,\n",
    "        method=DS_METHOD,\n",
    "    )"
   ]
  },
  {
   "cell_type": "code",
   "execution_count": null,
   "id": "038b5a54-175a-433b-98b6-8e37565d19b9",
   "metadata": {},
   "outputs": [
    {
     "name": "stdout",
     "output_type": "stream",
     "text": [
      "Train data: 60000\n",
      "Test data : 10000\n"
     ]
    }
   ],
   "source": [
    "print(f'Размер тренировочной выборки: {len(mnist_wf_train_ds)}')\n",
    "print(f'Размер тестовой выборки: {len(mnist_wf_test_ds)}')"
   ]
  },
  {
   "cell_type": "code",
   "execution_count": null,
   "id": "849494fd-0a2e-436b-a0ea-61838cdcc874",
   "metadata": {},
   "outputs": [
    {
     "data": {
      "image/png": "[encoded data removed]",
      "text/plain": [
       "<Figure size 1200x960 with 12 Axes>"
      ]
     },
     "metadata": {},
     "output_type": "display_data"
    }
   ],
   "source": [
    "# строим несколько примеров из тренировочного набора данных\n",
    "n_examples= 4  # количество примеров\n",
    "# индексы изображений\n",
    "random.seed(78)\n",
    "train_examples_ids = random.sample(range(len(mnist_train_ds)), n_examples)\n",
    "\n",
    "all_examples_wavefronts = []\n",
    "cmap = 'hot'\n",
    "\n",
    "n_lines = 3\n",
    "fig, axs = plt.subplots(n_lines, n_examples, figsize=(n_examples * 3, n_lines * 3.2))\n",
    "for ind_ex, ind_train in enumerate(train_examples_ids):\n",
    "    image, label = mnist_train_ds[ind_train]\n",
    "\n",
    "    axs[0][ind_ex].set_title(f'id={ind_train} [{label}]')\n",
    "    axs[0][ind_ex].imshow(image, cmap='gray')\n",
    "\n",
    "    wavefront, wf_label = mnist_wf_train_ds[ind_train]\n",
    "    assert isinstance(wavefront, Wavefront)\n",
    "\n",
    "    all_examples_wavefronts.append(wavefront)\n",
    "\n",
    "    axs[1][ind_ex].set_title(f'$|WF|^2$')\n",
    "    # here we can plot intensity for a wavefront\n",
    "    axs[1][ind_ex].imshow(\n",
    "        wavefront.intensity[0], cmap=cmap,\n",
    "        vmin=0, vmax=1\n",
    "    )\n",
    "\n",
    "    axs[2][ind_ex].set_title(f'phase of $WF$')\n",
    "    axs[2][ind_ex].imshow(\n",
    "        wavefront.phase[0], cmap=cmap,\n",
    "        vmin=0, vmax= 2 * torch.pi\n",
    "    )\n",
    "\n",
    "plt.show()"
   ]
  },
  {
   "cell_type": "code",
   "execution_count": null,
   "id": "ecce2e47-6bc9-4288-8195-2e3143eb8e8c",
   "metadata": {},
   "outputs": [],
   "source": []
  },
  {
   "cell_type": "markdown",
   "id": "73ae7308-f611-4948-a9fd-afa66856dc09",
   "metadata": {},
   "source": [
    "# 3. Оптическая сеть"
   ]
  },
  {
   "cell_type": "code",
   "execution_count": null,
   "id": "20220f66-4f82-453c-9af4-13af3125a28b",
   "metadata": {},
   "outputs": [],
   "source": [
    "NUM_OF_DIFF_LAYERS = EXP_CONDITIONS['n_diff_layers']  # количество дифракционных слоев\n",
    "FREE_SPACE_DISTANCE = EXP_CONDITIONS['layers_distance']  # [м]"
   ]
  },
  {
   "attachments": {},
   "cell_type": "markdown",
   "id": "628a0c01-5dc2-46cb-9ee3-b6d1c0acaa26",
   "metadata": {},
   "source": [
    "## 3.1. Архитектура"
   ]
  },
  {
   "cell_type": "markdown",
   "id": "c017b60c-cb2c-4707-800e-5dfd2770389c",
   "metadata": {},
   "source": [
    "### 3.1.1. Список элементов"
   ]
  },
  {
   "cell_type": "markdown",
   "id": "f40a16b2-43b8-4f87-8ff1-4baf87313031",
   "metadata": {},
   "source": [
    "> Для помощи в создании 3d-печати и конструкции $D^2NN$, использована функция сигмоиды для ограничения значения фазового набега каждого нейрона до $0-2π$ и $0-π$, для сетей визуализации и классификаторов соответственно."
   ]
  },
  {
   "cell_type": "code",
   "execution_count": 43,
   "id": "572433d3-ddab-40ec-9fbf-974e0150f721",
   "metadata": {},
   "outputs": [],
   "source": [
    "MAX_PHASE = EXP_CONDITIONS['diff_layer_max_phase']"
   ]
  },
  {
   "cell_type": "code",
   "execution_count": 44,
   "id": "8a4f8a54-fe64-417e-b58e-ab9b5a964106",
   "metadata": {},
   "outputs": [],
   "source": [
    "from src.for_setup import get_const_free_space, get_random_diffractive_layer\n",
    "from torch.nn import functional"
   ]
  },
  {
   "cell_type": "markdown",
   "id": "1b103a40-895b-4915-bdb8-01cab2838c1d",
   "metadata": {},
   "source": [
    "Функция для создания списка элементов:"
   ]
  },
  {
   "cell_type": "code",
   "execution_count": null,
   "id": "30dc7d99-a888-47ec-bcac-7fab8e4ae148",
   "metadata": {},
   "outputs": [],
   "source": [
    "# добавим апертуры перед каждым дифракционным слоем\n",
    "ADD_APERTURES = EXP_CONDITIONS['add_apertures']\n",
    "APERTURE_SZ = EXP_CONDITIONS['apertures_size']"
   ]
  },
  {
   "cell_type": "code",
   "execution_count": null,
   "id": "f4e3cf49-5e7f-4fe1-81c9-dd90021c9406",
   "metadata": {},
   "outputs": [],
   "source": [
    "def get_elements_list(\n",
    "    num_layers,\n",
    "    simulation_parameters: SimulationParameters,\n",
    "    freespace_method,\n",
    "    masks_seeds,\n",
    "    apertures=False,\n",
    "    aperture_size=(100, 100)\n",
    "):\n",
    "    \"\"\"\n",
    "    Composes a list of elements for setup.\n",
    "        Optical system: FS|DL|FS|...|FS|DL|FS|Detector\n",
    "    ...\n",
    "\n",
    "    Parameters\n",
    "    ----------\n",
    "    num_layers : int\n",
    "        Number of layers in the system.\n",
    "    simulation_parameters : SimulationParameters()\n",
    "        A simulation parameters for a task.\n",
    "    freespace_method : str\n",
    "        Propagation method for free spaces in a setup.\n",
    "    masks_seeds : torch.Tensor()\n",
    "        Torch tensor of random seeds to generate masks for diffractive layers.\n",
    "\n",
    "    Returns\n",
    "    -------\n",
    "    elements_list : list(Element)\n",
    "        List of Elements for an optical setup.\n",
    "    \"\"\"\n",
    "    elements_list = []  # список элементов\n",
    "\n",
    "    if apertures:  # эквивалентные маски для всех апертур (выбираем часть в середине)\n",
    "        aperture_mask = torch.ones(size=aperture_size)\n",
    "\n",
    "        y_nodes, x_nodes = simulation_parameters.axes_size(axs=('H', 'W'))\n",
    "        y_mask, x_mask = aperture_mask.size()\n",
    "        pad_top = int((y_nodes - y_mask) / 2)\n",
    "        pad_bottom = y_nodes - pad_top - y_mask\n",
    "        pad_left = int((x_nodes - x_mask) / 2)\n",
    "        pad_right = x_nodes - pad_left - x_mask  # params for transforms.Pad\n",
    "\n",
    "        # преобразование отступов для соответствия размерам параметров симуляции\n",
    "        aperture_mask = functional.pad(\n",
    "            input=aperture_mask,\n",
    "            pad=(pad_left, pad_right, pad_top, pad_bottom),\n",
    "            mode='constant',\n",
    "            value=0\n",
    "        )\n",
    "\n",
    "    # собираем архитектуру\n",
    "    for ind_layer in range(num_layers):\n",
    "        if ind_layer == 0:\n",
    "            # первый FreeSpace перед первым DiffractiveLayer\n",
    "            elements_list.append(\n",
    "                get_const_free_space(\n",
    "                    simulation_parameters,\n",
    "                    FREE_SPACE_DISTANCE,  # в [м]\n",
    "                    freespace_method=freespace_method,\n",
    "                )\n",
    "            )\n",
    "\n",
    "        # добавляем апертуры перед каждым дифракционным слоем\n",
    "        if apertures:\n",
    "            elements_list.append(\n",
    "                elements.Aperture(\n",
    "                    simulation_parameters=simulation_parameters,\n",
    "                    mask=nn.Parameter(aperture_mask, requires_grad=False)\n",
    "                )\n",
    "            )\n",
    "\n",
    "        # добавляем DiffractiveLayer\n",
    "        elements_list.append(\n",
    "            get_random_diffractive_layer(\n",
    "                simulation_parameters,\n",
    "                mask_seed=masks_seeds[ind_layer].item(),\n",
    "                max_phase=MAX_PHASE\n",
    "            )\n",
    "        )\n",
    "        # добавляем FreeSpace\n",
    "        elements_list.append(\n",
    "            get_const_free_space(\n",
    "                simulation_parameters,\n",
    "                FREE_SPACE_DISTANCE,  # в [м]\n",
    "                freespace_method=freespace_method,\n",
    "            )\n",
    "        )\n",
    "\n",
    "    # добавляем детектор в конце системы\n",
    "    elements_list.append(\n",
    "        Detector(\n",
    "            simulation_parameters=simulation_parameters,\n",
    "            func='intensity'  # детектор возвращает интенсивность волнового фронта\n",
    "        )\n",
    "    )\n",
    "\n",
    "    return elements_list"
   ]
  },
  {
   "cell_type": "markdown",
   "id": "6c0867fe-6de7-4891-8d33-7fd12e69a060",
   "metadata": {},
   "source": [
    "Постоянные для инициализации системы:"
   ]
  },
  {
   "cell_type": "code",
   "execution_count": null,
   "id": "9273d16b-671d-4a07-bedc-f8111b3bb64c",
   "metadata": {},
   "outputs": [
    {
     "data": {
      "text/plain": [
       "tensor([1.5708, 1.5708, 1.5708, 1.5708, 1.5708])"
      ]
     },
     "execution_count": 47,
     "metadata": {},
     "output_type": "execute_result"
    }
   ],
   "source": [
    "FREESPACE_METHOD = EXP_CONDITIONS['propagator'] # TODO: 'AS' returns nan's?\n",
    "\n",
    "if EXP_CONDITIONS['diff_layer_mask_init'] == 'random':\n",
    "    MASKS_SEEDS = torch.randint(\n",
    "        low=0, high=100,\n",
    "        size=(NUM_OF_DIFF_LAYERS,),\n",
    "        generator=torch.Generator().manual_seed(EXP_CONDITIONS['diff_layers_seeds'])\n",
    "        # для генерации таких же начальных масок\n",
    "    )  # для такой же случайной генерации\n",
    "\n",
    "if EXP_CONDITIONS['diff_layer_mask_init'] == 'const':\n",
    "    MASKS_SEEDS = torch.ones(size=(NUM_OF_DIFF_LAYERS,)) * torch.pi / 2  # константа для инициализации масок\n",
    "\n",
    "MASKS_SEEDS"
   ]
  },
  {
   "cell_type": "code",
   "execution_count": null,
   "id": "4f234601-8f80-46d2-b52d-ea0fe94ddf0c",
   "metadata": {},
   "outputs": [],
   "source": []
  },
  {
   "cell_type": "markdown",
   "id": "61958d45-f06e-4292-be5e-e0025dd1b2db",
   "metadata": {},
   "source": [
    "### 3.1.2. Составляем `LinearOpticalSetup`"
   ]
  },
  {
   "cell_type": "code",
   "execution_count": null,
   "id": "727a9d29-8b31-47e9-b0b0-fdae9d44c813",
   "metadata": {},
   "outputs": [],
   "source": [
    "def get_setup(\n",
    "    simulation_parameters,\n",
    "    num_layers,\n",
    "    apertures=False,\n",
    "    aperture_size=(100,100)\n",
    "):\n",
    "    \"\"\"\n",
    "    Returns an optical setup. Recreates all elements.\n",
    "    \"\"\"\n",
    "    elements_list = get_elements_list(\n",
    "        num_layers,\n",
    "        simulation_parameters,\n",
    "        FREESPACE_METHOD,\n",
    "        MASKS_SEEDS,\n",
    "        apertures=apertures,\n",
    "        aperture_size=aperture_size\n",
    "    )  # пересоздаем список элементов\n",
    "\n",
    "    return LinearOpticalSetup(elements=elements_list)"
   ]
  },
  {
   "cell_type": "code",
   "execution_count": null,
   "id": "762206a1-1bc1-4725-b7dc-53dcb252d66e",
   "metadata": {},
   "outputs": [],
   "source": [
    "lin_optical_setup = get_setup(\n",
    "    SIM_PARAMS,\n",
    "    NUM_OF_DIFF_LAYERS,\n",
    "    apertures=ADD_APERTURES,\n",
    "    aperture_size=APERTURE_SZ\n",
    ")\n",
    "# Комментарий: Lin - фамилия первого автора статьи"
   ]
  },
  {
   "cell_type": "code",
   "execution_count": 50,
   "id": "deb9f4e3-584b-427b-add2-76b084d9e770",
   "metadata": {},
   "outputs": [
    {
     "data": {
      "text/plain": [
       "Sequential(\n",
       "  (0): FreeSpace()\n",
       "  (1): Aperture()\n",
       "  (2): DiffractiveLayer()\n",
       "  (3): FreeSpace()\n",
       "  (4): Aperture()\n",
       "  (5): DiffractiveLayer()\n",
       "  (6): FreeSpace()\n",
       "  (7): Aperture()\n",
       "  (8): DiffractiveLayer()\n",
       "  (9): FreeSpace()\n",
       "  (10): Aperture()\n",
       "  (11): DiffractiveLayer()\n",
       "  (12): FreeSpace()\n",
       "  (13): Aperture()\n",
       "  (14): DiffractiveLayer()\n",
       "  (15): FreeSpace()\n",
       "  (16): Detector()\n",
       ")"
      ]
     },
     "execution_count": 50,
     "metadata": {},
     "output_type": "execute_result"
    }
   ],
   "source": [
    "lin_optical_setup.net"
   ]
  },
  {
   "cell_type": "code",
   "execution_count": null,
   "id": "953f8419-7c00-4893-99a3-b777a49e15f9",
   "metadata": {},
   "outputs": [],
   "source": []
  },
  {
   "cell_type": "markdown",
   "id": "0176fa87-f51c-4ef1-bf22-64855a370695",
   "metadata": {},
   "source": [
    "#### Пример распространения волновых фронтов"
   ]
  },
  {
   "cell_type": "code",
   "execution_count": 51,
   "id": "84bcc0dd-14cb-4220-82d2-6b987c48e8d7",
   "metadata": {},
   "outputs": [],
   "source": [
    "example_wf = mnist_wf_train_ds[128][0]"
   ]
  },
  {
   "cell_type": "code",
   "execution_count": 52,
   "id": "8538e8b8-911d-475a-bc33-7ed4a161c9ef",
   "metadata": {},
   "outputs": [
    {
     "data": {
      "text/plain": [
       "1"
      ]
     },
     "execution_count": 52,
     "metadata": {},
     "output_type": "execute_result"
    }
   ],
   "source": [
    "mnist_wf_train_ds[128][1]"
   ]
  },
  {
   "cell_type": "code",
   "execution_count": 53,
   "id": "defeaf77-da7c-44a4-a284-16f581b699ae",
   "metadata": {},
   "outputs": [],
   "source": [
    "setup_scheme, wavefronts = lin_optical_setup.stepwise_forward(example_wf)"
   ]
  },
  {
   "cell_type": "code",
   "execution_count": null,
   "id": "59816b90-2e18-4cc6-907f-6265fe5f515d",
   "metadata": {},
   "outputs": [
    {
     "name": "stdout",
     "output_type": "stream",
     "text": [
      "-(0)-> [1. FreeSpace] -(1)-> [2. Aperture] -(2)-> [3. DiffractiveLayer] -(3)-> [4. FreeSpace] -(4)-> [5. Aperture] -(5)-> [6. DiffractiveLayer] -(6)-> [7. FreeSpace] -(7)-> [8. Aperture] -(8)-> [9. DiffractiveLayer] -(9)-> [10. FreeSpace] -(10)-> [11. Aperture] -(11)-> [12. DiffractiveLayer] -(12)-> [13. FreeSpace] -(13)-> [14. Aperture] -(14)-> [15. DiffractiveLayer] -(15)-> [16. FreeSpace] -(16)-> [17. Detector] -(17)->\n"
     ]
    },
    {
     "data": {
      "image/png": "[encoded data removed]",
      "text/plain": [
       "<Figure size 1500x1280 with 20 Axes>"
      ]
     },
     "metadata": {},
     "output_type": "display_data"
    }
   ],
   "source": [
    "print(setup_scheme)  # выводим оптическую систему\n",
    "\n",
    "n_cols = 5  # количество колонок для отображения всех волновых фронтов при распространении\n",
    "n_rows = (len(lin_optical_setup.net) // n_cols) + 1\n",
    "\n",
    "to_plot = 'amp'  # <--- выбираем, что будем отображать: 'amp' - амплитуду, 'phase' - фазу\n",
    "cmap = 'grey'  # choose colormaps\n",
    "detector_cmap = 'hot'\n",
    "\n",
    "# создаем фигуру для отображения волновых фронтов\n",
    "fig, axs = plt.subplots(n_rows, n_cols, figsize=(n_cols * 3, n_rows * 3.2))\n",
    "\n",
    "# выключаем лишние оси\n",
    "for ind_row in range(n_rows):\n",
    "    for ind_col in range(n_cols):\n",
    "        ax_this = axs[ind_row][ind_col]\n",
    "        if ind_row * n_cols + ind_col >= len(wavefronts):\n",
    "            ax_this.axis('off')\n",
    "\n",
    "# строим волновые фронты\n",
    "for ind_wf, wavefront in enumerate(wavefronts):\n",
    "    ax_this = axs[ind_wf // n_cols][ind_wf % n_cols]\n",
    "\n",
    "    if to_plot == 'phase':\n",
    "        # строим фазу для каждого волнового фронта, потому что картинки интенсивности неотличимы друг от друга\n",
    "        if ind_wf < len(wavefronts) - 1:\n",
    "            ax_this.set_title('Фаза для $WF_{' + f'{ind_wf}' + '}$')\n",
    "            ax_this.imshow(\n",
    "                wavefront[0].phase.detach().numpy(), cmap=cmap,\n",
    "                vmin=0, vmax=2 * torch.pi\n",
    "            )\n",
    "        else:  # (not a wavefront!)\n",
    "            ax_this.set_title('Фаза детектора($WF_{' + f'{ind_wf}' + '})$')\n",
    "            # у детектора нет фазы!\n",
    "\n",
    "    if to_plot == 'amp':\n",
    "        if ind_wf < len(wavefronts) - 1:\n",
    "            ax_this.set_title('Intensity for $WF_{' + f'{ind_wf}' + '}$')\n",
    "            ax_this.imshow(\n",
    "                wavefront[0].intensity.detach().numpy(), cmap=cmap,\n",
    "                # vmin=0, vmax=max_intensity  # uncomment to make the same limits\n",
    "            )\n",
    "        else:  # выход детектора (не wavefront!)\n",
    "            ax_this.set_title('Detector Intensity ($WF_{' + f'{ind_wf}' + '})$')\n",
    "            ax_this.imshow(\n",
    "                wavefront[0].detach().numpy(), cmap=detector_cmap,\n",
    "                # vmin=0, vmax=max_intensity  # uncomment to make the same limits\n",
    "            )\n",
    "\n",
    "    # Комментарий: выход детектора - тензор! У него нет методов Wavefront (например .phase or .intensity)!\n",
    "\n",
    "plt.show()"
   ]
  },
  {
   "cell_type": "code",
   "execution_count": null,
   "id": "65f114a8-d0be-4f76-83ab-89bcee6e5d87",
   "metadata": {},
   "outputs": [],
   "source": []
  },
  {
   "cell_type": "markdown",
   "id": "450c6c03-bd60-4a40-a557-ce3fb0ccd0c6",
   "metadata": {},
   "source": [
    "### 3.1.3 Обработчик детектора"
   ]
  },
  {
   "cell_type": "code",
   "execution_count": 55,
   "id": "91d1e9b5-8703-4201-8743-b54eac91da99",
   "metadata": {},
   "outputs": [],
   "source": [
    "number_of_classes = 10"
   ]
  },
  {
   "cell_type": "code",
   "execution_count": 56,
   "id": "dfe31fa5-8279-4d9f-96a8-eb1d760ce4bc",
   "metadata": {},
   "outputs": [],
   "source": [
    "import src.detector_segmentation as detector_segmentation\n",
    "# Functions to segment detector: squares_mnist, circles, angular_segments"
   ]
  },
  {
   "cell_type": "code",
   "execution_count": 57,
   "id": "ef52887c-0289-427c-a85e-123aa80659be",
   "metadata": {},
   "outputs": [],
   "source": [
    "if ADD_APERTURES or APERTURE_SZ:\n",
    "    y_detector_nodes, x_detector_nodes = APERTURE_SZ\n",
    "else:\n",
    "    y_detector_nodes, x_detector_nodes = SIM_PARAMS.axes_size(axs=('H', 'W'))"
   ]
  },
  {
   "cell_type": "code",
   "execution_count": 58,
   "id": "15755220-768f-4b30-84c5-0a0e13dfee84",
   "metadata": {},
   "outputs": [
    {
     "data": {
      "text/plain": [
       "True"
      ]
     },
     "execution_count": 58,
     "metadata": {},
     "output_type": "execute_result"
    }
   ],
   "source": [
    "ADD_APERTURES"
   ]
  },
  {
   "cell_type": "code",
   "execution_count": null,
   "id": "8e2ff0a3-1548-4ca7-b0a3-c85b87045beb",
   "metadata": {},
   "outputs": [],
   "source": []
  },
  {
   "cell_type": "markdown",
   "id": "8d1dabde-317c-45c3-a9ee-4bffd403b5cb",
   "metadata": {},
   "source": [
    "#### Маска детектора (квадратные зоны)"
   ]
  },
  {
   "cell_type": "code",
   "execution_count": null,
   "id": "7803b2ba-3aaf-46cc-9431-f546a19bfe3b",
   "metadata": {},
   "outputs": [],
   "source": [
    "detector_squares_mask = detector_segmentation.squares_mnist(\n",
    "    y_detector_nodes, x_detector_nodes,  # размер детектора или апертуры (в середине детектора)\n",
    "    SIM_PARAMS\n",
    ")"
   ]
  },
  {
   "cell_type": "markdown",
   "id": "d7510a1d-03c1-4fdf-ba85-ccc85190204b",
   "metadata": {},
   "source": [
    "#### Маска детектора (круглые зоны)"
   ]
  },
  {
   "cell_type": "code",
   "execution_count": null,
   "id": "fa08d293-cfae-4cd4-afe3-f7913637e12c",
   "metadata": {},
   "outputs": [],
   "source": [
    "detector_circles_mask = detector_segmentation.circles(\n",
    "    y_detector_nodes, x_detector_nodes,  # размер детектора или апертуры (в середине детектора)\n",
    "    number_of_classes,\n",
    "    SIM_PARAMS\n",
    ")"
   ]
  },
  {
   "cell_type": "markdown",
   "id": "d12646c2-1740-4bed-9c6a-63ef5add19c1",
   "metadata": {},
   "source": [
    "#### маска детектора (зоны - угловые сегменты)"
   ]
  },
  {
   "cell_type": "code",
   "execution_count": null,
   "id": "3af0abca-7fbe-4148-81b5-154a846280df",
   "metadata": {},
   "outputs": [],
   "source": [
    "detector_angles_mask = detector_segmentation.angular_segments(\n",
    "    y_detector_nodes, x_detector_nodes,  # размер детектора или апертуры (в середине детектора)\n",
    "    number_of_classes,\n",
    "    SIM_PARAMS\n",
    ")"
   ]
  },
  {
   "cell_type": "code",
   "execution_count": null,
   "id": "782bfd55-58ad-481b-b677-a4b6e40929c1",
   "metadata": {},
   "outputs": [],
   "source": []
  },
  {
   "cell_type": "markdown",
   "id": "9b79963c-18c5-4620-82cb-2485a986a1fd",
   "metadata": {},
   "source": [
    "#### Обработчик детектора"
   ]
  },
  {
   "cell_type": "code",
   "execution_count": 62,
   "id": "3b918ae1-2c6f-4ec2-a200-c19e8f4559cc",
   "metadata": {},
   "outputs": [
    {
     "data": {
      "text/plain": [
       "False"
      ]
     },
     "execution_count": 62,
     "metadata": {},
     "output_type": "execute_result"
    }
   ],
   "source": [
    "CIRCLES_ZONES = EXP_CONDITIONS['detector_zones'] == 'circles'\n",
    "CIRCLES_ZONES"
   ]
  },
  {
   "cell_type": "code",
   "execution_count": 63,
   "id": "49c444c1-c2bd-4e2d-9a69-4830029bcc46",
   "metadata": {},
   "outputs": [
    {
     "name": "stdout",
     "output_type": "stream",
     "text": [
      "angular segments selected!\n"
     ]
    }
   ],
   "source": [
    "if EXP_CONDITIONS['detector_zones'] == 'circles':\n",
    "    selected_mask = detector_circles_mask\n",
    "    print('circles selected!')\n",
    "\n",
    "if EXP_CONDITIONS['detector_zones'] == 'squares':\n",
    "    selected_mask = detector_squares_mask\n",
    "    print('squares selected!')\n",
    "\n",
    "if EXP_CONDITIONS['detector_zones'] == 'segments':\n",
    "    selected_mask = detector_angles_mask\n",
    "    print('angular segments selected!')\n",
    "\n",
    "if EXP_CONDITIONS['detector_zones'] == 'strips':\n",
    "    selected_mask = None\n",
    "    print('strips selected!')"
   ]
  },
  {
   "cell_type": "code",
   "execution_count": null,
   "id": "cb2adcfd-788b-4939-8471-b87b95c31b68",
   "metadata": {},
   "outputs": [],
   "source": [
    "detector_processor = DetectorProcessorClf(\n",
    "    num_classes=number_of_classes,\n",
    "    simulation_parameters=SIM_PARAMS,\n",
    "    segmented_detector=selected_mask,  # выбираем маску!\n",
    "    segments_zone_size=APERTURE_SZ\n",
    ")"
   ]
  },
  {
   "cell_type": "code",
   "execution_count": 65,
   "id": "4d8e0ed4-03b5-421e-becc-913a40084884",
   "metadata": {},
   "outputs": [],
   "source": [
    "if 'detector_transpose' in EXP_CONDITIONS.keys():\n",
    "    if EXP_CONDITIONS['detector_transpose']:\n",
    "        detector_processor.segmented_detector = detector_processor.segmented_detector.T"
   ]
  },
  {
   "cell_type": "code",
   "execution_count": 66,
   "id": "f8a5ac14-69bc-44fa-b1bf-dc82c438873f",
   "metadata": {},
   "outputs": [
    {
     "data": {
      "image/png": "[encoded data removed]",
      "text/plain": [
       "<Figure size 300x300 with 1 Axes>"
      ]
     },
     "metadata": {},
     "output_type": "display_data"
    }
   ],
   "source": [
    "fig, ax0 = plt.subplots(1, 1, figsize=(3, 3))\n",
    "\n",
    "ax0.set_title(f'Detector segments')\n",
    "ax0.imshow(detector_processor.segmented_detector, cmap='grey')\n",
    "\n",
    "plt.show()"
   ]
  },
  {
   "cell_type": "code",
   "execution_count": null,
   "id": "cdb74ba3-f0eb-4282-a902-849d90c041f7",
   "metadata": {},
   "outputs": [],
   "source": []
  },
  {
   "cell_type": "markdown",
   "id": "dd14a5ad-133e-49c9-b26d-1476deb22573",
   "metadata": {},
   "source": [
    "#### Визуализация зон детектора"
   ]
  },
  {
   "cell_type": "code",
   "execution_count": 67,
   "id": "7b6bc396-cfbb-40a0-9bfe-e12987f9e808",
   "metadata": {},
   "outputs": [],
   "source": [
    "ZONES_HIGHLIGHT_COLOR = 'w'\n",
    "ZONES_LW = 0.5\n",
    "selected_detector_mask = detector_processor.segmented_detector.clone().detach()"
   ]
  },
  {
   "cell_type": "code",
   "execution_count": null,
   "id": "bd154079-4d24-4787-9304-df43fd2b7d3d",
   "metadata": {},
   "outputs": [],
   "source": [
    "def get_zones_patches(detector_mask):\n",
    "    \"\"\"\n",
    "    Returns a list of patches to draw zones in final visualisation\n",
    "    \"\"\"\n",
    "    zones_patches = []\n",
    "\n",
    "    if EXP_CONDITIONS['detector_zones'] == 'circles':\n",
    "        for ind_class in range(number_of_classes):\n",
    "            # use `circles_radiuses`, `x_layer_size_m`, `x_layer_nodes`\n",
    "            rad_this = (circles_radiuses[ind_class] / x_layer_size_m * x_layer_nodes)\n",
    "\n",
    "            zone_circ = patches.Circle(\n",
    "                (x_layer_nodes / 2, y_layer_nodes / 2),\n",
    "                rad_this,\n",
    "                linewidth=ZONES_LW,\n",
    "                edgecolor=ZONES_HIGHLIGHT_COLOR,\n",
    "                facecolor='none'\n",
    "            )\n",
    "\n",
    "            zones_patches.append(zone_circ)\n",
    "    else:\n",
    "        if EXP_CONDITIONS['detector_zones'] == 'segments':\n",
    "            class_segment_angle = 2 * torch.pi / number_of_classes\n",
    "            len_lines_nodes = int(x_layer_nodes / 2)\n",
    "\n",
    "            delta = 0.5\n",
    "            idx_y, idx_x = (detector_mask > -1).nonzero(as_tuple=True)\n",
    "            zone_rect = patches.Rectangle(\n",
    "                (idx_x[0] - delta, idx_y[0] - delta),\n",
    "                idx_x[-1] - idx_x[0] + 2 * delta, idx_y[-1] - idx_y[0] + 2 * delta,\n",
    "                linewidth=ZONES_LW,\n",
    "                edgecolor=ZONES_HIGHLIGHT_COLOR,\n",
    "                facecolor='none'\n",
    "            )\n",
    "            zones_patches.append(zone_rect)\n",
    "\n",
    "            ang = torch.pi\n",
    "            x_center, y_center = int(x_layer_nodes / 2), int(y_layer_nodes / 2)\n",
    "            for ind_class in range(number_of_classes):\n",
    "                path_line = Path(\n",
    "                    [\n",
    "                        (x_center, y_center),\n",
    "                        (\n",
    "                            x_center + len_lines_nodes * np.cos(ang),\n",
    "                            y_center + len_lines_nodes * np.sin(ang)\n",
    "                        ),\n",
    "                    ],\n",
    "                    [\n",
    "                        Path.MOVETO,\n",
    "                        Path.LINETO\n",
    "                    ]\n",
    "                )\n",
    "                bound_line = patches.PathPatch(\n",
    "                    path_line,\n",
    "                    facecolor='none',\n",
    "                    lw=ZONES_LW,\n",
    "                    edgecolor=ZONES_HIGHLIGHT_COLOR,\n",
    "                )\n",
    "\n",
    "                zones_patches.append(bound_line)\n",
    "\n",
    "                ang += class_segment_angle\n",
    "        else:\n",
    "            delta = 0.5\n",
    "\n",
    "            for ind_class in range(number_of_classes):\n",
    "                idx_y, idx_x = (detector_mask == ind_class).nonzero(as_tuple=True)\n",
    "\n",
    "                zone_rect = patches.Rectangle(\n",
    "                    (idx_x[0] - delta, idx_y[0] - delta),\n",
    "                    idx_x[-1] - idx_x[0] + 2 * delta, idx_y[-1] - idx_y[0] + 2 * delta,\n",
    "                    linewidth=ZONES_LW,\n",
    "                    edgecolor=ZONES_HIGHLIGHT_COLOR,\n",
    "                    facecolor='none'\n",
    "                )\n",
    "\n",
    "                zones_patches.append(zone_rect)\n",
    "\n",
    "    return zones_patches"
   ]
  },
  {
   "cell_type": "code",
   "execution_count": null,
   "id": "aee6a5ec-6c7a-42c1-af40-5f5f8189925c",
   "metadata": {},
   "outputs": [],
   "source": []
  },
  {
   "cell_type": "markdown",
   "id": "b9bf3718-ed29-4fcc-9474-c5d7909b9970",
   "metadata": {},
   "source": [
    "# 4. Тренировка сети\n",
    "\n",
    "Объекты в данный момент:\n",
    "- `lin_optical_setup` : `LinearOpticalSetup` – линейная оптическая нейронная сеть состоящая из Elements\n",
    "- `detector_processor` : `DetectorProcessorClf` – этот слой обрабатывает изображение с детектора и рассчитывает вероятности принадлежности к классам."
   ]
  },
  {
   "cell_type": "code",
   "execution_count": null,
   "id": "9c37298b-6f84-4586-81d2-80268e84c566",
   "metadata": {},
   "outputs": [
    {
     "data": {
      "text/plain": [
       "device(type='cpu')"
      ]
     },
     "execution_count": 69,
     "metadata": {},
     "output_type": "execute_result"
    }
   ],
   "source": [
    "DEVICE = torch.device('cuda' if torch.cuda.is_available() else 'cpu')\n",
    "\n",
    "# if DEVICE == torch.device('cpu'):\n",
    "#     DEVICE = torch.device('mps' if torch.backends.mps.is_available() else 'cpu')\n",
    "\n",
    "DEVICE"
   ]
  },
  {
   "cell_type": "markdown",
   "id": "78553183-6043-4f46-8910-e33f0dc3a1a3",
   "metadata": {},
   "source": [
    "## 4.1. Некоторые обязательные действия"
   ]
  },
  {
   "cell_type": "markdown",
   "id": "1ec8cc8c-1876-4790-a012-48f2474e7e74",
   "metadata": {},
   "source": [
    "### 4.1.1. `DataLoader`'s"
   ]
  },
  {
   "cell_type": "code",
   "execution_count": null,
   "id": "d3dd9a8b-3e30-44df-8335-099fb140cd62",
   "metadata": {},
   "outputs": [],
   "source": [
    "train_bs = EXP_CONDITIONS['train_bs']  # размер батча для обучения\n",
    "val_bs = EXP_CONDITIONS['val_bs']"
   ]
  },
  {
   "cell_type": "markdown",
   "id": "28d742c8-28c6-428e-971d-7523dc565b0d",
   "metadata": {},
   "source": [
    "> Для этой задачи были разработаны маски пропускания фазы путем обучения пятислойной нейронной сети $D^2$ с $55000$ изображениями ($5000$ проверочными изображениями) из базы данных рукописных цифр MNIST (Модифицированный Национальный институт стандартов и технологий)."
   ]
  },
  {
   "cell_type": "code",
   "execution_count": null,
   "id": "1eaacee1-7361-4d4c-83d6-815ccebaebef",
   "metadata": {},
   "outputs": [],
   "source": [
    "# mnist_wf_train_ds\n",
    "train_wf_ds, val_wf_ds = torch.utils.data.random_split(\n",
    "    dataset=mnist_wf_train_ds,\n",
    "    lengths=[55000, 5000],  # размер из статьи\n",
    "    generator=torch.Generator().manual_seed(EXP_CONDITIONS['train_split_seed'])  # для воспроизводимости\n",
    ")"
   ]
  },
  {
   "cell_type": "code",
   "execution_count": 72,
   "id": "43c3fbef-5a00-4784-a5c8-85c47231890e",
   "metadata": {},
   "outputs": [],
   "source": [
    "train_wf_loader = torch.utils.data.DataLoader(\n",
    "    train_wf_ds,\n",
    "    batch_size=train_bs,\n",
    "    shuffle=True,\n",
    "    # num_workers=2,\n",
    "    drop_last=False,\n",
    ")\n",
    "\n",
    "val_wf_loader = torch.utils.data.DataLoader(\n",
    "    val_wf_ds,\n",
    "    batch_size=val_bs,\n",
    "    shuffle=False,\n",
    "    # num_workers=2,\n",
    "    drop_last=False,\n",
    ")"
   ]
  },
  {
   "cell_type": "code",
   "execution_count": null,
   "id": "0ff84f0d-925b-407c-a506-4d02c35fd4ea",
   "metadata": {},
   "outputs": [],
   "source": []
  },
  {
   "cell_type": "markdown",
   "id": "ffb8ff99-0e12-4502-9219-40718ef15852",
   "metadata": {},
   "source": [
    "### 4.1.2. Оптимизатор и функция потерь\n",
    "\n",
    "Информация из [приложения](https://www.science.org/doi/suppl/10.1126/science.aat8084/suppl_file/aat8084-lin-sm-rev-3.pdf) для классификации MNIST:\n",
    "\n",
    "> Мы использовали алгоритм стохастического градиентного спуска Adam для обратного распространения ошибок и обновления\n",
    "слоев сети для минимизации функции потерь."
   ]
  },
  {
   "cell_type": "code",
   "execution_count": null,
   "id": "8fbf825c-e9ca-4f94-b1d6-da4921748cf0",
   "metadata": {},
   "outputs": [],
   "source": [
    "optimizer_clf = torch.optim.Adam(\n",
    "    params=lin_optical_setup.net.parameters()  # параметры сети!\n",
    ")"
   ]
  },
  {
   "cell_type": "code",
   "execution_count": 74,
   "id": "390a425d-cff3-44ba-81f6-2fe467c52a33",
   "metadata": {},
   "outputs": [],
   "source": [
    "loss_func_clf = nn.CrossEntropyLoss()\n",
    "loss_func_name = 'CE loss'"
   ]
  },
  {
   "cell_type": "code",
   "execution_count": null,
   "id": "09af0a6d-09b9-4235-b10d-86cd5af1b178",
   "metadata": {},
   "outputs": [],
   "source": []
  },
  {
   "cell_type": "markdown",
   "id": "a7381166-44cd-4136-a67b-e703fd1d8509",
   "metadata": {},
   "source": [
    "### 4.1.3. Циклы обучения и оценки"
   ]
  },
  {
   "cell_type": "code",
   "execution_count": 75,
   "id": "f30d9f5b-57d5-4b53-8e71-637536583b12",
   "metadata": {},
   "outputs": [],
   "source": [
    "from src.clf_loops import onn_train_clf, onn_validate_clf"
   ]
  },
  {
   "cell_type": "code",
   "execution_count": null,
   "id": "ea484d71-20a9-4590-be00-32eb052cedbc",
   "metadata": {},
   "outputs": [],
   "source": []
  },
  {
   "cell_type": "markdown",
   "id": "5916b72f-dacb-47b0-a41c-853b430f4f89",
   "metadata": {},
   "source": [
    "## 4.2. Тренировка оптической нейронной сети"
   ]
  },
  {
   "cell_type": "markdown",
   "id": "4d19488d-031b-43ed-909c-562fbeb76c59",
   "metadata": {},
   "source": [
    "### 4.2.1. Перед тренировкой"
   ]
  },
  {
   "cell_type": "markdown",
   "id": "224a3df0-4bc1-41e0-aaa0-fc75c04f3f8c",
   "metadata": {},
   "source": [
    "#### Маски дифракционных слоев"
   ]
  },
  {
   "cell_type": "code",
   "execution_count": null,
   "id": "23349d93-c9ea-46bc-a833-a0af29a1275b",
   "metadata": {},
   "outputs": [
    {
     "data": {
      "image/png": "[encoded data removed]",
      "text/plain": [
       "<Figure size 1500x320 with 5 Axes>"
      ]
     },
     "metadata": {},
     "output_type": "display_data"
    }
   ],
   "source": [
    "n_cols = NUM_OF_DIFF_LAYERS  # количество колонок для отображения масок дифракционных слоев\n",
    "n_rows = 1\n",
    "\n",
    "lin_architecture_elements_list = get_elements_list(\n",
    "    NUM_OF_DIFF_LAYERS,\n",
    "    SIM_PARAMS,\n",
    "    FREESPACE_METHOD,\n",
    "    MASKS_SEEDS,\n",
    "    apertures=ADD_APERTURES,\n",
    "    aperture_size=APERTURE_SZ\n",
    ")\n",
    "\n",
    "cmap = 'gist_stern'\n",
    "\n",
    "# строим фазы волновых фронтов\n",
    "fig, axs = plt.subplots(n_rows, n_cols, figsize=(n_cols * 3, n_rows * 3.2))\n",
    "ind_diff_layer = 0\n",
    "\n",
    "for ind_layer, layer in enumerate(lin_architecture_elements_list):\n",
    "    if isinstance(layer, elements.DiffractiveLayer):  # строим маски\n",
    "        if n_rows > 1:\n",
    "            ax_this = axs[ind_diff_layer // n_cols][ind_diff_layer % n_cols]\n",
    "        else:\n",
    "            ax_this = axs[ind_diff_layer % n_cols]\n",
    "\n",
    "        ax_this.set_title(f'{ind_layer}. DiffractiveLayer')\n",
    "\n",
    "        im = ax_this.imshow(\n",
    "            layer.mask.detach().numpy(), cmap=cmap,\n",
    "            vmin=0, vmax=MAX_PHASE\n",
    "        )\n",
    "\n",
    "        ind_diff_layer += 1\n",
    "\n",
    "plt.show()"
   ]
  },
  {
   "cell_type": "code",
   "execution_count": null,
   "id": "993952bc-6a92-40f0-877d-4c55cc765be9",
   "metadata": {},
   "outputs": [],
   "source": []
  },
  {
   "cell_type": "code",
   "execution_count": null,
   "id": "9261ceec-dae5-4be3-950c-390991f8879d",
   "metadata": {},
   "outputs": [],
   "source": []
  },
  {
   "cell_type": "markdown",
   "id": "76c5c93e-de70-415c-a940-4bf1cb03d5e6",
   "metadata": {},
   "source": [
    "#### Метрики для выборки данных"
   ]
  },
  {
   "cell_type": "code",
   "execution_count": null,
   "id": "99c7df68-46cc-4217-a9c1-1a332f9b9764",
   "metadata": {},
   "outputs": [],
   "source": [
    "lin_optical_setup = get_setup(\n",
    "    SIM_PARAMS.to(DEVICE),\n",
    "    NUM_OF_DIFF_LAYERS,\n",
    "    apertures=ADD_APERTURES,\n",
    "    aperture_size=APERTURE_SZ\n",
    ")"
   ]
  },
  {
   "cell_type": "code",
   "execution_count": null,
   "id": "779d1c65-4ad8-47b3-85b3-7a9ee0427a5f",
   "metadata": {},
   "outputs": [],
   "source": [
    "lin_optical_setup.net = lin_optical_setup.net.to(DEVICE)\n",
    "\n",
    "SIM_PARAMS = SIM_PARAMS.to(DEVICE)  # важно!\n",
    "detector_processor = detector_processor.to(DEVICE)"
   ]
  },
  {
   "cell_type": "code",
   "execution_count": null,
   "id": "74746528-f628-4a98-bae6-9a66450774c3",
   "metadata": {},
   "outputs": [],
   "source": []
  },
  {
   "cell_type": "code",
   "execution_count": 79,
   "id": "0523bf4f-a304-4240-aae7-f12ff846565e",
   "metadata": {},
   "outputs": [],
   "source": [
    "test_wf_loader = torch.utils.data.DataLoader(\n",
    "    mnist_wf_test_ds,\n",
    "    batch_size=10,\n",
    "    shuffle=False,\n",
    "    # num_workers=2,\n",
    "    drop_last=False,\n",
    ")  # data loader for a test MNIST data"
   ]
  },
  {
   "cell_type": "code",
   "execution_count": null,
   "id": "9f6932db-44c5-439a-a14f-c06b5e645f2c",
   "metadata": {},
   "outputs": [
    {
     "name": "stderr",
     "output_type": "stream",
     "text": [
      "validation: 100%|████████████████████████████████████████████████████████████████████████| 1000/1000 [00:19<00:00, 50.14it/s]"
     ]
    },
    {
     "name": "stdout",
     "output_type": "stream",
     "text": [
      "Results before training on TEST set:\n",
      "\tCE loss : 2.304648\n",
      "\tAccuracy : 9.7 %\n"
     ]
    },
    {
     "name": "stderr",
     "output_type": "stream",
     "text": [
      "\n"
     ]
    }
   ],
   "source": [
    "test_losses_0, _, test_accuracy_0 = onn_validate_clf(\n",
    "    lin_optical_setup.net,  # оптическая сеть созданная в 3.\n",
    "    test_wf_loader,  # загрузчик тестовой выборки\n",
    "    detector_processor,  # обработчик детектора\n",
    "    loss_func_clf,\n",
    "    device=DEVICE,\n",
    "    show_process=True,\n",
    ")  # оценка модели\n",
    "\n",
    "print(\n",
    "    'Результаты перед обучением на тестовой выборке:\\n' +\n",
    "    f'\\t{loss_func_name} : {np.mean(test_losses_0):.6f}\\n' +\n",
    "    f'\\tТочность: {(test_accuracy_0*100):>0.1f} %'\n",
    ")"
   ]
  },
  {
   "cell_type": "code",
   "execution_count": null,
   "id": "6142a33b-e47f-4283-bc30-13165b96fedf",
   "metadata": {},
   "outputs": [],
   "source": []
  },
  {
   "cell_type": "markdown",
   "id": "de9a5938-095b-4e9a-8994-1e82ccdc2382",
   "metadata": {},
   "source": [
    "### 4.2.2. Обучение"
   ]
  },
  {
   "cell_type": "code",
   "execution_count": null,
   "id": "2ce8ef8d-dd2a-4bb6-8b6d-ca3792dbc6c4",
   "metadata": {},
   "outputs": [],
   "source": [
    "n_epochs = EXP_CONDITIONS['epochs']\n",
    "print_each = 1  # выводим каждую n-ю эпоху"
   ]
  },
  {
   "cell_type": "code",
   "execution_count": null,
   "id": "6adb8840-df52-425c-bacf-0cfea6e8c1da",
   "metadata": {},
   "outputs": [],
   "source": [
    "scheduler = None  #"
   ]
  },
  {
   "cell_type": "code",
   "execution_count": null,
   "id": "c58a2fc5-fed3-4730-ae75-bb814ab0daf8",
   "metadata": {},
   "outputs": [],
   "source": [
    "# пересоздаем систему для перезапуска обучения!\n",
    "\n",
    "lin_optical_setup = get_setup(\n",
    "    SIM_PARAMS.to(DEVICE),\n",
    "    NUM_OF_DIFF_LAYERS,\n",
    "    apertures=ADD_APERTURES,\n",
    "    aperture_size=APERTURE_SZ\n",
    ")\n",
    "\n",
    "# Оптимизатор Linc для воссозданной сети!\n",
    "optimizer_clf = torch.optim.Adam(\n",
    "    params=lin_optical_setup.net.parameters()  # параметры сети!\n",
    ")"
   ]
  },
  {
   "cell_type": "code",
   "execution_count": 114,
   "id": "823e10fb-b4ca-4824-a88b-e4947ca37335",
   "metadata": {},
   "outputs": [
    {
     "data": {
      "text/plain": [
       "Sequential(\n",
       "  (0): FreeSpace()\n",
       "  (1): Aperture()\n",
       "  (2): DiffractiveLayer()\n",
       "  (3): FreeSpace()\n",
       "  (4): Aperture()\n",
       "  (5): DiffractiveLayer()\n",
       "  (6): FreeSpace()\n",
       "  (7): Aperture()\n",
       "  (8): DiffractiveLayer()\n",
       "  (9): FreeSpace()\n",
       "  (10): Aperture()\n",
       "  (11): DiffractiveLayer()\n",
       "  (12): FreeSpace()\n",
       "  (13): Aperture()\n",
       "  (14): DiffractiveLayer()\n",
       "  (15): FreeSpace()\n",
       "  (16): Detector()\n",
       ")"
      ]
     },
     "execution_count": 114,
     "metadata": {},
     "output_type": "execute_result"
    }
   ],
   "source": [
    "lin_optical_setup.net"
   ]
  },
  {
   "cell_type": "code",
   "execution_count": null,
   "id": "b19fb2f0-0f23-4df4-8f83-8f9acb1d550c",
   "metadata": {},
   "outputs": [],
   "source": [
    "lin_optical_setup.net = lin_optical_setup.net.to(DEVICE)\n",
    "\n",
    "SIM_PARAMS = SIM_PARAMS.to(DEVICE)  # важно!\n",
    "detector_processor = detector_processor.to(DEVICE)  # обработчик детектора должен быть на том же устройстве!"
   ]
  },
  {
   "cell_type": "code",
   "execution_count": 116,
   "id": "af7cc0dd-9f44-45ee-9dbb-d2a0e3fcfca4",
   "metadata": {},
   "outputs": [
    {
     "name": "stdout",
     "output_type": "stream",
     "text": [
      "Tensorboard writer created!\n"
     ]
    }
   ],
   "source": [
    "# tensorboard writer\n",
    "if EXP_CONDITIONS['tensorboard']:\n",
    "    # TODO: A custom name for a run?\n",
    "    tensorboard_writer = SummaryWriter()\n",
    "    print('Tensorboard writer created!')"
   ]
  },
  {
   "cell_type": "code",
   "execution_count": null,
   "id": "5f4517be-7929-43e4-b2cf-bd2ab1e0069c",
   "metadata": {},
   "outputs": [],
   "source": []
  },
  {
   "cell_type": "code",
   "execution_count": null,
   "id": "158d9843-5ca6-42bc-84b2-eb67f25fcc6b",
   "metadata": {},
   "outputs": [],
   "source": []
  },
  {
   "cell_type": "code",
   "execution_count": null,
   "id": "d0327fee-335a-4597-b8fc-586f8902d524",
   "metadata": {},
   "outputs": [
    {
     "name": "stdout",
     "output_type": "stream",
     "text": [
      "Epoch #1: "
     ]
    },
    {
     "name": "stderr",
     "output_type": "stream",
     "text": [
      "train: 100%|█████████████████████████████████████████████████████████████████████████████| 6875/6875 [05:09<00:00, 22.18it/s]\n"
     ]
    },
    {
     "name": "stdout",
     "output_type": "stream",
     "text": [
      "Training results\n",
      "\tCE loss : 2.026149\n",
      "\tAccuracy : 69.7 %\n",
      "\t------------   309.92 s\n"
     ]
    },
    {
     "name": "stderr",
     "output_type": "stream",
     "text": [
      "validation: 100%|██████████████████████████████████████████████████████████████████████████| 250/250 [00:16<00:00, 15.28it/s]\n"
     ]
    },
    {
     "name": "stdout",
     "output_type": "stream",
     "text": [
      "Validation results\n",
      "\tCE loss : 1.976295\n",
      "\tAccuracy : 76.0 %\n",
      "\t------------   16.36 s\n",
      "\t-> tensorboarded\n",
      "Epoch #2: "
     ]
    },
    {
     "name": "stderr",
     "output_type": "stream",
     "text": [
      "train: 100%|█████████████████████████████████████████████████████████████████████████████| 6875/6875 [05:25<00:00, 21.11it/s]\n"
     ]
    },
    {
     "name": "stdout",
     "output_type": "stream",
     "text": [
      "Training results\n",
      "\tCE loss : 1.954368\n",
      "\tAccuracy : 78.8 %\n",
      "\t------------   325.61 s\n"
     ]
    },
    {
     "name": "stderr",
     "output_type": "stream",
     "text": [
      "validation: 100%|██████████████████████████████████████████████████████████████████████████| 250/250 [00:17<00:00, 14.38it/s]\n"
     ]
    },
    {
     "name": "stdout",
     "output_type": "stream",
     "text": [
      "Validation results\n",
      "\tCE loss : 1.944904\n",
      "\tAccuracy : 78.9 %\n",
      "\t------------   17.38 s\n",
      "\t-> tensorboarded\n",
      "Epoch #3: "
     ]
    },
    {
     "name": "stderr",
     "output_type": "stream",
     "text": [
      "train: 100%|█████████████████████████████████████████████████████████████████████████████| 6875/6875 [05:15<00:00, 21.78it/s]\n"
     ]
    },
    {
     "name": "stdout",
     "output_type": "stream",
     "text": [
      "Training results\n",
      "\tCE loss : 1.932177\n",
      "\tAccuracy : 80.4 %\n",
      "\t------------   315.66 s\n"
     ]
    },
    {
     "name": "stderr",
     "output_type": "stream",
     "text": [
      "validation: 100%|██████████████████████████████████████████████████████████████████████████| 250/250 [00:18<00:00, 13.83it/s]\n"
     ]
    },
    {
     "name": "stdout",
     "output_type": "stream",
     "text": [
      "Validation results\n",
      "\tCE loss : 1.927474\n",
      "\tAccuracy : 80.7 %\n",
      "\t------------   18.08 s\n",
      "\t-> tensorboarded\n",
      "Epoch #4: "
     ]
    },
    {
     "name": "stderr",
     "output_type": "stream",
     "text": [
      "train: 100%|█████████████████████████████████████████████████████████████████████████████| 6875/6875 [06:05<00:00, 18.79it/s]\n"
     ]
    },
    {
     "name": "stdout",
     "output_type": "stream",
     "text": [
      "Training results\n",
      "\tCE loss : 1.919771\n",
      "\tAccuracy : 81.1 %\n",
      "\t------------   365.97 s\n"
     ]
    },
    {
     "name": "stderr",
     "output_type": "stream",
     "text": [
      "validation: 100%|██████████████████████████████████████████████████████████████████████████| 250/250 [00:19<00:00, 12.67it/s]\n"
     ]
    },
    {
     "name": "stdout",
     "output_type": "stream",
     "text": [
      "Validation results\n",
      "\tCE loss : 1.918410\n",
      "\tAccuracy : 81.6 %\n",
      "\t------------   19.74 s\n",
      "\t-> tensorboarded\n",
      "Epoch #5: "
     ]
    },
    {
     "name": "stderr",
     "output_type": "stream",
     "text": [
      "train: 100%|█████████████████████████████████████████████████████████████████████████████| 6875/6875 [06:09<00:00, 18.63it/s]\n"
     ]
    },
    {
     "name": "stdout",
     "output_type": "stream",
     "text": [
      "Training results\n",
      "\tCE loss : 1.911985\n",
      "\tAccuracy : 81.5 %\n",
      "\t------------   369.08 s\n"
     ]
    },
    {
     "name": "stderr",
     "output_type": "stream",
     "text": [
      "validation: 100%|██████████████████████████████████████████████████████████████████████████| 250/250 [00:21<00:00, 11.77it/s]\n"
     ]
    },
    {
     "name": "stdout",
     "output_type": "stream",
     "text": [
      "Validation results\n",
      "\tCE loss : 1.911945\n",
      "\tAccuracy : 81.1 %\n",
      "\t------------   21.25 s\n",
      "\t-> tensorboarded\n",
      "Epoch #6: "
     ]
    },
    {
     "name": "stderr",
     "output_type": "stream",
     "text": [
      "train: 100%|█████████████████████████████████████████████████████████████████████████████| 6875/6875 [06:21<00:00, 18.02it/s]\n"
     ]
    },
    {
     "name": "stdout",
     "output_type": "stream",
     "text": [
      "Training results\n",
      "\tCE loss : 1.906370\n",
      "\tAccuracy : 81.9 %\n",
      "\t------------   381.45 s\n"
     ]
    },
    {
     "name": "stderr",
     "output_type": "stream",
     "text": [
      "validation: 100%|██████████████████████████████████████████████████████████████████████████| 250/250 [00:19<00:00, 12.72it/s]\n"
     ]
    },
    {
     "name": "stdout",
     "output_type": "stream",
     "text": [
      "Validation results\n",
      "\tCE loss : 1.906746\n",
      "\tAccuracy : 82.1 %\n",
      "\t------------   19.66 s\n",
      "\t-> tensorboarded\n",
      "Epoch #7: "
     ]
    },
    {
     "name": "stderr",
     "output_type": "stream",
     "text": [
      "train: 100%|█████████████████████████████████████████████████████████████████████████████| 6875/6875 [06:52<00:00, 16.68it/s]\n"
     ]
    },
    {
     "name": "stdout",
     "output_type": "stream",
     "text": [
      "Training results\n",
      "\tCE loss : 1.902148\n",
      "\tAccuracy : 82.1 %\n",
      "\t------------   412.09 s\n"
     ]
    },
    {
     "name": "stderr",
     "output_type": "stream",
     "text": [
      "validation: 100%|██████████████████████████████████████████████████████████████████████████| 250/250 [00:20<00:00, 12.10it/s]\n"
     ]
    },
    {
     "name": "stdout",
     "output_type": "stream",
     "text": [
      "Validation results\n",
      "\tCE loss : 1.901731\n",
      "\tAccuracy : 81.5 %\n",
      "\t------------   20.67 s\n",
      "\t-> tensorboarded\n",
      "Epoch #8: "
     ]
    },
    {
     "name": "stderr",
     "output_type": "stream",
     "text": [
      "train: 100%|█████████████████████████████████████████████████████████████████████████████| 6875/6875 [06:38<00:00, 17.25it/s]\n"
     ]
    },
    {
     "name": "stdout",
     "output_type": "stream",
     "text": [
      "Training results\n",
      "\tCE loss : 1.899022\n",
      "\tAccuracy : 82.0 %\n",
      "\t------------   398.52 s\n"
     ]
    },
    {
     "name": "stderr",
     "output_type": "stream",
     "text": [
      "validation: 100%|██████████████████████████████████████████████████████████████████████████| 250/250 [00:19<00:00, 12.82it/s]\n"
     ]
    },
    {
     "name": "stdout",
     "output_type": "stream",
     "text": [
      "Validation results\n",
      "\tCE loss : 1.900397\n",
      "\tAccuracy : 80.5 %\n",
      "\t------------   19.51 s\n",
      "\t-> tensorboarded\n",
      "Epoch #9: "
     ]
    },
    {
     "name": "stderr",
     "output_type": "stream",
     "text": [
      "train: 100%|█████████████████████████████████████████████████████████████████████████████| 6875/6875 [07:19<00:00, 15.64it/s]\n"
     ]
    },
    {
     "name": "stdout",
     "output_type": "stream",
     "text": [
      "Training results\n",
      "\tCE loss : 1.896814\n",
      "\tAccuracy : 82.2 %\n",
      "\t------------   439.46 s\n"
     ]
    },
    {
     "name": "stderr",
     "output_type": "stream",
     "text": [
      "validation: 100%|██████████████████████████████████████████████████████████████████████████| 250/250 [00:20<00:00, 12.49it/s]\n"
     ]
    },
    {
     "name": "stdout",
     "output_type": "stream",
     "text": [
      "Validation results\n",
      "\tCE loss : 1.898544\n",
      "\tAccuracy : 82.6 %\n",
      "\t------------   20.02 s\n",
      "\t-> tensorboarded\n",
      "Epoch #10: "
     ]
    },
    {
     "name": "stderr",
     "output_type": "stream",
     "text": [
      "train: 100%|█████████████████████████████████████████████████████████████████████████████| 6875/6875 [06:51<00:00, 16.70it/s]\n"
     ]
    },
    {
     "name": "stdout",
     "output_type": "stream",
     "text": [
      "Training results\n",
      "\tCE loss : 1.894883\n",
      "\tAccuracy : 82.3 %\n",
      "\t------------   411.80 s\n"
     ]
    },
    {
     "name": "stderr",
     "output_type": "stream",
     "text": [
      "validation: 100%|██████████████████████████████████████████████████████████████████████████| 250/250 [00:17<00:00, 14.02it/s]"
     ]
    },
    {
     "name": "stdout",
     "output_type": "stream",
     "text": [
      "Validation results\n",
      "\tCE loss : 1.896155\n",
      "\tAccuracy : 81.4 %\n",
      "\t------------   17.83 s\n",
      "\t-> tensorboarded\n"
     ]
    },
    {
     "name": "stderr",
     "output_type": "stream",
     "text": [
      "\n"
     ]
    }
   ],
   "source": [
    "train_epochs_losses = []\n",
    "val_epochs_losses = []  # для хранения потерь\n",
    "\n",
    "train_epochs_acc = []\n",
    "val_epochs_acc = []  # для хранения точности\n",
    "\n",
    "torch.manual_seed(98)  # for reproducability?\n",
    "\n",
    "for epoch in range(n_epochs):\n",
    "    if (epoch == 0) or ((epoch + 1) % print_each == 0):\n",
    "        print(f'Epoch #{epoch + 1}: ', end='')\n",
    "        show_progress = True\n",
    "    else:\n",
    "        show_progress = False\n",
    "\n",
    "    # TRAIN\n",
    "    start_train_time = time.time()  # стартовое время (train)\n",
    "    train_losses, _, train_accuracy = onn_train_clf(\n",
    "        lin_optical_setup.net,  # оптическая сеть созданная в 3.\n",
    "        train_wf_loader,  # загрузчик тренировочной выборки\n",
    "        detector_processor,  # обработчик детектора\n",
    "        loss_func_clf,\n",
    "        optimizer_clf,\n",
    "        device=DEVICE,\n",
    "        show_process=show_progress,\n",
    "    )  # обучение модели\n",
    "    mean_train_loss = np.mean(train_losses)\n",
    "\n",
    "    if (epoch == 0) or ((epoch + 1) % print_each == 0):  # информация об обучении\n",
    "        print('Результаты обучения')\n",
    "        print(f'\\t{loss_func_name} : {mean_train_loss:.6f}')\n",
    "        print(f'\\tТочность: {(train_accuracy*100):>0.1f} %')\n",
    "        print(f'\\t------------   {time.time() - start_train_time:.2f} s')\n",
    "\n",
    "    # валидация\n",
    "    start_val_time = time.time()  # стартовое время (validation)\n",
    "    val_losses, _, val_accuracy = onn_validate_clf(\n",
    "        lin_optical_setup.net,  # оптическая сеть созданная в 3.\n",
    "        val_wf_loader,  # загрузчик валидационной выборки\n",
    "        detector_processor,  # обработчик детектора\n",
    "        loss_func_clf,\n",
    "        device=DEVICE,\n",
    "        show_process=show_progress,\n",
    "    )  # оценка модели\n",
    "    mean_val_loss = np.mean(val_losses)\n",
    "\n",
    "    if (epoch == 0) or ((epoch + 1) % print_each == 0):  # validation info\n",
    "        print('Результаты валидации')\n",
    "        print(f'\\t{loss_func_name} : {mean_val_loss:.6f}')\n",
    "        print(f'\\tТочность: {(val_accuracy*100):>0.1f} %')\n",
    "        print(f'\\t------------   {time.time() - start_val_time:.2f} s')\n",
    "\n",
    "    if scheduler:\n",
    "        scheduler.step(mean_val_loss)\n",
    "\n",
    "    # ---------------------------------------------------- TENSORBOARD SECTION\n",
    "    if EXP_CONDITIONS['tensorboard']:\n",
    "        # отслеживание эксперимента через: tensorboard\n",
    "        tensorboard_writer.add_scalars(\n",
    "            main_tag=\"Loss\",\n",
    "            tag_scalar_dict={\n",
    "                \"train_loss\": mean_train_loss,\n",
    "                \"val_loss\": mean_val_loss,\n",
    "                \"train_accuracy\": train_accuracy,\n",
    "                \"val_accuracy\": val_accuracy,\n",
    "            },\n",
    "            global_step=epoch\n",
    "        )\n",
    "\n",
    "        diff_layer_number = 1\n",
    "        for layer in lin_optical_setup.net:\n",
    "            # сохраняем маски для  Diffractive layers после каждой эпохи\n",
    "            if isinstance(layer, elements.DiffractiveLayer):\n",
    "                mask_np = layer.mask.detach().unsqueeze(0).numpy()\n",
    "\n",
    "                # TODO: Figure to add?\n",
    "                # fig_this, ax_this =  plt.subplots(1, 1, figsize=(5, 4))\n",
    "                # im_this = ax_this.imshow(\n",
    "                #     layer.mask.detach().numpy(), cmap=cmap,\n",
    "                #     vmin=0, vmax=MAX_PHASE\n",
    "                # )\n",
    "                # cbar_this = fig.colorbar(im_this)\n",
    "                # im_this.set_clim(0, MAX_PHASE)\n",
    "\n",
    "                # WRITE\n",
    "                tensorboard_writer.add_image(\n",
    "                    f'DiffractiveLayer_{diff_layer_number}',\n",
    "                    mask_np,\n",
    "                    global_step=epoch\n",
    "                )\n",
    "                diff_layer_number += 1\n",
    "        print(f'\\t-> tensorboarded')\n",
    "    # ---------------------------------------------------- TENSORBOARD SECTION\n",
    "\n",
    "    # save losses\n",
    "    train_epochs_losses.append(mean_train_loss)\n",
    "    val_epochs_losses.append(mean_val_loss)\n",
    "    # seve accuracies\n",
    "    train_epochs_acc.append(train_accuracy)\n",
    "    val_epochs_acc.append(val_accuracy)"
   ]
  },
  {
   "cell_type": "code",
   "execution_count": 120,
   "id": "8685b519-d6ff-430f-a899-a8c2d2326a9a",
   "metadata": {},
   "outputs": [],
   "source": [
    "if EXP_CONDITIONS['tensorboard']:\n",
    "    tensorboard_writer.flush()\n",
    "    tensorboard_writer.close()"
   ]
  },
  {
   "cell_type": "code",
   "execution_count": null,
   "id": "62a5f857-6d03-423c-96af-315fa786afad",
   "metadata": {},
   "outputs": [],
   "source": [
    "# run tensorboard\n",
    "# !tensorboard --logdir=runs"
   ]
  },
  {
   "cell_type": "code",
   "execution_count": null,
   "id": "bade9ab1-0da9-4e8c-8a73-6e46e90a574a",
   "metadata": {},
   "outputs": [],
   "source": []
  },
  {
   "cell_type": "markdown",
   "id": "16f1f83d-5d45-47b5-9186-41eef968ef93",
   "metadata": {},
   "source": [
    "### Кривые обучения"
   ]
  },
  {
   "cell_type": "code",
   "execution_count": null,
   "id": "540a4c28-76ca-4821-ada5-c23bd04cbf96",
   "metadata": {},
   "outputs": [
    {
     "data": {
      "image/png": "[encoded data removed]",
      "text/plain": [
       "<Figure size 1000x300 with 2 Axes>"
      ]
     },
     "metadata": {},
     "output_type": "display_data"
    }
   ],
   "source": [
    "fig, axs = plt.subplots(1, 2, figsize=(10, 3))\n",
    "\n",
    "axs[0].plot(range(1, n_epochs + 1), train_epochs_losses, label='обучение')\n",
    "axs[0].plot(range(1, n_epochs + 1), val_epochs_losses, linestyle='dashed', label='валидация')\n",
    "\n",
    "axs[1].plot(range(1, n_epochs + 1), train_epochs_acc, label='обучение')\n",
    "axs[1].plot(range(1, n_epochs + 1), val_epochs_acc, linestyle='dashed', label='валидация')\n",
    "\n",
    "axs[0].set_ylabel(loss_func_name)\n",
    "axs[0].set_xlabel('эпоха')\n",
    "axs[0].legend()\n",
    "\n",
    "axs[1].set_ylabel('точность')\n",
    "axs[1].set_xlabel('эпоха')\n",
    "axs[1].legend()\n",
    "\n",
    "plt.show()"
   ]
  },
  {
   "cell_type": "code",
   "execution_count": 122,
   "id": "612833fc-dcbb-4de6-9eea-aaf6cc9d4862",
   "metadata": {},
   "outputs": [],
   "source": [
    "# array with all losses\n",
    "# TODO: make with PANDAS?\n",
    "all_lasses_header = ','.join([\n",
    "    f'{loss_func_name.split()[0]}_train', f'{loss_func_name.split()[0]}_val',\n",
    "    'accuracy_train', 'accuracy_val'\n",
    "])\n",
    "all_losses_array = np.array(\n",
    "    [train_epochs_losses, val_epochs_losses, train_epochs_acc, val_epochs_acc]\n",
    ").T"
   ]
  },
  {
   "cell_type": "code",
   "execution_count": null,
   "id": "22333179-61de-4bb4-8061-da15cf85a258",
   "metadata": {},
   "outputs": [],
   "source": []
  },
  {
   "cell_type": "code",
   "execution_count": null,
   "id": "7a934366-eddf-46ec-b526-14d3323854ef",
   "metadata": {},
   "outputs": [],
   "source": []
  },
  {
   "cell_type": "markdown",
   "id": "262e94d6-9692-44b1-ba4a-b35b4358abb0",
   "metadata": {},
   "source": [
    "### Сохранение"
   ]
  },
  {
   "cell_type": "code",
   "execution_count": 123,
   "id": "a14343ae-bec9-487d-b624-3284e2b830ee",
   "metadata": {},
   "outputs": [
    {
     "data": {
      "text/plain": [
       "'models/03_mnist_experiments/13-12-2024_experiment_01'"
      ]
     },
     "execution_count": 123,
     "metadata": {},
     "output_type": "execute_result"
    }
   ],
   "source": [
    "RESULTS_FOLDER"
   ]
  },
  {
   "cell_type": "code",
   "execution_count": 124,
   "id": "5d598843-5494-4c0c-b9fe-3b4d98239684",
   "metadata": {},
   "outputs": [],
   "source": [
    "if not os.path.exists(RESULTS_FOLDER):\n",
    "    os.makedirs(RESULTS_FOLDER)"
   ]
  },
  {
   "cell_type": "code",
   "execution_count": null,
   "id": "2ddecfd6-3d27-414b-b6a0-9bdcafc84c52",
   "metadata": {},
   "outputs": [],
   "source": [
    "# путь для сохранения модели\n",
    "model_filepath = f'{RESULTS_FOLDER}/optical_setup_net.pth'\n",
    "# путь для сохранения потерь\n",
    "losses_filepath = f'{RESULTS_FOLDER}/training_curves.csv'"
   ]
  },
  {
   "cell_type": "code",
   "execution_count": null,
   "id": "51b40f46-241a-4728-9518-05153cee6475",
   "metadata": {},
   "outputs": [],
   "source": [
    "# сохранение модели\n",
    "torch.save(lin_optical_setup.net.state_dict(), model_filepath)"
   ]
  },
  {
   "cell_type": "code",
   "execution_count": null,
   "id": "daacb87d-27b5-4bc5-9071-861e8915b35c",
   "metadata": {},
   "outputs": [],
   "source": [
    "# сохранение потерь\n",
    "np.savetxt(\n",
    "    losses_filepath, all_losses_array,\n",
    "    delimiter=',', header=all_lasses_header, comments=\"\"\n",
    ")"
   ]
  },
  {
   "cell_type": "code",
   "execution_count": null,
   "id": "87de01af-3d6e-4802-b1a0-6321be4da8c5",
   "metadata": {},
   "outputs": [],
   "source": []
  },
  {
   "cell_type": "markdown",
   "id": "791c3907-0626-4acb-b44e-19d43c5d872a",
   "metadata": {},
   "source": [
    "### 4.2.3. Обученные маски"
   ]
  },
  {
   "cell_type": "code",
   "execution_count": null,
   "id": "6d6f7924-8e90-4eb9-8158-ec01ea559ec8",
   "metadata": {},
   "outputs": [
    {
     "data": {
      "image/png": "[encoded data removed]",
      "text/plain": [
       "<Figure size 1500x320 with 5 Axes>"
      ]
     },
     "metadata": {},
     "output_type": "display_data"
    }
   ],
   "source": [
    "n_cols = NUM_OF_DIFF_LAYERS  # количество колонок для визуализации масок DiffractiveLayer'\n",
    "n_rows = 1\n",
    "\n",
    "# строим фазы волновых фронтов\n",
    "fig, axs = plt.subplots(n_rows, n_cols, figsize=(n_cols * 3, n_rows * 3.2))\n",
    "ind_diff_layer = 0\n",
    "\n",
    "cmap = 'gist_stern'\n",
    "\n",
    "for ind_layer, layer in enumerate(lin_optical_setup.net):\n",
    "    if isinstance(layer, elements.DiffractiveLayer):  # строим маски дифракционных слоев\n",
    "        if n_rows > 1:\n",
    "            ax_this = axs[ind_diff_layer // n_cols][ind_diff_layer % n_cols]\n",
    "        else:\n",
    "            ax_this = axs[ind_diff_layer % n_cols]\n",
    "\n",
    "        ax_this.set_title(f'{ind_layer}. DiffractiveLayer')\n",
    "\n",
    "        trained_mask = layer.mask.detach()\n",
    "\n",
    "        # mask_seed = MASKS_SEEDS[ind_diff_layer].item()\n",
    "        # random_mask = torch.rand(\n",
    "        #     size=(sim_params.y_nodes, sim_params.x_nodes),\n",
    "        #     generator=torch.Generator().manual_seed(mask_seed)\n",
    "        # ) * (MAX_PHASE)\n",
    "\n",
    "        ax_this.imshow(\n",
    "            trained_mask, cmap=cmap,\n",
    "            vmin=0, vmax=MAX_PHASE\n",
    "        )\n",
    "        ind_diff_layer += 1\n",
    "\n",
    "plt.show()"
   ]
  },
  {
   "cell_type": "code",
   "execution_count": null,
   "id": "7958b394-2713-428c-88e1-886a2948b827",
   "metadata": {},
   "outputs": [],
   "source": []
  },
  {
   "cell_type": "markdown",
   "id": "2bf2bee5-a666-417a-b1f2-4d8eb4bfb709",
   "metadata": {},
   "source": [
    "### 4.2.4. Применение модели для неизвестных данных(тест)"
   ]
  },
  {
   "cell_type": "code",
   "execution_count": null,
   "id": "744e9868-c412-40b0-ab6a-0ec168643e97",
   "metadata": {},
   "outputs": [
    {
     "name": "stdout",
     "output_type": "stream",
     "text": [
      ".DS_Store\n",
      "09-12-2024_experiment_01\n",
      "13-12-2024_experiment_01\n",
      "22-11-2024_experiment_01\n",
      "22-11-2024_experiment_02\n",
      "22-11-2024_experiment_03\n",
      "27-11-2024_experiment_01\n"
     ]
    }
   ],
   "source": [
    "# список сохраненных моделей\n",
    "dir_models = 'models/03_mnist_experiments'\n",
    "\n",
    "filepathes = []\n",
    "\n",
    "for file in os.listdir(dir_models):\n",
    "    filename = os.fsdecode(file)\n",
    "    if not filename.endswith(\".pth\"):\n",
    "        filepathes.append(filename)\n",
    "\n",
    "print(*sorted(filepathes), sep='\\n')"
   ]
  },
  {
   "cell_type": "code",
   "execution_count": null,
   "id": "e0242e0e-3cb4-4a47-acfc-7712a30b350e",
   "metadata": {},
   "outputs": [
    {
     "data": {
      "text/plain": [
       "'models/03_mnist_experiments/13-12-2024_experiment_01/optical_setup_net.pth'"
      ]
     },
     "execution_count": 130,
     "metadata": {},
     "output_type": "execute_result"
    }
   ],
   "source": [
    "# путь для сохранения модели\n",
    "load_model_subfolder = f'13-12-2024_experiment_{EXP_NUMBER:02d}'\n",
    "load_model_filepath = f'{dir_models}/{load_model_subfolder}/optical_setup_net.pth'\n",
    "\n",
    "load_model_filepath"
   ]
  },
  {
   "cell_type": "code",
   "execution_count": null,
   "id": "54a769f0-1057-485f-883d-143160f4155a",
   "metadata": {},
   "outputs": [
    {
     "data": {
      "text/plain": [
       "{'wavelength': 0.000749481145,\n",
       " 'layer_size_m': 0.12,\n",
       " 'layer_nodes': 150,\n",
       " 'tensorboard': True,\n",
       " 'digit_resize': 17,\n",
       " 'ds_apertures': True,\n",
       " 'ds_modulation': None,\n",
       " 'gauss_waist_radius': 0.02,\n",
       " 'distance_to_aperture': 0.03,\n",
       " 'propagator': 'AS',\n",
       " 'n_diff_layers': 5,\n",
       " 'diff_layer_max_phase': 3.141592653589793,\n",
       " 'diff_layer_mask_init': 'const',\n",
       " 'diff_layers_seeds': 123,\n",
       " 'layers_distance': 0.03,\n",
       " 'add_apertures': True,\n",
       " 'apertures_size': [50, 50],\n",
       " 'detector_zones': 'segments',\n",
       " 'detector_transpose': False,\n",
       " 'train_bs': 8,\n",
       " 'val_bs': 20,\n",
       " 'train_split_seed': 178,\n",
       " 'epochs': 10}"
      ]
     },
     "execution_count": 131,
     "metadata": {},
     "output_type": "execute_result"
    }
   ],
   "source": [
    "# условия эксперимента\n",
    "json.load(open(f'{RESULTS_FOLDER}/conditions.json'))"
   ]
  },
  {
   "cell_type": "code",
   "execution_count": null,
   "id": "cf47597e-786d-4ee6-b8bd-912385d30fbe",
   "metadata": {},
   "outputs": [
    {
     "name": "stderr",
     "output_type": "stream",
     "text": [
      "/var/folders/mt/0w6nmsr119bb2g4h4xrv9p6m0000gn/T/ipykernel_98211/3316892598.py:10: FutureWarning: You are using `torch.load` with `weights_only=False` (the current default value), which uses the default pickle module implicitly. It is possible to construct malicious pickle data which will execute arbitrary code during unpickling (See https://github.com/pytorch/pytorch/blob/main/SECURITY.md#untrusted-models for more details). In a future release, the default value for `weights_only` will be flipped to `True`. This limits the functions that could be executed during unpickling. Arbitrary objects will no longer be allowed to be loaded via this mode unless they are explicitly allowlisted by the user via `torch.serialization.add_safe_globals`. We recommend you start setting `weights_only=True` for any use case where you don't have full control of the loaded file. Please open an issue on GitHub for any issues related to this experimental feature.\n",
      "  optical_setup_loaded.net.load_state_dict(torch.load(load_model_filepath))\n"
     ]
    },
    {
     "data": {
      "text/plain": [
       "<All keys matched successfully>"
      ]
     },
     "execution_count": 132,
     "metadata": {},
     "output_type": "execute_result"
    }
   ],
   "source": [
    "# система для загрузки весов\n",
    "optical_setup_loaded = get_setup(\n",
    "    SIM_PARAMS,\n",
    "    NUM_OF_DIFF_LAYERS,\n",
    "    apertures=ADD_APERTURES,\n",
    "    aperture_size=APERTURE_SZ\n",
    ")\n",
    "\n",
    "# загрузка весов\n",
    "optical_setup_loaded.net.load_state_dict(torch.load(load_model_filepath))"
   ]
  },
  {
   "cell_type": "code",
   "execution_count": null,
   "id": "46db3f51-f72f-4b9a-8960-f7c5b2a51594",
   "metadata": {},
   "outputs": [],
   "source": []
  },
  {
   "cell_type": "code",
   "execution_count": null,
   "id": "8e271845-0665-4fb4-9545-d4e3ef8c38d1",
   "metadata": {},
   "outputs": [
    {
     "name": "stderr",
     "output_type": "stream",
     "text": [
      "validation: 100%|████████████████████████████████████████████████████████████████████████| 1000/1000 [00:32<00:00, 30.32it/s]"
     ]
    },
    {
     "name": "stdout",
     "output_type": "stream",
     "text": [
      "Results after training on TEST set:\n",
      "\tCE loss : 1.889739\n",
      "\tAccuracy : 82.3 %\n"
     ]
    },
    {
     "name": "stderr",
     "output_type": "stream",
     "text": [
      "\n"
     ]
    }
   ],
   "source": [
    "test_losses_1, _, test_accuracy_1 = onn_validate_clf(\n",
    "    optical_setup_loaded.net,  # оптическая нейронная сеть с загруженными весами\n",
    "    test_wf_loader,  # загрузчик тестовой выборки\n",
    "    detector_processor,  # обработчик детектора\n",
    "    loss_func_clf,\n",
    "    device=DEVICE,\n",
    "    show_process=True,\n",
    ")  # оценка модели\n",
    "\n",
    "print(\n",
    "    'Результаты после тренировки на тестовой выборке:\\n' +\n",
    "    f'\\t{loss_func_name} : {np.mean(test_losses_1):.6f}\\n' +\n",
    "    f'\\tТочность: {(test_accuracy_1 * 100):>0.1f} %'\n",
    ")"
   ]
  },
  {
   "cell_type": "code",
   "execution_count": null,
   "id": "2e1ba17b-2d77-4248-b4f4-6eed19be6c7a",
   "metadata": {},
   "outputs": [],
   "source": []
  },
  {
   "cell_type": "markdown",
   "id": "62f69f0d-ab16-485c-bd13-9a11295bb119",
   "metadata": {},
   "source": [
    "### 4.2.5. Пример классификации(распространение)"
   ]
  },
  {
   "cell_type": "code",
   "execution_count": 134,
   "id": "c02dd214-3ff5-46c8-87ac-0d18fd2071ca",
   "metadata": {},
   "outputs": [
    {
     "data": {
      "image/png": "[encoded data removed]",
      "text/plain": [
       "<Figure size 600x300 with 2 Axes>"
      ]
     },
     "metadata": {},
     "output_type": "display_data"
    }
   ],
   "source": [
    "# plot an image\n",
    "# '1' - 3214, good (1318, )\n",
    "# '4' - 6152, good (1985, )\n",
    "# '5' - (5134, )\n",
    "# '6' - 123, good\n",
    "# '8' - 128, good (1124, 8105)\n",
    "# '0' - 3, good\n",
    "ind_test = 6152\n",
    "cmap = 'hot'\n",
    "\n",
    "fig, axs = plt.subplots(1, 2, figsize=(2 * 3, 3))\n",
    "\n",
    "test_wavefront, test_target = mnist_wf_test_ds[ind_test]\n",
    "\n",
    "axs[0].set_title(f'intensity (id={ind_test})')\n",
    "axs[0].imshow(test_wavefront.intensity[0], cmap=cmap)\n",
    "\n",
    "axs[1].set_title(f'phase')\n",
    "axs[1].imshow(\n",
    "    test_wavefront.phase[0], cmap=cmap,\n",
    "    vmin=0, vmax=2 * torch.pi\n",
    ")\n",
    "\n",
    "plt.show()"
   ]
  },
  {
   "cell_type": "code",
   "execution_count": 135,
   "id": "fa0432db-8e6d-4bb1-8723-b1c2988d3d37",
   "metadata": {},
   "outputs": [
    {
     "data": {
      "text/plain": [
       "4"
      ]
     },
     "execution_count": 135,
     "metadata": {},
     "output_type": "execute_result"
    }
   ],
   "source": [
    "test_target"
   ]
  },
  {
   "cell_type": "code",
   "execution_count": null,
   "id": "7e9e7f51-3662-49a4-9b2d-04fba703dcdc",
   "metadata": {},
   "outputs": [],
   "source": [
    "# распространение примера через обученную систему\n",
    "setup_scheme, test_wavefronts = optical_setup_loaded.stepwise_forward(test_wavefront)"
   ]
  },
  {
   "cell_type": "code",
   "execution_count": null,
   "id": "2581250c-82e1-4cf2-91c5-d23bbb73a892",
   "metadata": {},
   "outputs": [],
   "source": []
  },
  {
   "cell_type": "markdown",
   "id": "ef9ccfe5-bbf0-452b-84f4-073c0ea02e6d",
   "metadata": {},
   "source": [
    "#### Амплитудные профили"
   ]
  },
  {
   "cell_type": "code",
   "execution_count": null,
   "id": "51379bd7-7a6e-4d25-add1-ad429b50d4cb",
   "metadata": {},
   "outputs": [
    {
     "name": "stdout",
     "output_type": "stream",
     "text": [
      "-(0)-> [1. FreeSpace] -(1)-> [2. Aperture] -(2)-> [3. DiffractiveLayer] -(3)-> [4. FreeSpace] -(4)-> [5. Aperture] -(5)-> [6. DiffractiveLayer] -(6)-> [7. FreeSpace] -(7)-> [8. Aperture] -(8)-> [9. DiffractiveLayer] -(9)-> [10. FreeSpace] -(10)-> [11. Aperture] -(11)-> [12. DiffractiveLayer] -(12)-> [13. FreeSpace] -(13)-> [14. Aperture] -(14)-> [15. DiffractiveLayer] -(15)-> [16. FreeSpace] -(16)-> [17. Detector] -(17)->\n"
     ]
    },
    {
     "data": {
      "image/png": "[encoded data removed]",
      "text/plain": [
       "<Figure size 1500x1280 with 20 Axes>"
      ]
     },
     "metadata": {},
     "output_type": "display_data"
    }
   ],
   "source": [
    "print(setup_scheme)  # вывод системы\n",
    "\n",
    "n_cols = 5  # количество колонок для визуализации волновых фронтов во время распространения\n",
    "n_rows = (len(optical_setup_loaded.net) // n_cols) + 1\n",
    "\n",
    "to_plot = 'amp'  # <--- выбор того, что будем отображать: 'amp' - амплитуду, 'phase' - фазу\n",
    "cmap = 'grey'  # choose colormaps\n",
    "detector_cmap = 'hot'\n",
    "\n",
    "# создание фигуры с подграфиками\n",
    "fig, axs = plt.subplots(n_rows, n_cols, figsize=(n_cols * 3, n_rows * 3.2))\n",
    "\n",
    "# выключение лишних осей\n",
    "for ind_row in range(n_rows):\n",
    "    for ind_col in range(n_cols):\n",
    "        ax_this = axs[ind_row][ind_col]\n",
    "        if ind_row * n_cols + ind_col >= len(wavefronts):\n",
    "            ax_this.axis('off')\n",
    "\n",
    "# строим волновые фронты\n",
    "for ind_wf, wavefront in enumerate(test_wavefronts):\n",
    "    ax_this = axs[ind_wf // n_cols][ind_wf % n_cols]\n",
    "\n",
    "    if to_plot == 'phase':\n",
    "        # plot angle for each wavefront, because intensities pictures are indistinguishable from each other\n",
    "        if ind_wf < len(wavefronts) - 1:\n",
    "            ax_this.set_title('Phase for $WF_{' + f'{ind_wf}' + '}$')\n",
    "            ax_this.imshow(\n",
    "                wavefront[0].phase.detach().numpy(), cmap=cmap,\n",
    "                vmin=0, vmax=2 * torch.pi\n",
    "            )\n",
    "        else:  # (not a wavefront!)\n",
    "            ax_this.set_title('Detector phase ($WF_{' + f'{ind_wf}' + '})$')\n",
    "            # у детектора нет фазы!\n",
    "\n",
    "    if to_plot == 'amp':\n",
    "        # plot angle for each wavefront, because intensities pictures are indistinguishable from each other\n",
    "        if ind_wf < len(wavefronts) - 1:\n",
    "            ax_this.set_title('Intensity for $WF_{' + f'{ind_wf}' + '}$')\n",
    "            ax_this.imshow(\n",
    "                wavefront[0].intensity.detach().numpy(), cmap=cmap,\n",
    "                # vmin=0, vmax=max_intensity  # uncomment to make the same limits\n",
    "            )\n",
    "        else:  # выход детектора (не wavefront!)\n",
    "            ax_this.set_title('Detector Intensity ($WF_{' + f'{ind_wf}' + '})$')\n",
    "            ax_this.imshow(\n",
    "                wavefront[0].detach().numpy(), cmap=detector_cmap,\n",
    "                # vmin=0, vmax=max_intensity  # uncomment to make the same limits\n",
    "            )\n",
    "\n",
    "    # Комментарий: выход детектора является тензором! У него нет методов  Wavefront (как .phase or .intensity)!\n",
    "\n",
    "plt.show()"
   ]
  },
  {
   "cell_type": "code",
   "execution_count": null,
   "id": "3d3525ce-ba73-46f1-970a-0251c85ea4b1",
   "metadata": {},
   "outputs": [
    {
     "data": {
      "image/png": "[encoded data removed]",
      "text/plain": [
       "<Figure size 300x320 with 1 Axes>"
      ]
     },
     "metadata": {},
     "output_type": "display_data"
    }
   ],
   "source": [
    "# создаем фигуру с подграфиками\n",
    "fig, ax_this = plt.subplots(1, 1, figsize=(3, 3.2))\n",
    "\n",
    "# выход детектора (не wavefront!)\n",
    "ax_this.set_title('Detector Intensity ($WF_{' + f'{ind_wf}' + '})$')\n",
    "ax_this.imshow(\n",
    "    test_wavefronts[-1][0].detach().numpy(), cmap='hot',\n",
    "    # vmin=0, vmax=1  # uncomment to make the same limits\n",
    ")\n",
    "\n",
    "for zone in get_zones_patches(selected_detector_mask):\n",
    "    # add zone's patches to the axis\n",
    "    # zone_copy = copy(zone)\n",
    "    ax_this.add_patch(zone)\n",
    "\n",
    "plt.show()"
   ]
  },
  {
   "cell_type": "markdown",
   "id": "e4879418-beff-4767-ad30-1cf89fe96ab6",
   "metadata": {},
   "source": [
    "#### Вероятности"
   ]
  },
  {
   "cell_type": "code",
   "execution_count": null,
   "id": "8d6382b9-d81d-49f5-91d1-57f36d13cbe0",
   "metadata": {},
   "outputs": [
    {
     "name": "stdout",
     "output_type": "stream",
     "text": [
      "0 : 0.85%\n",
      "1 : 4.22%\n",
      "2 : 5.14%\n",
      "3 : 1.11%\n",
      "4 : 64.29%\n",
      "5 : 2.39%\n",
      "6 : 1.11%\n",
      "7 : 1.32%\n",
      "8 : 0.70%\n",
      "9 : 18.87%\n"
     ]
    }
   ],
   "source": [
    "# получаем вероятности классов для последнего волнового фронта\n",
    "test_probas = detector_processor.forward(test_wavefronts[-1])\n",
    "\n",
    "for label, prob in enumerate(test_probas[0]):\n",
    "    print(f'{label} : {prob * 100:.2f}%')"
   ]
  },
  {
   "cell_type": "code",
   "execution_count": null,
   "id": "2b0b1fd2-d8c9-4da8-84f8-9b8b788d8566",
   "metadata": {},
   "outputs": [],
   "source": []
  },
  {
   "cell_type": "code",
   "execution_count": null,
   "id": "c1f6171a-5a94-476e-87d1-539cad868200",
   "metadata": {},
   "outputs": [],
   "source": []
  },
  {
   "cell_type": "code",
   "execution_count": null,
   "id": "38ef083b-2c76-4b19-8e8a-c593d3839928",
   "metadata": {},
   "outputs": [],
   "source": []
  }
 ],
 "metadata": {
  "kernelspec": {
   "display_name": "Python 3 (ipykernel)",
   "language": "python",
   "name": "python3"
  },
  "language_info": {
   "codemirror_mode": {
    "name": "ipython",
    "version": 3
   },
   "file_extension": ".py",
   "mimetype": "text/x-python",
   "name": "python",
   "nbconvert_exporter": "python",
   "pygments_lexer": "ipython3",
   "version": "3.11.9"
  }
 },
 "nbformat": 4,
 "nbformat_minor": 5
}
