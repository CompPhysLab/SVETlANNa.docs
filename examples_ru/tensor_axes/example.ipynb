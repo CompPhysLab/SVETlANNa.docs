{
 "cells": [
  {
   "cell_type": "code",
   "execution_count": null,
   "metadata": {},
   "outputs": [],
   "source": [
    "!pip install svetlanna\n",
    "!pip install reservoirpy matplotlib tqdm requests av scikit-image py-cpuinfo gputil pandas"
   ]
  },
  {
   "cell_type": "code",
   "execution_count": 1,
   "metadata": {},
   "outputs": [],
   "source": [
    "from svetlanna.axes_math import tensor_dot, cast_tensor\n",
    "from svetlanna.wavefront import mul\n",
    "import svetlanna as sv\n",
    "import torch"
   ]
  },
  {
   "cell_type": "markdown",
   "metadata": {},
   "source": [
    "В данном примере показан пример работы с тензорными осями.\n",
    "\n",
    "Оси представляют собой имена последних осей тензора.\n",
    "Оси хранятся в кортежах строк.\n",
    "Например, тензор с формой `(..., N, M, L)` может иметь кортеж осей `(a, b, c)`, где измерение `a` имеет `N` точек, `b` имеет `M` точек, а `c` имеет `C` точек."
   ]
  },
  {
   "cell_type": "code",
   "execution_count": 2,
   "metadata": {},
   "outputs": [
    {
     "data": {
      "text/plain": [
       "torch.Size([2, 3])"
      ]
     },
     "execution_count": 2,
     "metadata": {},
     "output_type": "execute_result"
    }
   ],
   "source": [
    "a = torch.tensor([[1, 2, 3], [4, 5, 6]])\n",
    "a_axes = ('a',)\n",
    "a.shape"
   ]
  },
  {
   "cell_type": "markdown",
   "metadata": {},
   "source": [
    "Любой тензор можно перенести на другие оси, так что форма тензора будет изменена."
   ]
  },
  {
   "cell_type": "code",
   "execution_count": 3,
   "metadata": {},
   "outputs": [
    {
     "data": {
      "text/plain": [
       "torch.Size([2, 1, 3, 1])"
      ]
     },
     "execution_count": 3,
     "metadata": {},
     "output_type": "execute_result"
    }
   ],
   "source": [
    "new_axes = ('b', 'a', 'c')\n",
    "a_casted = cast_tensor(a, a_axes, new_axes)\n",
    "\n",
    "a_casted.shape  # new axes was added to the second position and the end of the tensor"
   ]
  },
  {
   "cell_type": "markdown",
   "metadata": {},
   "source": [
    "Чтобы выполнить скалярное произведение тензора, можно использовать функцию tensor_dot.\n",
    "Например, если тензор `A` имеет оси `(a, b, c)`, а тензор `B` имеет оси `(b,)`, результат произведения будет иметь оси `(a, b, c)`.\n",
    "Формула такого произведения следующая:\n",
    "$$\n",
    "A \\cdot B = \\sum_{i_a, i_b, i_c} (A_{i_a, i_b, i_c} \\cdot B_{i_b}) \\vec{e_{i_a}}\\vec{e_{i_b}}\\vec{e_{i_c}}\n",
    "$$\n",
    "Другими словами, каждое тензорное представление `A[:,i,:]` было умножено на `B[i]`.\n",
    "\n",
    "Основное правило следующее: совпадающие оси будут умножаться."
   ]
  },
  {
   "cell_type": "code",
   "execution_count": 4,
   "metadata": {},
   "outputs": [
    {
     "data": {
      "text/plain": [
       "(tensor([[[10, 20],\n",
       "          [60, 80]]]),\n",
       " ('a', 'b', 'c'))"
      ]
     },
     "execution_count": 4,
     "metadata": {},
     "output_type": "execute_result"
    }
   ],
   "source": [
    "A = torch.tensor([[[1, 2], [3, 4]]])\n",
    "A_axes = ('a', 'b', 'c')\n",
    "\n",
    "B = torch.tensor([10, 20])\n",
    "B_axes = ('b', )\n",
    "\n",
    "C, new_axes = tensor_dot(A, B, A_axes, B_axes)\n",
    "C, new_axes"
   ]
  },
  {
   "cell_type": "markdown",
   "metadata": {},
   "source": [
    "В случае, когда `B` имеет ось, не представленную в осях `A`, результирующие тензорные оси будут объединением осей `B` и осей `A`:"
   ]
  },
  {
   "cell_type": "code",
   "execution_count": 5,
   "metadata": {},
   "outputs": [
    {
     "data": {
      "text/plain": [
       "(tensor([[[ 10,  20,  30],\n",
       "          [ 20,  40,  60]],\n",
       " \n",
       "         [[ 30,  60,  90],\n",
       "          [ 40,  80, 120]]]),\n",
       " ('a', 'b', 'c'))"
      ]
     },
     "execution_count": 5,
     "metadata": {},
     "output_type": "execute_result"
    }
   ],
   "source": [
    "A = torch.tensor([[1, 2], [3, 4]])\n",
    "A_axes = ('a', 'b')\n",
    "\n",
    "B = torch.tensor([10, 20, 30])\n",
    "B_axes = ('c', )\n",
    "\n",
    "C, new_axes = tensor_dot(A, B, A_axes, B_axes)\n",
    "C, new_axes"
   ]
  },
  {
   "cell_type": "markdown",
   "metadata": {},
   "source": [
    "Полученные оси тензора можно проверить, совпадают ли они с осями тензора `A` или нет, используя аргумент `preserve_a_axis`.\n",
    "Если `preserve_a_axis=True`, предыдущий пример завершится ошибкой с вызовом AssertionError."
   ]
  },
  {
   "cell_type": "markdown",
   "metadata": {},
   "source": [
    "Давайте определим параметры моделирования"
   ]
  },
  {
   "cell_type": "code",
   "execution_count": 6,
   "metadata": {},
   "outputs": [
    {
     "data": {
      "text/plain": [
       "('wavelength', 'H', 'W')"
      ]
     },
     "execution_count": 6,
     "metadata": {},
     "output_type": "execute_result"
    }
   ],
   "source": [
    "Nx = 50\n",
    "Ny = 100\n",
    "Nwl = 4\n",
    "\n",
    "sim_params = sv.SimulationParameters(\n",
    "    {\n",
    "        'W': torch.linspace(-10, 10, Nx),\n",
    "        'H': torch.linspace(-10, 10, Ny),\n",
    "        'wavelength': torch.linspace(1, 5, Nwl),\n",
    "    }\n",
    ")\n",
    "\n",
    "# можно посмотреть последовательность осей, которая используется во время моделирования\n",
    "sim_params.axes.names"
   ]
  },
  {
   "cell_type": "markdown",
   "metadata": {},
   "source": [
    "Предположим, что во время моделирования необходимо выполнить умножение волнового фронта и некоторой функции передачи `T`, которая определена на сетке (x,y)"
   ]
  },
  {
   "cell_type": "code",
   "execution_count": 7,
   "metadata": {},
   "outputs": [
    {
     "data": {
      "text/plain": [
       "torch.Size([4, 100, 50])"
      ]
     },
     "execution_count": 7,
     "metadata": {},
     "output_type": "execute_result"
    }
   ],
   "source": [
    "wavefront = sv.Wavefront(torch.rand(sim_params.axes_size(sim_params.axes.names)))\n",
    "\n",
    "T = torch.rand(Ny, Nx)\n",
    "T_axis = ('H', 'W')\n",
    "\n",
    "c1, c1_axis = tensor_dot(\n",
    "    wavefront,\n",
    "    T,\n",
    "    sim_params.axes.names,\n",
    "    T_axis\n",
    ")\n",
    "c1.shape"
   ]
  },
  {
   "cell_type": "markdown",
   "metadata": {},
   "source": [
    "Для вычисления `c1` можно использовать сокращение:"
   ]
  },
  {
   "cell_type": "code",
   "execution_count": 8,
   "metadata": {},
   "outputs": [],
   "source": [
    "c2 = mul(\n",
    "    wavefront,\n",
    "    T,\n",
    "    T_axis,\n",
    "    sim_params\n",
    ")\n",
    "\n",
    "assert torch.allclose(c1, c2)"
   ]
  },
  {
   "cell_type": "markdown",
   "metadata": {},
   "source": [
    "Функцию `mul` можно использовать в методе `forward` элемента."
   ]
  },
  {
   "cell_type": "markdown",
   "metadata": {},
   "source": [
    "Продемонстрированный подход позволяет не думать об осях волнового фронта, предоставленных пользователем во время моделирования, и позволяет пользователю добавлять собственные оси волнового фронта в любом порядке:"
   ]
  },
  {
   "cell_type": "code",
   "execution_count": 9,
   "metadata": {},
   "outputs": [
    {
     "data": {
      "text/plain": [
       "('W', 'polarization', 'H', 'wavelength')"
      ]
     },
     "execution_count": 9,
     "metadata": {},
     "output_type": "execute_result"
    }
   ],
   "source": [
    "sim_params2 = sv.SimulationParameters(\n",
    "    {\n",
    "        'wavelength': torch.linspace(1, 5, Nwl),\n",
    "        'H': torch.linspace(-10, 10, Ny),\n",
    "        'polarization': torch.tensor([0, 1]),\n",
    "        'W': torch.linspace(-10, 10, Nx),\n",
    "    }\n",
    ")\n",
    "\n",
    "sim_params2.axes.names"
   ]
  },
  {
   "cell_type": "code",
   "execution_count": 10,
   "metadata": {},
   "outputs": [
    {
     "data": {
      "text/plain": [
       "torch.Size([50, 2, 100, 4])"
      ]
     },
     "execution_count": 10,
     "metadata": {},
     "output_type": "execute_result"
    }
   ],
   "source": [
    "# new wavefront\n",
    "new_wavefront = sv.Wavefront(torch.rand(sim_params2.axes_size(sim_params2.axes.names)))\n",
    "new_wavefront.shape"
   ]
  },
  {
   "cell_type": "markdown",
   "metadata": {},
   "source": [
    "Предыдущий код по-прежнему работает только с изменением аргументов волнового фронта и параметров моделирования:"
   ]
  },
  {
   "cell_type": "code",
   "execution_count": 11,
   "metadata": {},
   "outputs": [],
   "source": [
    "c3 = mul(\n",
    "    new_wavefront,\n",
    "    T,\n",
    "    T_axis,\n",
    "    sim_params2\n",
    ")"
   ]
  }
 ],
 "metadata": {
  "kernelspec": {
   "display_name": ".venv (3.11.4)",
   "language": "python",
   "name": "python3"
  },
  "language_info": {
   "codemirror_mode": {
    "name": "ipython",
    "version": 3
   },
   "file_extension": ".py",
   "mimetype": "text/x-python",
   "name": "python",
   "nbconvert_exporter": "python",
   "pygments_lexer": "ipython3",
   "version": "3.11.4"
  }
 },
 "nbformat": 4,
 "nbformat_minor": 2
}
