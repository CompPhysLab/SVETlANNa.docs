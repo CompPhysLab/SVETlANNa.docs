{
 "cells": [
  {
   "cell_type": "code",
   "execution_count": 1,
   "metadata": {},
   "outputs": [],
   "source": [
    "import svetlanna as sv\n",
    "import torch\n",
    "from svetlanna.units import ureg\n",
    "\n",
    "# this helps to confirm system's compliance with physics\n",
    "import warnings\n",
    "warnings.filterwarnings('always')"
   ]
  },
  {
   "cell_type": "code",
   "execution_count": 2,
   "metadata": {},
   "outputs": [],
   "source": [
    "# simulation parameters\n",
    "Nx = 200\n",
    "Ny = 200\n",
    "sim_params = sv.SimulationParameters({\n",
    "    'W': torch.linspace(-0.1 * ureg.cm, 0.1 * ureg.cm, Nx),\n",
    "    'H': torch.linspace(-0.1 * ureg.cm, 0.1 * ureg.cm, Ny),\n",
    "    'wavelength': 12 * ureg.um,\n",
    "})"
   ]
  },
  {
   "cell_type": "code",
   "execution_count": 3,
   "metadata": {},
   "outputs": [],
   "source": [
    "el1 = sv.elements.ThinLens(\n",
    "    sim_params,\n",
    "    focal_length=1 * ureg.cm,\n",
    "    radius=2 * ureg.cm\n",
    ")\n",
    "\n",
    "el2 = sv.elements.FreeSpace(\n",
    "    sim_params,\n",
    "    distance=sv.Parameter(0.4*ureg.cm),\n",
    "    method='AS'\n",
    ")\n",
    "\n",
    "el3 = sv.elements.ThinLens(\n",
    "    sim_params,\n",
    "    focal_length=sv.ConstrainedParameter(\n",
    "        1 * ureg.cm,\n",
    "        min_value=0.5 * ureg.mm,\n",
    "        max_value=10 * ureg.cm\n",
    "    ),\n",
    "    radius=2 * ureg.cm\n",
    ")\n",
    "\n",
    "el4 = sv.elements.FreeSpace(\n",
    "    sim_params,\n",
    "    distance=sv.Parameter(0.2*ureg.cm),\n",
    "    method='AS'\n",
    ")\n",
    "\n",
    "el5 = sv.elements.DiffractiveLayer(\n",
    "    sim_params,\n",
    "    mask=sv.ConstrainedParameter(\n",
    "        torch.rand(Nx,Ny),\n",
    "        min_value=0,\n",
    "        max_value=2*torch.pi\n",
    "    )\n",
    ")\n",
    "\n",
    "el6 = sv.elements.FreeSpace(\n",
    "    sim_params,\n",
    "    distance=sv.Parameter(0.4*ureg.cm),\n",
    "    method='AS'\n",
    ")\n",
    "\n",
    "el7 = sv.elements.RoundAperture(\n",
    "    sim_params,\n",
    "    radius=0.03 * ureg.cm\n",
    ")\n",
    "\n",
    "el8 = sv.elements.FreeSpace(\n",
    "    sim_params,\n",
    "    distance=sv.Parameter(0.4*ureg.cm),\n",
    "    method='AS'\n",
    ")\n",
    "\n",
    "el9 = sv.elements.Aperture(\n",
    "    sim_params,\n",
    "    mask=torch.rand(Nx,Ny)\n",
    ")"
   ]
  },
  {
   "cell_type": "code",
   "execution_count": 4,
   "metadata": {},
   "outputs": [],
   "source": [
    "setup = sv.LinearOpticalSetup(\n",
    "    [el1, el2, el3, el4, el5, el6, el7, el8, el9]\n",
    ")"
   ]
  },
  {
   "cell_type": "markdown",
   "metadata": {},
   "source": [
    "The library allows one to see specs of each element in the setup via a widget:"
   ]
  },
  {
   "cell_type": "code",
   "execution_count": 5,
   "metadata": {},
   "outputs": [
    {
     "data": {
      "application/vnd.jupyter.widget-view+json": {
       "model_id": "764a3a9624c640919602b4271bab8705",
       "version_major": 2,
       "version_minor": 1
      },
      "text/plain": [
       "LinearOpticalSetupWidget(elements=[{'index': 0, 'type': 'ThinLens', 'specs_html': '<div style=\"font-family:mon…"
      ]
     },
     "execution_count": 5,
     "metadata": {},
     "output_type": "execute_result"
    }
   ],
   "source": [
    "setup.show()"
   ]
  },
  {
   "cell_type": "markdown",
   "metadata": {},
   "source": [
    "It is possible to see the light propagates through each element in the setup via a widget:"
   ]
  },
  {
   "cell_type": "code",
   "execution_count": 6,
   "metadata": {},
   "outputs": [
    {
     "data": {
      "application/vnd.jupyter.widget-view+json": {
       "model_id": "1df4a98f206b4665bc8acedfaa0eb9aa",
       "version_major": 2,
       "version_minor": 1
      },
      "text/plain": [
       "LinearOpticalSetupStepwiseForwardWidget(elements=[{'index': 0, 'type': 'ThinLens', 'specs_html': '<div style=\"…"
      ]
     },
     "execution_count": 6,
     "metadata": {},
     "output_type": "execute_result"
    }
   ],
   "source": [
    "# wavefront to simulate\n",
    "wavevefront = sv.Wavefront.gaussian_beam(sim_params, waist_radius=0.01 * ureg.cm)\n",
    "\n",
    "setup.show_stepwise_forward(wavevefront, sim_params, types_to_plot=('A', 'Re', 'phase'))"
   ]
  }
 ],
 "metadata": {
  "kernelspec": {
   "display_name": ".venv",
   "language": "python",
   "name": "python3"
  },
  "language_info": {
   "codemirror_mode": {
    "name": "ipython",
    "version": 3
   },
   "file_extension": ".py",
   "mimetype": "text/x-python",
   "name": "python",
   "nbconvert_exporter": "python",
   "pygments_lexer": "ipython3",
   "version": "3.11.9"
  }
 },
 "nbformat": 4,
 "nbformat_minor": 2
}
